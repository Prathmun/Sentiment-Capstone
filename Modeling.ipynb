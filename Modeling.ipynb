{
 "cells": [
  {
   "cell_type": "markdown",
   "id": "dated-connecticut",
   "metadata": {},
   "source": [
    "# Imports"
   ]
  },
  {
   "cell_type": "code",
   "execution_count": 2,
   "id": "german-companion",
   "metadata": {},
   "outputs": [],
   "source": [
    "import pickle"
   ]
  },
  {
   "cell_type": "code",
   "execution_count": 3,
   "id": "discrete-resolution",
   "metadata": {},
   "outputs": [],
   "source": [
    "df= pickle.load(open('built_out_df', 'rb'))"
   ]
  },
  {
   "cell_type": "code",
   "execution_count": 4,
   "id": "geographic-movement",
   "metadata": {},
   "outputs": [
    {
     "data": {
      "text/html": [
       "<div>\n",
       "<style scoped>\n",
       "    .dataframe tbody tr th:only-of-type {\n",
       "        vertical-align: middle;\n",
       "    }\n",
       "\n",
       "    .dataframe tbody tr th {\n",
       "        vertical-align: top;\n",
       "    }\n",
       "\n",
       "    .dataframe thead th {\n",
       "        text-align: right;\n",
       "    }\n",
       "</style>\n",
       "<table border=\"1\" class=\"dataframe\">\n",
       "  <thead>\n",
       "    <tr style=\"text-align: right;\">\n",
       "      <th></th>\n",
       "      <th>text</th>\n",
       "      <th>Y</th>\n",
       "      <th>tokenized</th>\n",
       "      <th>nostops</th>\n",
       "      <th>stemmed</th>\n",
       "      <th>bi_grams</th>\n",
       "      <th>tri_grams</th>\n",
       "      <th>pos_tagged</th>\n",
       "    </tr>\n",
       "  </thead>\n",
       "  <tbody>\n",
       "    <tr>\n",
       "      <th>0</th>\n",
       "      <td>i was put off at first by the green powder but...</td>\n",
       "      <td>1</td>\n",
       "      <td>[i, was, put, off, at, first, by, the, green, ...</td>\n",
       "      <td>[put, first, green, powder, bad, little, grain...</td>\n",
       "      <td>[put, first, green, powder, bad, littl, graini...</td>\n",
       "      <td>[(put, first), (first, green), (green, powder)...</td>\n",
       "      <td>[(put, first, green), (first, green, powder), ...</td>\n",
       "      <td>[(i, NN), (was, VBD), (put, VBN), (off, RP), (...</td>\n",
       "    </tr>\n",
       "  </tbody>\n",
       "</table>\n",
       "</div>"
      ],
      "text/plain": [
       "                                                text  Y  \\\n",
       "0  i was put off at first by the green powder but...  1   \n",
       "\n",
       "                                           tokenized  \\\n",
       "0  [i, was, put, off, at, first, by, the, green, ...   \n",
       "\n",
       "                                             nostops  \\\n",
       "0  [put, first, green, powder, bad, little, grain...   \n",
       "\n",
       "                                             stemmed  \\\n",
       "0  [put, first, green, powder, bad, littl, graini...   \n",
       "\n",
       "                                            bi_grams  \\\n",
       "0  [(put, first), (first, green), (green, powder)...   \n",
       "\n",
       "                                           tri_grams  \\\n",
       "0  [(put, first, green), (first, green, powder), ...   \n",
       "\n",
       "                                          pos_tagged  \n",
       "0  [(i, NN), (was, VBD), (put, VBN), (off, RP), (...  "
      ]
     },
     "execution_count": 4,
     "metadata": {},
     "output_type": "execute_result"
    }
   ],
   "source": [
    "df.head(1)"
   ]
  },
  {
   "cell_type": "code",
   "execution_count": 5,
   "id": "virgin-forth",
   "metadata": {},
   "outputs": [],
   "source": [
    "vectored_no_stops_mono = pickle.load(open(\"vectored_no_stops_mono\", 'rb'))"
   ]
  },
  {
   "cell_type": "code",
   "execution_count": 6,
   "id": "authentic-subcommittee",
   "metadata": {},
   "outputs": [],
   "source": [
    "vectored_no_stops_bi = pickle.load(open(\"vectored_no_stops_bi\", 'rb'))"
   ]
  },
  {
   "cell_type": "code",
   "execution_count": 7,
   "id": "roman-conditioning",
   "metadata": {},
   "outputs": [],
   "source": [
    "vectored_no_stops_tri = pickle.load(open(\"vectored_no_stops_tri\", 'rb'))"
   ]
  },
  {
   "cell_type": "code",
   "execution_count": null,
   "id": "honey-flavor",
   "metadata": {},
   "outputs": [],
   "source": []
  }
 ],
 "metadata": {
  "kernelspec": {
   "display_name": "Python 3",
   "language": "python",
   "name": "python3"
  },
  "language_info": {
   "codemirror_mode": {
    "name": "ipython",
    "version": 3
   },
   "file_extension": ".py",
   "mimetype": "text/x-python",
   "name": "python",
   "nbconvert_exporter": "python",
   "pygments_lexer": "ipython3",
   "version": "3.9.1"
  }
 },
 "nbformat": 4,
 "nbformat_minor": 5
}

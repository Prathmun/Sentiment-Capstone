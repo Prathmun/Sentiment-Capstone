{
 "cells": [
  {
   "cell_type": "markdown",
   "id": "honey-cardiff",
   "metadata": {},
   "source": [
    "# Imports and basic set up"
   ]
  },
  {
   "cell_type": "code",
   "execution_count": 1,
   "id": "original-snowboard",
   "metadata": {},
   "outputs": [],
   "source": [
    "#In the begining, ther is time\n",
    "import time"
   ]
  },
  {
   "cell_type": "code",
   "execution_count": 2,
   "id": "quiet-burner",
   "metadata": {},
   "outputs": [],
   "source": [
    "#Quality of life\n",
    "#Some things we do generate a lot of warnings, and it just becomes clutter.\n",
    "import warnings\n",
    "warnings.filterwarnings(\"ignore\")\n",
    "#I like it when my notebook helps me out\n",
    "%config IPCompleter.greedy=True\n",
    "#Sometiems you just need to print pretty\n",
    "from pprint import pprint\n",
    "#Lots of these operations take many minutes to complete. So it behooves us to pickle the outputs and just unpickle them each time we re-open the notebook\n",
    "import pickle\n"
   ]
  },
  {
   "cell_type": "markdown",
   "id": "clear-patio",
   "metadata": {},
   "source": [
    "Data is from: https://www.kaggle.com/datasets/toygarr/datasets-for-natural-language-processing"
   ]
  },
  {
   "cell_type": "markdown",
   "id": "limited-yahoo",
   "metadata": {},
   "source": [
    "Dataset is from a collection of sentiment datasets, but we just want to play with the food one for now."
   ]
  },
  {
   "cell_type": "markdown",
   "id": "limiting-brake",
   "metadata": {},
   "source": [
    "\"ctweet, stweet, food\" datasets are positive or negative analysis (sentiment) -> 0 negative -> 1 positive (ctweet has neutral 0, 1, 2)\n",
    "\n",
    "we're assuming that any code we write to deal with this food data set will be extensible later by simply adding the rest of the data if we so choose. At the moment it's simply faster to work with a smaller subset of the data as we design the pipeline and it's displays."
   ]
  },
  {
   "cell_type": "markdown",
   "id": "comic-length",
   "metadata": {},
   "source": [
    "## Utilities"
   ]
  },
  {
   "cell_type": "code",
   "execution_count": 3,
   "id": "north-corpus",
   "metadata": {},
   "outputs": [],
   "source": [
    "import pandas as pd\n",
    "import nltk\n",
    "import numpy as np\n",
    "from collections import Counter\n"
   ]
  },
  {
   "cell_type": "markdown",
   "id": "finnish-retail",
   "metadata": {},
   "source": [
    "## Visualization Tools"
   ]
  },
  {
   "cell_type": "code",
   "execution_count": 4,
   "id": "expired-execution",
   "metadata": {},
   "outputs": [],
   "source": [
    "import matplotlib.pyplot as plt\n",
    "import seaborn as sns\n",
    "from wordcloud import WordCloud\n"
   ]
  },
  {
   "cell_type": "markdown",
   "id": "binding-fancy",
   "metadata": {},
   "source": [
    "## Corpus and Vectoring tools"
   ]
  },
  {
   "cell_type": "code",
   "execution_count": 5,
   "id": "final-estimate",
   "metadata": {},
   "outputs": [],
   "source": [
    "from sklearn.feature_extraction.text import TfidfVectorizer\n",
    "from sklearn.feature_extraction.text import CountVectorizer\n",
    "from nltk.tokenize import word_tokenize\n",
    "from nltk.stem import SnowballStemmer\n"
   ]
  },
  {
   "cell_type": "markdown",
   "id": "dental-vertex",
   "metadata": {},
   "source": [
    "Target variable percentage. "
   ]
  },
  {
   "cell_type": "code",
   "execution_count": 57,
   "id": "grateful-elephant",
   "metadata": {
    "scrolled": true
   },
   "outputs": [
    {
     "data": {
      "text/plain": [
       "1    306223\n",
       "0     56996\n",
       "Name: Y, dtype: int64"
      ]
     },
     "execution_count": 57,
     "metadata": {},
     "output_type": "execute_result"
    }
   ],
   "source": [
    "#1 = positive\n",
    "#0 = Negative\n",
    "df.Y.value_counts()"
   ]
  },
  {
   "cell_type": "code",
   "execution_count": 6,
   "id": "finished-engagement",
   "metadata": {},
   "outputs": [
    {
     "data": {
      "text/plain": [
       "18.61257972131421"
      ]
     },
     "execution_count": 6,
     "metadata": {},
     "output_type": "execute_result"
    }
   ],
   "source": [
    "56996/306223 * 100"
   ]
  },
  {
   "cell_type": "markdown",
   "id": "behavioral-trinidad",
   "metadata": {},
   "source": [
    "# Word Clouds/bar charts\n",
    "### divided by sentiment lables"
   ]
  },
  {
   "cell_type": "markdown",
   "id": "returning-mercury",
   "metadata": {},
   "source": [
    "Make giant strings for each set of words. Total, negative sentiment, and positive sentiment"
   ]
  },
  {
   "cell_type": "code",
   "execution_count": 7,
   "id": "unavailable-librarian",
   "metadata": {},
   "outputs": [
    {
     "name": "stdout",
     "output_type": "stream",
     "text": [
      "this took 2.396538734436035 seconds to complete\n"
     ]
    }
   ],
   "source": [
    "start = time.time()\n",
    "\n",
    "test = pd.read_csv('C:/Users/Prathmun/Documents/Springboard Jupyter/Sentiment-Capstone/data/food/test.csv')\n",
    "train = pd.read_csv('C:/Users/Prathmun/Documents/Springboard Jupyter/Sentiment-Capstone/data/food/train.csv')\n",
    "frames = [train, test]\n",
    "df = pd.concat(frames)\n",
    "\n",
    "stop = time.time()\n",
    "print(\"this took \" +str(stop-start) + \" seconds to complete\")"
   ]
  },
  {
   "cell_type": "code",
   "execution_count": 8,
   "id": "cubic-circular",
   "metadata": {},
   "outputs": [
    {
     "name": "stdout",
     "output_type": "stream",
     "text": [
      "this took 116.34544563293457 seconds to complete\n"
     ]
    }
   ],
   "source": [
    "start = time.time()\n",
    "\n",
    "df['tokenized'] = df.text.apply(word_tokenize)\n",
    "\n",
    "stop = time.time()\n",
    "print(\"this took \" +str(stop-start) + \" seconds to complete\")"
   ]
  },
  {
   "cell_type": "code",
   "execution_count": 9,
   "id": "daily-right",
   "metadata": {},
   "outputs": [
    {
     "name": "stdout",
     "output_type": "stream",
     "text": [
      "this took 43.98896098136902 seconds to complete\n"
     ]
    }
   ],
   "source": [
    "start = time.time()\n",
    "\n",
    "stopwords = nltk.corpus.stopwords.words(\"english\")\n",
    "df['nostops'] = df.tokenized.apply(lambda  x: [item for item in x if item not in stopwords])\n",
    "\n",
    "stop = time.time()\n",
    "print(\"this took \" +str(stop-start) + \" seconds to complete\")"
   ]
  },
  {
   "cell_type": "code",
   "execution_count": 10,
   "id": "several-messenger",
   "metadata": {},
   "outputs": [
    {
     "name": "stdout",
     "output_type": "stream",
     "text": [
      "this took 0.6211395263671875 seconds to complete\n"
     ]
    }
   ],
   "source": [
    "start = time.time()\n",
    "\n",
    "nostops_text_no_mods = \" \".join(\" \".join(listo) for listo in df.nostops)\n",
    "\n",
    "stop = time.time()\n",
    "print(\"this took \" +str(stop-start) + \" seconds to complete\")"
   ]
  },
  {
   "cell_type": "code",
   "execution_count": 11,
   "id": "outside-involvement",
   "metadata": {},
   "outputs": [],
   "source": [
    "nostops_text_pos = \" \".join(\" \".join(listo) for listo in df.nostops[df['Y'] == 1])"
   ]
  },
  {
   "cell_type": "code",
   "execution_count": 12,
   "id": "proved-kingdom",
   "metadata": {},
   "outputs": [],
   "source": [
    "nostops_text_neg = \" \".join(\" \".join(listo) for listo in df.nostops[df['Y'] == 0])"
   ]
  },
  {
   "cell_type": "code",
   "execution_count": 13,
   "id": "metallic-motor",
   "metadata": {},
   "outputs": [],
   "source": [
    "def word_cloud_preprocessing(text):\n",
    "    #I just love knowing how long my functions take to execute\n",
    "    start = time.time()\n",
    "    total_text_word_count = Counter(word_tokenize(text))\n",
    "#     for stop in stopwords:\n",
    "#         if stop in total_text_word_count.keys():\n",
    "#             del total_text_word_count[stop]\n",
    "    count_dict = dict(total_text_word_count, index=(len(total_text_word_count)))\n",
    "    series_for_heads = pd.Series(count_dict)\n",
    "    x = series_for_heads.sort_values(ascending=False).head(15).index\n",
    "    y = series_for_heads.sort_values(ascending=False).head(15)\n",
    "    stop = time.time()\n",
    "    print(str(stop-start))\n",
    "    #build the actual wordcloud boject\n",
    "    total_wordcloud = WordCloud(max_font_size=50, max_words=25, background_color=\"black\",\n",
    "                               width=400,\n",
    "                                height=400,\n",
    "                                relative_scaling=1,\n",
    "                                colormap='winter',\n",
    "                                collocations=False,\n",
    "                                stopwords=stopwords,\n",
    "                                scale=2\n",
    "                            \n",
    "                               ).generate(text)\n",
    "    stop = time.time()\n",
    "    print(str(stop-start))\n",
    "    return x, y, total_wordcloud"
   ]
  },
  {
   "cell_type": "code",
   "execution_count": 14,
   "id": "polyphonic-asian",
   "metadata": {},
   "outputs": [],
   "source": [
    "def word_cloud(x, y, wordcloud):\n",
    "    # Display the generated image:\n",
    "    fig, axes = plt.subplots(1, 2, figsize=(15,5))\n",
    "    #testing setting figsize on subfigure directly, rather than at this higher level\n",
    "    #sns.set(rc = {'figure.figsize':(40,5)})\n",
    "    \n",
    "    axes[0].set_title('Top Word counts')\n",
    "    sns.barplot(x, y, ax=axes[0], palette=\"winter\")\n",
    "    axes[0].tick_params(axis='x', rotation=45)\n",
    "    \n",
    "    axes[1].imshow(wordcloud, interpolation='bilinear')\n",
    "    axes[1].axis(\"off\")\n",
    "    axes[1].set_title('Word Cloud')\n",
    "    plt.show()"
   ]
  },
  {
   "cell_type": "code",
   "execution_count": 15,
   "id": "conservative-county",
   "metadata": {},
   "outputs": [],
   "source": [
    "def bar_and_cloud_generator(text):\n",
    "    bar_x, bar_y, cloud_object = word_cloud_preprocessing(text)\n",
    "    word_cloud(bar_x, bar_y, cloud_object)"
   ]
  },
  {
   "cell_type": "markdown",
   "id": "sacred-flour",
   "metadata": {},
   "source": [
    "## All words"
   ]
  },
  {
   "cell_type": "code",
   "execution_count": 16,
   "id": "agreed-hawaiian",
   "metadata": {
    "scrolled": false
   },
   "outputs": [
    {
     "name": "stdout",
     "output_type": "stream",
     "text": [
      "53.980210065841675\n",
      "70.95707869529724\n"
     ]
    },
    {
     "data": {
      "image/png": "[encoded data removed]",
      "text/plain": [
       "<Figure size 1080x360 with 2 Axes>"
      ]
     },
     "metadata": {
      "needs_background": "light"
     },
     "output_type": "display_data"
    }
   ],
   "source": [
    "bar_and_cloud_generator(nostops_text_no_mods)"
   ]
  },
  {
   "cell_type": "markdown",
   "id": "korean-fortune",
   "metadata": {},
   "source": [
    "# Words from sentances labeled positive"
   ]
  },
  {
   "cell_type": "markdown",
   "id": "north-sherman",
   "metadata": {},
   "source": [
    "All the way to product this is consistent to the total word count"
   ]
  },
  {
   "cell_type": "code",
   "execution_count": 17,
   "id": "loaded-oregon",
   "metadata": {},
   "outputs": [
    {
     "name": "stdout",
     "output_type": "stream",
     "text": [
      "45.19904136657715\n",
      "59.60311579704285\n"
     ]
    },
    {
     "data": {
      "image/png": "[encoded data removed]",
      "text/plain": [
       "<Figure size 1080x360 with 2 Axes>"
      ]
     },
     "metadata": {
      "needs_background": "light"
     },
     "output_type": "display_data"
    }
   ],
   "source": [
    "bar_and_cloud_generator(nostops_text_pos)"
   ]
  },
  {
   "cell_type": "markdown",
   "id": "valuable-parade",
   "metadata": {},
   "source": [
    "# Words from sentances labeled negative"
   ]
  },
  {
   "cell_type": "code",
   "execution_count": 18,
   "id": "sound-valve",
   "metadata": {
    "scrolled": false
   },
   "outputs": [
    {
     "name": "stdout",
     "output_type": "stream",
     "text": [
      "9.203644037246704\n",
      "12.18154525756836\n"
     ]
    },
    {
     "data": {
      "image/png": "[encoded data removed]",
      "text/plain": [
       "<Figure size 1080x360 with 2 Axes>"
      ]
     },
     "metadata": {
      "needs_background": "light"
     },
     "output_type": "display_data"
    }
   ],
   "source": [
    "bar_and_cloud_generator(nostops_text_neg)"
   ]
  },
  {
   "cell_type": "markdown",
   "id": "thrown-banks",
   "metadata": {},
   "source": [
    "We can see there's considerable overlap between all three ways of organizing our corpus."
   ]
  },
  {
   "cell_type": "markdown",
   "id": "artistic-bhutan",
   "metadata": {},
   "source": [
    "# Building Limited Vocabularies"
   ]
  },
  {
   "cell_type": "code",
   "execution_count": 19,
   "id": "stuck-stadium",
   "metadata": {},
   "outputs": [],
   "source": [
    "neg_list = nostops_text_neg.split(' ')\n",
    "neg_set = set(neg_list)"
   ]
  },
  {
   "cell_type": "code",
   "execution_count": 20,
   "id": "micro-concord",
   "metadata": {},
   "outputs": [],
   "source": [
    "pos_list = nostops_text_pos.split(' ')\n",
    "pos_set = set(pos_list)"
   ]
  },
  {
   "cell_type": "code",
   "execution_count": 21,
   "id": "productive-wilderness",
   "metadata": {},
   "outputs": [
    {
     "name": "stdout",
     "output_type": "stream",
     "text": [
      "neg list len = 2334177\n",
      "neg set len = 46886\n"
     ]
    }
   ],
   "source": [
    "print('neg list len = ' + str(len(neg_list)))\n",
    "print('neg set len = ' + str(len(neg_set))) "
   ]
  },
  {
   "cell_type": "code",
   "execution_count": 22,
   "id": "treated-coordinate",
   "metadata": {},
   "outputs": [
    {
     "name": "stdout",
     "output_type": "stream",
     "text": [
      "pos list len = 11470406\n",
      "pos set len = 104877\n"
     ]
    }
   ],
   "source": [
    "print('pos list len = ' + str(len(pos_list)))\n",
    "print('pos set len = ' + str(len(pos_set))) "
   ]
  },
  {
   "cell_type": "markdown",
   "id": "nutritional-collins",
   "metadata": {},
   "source": [
    "## Extracting Negative Only words"
   ]
  },
  {
   "cell_type": "code",
   "execution_count": 23,
   "id": "rocky-editor",
   "metadata": {},
   "outputs": [
    {
     "data": {
      "text/plain": [
       "11892"
      ]
     },
     "execution_count": 23,
     "metadata": {},
     "output_type": "execute_result"
    }
   ],
   "source": [
    "neg_only_set = neg_set - pos_set\n",
    "len(neg_only_set )"
   ]
  },
  {
   "cell_type": "markdown",
   "id": "funny-cutting",
   "metadata": {},
   "source": [
    "## Extracting Positive Only Words"
   ]
  },
  {
   "cell_type": "markdown",
   "id": "round-tractor",
   "metadata": {},
   "source": [
    "## Extracting word ratios"
   ]
  },
  {
   "cell_type": "markdown",
   "id": "narrative-wheat",
   "metadata": {},
   "source": [
    "Using set logic to snag words that only appear in both positive and negative polarity documents"
   ]
  },
  {
   "cell_type": "code",
   "execution_count": 25,
   "id": "adjacent-explanation",
   "metadata": {},
   "outputs": [
    {
     "data": {
      "text/plain": [
       "34994"
      ]
     },
     "execution_count": 25,
     "metadata": {},
     "output_type": "execute_result"
    }
   ],
   "source": [
    "shared_set = neg_set.intersection(pos_set)\n",
    "len(shared_set)"
   ]
  },
  {
   "cell_type": "code",
   "execution_count": 26,
   "id": "foster-bedroom",
   "metadata": {},
   "outputs": [],
   "source": [
    "ratio_dict = {}"
   ]
  },
  {
   "cell_type": "code",
   "execution_count": 27,
   "id": "collaborative-spine",
   "metadata": {},
   "outputs": [],
   "source": [
    "ratio_df =  pd.DataFrame(shared_set)"
   ]
  },
  {
   "cell_type": "code",
   "execution_count": 28,
   "id": "industrial-chaos",
   "metadata": {
    "scrolled": true
   },
   "outputs": [
    {
     "data": {
      "text/plain": [
       "<bound method DataFrame.transpose of                    0\n",
       "0                   \n",
       "1              adept\n",
       "2              boyer\n",
       "3                ike\n",
       "4             rowing\n",
       "...              ...\n",
       "34989    conservancy\n",
       "34990          cindy\n",
       "34991      wallowing\n",
       "34992  disintegrated\n",
       "34993           part\n",
       "\n",
       "[34994 rows x 1 columns]>"
      ]
     },
     "execution_count": 28,
     "metadata": {},
     "output_type": "execute_result"
    }
   ],
   "source": [
    "ratio_df.transpose"
   ]
  },
  {
   "cell_type": "markdown",
   "id": "upset-potato",
   "metadata": {},
   "source": []
  },
  {
   "cell_type": "code",
   "execution_count": 29,
   "id": "educational-morning",
   "metadata": {},
   "outputs": [],
   "source": [
    "neg_count = {}\n",
    "\n",
    "for word in neg_list:\n",
    "    if word in shared_set:\n",
    "        if word not in neg_count.keys():\n",
    "            \n",
    "            neg_count[word] = 0\n",
    "            \n",
    "        neg_count[word] += 1\n",
    "        \n",
    "neg_count_df = pd.DataFrame(neg_count, index=[0])\n",
    "                            \n",
    "neg_count_df = neg_count_df.transpose()"
   ]
  },
  {
   "cell_type": "code",
   "execution_count": 30,
   "id": "heavy-resolution",
   "metadata": {
    "scrolled": false
   },
   "outputs": [
    {
     "data": {
      "text/plain": [
       "46886"
      ]
     },
     "execution_count": 30,
     "metadata": {},
     "output_type": "execute_result"
    }
   ],
   "source": [
    "len(set(neg_list))"
   ]
  },
  {
   "cell_type": "code",
   "execution_count": 31,
   "id": "bored-appointment",
   "metadata": {
    "scrolled": true
   },
   "outputs": [
    {
     "data": {
      "text/html": [
       "<div>\n",
       "<style scoped>\n",
       "    .dataframe tbody tr th:only-of-type {\n",
       "        vertical-align: middle;\n",
       "    }\n",
       "\n",
       "    .dataframe tbody tr th {\n",
       "        vertical-align: top;\n",
       "    }\n",
       "\n",
       "    .dataframe thead th {\n",
       "        text-align: right;\n",
       "    }\n",
       "</style>\n",
       "<table border=\"1\" class=\"dataframe\">\n",
       "  <thead>\n",
       "    <tr style=\"text-align: right;\">\n",
       "      <th></th>\n",
       "      <th>0</th>\n",
       "    </tr>\n",
       "  </thead>\n",
       "  <tbody>\n",
       "    <tr>\n",
       "      <th>love</th>\n",
       "      <td>5987</td>\n",
       "    </tr>\n",
       "    <tr>\n",
       "      <th>flower</th>\n",
       "      <td>126</td>\n",
       "    </tr>\n",
       "    <tr>\n",
       "      <th>teasi</th>\n",
       "      <td>1</td>\n",
       "    </tr>\n",
       "    <tr>\n",
       "      <th>purchase</th>\n",
       "      <td>3053</td>\n",
       "    </tr>\n",
       "    <tr>\n",
       "      <th>often</th>\n",
       "      <td>601</td>\n",
       "    </tr>\n",
       "    <tr>\n",
       "      <th>...</th>\n",
       "      <td>...</td>\n",
       "    </tr>\n",
       "    <tr>\n",
       "      <th>upton</th>\n",
       "      <td>1</td>\n",
       "    </tr>\n",
       "    <tr>\n",
       "      <th>shuttered</th>\n",
       "      <td>1</td>\n",
       "    </tr>\n",
       "    <tr>\n",
       "      <th>burrow</th>\n",
       "      <td>1</td>\n",
       "    </tr>\n",
       "    <tr>\n",
       "      <th>uncanny</th>\n",
       "      <td>1</td>\n",
       "    </tr>\n",
       "    <tr>\n",
       "      <th>isd</th>\n",
       "      <td>1</td>\n",
       "    </tr>\n",
       "  </tbody>\n",
       "</table>\n",
       "<p>34994 rows × 1 columns</p>\n",
       "</div>"
      ],
      "text/plain": [
       "              0\n",
       "love       5987\n",
       "flower      126\n",
       "teasi         1\n",
       "purchase   3053\n",
       "often       601\n",
       "...         ...\n",
       "upton         1\n",
       "shuttered     1\n",
       "burrow        1\n",
       "uncanny       1\n",
       "isd           1\n",
       "\n",
       "[34994 rows x 1 columns]"
      ]
     },
     "execution_count": 31,
     "metadata": {},
     "output_type": "execute_result"
    }
   ],
   "source": [
    "neg_count_df"
   ]
  },
  {
   "cell_type": "code",
   "execution_count": 32,
   "id": "constant-greek",
   "metadata": {},
   "outputs": [],
   "source": [
    "pos_count = {}"
   ]
  },
  {
   "cell_type": "code",
   "execution_count": 33,
   "id": "distributed-burst",
   "metadata": {},
   "outputs": [],
   "source": [
    "for word in pos_list:\n",
    "    if word in shared_set:\n",
    "        if word not in pos_count.keys():\n",
    "            pos_count[word] = 0\n",
    "        pos_count[word] += 1\n",
    "\n",
    "pos_count_df = pd.DataFrame(pos_count, index=[0])\n",
    "pos_count_df = pos_count_df.transpose()\n",
    "ratio_df = ratio_df.set_index(0)"
   ]
  },
  {
   "cell_type": "code",
   "execution_count": 34,
   "id": "sustained-pioneer",
   "metadata": {
    "scrolled": false
   },
   "outputs": [],
   "source": [
    "pos_count_df = pd.DataFrame(pos_count, index=[0])\n",
    "pos_count_df = pos_count_df.transpose()\n",
    "ratio_df = ratio_df.set_index(0)"
   ]
  },
  {
   "cell_type": "code",
   "execution_count": 35,
   "id": "prime-wilson",
   "metadata": {},
   "outputs": [
    {
     "data": {
      "text/html": [
       "<div>\n",
       "<style scoped>\n",
       "    .dataframe tbody tr th:only-of-type {\n",
       "        vertical-align: middle;\n",
       "    }\n",
       "\n",
       "    .dataframe tbody tr th {\n",
       "        vertical-align: top;\n",
       "    }\n",
       "\n",
       "    .dataframe thead th {\n",
       "        text-align: right;\n",
       "    }\n",
       "</style>\n",
       "<table border=\"1\" class=\"dataframe\">\n",
       "  <thead>\n",
       "    <tr style=\"text-align: right;\">\n",
       "      <th></th>\n",
       "      <th>0</th>\n",
       "    </tr>\n",
       "  </thead>\n",
       "  <tbody>\n",
       "    <tr>\n",
       "      <th>put</th>\n",
       "      <td>16759</td>\n",
       "    </tr>\n",
       "    <tr>\n",
       "      <th>first</th>\n",
       "      <td>30020</td>\n",
       "    </tr>\n",
       "  </tbody>\n",
       "</table>\n",
       "</div>"
      ],
      "text/plain": [
       "           0\n",
       "put    16759\n",
       "first  30020"
      ]
     },
     "execution_count": 35,
     "metadata": {},
     "output_type": "execute_result"
    }
   ],
   "source": [
    "pos_count_df.head(2)"
   ]
  },
  {
   "cell_type": "code",
   "execution_count": 36,
   "id": "cathedral-junior",
   "metadata": {
    "scrolled": true
   },
   "outputs": [
    {
     "data": {
      "text/plain": [
       "put      16759\n",
       "first    30020\n",
       "Name: 0, dtype: int64"
      ]
     },
     "execution_count": 36,
     "metadata": {},
     "output_type": "execute_result"
    }
   ],
   "source": [
    "pos_count_df[0].head(2)"
   ]
  },
  {
   "cell_type": "code",
   "execution_count": 37,
   "id": "funny-tennessee",
   "metadata": {},
   "outputs": [
    {
     "data": {
      "text/html": [
       "<div>\n",
       "<style scoped>\n",
       "    .dataframe tbody tr th:only-of-type {\n",
       "        vertical-align: middle;\n",
       "    }\n",
       "\n",
       "    .dataframe tbody tr th {\n",
       "        vertical-align: top;\n",
       "    }\n",
       "\n",
       "    .dataframe thead th {\n",
       "        text-align: right;\n",
       "    }\n",
       "</style>\n",
       "<table border=\"1\" class=\"dataframe\">\n",
       "  <thead>\n",
       "    <tr style=\"text-align: right;\">\n",
       "      <th></th>\n",
       "    </tr>\n",
       "    <tr>\n",
       "      <th>0</th>\n",
       "    </tr>\n",
       "  </thead>\n",
       "  <tbody>\n",
       "    <tr>\n",
       "      <th></th>\n",
       "    </tr>\n",
       "    <tr>\n",
       "      <th>adept</th>\n",
       "    </tr>\n",
       "    <tr>\n",
       "      <th>boyer</th>\n",
       "    </tr>\n",
       "    <tr>\n",
       "      <th>ike</th>\n",
       "    </tr>\n",
       "    <tr>\n",
       "      <th>rowing</th>\n",
       "    </tr>\n",
       "    <tr>\n",
       "      <th>...</th>\n",
       "    </tr>\n",
       "    <tr>\n",
       "      <th>conservancy</th>\n",
       "    </tr>\n",
       "    <tr>\n",
       "      <th>cindy</th>\n",
       "    </tr>\n",
       "    <tr>\n",
       "      <th>wallowing</th>\n",
       "    </tr>\n",
       "    <tr>\n",
       "      <th>disintegrated</th>\n",
       "    </tr>\n",
       "    <tr>\n",
       "      <th>part</th>\n",
       "    </tr>\n",
       "  </tbody>\n",
       "</table>\n",
       "<p>34994 rows × 0 columns</p>\n",
       "</div>"
      ],
      "text/plain": [
       "Empty DataFrame\n",
       "Columns: []\n",
       "Index: [, adept, boyer, ike, rowing, uninvited, unsalvageable, magical, sunshines, becasuse, chiapas, judgemental, pinning, thinkthins, defrosting, approximation, ukraine, objectionable, liquify, rubs, ahmed, changeover, jerky, discrepancy, willingly, markings, dominates, speaks, sahale, health, comp, casino, noto, stranded, payment, downhill, cooker, carve, universally, werther, gran, franchise, veer, lip, registered, accostomed, tzatziki, chomped, sparked, glee, ripples, yank, claimed, constituted, bypassed, placenta, broil, menacing, engage, creole, quantify, itif, face, spares, coagulant, absolut, limit, freecons, cabnet, bj, algeria, committing, marker, huggers, neurosurgeon, catfish, ruff, trek, mentions, widowed, imbalanced, excluded, stonewall, distribute, snickerdoodles, kohinoor, bout, crapped, thryoid, held, tofus, muchbetter, schweppes, enlarged, cosmetics, indefinite, unacceptably, cigars, foie, hydrogenation, ...]\n",
       "\n",
       "[34994 rows x 0 columns]"
      ]
     },
     "execution_count": 37,
     "metadata": {},
     "output_type": "execute_result"
    }
   ],
   "source": [
    "ratio_df"
   ]
  },
  {
   "cell_type": "code",
   "execution_count": 38,
   "id": "forbidden-conversion",
   "metadata": {},
   "outputs": [],
   "source": [
    "ratio_df['neg_count'] = neg_count_df[0]\n",
    "ratio_df['pos_count'] = pos_count_df[0]"
   ]
  },
  {
   "cell_type": "code",
   "execution_count": 39,
   "id": "digital-indiana",
   "metadata": {},
   "outputs": [],
   "source": [
    "ratio_df['ratio'] = ratio_df[['neg_count','pos_count']].mean(axis=1)"
   ]
  },
  {
   "cell_type": "code",
   "execution_count": 40,
   "id": "supported-ribbon",
   "metadata": {
    "scrolled": true
   },
   "outputs": [
    {
     "data": {
      "text/html": [
       "<div>\n",
       "<style scoped>\n",
       "    .dataframe tbody tr th:only-of-type {\n",
       "        vertical-align: middle;\n",
       "    }\n",
       "\n",
       "    .dataframe tbody tr th {\n",
       "        vertical-align: top;\n",
       "    }\n",
       "\n",
       "    .dataframe thead th {\n",
       "        text-align: right;\n",
       "    }\n",
       "</style>\n",
       "<table border=\"1\" class=\"dataframe\">\n",
       "  <thead>\n",
       "    <tr style=\"text-align: right;\">\n",
       "      <th></th>\n",
       "      <th>neg_count</th>\n",
       "      <th>pos_count</th>\n",
       "      <th>ratio</th>\n",
       "    </tr>\n",
       "    <tr>\n",
       "      <th>0</th>\n",
       "      <th></th>\n",
       "      <th></th>\n",
       "      <th></th>\n",
       "    </tr>\n",
       "  </thead>\n",
       "  <tbody>\n",
       "    <tr>\n",
       "      <th>like</th>\n",
       "      <td>30069</td>\n",
       "      <td>123214</td>\n",
       "      <td>76641.5</td>\n",
       "    </tr>\n",
       "    <tr>\n",
       "      <th>good</th>\n",
       "      <td>14619</td>\n",
       "      <td>109471</td>\n",
       "      <td>62045.0</td>\n",
       "    </tr>\n",
       "    <tr>\n",
       "      <th>great</th>\n",
       "      <td>5792</td>\n",
       "      <td>102611</td>\n",
       "      <td>54201.5</td>\n",
       "    </tr>\n",
       "    <tr>\n",
       "      <th>one</th>\n",
       "      <td>18773</td>\n",
       "      <td>88085</td>\n",
       "      <td>53429.0</td>\n",
       "    </tr>\n",
       "    <tr>\n",
       "      <th>taste</th>\n",
       "      <td>22369</td>\n",
       "      <td>82632</td>\n",
       "      <td>52500.5</td>\n",
       "    </tr>\n",
       "    <tr>\n",
       "      <th>...</th>\n",
       "      <td>...</td>\n",
       "      <td>...</td>\n",
       "      <td>...</td>\n",
       "    </tr>\n",
       "    <tr>\n",
       "      <th>raspberry</th>\n",
       "      <td>425</td>\n",
       "      <td>2009</td>\n",
       "      <td>1217.0</td>\n",
       "    </tr>\n",
       "    <tr>\n",
       "      <th>lost</th>\n",
       "      <td>551</td>\n",
       "      <td>1878</td>\n",
       "      <td>1214.5</td>\n",
       "    </tr>\n",
       "    <tr>\n",
       "      <th>servings</th>\n",
       "      <td>333</td>\n",
       "      <td>2095</td>\n",
       "      <td>1214.0</td>\n",
       "    </tr>\n",
       "    <tr>\n",
       "      <th>stand</th>\n",
       "      <td>467</td>\n",
       "      <td>1959</td>\n",
       "      <td>1213.0</td>\n",
       "    </tr>\n",
       "    <tr>\n",
       "      <th>paste</th>\n",
       "      <td>394</td>\n",
       "      <td>2031</td>\n",
       "      <td>1212.5</td>\n",
       "    </tr>\n",
       "  </tbody>\n",
       "</table>\n",
       "<p>1000 rows × 3 columns</p>\n",
       "</div>"
      ],
      "text/plain": [
       "           neg_count  pos_count    ratio\n",
       "0                                       \n",
       "like           30069     123214  76641.5\n",
       "good           14619     109471  62045.0\n",
       "great           5792     102611  54201.5\n",
       "one            18773      88085  53429.0\n",
       "taste          22369      82632  52500.5\n",
       "...              ...        ...      ...\n",
       "raspberry        425       2009   1217.0\n",
       "lost             551       1878   1214.5\n",
       "servings         333       2095   1214.0\n",
       "stand            467       1959   1213.0\n",
       "paste            394       2031   1212.5\n",
       "\n",
       "[1000 rows x 3 columns]"
      ]
     },
     "execution_count": 40,
     "metadata": {},
     "output_type": "execute_result"
    }
   ],
   "source": [
    "ratio_df.sort_values(by='ratio', ascending=False).head(1000)"
   ]
  },
  {
   "cell_type": "code",
   "execution_count": 41,
   "id": "acquired-productivity",
   "metadata": {},
   "outputs": [
    {
     "data": {
      "text/plain": [
       "0\n",
       "like         76641.5\n",
       "good         62045.0\n",
       "great        54201.5\n",
       "one          53429.0\n",
       "taste        52500.5\n",
       "              ...   \n",
       "raspberry     1217.0\n",
       "lost          1214.5\n",
       "servings      1214.0\n",
       "stand         1213.0\n",
       "paste         1212.5\n",
       "Name: ratio, Length: 1000, dtype: float64"
      ]
     },
     "execution_count": 41,
     "metadata": {},
     "output_type": "execute_result"
    }
   ],
   "source": [
    "ratio_df.ratio.sort_values(ascending=False).head(1000)"
   ]
  },
  {
   "cell_type": "code",
   "execution_count": 42,
   "id": "organic-effort",
   "metadata": {},
   "outputs": [
    {
     "data": {
      "text/plain": [
       "2959"
      ]
     },
     "execution_count": 42,
     "metadata": {},
     "output_type": "execute_result"
    }
   ],
   "source": [
    "ratio_df.ratio[ratio_df['ratio'] == 1].count()"
   ]
  },
  {
   "cell_type": "code",
   "execution_count": 43,
   "id": "robust-longer",
   "metadata": {
    "scrolled": false
   },
   "outputs": [
    {
     "data": {
      "text/plain": [
       "(array([62., 11., 13.,  3.,  2.,  4.,  3.,  1.,  0.,  1.]),\n",
       " array([10064.5, 16722.2, 23379.9, 30037.6, 36695.3, 43353. , 50010.7,\n",
       "        56668.4, 63326.1, 69983.8, 76641.5]),\n",
       " <BarContainer object of 10 artists>)"
      ]
     },
     "execution_count": 43,
     "metadata": {},
     "output_type": "execute_result"
    },
    {
     "data": {
      "image/png": "[encoded data removed]",
      "text/plain": [
       "<Figure size 432x288 with 1 Axes>"
      ]
     },
     "metadata": {
      "needs_background": "light"
     },
     "output_type": "display_data"
    }
   ],
   "source": [
    "plt.hist(ratio_df.ratio.sort_values(ascending=False).head(100))"
   ]
  },
  {
   "cell_type": "markdown",
   "id": "enclosed-graphic",
   "metadata": {},
   "source": [
    "# Counting Total appearance of words"
   ]
  },
  {
   "cell_type": "code",
   "execution_count": 44,
   "id": "expanded-tribe",
   "metadata": {},
   "outputs": [],
   "source": [
    "all_list = nostops_text_no_mods.split(' ')\n",
    "all_set = set(all_list)"
   ]
  },
  {
   "cell_type": "code",
   "execution_count": 45,
   "id": "toxic-mixer",
   "metadata": {
    "scrolled": false
   },
   "outputs": [
    {
     "data": {
      "text/plain": [
       "13804583"
      ]
     },
     "execution_count": 45,
     "metadata": {},
     "output_type": "execute_result"
    }
   ],
   "source": [
    "len(all_list)"
   ]
  },
  {
   "cell_type": "code",
   "execution_count": 46,
   "id": "amateur-transmission",
   "metadata": {},
   "outputs": [],
   "source": [
    "all_count = {}\n",
    "for word in all_list:\n",
    "    if word not in all_count.keys():\n",
    "        all_count[word] = 0\n",
    "    all_count[word] += 1\n",
    "all_count_df = pd.DataFrame(all_count, index=[0])    \n",
    "all_count_df = all_count_df.transpose()"
   ]
  },
  {
   "cell_type": "code",
   "execution_count": 47,
   "id": "introductory-freight",
   "metadata": {
    "scrolled": true
   },
   "outputs": [
    {
     "data": {
      "text/html": [
       "<div>\n",
       "<style scoped>\n",
       "    .dataframe tbody tr th:only-of-type {\n",
       "        vertical-align: middle;\n",
       "    }\n",
       "\n",
       "    .dataframe tbody tr th {\n",
       "        vertical-align: top;\n",
       "    }\n",
       "\n",
       "    .dataframe thead th {\n",
       "        text-align: right;\n",
       "    }\n",
       "</style>\n",
       "<table border=\"1\" class=\"dataframe\">\n",
       "  <thead>\n",
       "    <tr style=\"text-align: right;\">\n",
       "      <th></th>\n",
       "      <th>0</th>\n",
       "    </tr>\n",
       "  </thead>\n",
       "  <tbody>\n",
       "    <tr>\n",
       "      <th>like</th>\n",
       "      <td>153283</td>\n",
       "    </tr>\n",
       "    <tr>\n",
       "      <th>good</th>\n",
       "      <td>124090</td>\n",
       "    </tr>\n",
       "    <tr>\n",
       "      <th>great</th>\n",
       "      <td>108403</td>\n",
       "    </tr>\n",
       "    <tr>\n",
       "      <th>one</th>\n",
       "      <td>106858</td>\n",
       "    </tr>\n",
       "    <tr>\n",
       "      <th>taste</th>\n",
       "      <td>105001</td>\n",
       "    </tr>\n",
       "    <tr>\n",
       "      <th>product</th>\n",
       "      <td>97973</td>\n",
       "    </tr>\n",
       "    <tr>\n",
       "      <th>would</th>\n",
       "      <td>94926</td>\n",
       "    </tr>\n",
       "    <tr>\n",
       "      <th>flavor</th>\n",
       "      <td>87398</td>\n",
       "    </tr>\n",
       "    <tr>\n",
       "      <th>coffee</th>\n",
       "      <td>87153</td>\n",
       "    </tr>\n",
       "    <tr>\n",
       "      <th>tea</th>\n",
       "      <td>84339</td>\n",
       "    </tr>\n",
       "    <tr>\n",
       "      <th>love</th>\n",
       "      <td>79497</td>\n",
       "    </tr>\n",
       "    <tr>\n",
       "      <th>get</th>\n",
       "      <td>66364</td>\n",
       "    </tr>\n",
       "    <tr>\n",
       "      <th>food</th>\n",
       "      <td>62460</td>\n",
       "    </tr>\n",
       "    <tr>\n",
       "      <th>really</th>\n",
       "      <td>61556</td>\n",
       "    </tr>\n",
       "    <tr>\n",
       "      <th>amazon</th>\n",
       "      <td>58916</td>\n",
       "    </tr>\n",
       "    <tr>\n",
       "      <th>use</th>\n",
       "      <td>56806</td>\n",
       "    </tr>\n",
       "    <tr>\n",
       "      <th>much</th>\n",
       "      <td>56551</td>\n",
       "    </tr>\n",
       "    <tr>\n",
       "      <th>also</th>\n",
       "      <td>53960</td>\n",
       "    </tr>\n",
       "    <tr>\n",
       "      <th>time</th>\n",
       "      <td>53691</td>\n",
       "    </tr>\n",
       "    <tr>\n",
       "      <th>little</th>\n",
       "      <td>51077</td>\n",
       "    </tr>\n",
       "  </tbody>\n",
       "</table>\n",
       "</div>"
      ],
      "text/plain": [
       "              0\n",
       "like     153283\n",
       "good     124090\n",
       "great    108403\n",
       "one      106858\n",
       "taste    105001\n",
       "product   97973\n",
       "would     94926\n",
       "flavor    87398\n",
       "coffee    87153\n",
       "tea       84339\n",
       "love      79497\n",
       "get       66364\n",
       "food      62460\n",
       "really    61556\n",
       "amazon    58916\n",
       "use       56806\n",
       "much      56551\n",
       "also      53960\n",
       "time      53691\n",
       "little    51077"
      ]
     },
     "execution_count": 47,
     "metadata": {},
     "output_type": "execute_result"
    }
   ],
   "source": [
    "all_count_df.sort_values(ascending=False, by=0).head(20)"
   ]
  },
  {
   "cell_type": "markdown",
   "id": "hindu-organizer",
   "metadata": {},
   "source": [
    "### Neg only Count DF"
   ]
  },
  {
   "cell_type": "code",
   "execution_count": 48,
   "id": "aging-appraisal",
   "metadata": {},
   "outputs": [
    {
     "data": {
      "text/plain": [
       "11892"
      ]
     },
     "execution_count": 48,
     "metadata": {},
     "output_type": "execute_result"
    }
   ],
   "source": [
    "#Building up the count for the neg only df so that we can order them to slice, so we can add them to the lexicon we're going to feed into the vocabulary of the tokenizer\n",
    "\n",
    "neg_count = {}\n",
    "\n",
    "for word in neg_list:\n",
    "    if word in neg_only_set:\n",
    "        if word not in neg_count.keys():\n",
    "            \n",
    "            neg_count[word] = 0\n",
    "            \n",
    "        neg_count[word] += 1\n",
    "        \n",
    "neg_count_df = pd.DataFrame(neg_count, index=[0])\n",
    "                            \n",
    "neg_only_count_df = neg_count_df.transpose()\n",
    "\n",
    "len(neg_only_set)"
   ]
  },
  {
   "cell_type": "code",
   "execution_count": 49,
   "id": "naughty-spectacular",
   "metadata": {},
   "outputs": [
    {
     "data": {
      "text/html": [
       "<div>\n",
       "<style scoped>\n",
       "    .dataframe tbody tr th:only-of-type {\n",
       "        vertical-align: middle;\n",
       "    }\n",
       "\n",
       "    .dataframe tbody tr th {\n",
       "        vertical-align: top;\n",
       "    }\n",
       "\n",
       "    .dataframe thead th {\n",
       "        text-align: right;\n",
       "    }\n",
       "</style>\n",
       "<table border=\"1\" class=\"dataframe\">\n",
       "  <thead>\n",
       "    <tr style=\"text-align: right;\">\n",
       "      <th></th>\n",
       "      <th>0</th>\n",
       "    </tr>\n",
       "  </thead>\n",
       "  <tbody>\n",
       "    <tr>\n",
       "      <th>bbd</th>\n",
       "      <td>30</td>\n",
       "    </tr>\n",
       "    <tr>\n",
       "      <th>refundable</th>\n",
       "      <td>23</td>\n",
       "    </tr>\n",
       "    <tr>\n",
       "      <th>canavanine</th>\n",
       "      <td>19</td>\n",
       "    </tr>\n",
       "    <tr>\n",
       "      <th>unreturnable</th>\n",
       "      <td>13</td>\n",
       "    </tr>\n",
       "    <tr>\n",
       "      <th>iarc</th>\n",
       "      <td>11</td>\n",
       "    </tr>\n",
       "    <tr>\n",
       "      <th>...</th>\n",
       "      <td>...</td>\n",
       "    </tr>\n",
       "    <tr>\n",
       "      <th>ribes</th>\n",
       "      <td>5</td>\n",
       "    </tr>\n",
       "    <tr>\n",
       "      <th>chastised</th>\n",
       "      <td>5</td>\n",
       "    </tr>\n",
       "    <tr>\n",
       "      <th>diamondpetrecall</th>\n",
       "      <td>5</td>\n",
       "    </tr>\n",
       "    <tr>\n",
       "      <th>algam</th>\n",
       "      <td>5</td>\n",
       "    </tr>\n",
       "    <tr>\n",
       "      <th>baconpop</th>\n",
       "      <td>5</td>\n",
       "    </tr>\n",
       "  </tbody>\n",
       "</table>\n",
       "<p>100 rows × 1 columns</p>\n",
       "</div>"
      ],
      "text/plain": [
       "                   0\n",
       "bbd               30\n",
       "refundable        23\n",
       "canavanine        19\n",
       "unreturnable      13\n",
       "iarc              11\n",
       "...               ..\n",
       "ribes              5\n",
       "chastised          5\n",
       "diamondpetrecall   5\n",
       "algam              5\n",
       "baconpop           5\n",
       "\n",
       "[100 rows x 1 columns]"
      ]
     },
     "execution_count": 49,
     "metadata": {},
     "output_type": "execute_result"
    }
   ],
   "source": [
    "neg_only_count_df.sort_values(by=[0], ascending=False).head(100)"
   ]
  },
  {
   "cell_type": "markdown",
   "id": "designed-sleeve",
   "metadata": {},
   "source": [
    "# Negative Sentiment Only Word count Analysis\n",
    "Within 100 words these words are showing up in as few as 5 documents, so as an generalizable indicator they're pretty weak. I'm inclined to spend our dimensionality on some other list of words, or the LDA topics. Also worth noting bbd. iarc and diamondpetrecall. All store names, might be able to purge these by using a part of speach tagger and removing proper nouns? Might not be worth it if I'm not using pos or neg only lists, and just using high ratio words with LDA topics."
   ]
  },
  {
   "cell_type": "markdown",
   "id": "fifty-edition",
   "metadata": {},
   "source": [
    "### Pos Only Count Df"
   ]
  },
  {
   "cell_type": "code",
   "execution_count": 53,
   "id": "hazardous-tyler",
   "metadata": {},
   "outputs": [
    {
     "data": {
      "text/plain": [
       "69883"
      ]
     },
     "execution_count": 53,
     "metadata": {},
     "output_type": "execute_result"
    }
   ],
   "source": [
    "#Building up the count for the neg only df so that we can order them to slice, so we can add them to the lexicon we're going to feed into the vocabulary of the tokenizer\n",
    "\n",
    "pos_count = {}\n",
    "\n",
    "for word in pos_list:\n",
    "    if word in pos_only_set:\n",
    "        if word not in pos_count.keys():\n",
    "            \n",
    "            pos_count[word] = 0\n",
    "            \n",
    "        pos_count[word] += 1\n",
    "        \n",
    "pos_count_df = pd.DataFrame(pos_count, index=[0])\n",
    "                            \n",
    "pos_only_count_df = pos_count_df.transpose()\n",
    "\n",
    "len(pos_only_set)"
   ]
  },
  {
   "cell_type": "code",
   "execution_count": 54,
   "id": "executed-liberty",
   "metadata": {
    "scrolled": true
   },
   "outputs": [
    {
     "data": {
      "text/html": [
       "<div>\n",
       "<style scoped>\n",
       "    .dataframe tbody tr th:only-of-type {\n",
       "        vertical-align: middle;\n",
       "    }\n",
       "\n",
       "    .dataframe tbody tr th {\n",
       "        vertical-align: top;\n",
       "    }\n",
       "\n",
       "    .dataframe thead th {\n",
       "        text-align: right;\n",
       "    }\n",
       "</style>\n",
       "<table border=\"1\" class=\"dataframe\">\n",
       "  <thead>\n",
       "    <tr style=\"text-align: right;\">\n",
       "      <th></th>\n",
       "      <th>0</th>\n",
       "    </tr>\n",
       "  </thead>\n",
       "  <tbody>\n",
       "    <tr>\n",
       "      <th>excellant</th>\n",
       "      <td>143</td>\n",
       "    </tr>\n",
       "    <tr>\n",
       "      <th>hears</th>\n",
       "      <td>122</td>\n",
       "    </tr>\n",
       "    <tr>\n",
       "      <th>vernor</th>\n",
       "      <td>115</td>\n",
       "    </tr>\n",
       "    <tr>\n",
       "      <th>tri</th>\n",
       "      <td>109</td>\n",
       "    </tr>\n",
       "    <tr>\n",
       "      <th>pleaser</th>\n",
       "      <td>83</td>\n",
       "    </tr>\n",
       "    <tr>\n",
       "      <th>...</th>\n",
       "      <td>...</td>\n",
       "    </tr>\n",
       "    <tr>\n",
       "      <th>somersaults</th>\n",
       "      <td>35</td>\n",
       "    </tr>\n",
       "    <tr>\n",
       "      <th>stickier</th>\n",
       "      <td>35</td>\n",
       "    </tr>\n",
       "    <tr>\n",
       "      <th>baltimore</th>\n",
       "      <td>35</td>\n",
       "    </tr>\n",
       "    <tr>\n",
       "      <th>caveats</th>\n",
       "      <td>34</td>\n",
       "    </tr>\n",
       "    <tr>\n",
       "      <th>tmi</th>\n",
       "      <td>34</td>\n",
       "    </tr>\n",
       "  </tbody>\n",
       "</table>\n",
       "<p>100 rows × 1 columns</p>\n",
       "</div>"
      ],
      "text/plain": [
       "               0\n",
       "excellant    143\n",
       "hears        122\n",
       "vernor       115\n",
       "tri          109\n",
       "pleaser       83\n",
       "...          ...\n",
       "somersaults   35\n",
       "stickier      35\n",
       "baltimore     35\n",
       "caveats       34\n",
       "tmi           34\n",
       "\n",
       "[100 rows x 1 columns]"
      ]
     },
     "execution_count": 54,
     "metadata": {},
     "output_type": "execute_result"
    }
   ],
   "source": [
    "pos_only_count_df.sort_values(by=[0], ascending=False).head(100)"
   ]
  },
  {
   "cell_type": "code",
   "execution_count": 59,
   "id": "incomplete-meeting",
   "metadata": {},
   "outputs": [
    {
     "data": {
      "text/plain": [
       "150"
      ]
     },
     "execution_count": 59,
     "metadata": {},
     "output_type": "execute_result"
    }
   ],
   "source": [
    "30 * 5\n"
   ]
  },
  {
   "cell_type": "code",
   "execution_count": 107,
   "id": "instant-melbourne",
   "metadata": {},
   "outputs": [
    {
     "data": {
      "text/plain": [
       "['excellant',\n",
       " 'hears',\n",
       " 'vernor',\n",
       " 'tri',\n",
       " 'pleaser',\n",
       " 'flavonoids',\n",
       " 'listmania',\n",
       " 'yummm',\n",
       " 'blanc',\n",
       " 'teachers',\n",
       " 'raven',\n",
       " 'drizzling',\n",
       " 'yummiest',\n",
       " 'unwind',\n",
       " 'supersaver',\n",
       " 'mmmmmmm',\n",
       " 'nando',\n",
       " 'matchas',\n",
       " 'saponin',\n",
       " 'loin',\n",
       " 'vege',\n",
       " 'bisto',\n",
       " 'willpower',\n",
       " 'unfrosted',\n",
       " 'muscovado',\n",
       " 'hydrates',\n",
       " 'lizano',\n",
       " 'simplest',\n",
       " 'convienent',\n",
       " 'trepidation',\n",
       " 'coolest',\n",
       " 'awaken',\n",
       " 'rv',\n",
       " 'slump',\n",
       " 'psoriasis',\n",
       " 'medela',\n",
       " 'limping',\n",
       " 'outings',\n",
       " 'satisfyingly',\n",
       " 'flor',\n",
       " 'bonnet',\n",
       " 'rotel',\n",
       " 'grad',\n",
       " 'overdoing',\n",
       " 'vacations',\n",
       " 'tucson',\n",
       " 'stroller',\n",
       " 'glutten',\n",
       " 'winona',\n",
       " 'broiler',\n",
       " 'pittsburgh',\n",
       " 'smoothe',\n",
       " 'stiffness',\n",
       " 'fluctuates',\n",
       " 'daytime',\n",
       " 'radius',\n",
       " 'lollies',\n",
       " 'yummmmm',\n",
       " 'uplifting',\n",
       " 'golazo',\n",
       " 'takeout',\n",
       " 'reheats',\n",
       " 'tahina',\n",
       " 'clint',\n",
       " 'powerhouse',\n",
       " 'shinny',\n",
       " 'retreat',\n",
       " 'spiciest',\n",
       " 'handbag',\n",
       " 'pates',\n",
       " 'teasan',\n",
       " 'relieves',\n",
       " 'pastrami',\n",
       " 'mmmmmmmm',\n",
       " 'pei',\n",
       " 'versitile',\n",
       " 'bzzagent',\n",
       " 'yummo',\n",
       " 'shar',\n",
       " 'ski',\n",
       " 'panera',\n",
       " 'garvey',\n",
       " 'tignor',\n",
       " 'eleuthero',\n",
       " 'devine',\n",
       " 'graze',\n",
       " 'goldens',\n",
       " 'automated',\n",
       " 'dissapoint',\n",
       " 'nay',\n",
       " 'mestemacher',\n",
       " 'violets',\n",
       " 'dassant',\n",
       " 'westies',\n",
       " 'wut',\n",
       " 'somersaults',\n",
       " 'stickier',\n",
       " 'baltimore',\n",
       " 'caveats',\n",
       " 'tmi']"
      ]
     },
     "execution_count": 107,
     "metadata": {},
     "output_type": "execute_result"
    }
   ],
   "source": [
    "list(pos_only_count_df.sort_values(by=[0], ascending=False).head(100).index)"
   ]
  },
  {
   "cell_type": "markdown",
   "id": "shaped-scott",
   "metadata": {},
   "source": [
    "# Positive Sentiment Only Word count Analysis\n",
    "We can see that the most common positive word is nearly five times as common as the most common negative only word, which makes sense given that negative documents make up only 18% of our corpus. THe ratio is almost exact. Seperate from the generalizability pushing me away from sentiment unique words, it may behoove us to throw in some negative only given that our model have been biasing towards 100% positive regardless. Though some words here are obviously going to trend towards predictive, like ecellant. Hears is suprising, no idea bout vernor(brand maybe?) tri is also strange, pleaser is a strange iteration but makes sense that it would be in this list"
   ]
  },
  {
   "cell_type": "markdown",
   "id": "dress-placement",
   "metadata": {},
   "source": [
    "# Function to slice the vectors appropriately"
   ]
  },
  {
   "cell_type": "code",
   "execution_count": 121,
   "id": "mineral-energy",
   "metadata": {},
   "outputs": [],
   "source": [
    "def slicer(pos_only, neg_only, high_ratio):\n",
    "    \n",
    "    #slice pos\n",
    "    pos_slice = list(pos_only_count_df.sort_values(by=[0], ascending=False).head(pos_only).index)\n",
    "    print(len(pos_slice))\n",
    "    #slice neg\n",
    "    neg_slice = list(neg_only_count_df.sort_values(by=[0], ascending=False).head(neg_only).index)\n",
    "    print(len(neg_slice))\n",
    "    #slice high_ratio\n",
    "    ratio_slice = list(ratio_df.sort_values(ascending=False, by='ratio').head(high_ratio+1).index)[1:]\n",
    "    print(len(ratio_slice))\n",
    "    \n",
    "    \n",
    "    #Join slices into one big list\n",
    "    sliced_lexicons = [pos_slice,neg_slice,ratio_slice]\n",
    "    sliced_lexicon = []\n",
    "    for lexicon in sliced_lexicons:\n",
    "        for word in lexicon:\n",
    "            sliced_lexicon.append(word)\n",
    "        \n",
    "    #Return list\n",
    "    return pos_slice,neg_slice,ratio_slice, sliced_lexicon"
   ]
  },
  {
   "cell_type": "markdown",
   "id": "governmental-ghost",
   "metadata": {},
   "source": [
    "## Visualizing the LDA"
   ]
  },
  {
   "cell_type": "markdown",
   "id": "saved-credit",
   "metadata": {},
   "source": [
    "This graphic was made early on in the process. It continues to be useful, but eventually it became prudent to move the LDA process to the preprocessing noteboook so that the project could be conceptually silod more effectively. If your curious about the code that the below function referenced before it just loaded a file check out the preprocessing notebook"
   ]
  },
  {
   "cell_type": "code",
   "execution_count": null,
   "id": "complex-space",
   "metadata": {},
   "outputs": [],
   "source": [
    "#Tools for lDA visualization\n",
    "\n",
    "#Normally I like to my imports at the top of a ntoebook, but these imports make the\n",
    "#notebook spam an annoying warning that I can only fix by downgrading some stuff, which I am disinclined to do.\n",
    "import pyLDAvis.gensim_models \n",
    "import pyLDAvis"
   ]
  },
  {
   "cell_type": "code",
   "execution_count": null,
   "id": "premium-storage",
   "metadata": {},
   "outputs": [],
   "source": [
    "num_topics=10\n",
    "# Visualize the topics\n",
    "pyLDAvis.enable_notebook()\n",
    "LDAvis_data_filepath = os.path.join('ldavis_prepared_'+str(num_topics))\n",
    "# # this is a bit time consuming - make the if statement True\n",
    "# # if you want to execute visualization prep yourself\n",
    "\n",
    "if 1 == 0:\n",
    "    LDAvis_prepared = pyLDAvis.gensim_models .prepare(lda, corpus, id2word)\n",
    "    with open(LDAvis_data_filepath, 'wb') as f:\n",
    "        pickle.dump(LDAvis_prepared, f)\n",
    "        \n",
    "# load the pre-prepared pyLDAvis data from disk\n",
    "with open(LDAvis_data_filepath, 'rb') as f:\n",
    "    LDAvis_prepared = pickle.load(f)\n",
    "pyLDAvis.save_html(LDAvis_prepared, 'ldavis_prepared_'+ str(num_topics) +'.html')\n",
    "LDAvis_prepared"
   ]
  },
  {
   "cell_type": "markdown",
   "id": "descending-rates",
   "metadata": {},
   "source": [
    "This is pretty neat, but honestly I don't care very much. These distributions don't really affect what I'm about to do. I was just curious to try this."
   ]
  },
  {
   "cell_type": "markdown",
   "id": "early-canberra",
   "metadata": {},
   "source": [
    "We might do something similar to the earlier word clouds and break this up by sentiment. SEe if the clusters are significantly different across sentiments, but again it's not deeply relevant to our long term goals, so we may not take the time"
   ]
  }
 ],
 "metadata": {
  "kernelspec": {
   "display_name": "Python 3",
   "language": "python",
   "name": "python3"
  },
  "language_info": {
   "codemirror_mode": {
    "name": "ipython",
    "version": 3
   },
   "file_extension": ".py",
   "mimetype": "text/x-python",
   "name": "python",
   "nbconvert_exporter": "python",
   "pygments_lexer": "ipython3",
   "version": "3.9.1"
  }
 },
 "nbformat": 4,
 "nbformat_minor": 5
}

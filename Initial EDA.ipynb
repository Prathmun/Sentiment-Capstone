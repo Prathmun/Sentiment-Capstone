{
 "cells": [
  {
   "cell_type": "markdown",
   "id": "honey-cardiff",
   "metadata": {},
   "source": [
    "# Imports and basic set up"
   ]
  },
  {
   "cell_type": "code",
   "execution_count": 1,
   "id": "original-snowboard",
   "metadata": {},
   "outputs": [],
   "source": [
    "#In the begining, ther is time\n",
    "import time"
   ]
  },
  {
   "cell_type": "code",
   "execution_count": 2,
   "id": "quiet-burner",
   "metadata": {},
   "outputs": [],
   "source": [
    "#Quality of life\n",
    "#Some things we do generate a lot of warnings, and it just becomes clutter.\n",
    "import warnings\n",
    "warnings.filterwarnings(\"ignore\")\n",
    "#I like it when my notebook helps me out\n",
    "%config IPCompleter.greedy=True\n",
    "#Sometiems you just need to print pretty\n",
    "from pprint import pprint\n",
    "#Lots of these operations take many minutes to complete. So it behooves us to pickle the outputs and just unpickle them each time we re-open the notebook\n",
    "import pickle\n"
   ]
  },
  {
   "cell_type": "markdown",
   "id": "clear-patio",
   "metadata": {},
   "source": [
    "Data is from: https://www.kaggle.com/datasets/toygarr/datasets-for-natural-language-processing"
   ]
  },
  {
   "cell_type": "markdown",
   "id": "limited-yahoo",
   "metadata": {},
   "source": [
    "Dataset is from a collection of sentiment datasets, but we just want to play with the food one for now."
   ]
  },
  {
   "cell_type": "markdown",
   "id": "limiting-brake",
   "metadata": {},
   "source": [
    "\"ctweet, stweet, food\" datasets are positive or negative analysis (sentiment) -> 0 negative -> 1 positive (ctweet has neutral 0, 1, 2)\n",
    "\n",
    "we're assuming that any code we write to deal with this food data set will be extensible later by simply adding the rest of the data if we so choose. At the moment it's simply faster to work with a smaller subset of the data as we design the pipeline and it's displays."
   ]
  },
  {
   "cell_type": "markdown",
   "id": "comic-length",
   "metadata": {},
   "source": [
    "## Utilities"
   ]
  },
  {
   "cell_type": "code",
   "execution_count": 3,
   "id": "north-corpus",
   "metadata": {},
   "outputs": [],
   "source": [
    "import pandas as pd\n",
    "import nltk\n",
    "import numpy as np\n",
    "from nltk.tokenize import word_tokenize\n",
    "from nltk.stem import SnowballStemmer\n",
    "from nltk import ngrams\n",
    "import matplotlib.pyplot as plt\n",
    "from wordcloud import WordCloud\n",
    "from collections import Counter\n",
    "import seaborn as sns"
   ]
  },
  {
   "cell_type": "markdown",
   "id": "binding-fancy",
   "metadata": {},
   "source": [
    "## Corpus and Vectoring tools"
   ]
  },
  {
   "cell_type": "code",
   "execution_count": 4,
   "id": "final-estimate",
   "metadata": {},
   "outputs": [],
   "source": [
    "from sklearn.feature_extraction.text import TfidfVectorizer\n",
    "from sklearn.feature_extraction.text import CountVectorizer\n",
    "from sklearn.cluster import DBSCAN\n",
    "from gensim.models.ldamodel import LdaModel\n",
    "from gensim.corpora.dictionary import Dictionary\n",
    "import os"
   ]
  },
  {
   "cell_type": "code",
   "execution_count": 5,
   "id": "pleased-database",
   "metadata": {},
   "outputs": [],
   "source": [
    "from sklearn.utils import resample"
   ]
  },
  {
   "cell_type": "code",
   "execution_count": 6,
   "id": "developmental-focus",
   "metadata": {},
   "outputs": [],
   "source": [
    "#collocation tools\n",
    "import collections\n",
    "from nltk.collocations import *"
   ]
  },
  {
   "cell_type": "markdown",
   "id": "loved-differential",
   "metadata": {},
   "source": [
    "### Load in the dataset and do some basic confirmations"
   ]
  },
  {
   "cell_type": "code",
   "execution_count": 7,
   "id": "postal-appointment",
   "metadata": {},
   "outputs": [],
   "source": [
    "test = pd.read_csv('C:/Users/Prathmun/Documents/Springboard Jupyter/Sentiment-Capstone/data/food/test.csv')"
   ]
  },
  {
   "cell_type": "code",
   "execution_count": 8,
   "id": "wicked-hierarchy",
   "metadata": {
    "scrolled": true
   },
   "outputs": [
    {
     "data": {
      "text/plain": [
       "(145293, 2)"
      ]
     },
     "execution_count": 8,
     "metadata": {},
     "output_type": "execute_result"
    }
   ],
   "source": [
    "test.shape"
   ]
  },
  {
   "cell_type": "code",
   "execution_count": 9,
   "id": "unique-hepatitis",
   "metadata": {
    "scrolled": true
   },
   "outputs": [
    {
     "data": {
      "text/html": [
       "<div>\n",
       "<style scoped>\n",
       "    .dataframe tbody tr th:only-of-type {\n",
       "        vertical-align: middle;\n",
       "    }\n",
       "\n",
       "    .dataframe tbody tr th {\n",
       "        vertical-align: top;\n",
       "    }\n",
       "\n",
       "    .dataframe thead th {\n",
       "        text-align: right;\n",
       "    }\n",
       "</style>\n",
       "<table border=\"1\" class=\"dataframe\">\n",
       "  <thead>\n",
       "    <tr style=\"text-align: right;\">\n",
       "      <th></th>\n",
       "      <th>text</th>\n",
       "      <th>Y</th>\n",
       "    </tr>\n",
       "  </thead>\n",
       "  <tbody>\n",
       "    <tr>\n",
       "      <th>0</th>\n",
       "      <td>this is the perfect blend of spice and sweet i...</td>\n",
       "      <td>1</td>\n",
       "    </tr>\n",
       "    <tr>\n",
       "      <th>1</th>\n",
       "      <td>the only coffee shop in town that carried big ...</td>\n",
       "      <td>1</td>\n",
       "    </tr>\n",
       "    <tr>\n",
       "      <th>2</th>\n",
       "      <td>this was a great price but amazon is not going...</td>\n",
       "      <td>1</td>\n",
       "    </tr>\n",
       "    <tr>\n",
       "      <th>3</th>\n",
       "      <td>while i love this product i feel disappointed ...</td>\n",
       "      <td>1</td>\n",
       "    </tr>\n",
       "    <tr>\n",
       "      <th>4</th>\n",
       "      <td>i have color treated hair and wanted to try th...</td>\n",
       "      <td>0</td>\n",
       "    </tr>\n",
       "  </tbody>\n",
       "</table>\n",
       "</div>"
      ],
      "text/plain": [
       "                                                text  Y\n",
       "0  this is the perfect blend of spice and sweet i...  1\n",
       "1  the only coffee shop in town that carried big ...  1\n",
       "2  this was a great price but amazon is not going...  1\n",
       "3  while i love this product i feel disappointed ...  1\n",
       "4  i have color treated hair and wanted to try th...  0"
      ]
     },
     "execution_count": 9,
     "metadata": {},
     "output_type": "execute_result"
    }
   ],
   "source": [
    "test.head()"
   ]
  },
  {
   "cell_type": "code",
   "execution_count": 10,
   "id": "revised-option",
   "metadata": {},
   "outputs": [],
   "source": [
    "train = pd.read_csv('C:/Users/Prathmun/Documents/Springboard Jupyter/Sentiment-Capstone/data/food/train.csv')"
   ]
  },
  {
   "cell_type": "code",
   "execution_count": 11,
   "id": "supposed-guest",
   "metadata": {},
   "outputs": [
    {
     "data": {
      "text/plain": [
       "(217926, 2)"
      ]
     },
     "execution_count": 11,
     "metadata": {},
     "output_type": "execute_result"
    }
   ],
   "source": [
    "train.shape"
   ]
  },
  {
   "cell_type": "code",
   "execution_count": 12,
   "id": "vanilla-insurance",
   "metadata": {},
   "outputs": [
    {
     "data": {
      "text/html": [
       "<div>\n",
       "<style scoped>\n",
       "    .dataframe tbody tr th:only-of-type {\n",
       "        vertical-align: middle;\n",
       "    }\n",
       "\n",
       "    .dataframe tbody tr th {\n",
       "        vertical-align: top;\n",
       "    }\n",
       "\n",
       "    .dataframe thead th {\n",
       "        text-align: right;\n",
       "    }\n",
       "</style>\n",
       "<table border=\"1\" class=\"dataframe\">\n",
       "  <thead>\n",
       "    <tr style=\"text-align: right;\">\n",
       "      <th></th>\n",
       "      <th>text</th>\n",
       "      <th>Y</th>\n",
       "    </tr>\n",
       "  </thead>\n",
       "  <tbody>\n",
       "    <tr>\n",
       "      <th>0</th>\n",
       "      <td>i was put off at first by the green powder but...</td>\n",
       "      <td>1</td>\n",
       "    </tr>\n",
       "    <tr>\n",
       "      <th>1</th>\n",
       "      <td>these ginger chews are too good to be true i t...</td>\n",
       "      <td>1</td>\n",
       "    </tr>\n",
       "    <tr>\n",
       "      <th>2</th>\n",
       "      <td>i love salt and use a variety of salts to keep...</td>\n",
       "      <td>1</td>\n",
       "    </tr>\n",
       "    <tr>\n",
       "      <th>3</th>\n",
       "      <td>if asked to sum up this coffee pod drawer in o...</td>\n",
       "      <td>1</td>\n",
       "    </tr>\n",
       "    <tr>\n",
       "      <th>4</th>\n",
       "      <td>so far my dog has tried the chicken and peanut...</td>\n",
       "      <td>1</td>\n",
       "    </tr>\n",
       "  </tbody>\n",
       "</table>\n",
       "</div>"
      ],
      "text/plain": [
       "                                                text  Y\n",
       "0  i was put off at first by the green powder but...  1\n",
       "1  these ginger chews are too good to be true i t...  1\n",
       "2  i love salt and use a variety of salts to keep...  1\n",
       "3  if asked to sum up this coffee pod drawer in o...  1\n",
       "4  so far my dog has tried the chicken and peanut...  1"
      ]
     },
     "execution_count": 12,
     "metadata": {},
     "output_type": "execute_result"
    }
   ],
   "source": [
    "train.head()"
   ]
  },
  {
   "cell_type": "code",
   "execution_count": 13,
   "id": "scientific-framing",
   "metadata": {},
   "outputs": [],
   "source": [
    "frames = [train, test]"
   ]
  },
  {
   "cell_type": "markdown",
   "id": "certified-guatemala",
   "metadata": {},
   "source": [
    "### Combine the test/train sets as we're going to do our own splits later"
   ]
  },
  {
   "cell_type": "code",
   "execution_count": 14,
   "id": "formal-seattle",
   "metadata": {},
   "outputs": [],
   "source": [
    "df = pd.concat(frames)"
   ]
  },
  {
   "cell_type": "code",
   "execution_count": 15,
   "id": "opposite-temple",
   "metadata": {
    "scrolled": false
   },
   "outputs": [
    {
     "data": {
      "text/plain": [
       "(363219, 2)"
      ]
     },
     "execution_count": 15,
     "metadata": {},
     "output_type": "execute_result"
    }
   ],
   "source": [
    "df.shape"
   ]
  },
  {
   "cell_type": "code",
   "execution_count": 16,
   "id": "flush-wellington",
   "metadata": {
    "scrolled": false
   },
   "outputs": [
    {
     "data": {
      "text/plain": [
       "1    306223\n",
       "0     56996\n",
       "Name: Y, dtype: int64"
      ]
     },
     "execution_count": 16,
     "metadata": {},
     "output_type": "execute_result"
    }
   ],
   "source": [
    "df.Y.value_counts()"
   ]
  },
  {
   "cell_type": "code",
   "execution_count": 17,
   "id": "julian-payday",
   "metadata": {},
   "outputs": [
    {
     "data": {
      "text/plain": [
       "5.372710365639694"
      ]
     },
     "execution_count": 17,
     "metadata": {},
     "output_type": "execute_result"
    }
   ],
   "source": [
    "306223/56996"
   ]
  },
  {
   "cell_type": "code",
   "execution_count": 18,
   "id": "geographic-princeton",
   "metadata": {},
   "outputs": [
    {
     "data": {
      "text/plain": [
       "0.18612579721314207"
      ]
     },
     "execution_count": 18,
     "metadata": {},
     "output_type": "execute_result"
    }
   ],
   "source": [
    "56996/306223"
   ]
  },
  {
   "cell_type": "code",
   "execution_count": 19,
   "id": "distributed-mistake",
   "metadata": {},
   "outputs": [
    {
     "data": {
      "text/plain": [
       "537.2710365639695"
      ]
     },
     "execution_count": 19,
     "metadata": {},
     "output_type": "execute_result"
    }
   ],
   "source": [
    "306223/56996 *100"
   ]
  },
  {
   "cell_type": "code",
   "execution_count": 20,
   "id": "occupied-undergraduate",
   "metadata": {},
   "outputs": [
    {
     "data": {
      "text/plain": [
       "18.61257972131421"
      ]
     },
     "execution_count": 20,
     "metadata": {},
     "output_type": "execute_result"
    }
   ],
   "source": [
    "56996/306223 * 100"
   ]
  },
  {
   "cell_type": "code",
   "execution_count": 21,
   "id": "abandoned-respect",
   "metadata": {},
   "outputs": [],
   "source": [
    "stopwords = nltk.corpus.stopwords.words(\"english\")"
   ]
  },
  {
   "cell_type": "markdown",
   "id": "studied-carnival",
   "metadata": {},
   "source": [
    "# Sampling "
   ]
  },
  {
   "cell_type": "markdown",
   "id": "unavailable-intensity",
   "metadata": {},
   "source": [
    "Here we can set up the code to downsample for speed's sake"
   ]
  },
  {
   "cell_type": "code",
   "execution_count": 22,
   "id": "indoor-inside",
   "metadata": {},
   "outputs": [],
   "source": [
    "#df = df.head(2000)"
   ]
  },
  {
   "cell_type": "code",
   "execution_count": 23,
   "id": "conditional-tenant",
   "metadata": {},
   "outputs": [],
   "source": [
    "sample_size = 50000\n",
    "df = resample(df,\n",
    "                         replace=False,\n",
    "                         n_samples=sample_size,\n",
    "                        random_state=12,\n",
    "                        )"
   ]
  },
  {
   "cell_type": "code",
   "execution_count": 24,
   "id": "alternate-christian",
   "metadata": {},
   "outputs": [
    {
     "data": {
      "text/plain": [
       "(50000, 2)"
      ]
     },
     "execution_count": 24,
     "metadata": {},
     "output_type": "execute_result"
    }
   ],
   "source": [
    "df.shape"
   ]
  },
  {
   "cell_type": "code",
   "execution_count": 25,
   "id": "authentic-behavior",
   "metadata": {},
   "outputs": [
    {
     "data": {
      "text/plain": [
       "1    42229\n",
       "0     7771\n",
       "Name: Y, dtype: int64"
      ]
     },
     "execution_count": 25,
     "metadata": {},
     "output_type": "execute_result"
    }
   ],
   "source": [
    "df.Y.value_counts()"
   ]
  },
  {
   "cell_type": "markdown",
   "id": "incident-little",
   "metadata": {},
   "source": [
    "# Processing the text"
   ]
  },
  {
   "cell_type": "markdown",
   "id": "virtual-limitation",
   "metadata": {},
   "source": [
    "### Tokenize text"
   ]
  },
  {
   "cell_type": "code",
   "execution_count": 26,
   "id": "noted-significance",
   "metadata": {},
   "outputs": [],
   "source": [
    "df['tokenized'] = df.text.apply(word_tokenize)\n",
    "\n"
   ]
  },
  {
   "cell_type": "code",
   "execution_count": 27,
   "id": "crucial-creation",
   "metadata": {},
   "outputs": [
    {
     "data": {
      "text/html": [
       "<div>\n",
       "<style scoped>\n",
       "    .dataframe tbody tr th:only-of-type {\n",
       "        vertical-align: middle;\n",
       "    }\n",
       "\n",
       "    .dataframe tbody tr th {\n",
       "        vertical-align: top;\n",
       "    }\n",
       "\n",
       "    .dataframe thead th {\n",
       "        text-align: right;\n",
       "    }\n",
       "</style>\n",
       "<table border=\"1\" class=\"dataframe\">\n",
       "  <thead>\n",
       "    <tr style=\"text-align: right;\">\n",
       "      <th></th>\n",
       "      <th>text</th>\n",
       "      <th>Y</th>\n",
       "      <th>tokenized</th>\n",
       "    </tr>\n",
       "  </thead>\n",
       "  <tbody>\n",
       "    <tr>\n",
       "      <th>33425</th>\n",
       "      <td>if you like low carb brownies these are top no...</td>\n",
       "      <td>1</td>\n",
       "      <td>[if, you, like, low, carb, brownies, these, ar...</td>\n",
       "    </tr>\n",
       "    <tr>\n",
       "      <th>174759</th>\n",
       "      <td>we used to feed our dogs this until we read th...</td>\n",
       "      <td>0</td>\n",
       "      <td>[we, used, to, feed, our, dogs, this, until, w...</td>\n",
       "    </tr>\n",
       "  </tbody>\n",
       "</table>\n",
       "</div>"
      ],
      "text/plain": [
       "                                                     text  Y  \\\n",
       "33425   if you like low carb brownies these are top no...  1   \n",
       "174759  we used to feed our dogs this until we read th...  0   \n",
       "\n",
       "                                                tokenized  \n",
       "33425   [if, you, like, low, carb, brownies, these, ar...  \n",
       "174759  [we, used, to, feed, our, dogs, this, until, w...  "
      ]
     },
     "execution_count": 27,
     "metadata": {},
     "output_type": "execute_result"
    }
   ],
   "source": [
    "df.head(2)"
   ]
  },
  {
   "cell_type": "markdown",
   "id": "vietnamese-cancellation",
   "metadata": {},
   "source": [
    "### Remove Stop Words\n"
   ]
  },
  {
   "cell_type": "code",
   "execution_count": 28,
   "id": "intensive-berkeley",
   "metadata": {},
   "outputs": [],
   "source": [
    "df['nostops'] = df.tokenized.apply(lambda  x: [item for item in x if item not in stopwords])"
   ]
  },
  {
   "cell_type": "code",
   "execution_count": 29,
   "id": "healthy-introduction",
   "metadata": {},
   "outputs": [
    {
     "data": {
      "text/html": [
       "<div>\n",
       "<style scoped>\n",
       "    .dataframe tbody tr th:only-of-type {\n",
       "        vertical-align: middle;\n",
       "    }\n",
       "\n",
       "    .dataframe tbody tr th {\n",
       "        vertical-align: top;\n",
       "    }\n",
       "\n",
       "    .dataframe thead th {\n",
       "        text-align: right;\n",
       "    }\n",
       "</style>\n",
       "<table border=\"1\" class=\"dataframe\">\n",
       "  <thead>\n",
       "    <tr style=\"text-align: right;\">\n",
       "      <th></th>\n",
       "      <th>text</th>\n",
       "      <th>Y</th>\n",
       "      <th>tokenized</th>\n",
       "      <th>nostops</th>\n",
       "    </tr>\n",
       "  </thead>\n",
       "  <tbody>\n",
       "    <tr>\n",
       "      <th>33425</th>\n",
       "      <td>if you like low carb brownies these are top no...</td>\n",
       "      <td>1</td>\n",
       "      <td>[if, you, like, low, carb, brownies, these, ar...</td>\n",
       "      <td>[like, low, carb, brownies, top, notch, severa...</td>\n",
       "    </tr>\n",
       "    <tr>\n",
       "      <th>174759</th>\n",
       "      <td>we used to feed our dogs this until we read th...</td>\n",
       "      <td>0</td>\n",
       "      <td>[we, used, to, feed, our, dogs, this, until, w...</td>\n",
       "      <td>[used, feed, dogs, read, ingredients, despite,...</td>\n",
       "    </tr>\n",
       "  </tbody>\n",
       "</table>\n",
       "</div>"
      ],
      "text/plain": [
       "                                                     text  Y  \\\n",
       "33425   if you like low carb brownies these are top no...  1   \n",
       "174759  we used to feed our dogs this until we read th...  0   \n",
       "\n",
       "                                                tokenized  \\\n",
       "33425   [if, you, like, low, carb, brownies, these, ar...   \n",
       "174759  [we, used, to, feed, our, dogs, this, until, w...   \n",
       "\n",
       "                                                  nostops  \n",
       "33425   [like, low, carb, brownies, top, notch, severa...  \n",
       "174759  [used, feed, dogs, read, ingredients, despite,...  "
      ]
     },
     "execution_count": 29,
     "metadata": {},
     "output_type": "execute_result"
    }
   ],
   "source": [
    "df.head(2)"
   ]
  },
  {
   "cell_type": "markdown",
   "id": "lesser-prospect",
   "metadata": {},
   "source": [
    "### Stemming \n",
    "Might do lemmatization later, but stemming is simpler and more reliable and we're looking to get something working before we refine it. Lemmatization is a step we can experiment with in our refinement stages\n",
    "\n",
    "We chose snowball because it's an older, and stable stemmer that incorporates improvements from the older stemmer algorithm Porter's real world experience\n",
    "Snowball docs: https://www.nltk.org/api/nltk.stem.snowball.html\n",
    "Article that informed our decision to choose Snowball: https://towardsdatascience.com/stemming-lemmatization-what-ba782b7c0bd8\n"
   ]
  },
  {
   "cell_type": "markdown",
   "id": "portable-victory",
   "metadata": {},
   "source": [
    "It looks as if stemming can increase recall, even in short texts but can also cause problems. We're going to move forward with stemmed words for now, but again can return to this if we seek optimization tasks down the line\n",
    "Source: https://stackoverflow.com/questions/47219389/compute-word-n-grams-on-original-text-or-after-lemma-stemming-process#:~:text=Computing%20word%20n%2Dgrams%20after,you%20want%20to%20do%20it."
   ]
  },
  {
   "cell_type": "code",
   "execution_count": 30,
   "id": "terminal-copying",
   "metadata": {},
   "outputs": [],
   "source": [
    "stemmer = SnowballStemmer(\"english\")\n",
    "df['stemmed'] = df.nostops.apply(lambda x: [stemmer.stem(item) for item in x])"
   ]
  },
  {
   "cell_type": "code",
   "execution_count": 31,
   "id": "alive-twelve",
   "metadata": {},
   "outputs": [
    {
     "data": {
      "text/html": [
       "<div>\n",
       "<style scoped>\n",
       "    .dataframe tbody tr th:only-of-type {\n",
       "        vertical-align: middle;\n",
       "    }\n",
       "\n",
       "    .dataframe tbody tr th {\n",
       "        vertical-align: top;\n",
       "    }\n",
       "\n",
       "    .dataframe thead th {\n",
       "        text-align: right;\n",
       "    }\n",
       "</style>\n",
       "<table border=\"1\" class=\"dataframe\">\n",
       "  <thead>\n",
       "    <tr style=\"text-align: right;\">\n",
       "      <th></th>\n",
       "      <th>text</th>\n",
       "      <th>Y</th>\n",
       "      <th>tokenized</th>\n",
       "      <th>nostops</th>\n",
       "      <th>stemmed</th>\n",
       "    </tr>\n",
       "  </thead>\n",
       "  <tbody>\n",
       "    <tr>\n",
       "      <th>33425</th>\n",
       "      <td>if you like low carb brownies these are top no...</td>\n",
       "      <td>1</td>\n",
       "      <td>[if, you, like, low, carb, brownies, these, ar...</td>\n",
       "      <td>[like, low, carb, brownies, top, notch, severa...</td>\n",
       "      <td>[like, low, carb, browni, top, notch, sever, b...</td>\n",
       "    </tr>\n",
       "  </tbody>\n",
       "</table>\n",
       "</div>"
      ],
      "text/plain": [
       "                                                    text  Y  \\\n",
       "33425  if you like low carb brownies these are top no...  1   \n",
       "\n",
       "                                               tokenized  \\\n",
       "33425  [if, you, like, low, carb, brownies, these, ar...   \n",
       "\n",
       "                                                 nostops  \\\n",
       "33425  [like, low, carb, brownies, top, notch, severa...   \n",
       "\n",
       "                                                 stemmed  \n",
       "33425  [like, low, carb, browni, top, notch, sever, b...  "
      ]
     },
     "execution_count": 31,
     "metadata": {},
     "output_type": "execute_result"
    }
   ],
   "source": [
    "df.head(1)"
   ]
  },
  {
   "cell_type": "code",
   "execution_count": 32,
   "id": "physical-milton",
   "metadata": {},
   "outputs": [
    {
     "data": {
      "text/plain": [
       "33425     [like, low, carb, browni, top, notch, sever, b...\n",
       "174759    [use, feed, dog, read, ingredi, despit, promot...\n",
       "Name: stemmed, dtype: object"
      ]
     },
     "execution_count": 32,
     "metadata": {},
     "output_type": "execute_result"
    }
   ],
   "source": [
    "df.stemmed.head(2)"
   ]
  },
  {
   "cell_type": "markdown",
   "id": "legal-shoulder",
   "metadata": {},
   "source": [
    "# Vectorizing the corpus\n",
    "#Creating a df for each degree of n-gram vector, for easy organization\n",
    "https://scikit-learn.org/stable/modules/generated/sklearn.feature_extraction.text.CountVectorizer.html"
   ]
  },
  {
   "cell_type": "markdown",
   "id": "statewide-hindu",
   "metadata": {},
   "source": [
    "### Count vectorizer Paramters to play with"
   ]
  },
  {
   "cell_type": "markdown",
   "id": "stone-discrimination",
   "metadata": {},
   "source": [
    "max_dffloat in range [0.0, 1.0] or int, default=1.0\n",
    "When building the vocabulary ignore terms that have a document frequency strictly higher than the given threshold (corpus-specific stop words). If float, the parameter represents a proportion of documents, integer absolute counts. This parameter is ignored if vocabulary is not None.\n",
    "\n",
    "min_dffloat in range [0.0, 1.0] or int, default=1\n",
    "When building the vocabulary ignore terms that have a document frequency strictly lower than the given threshold. This value is also called cut-off in the literature. If float, the parameter represents a proportion of documents, integer absolute counts. This parameter is ignored if vocabulary is not None."
   ]
  },
  {
   "cell_type": "markdown",
   "id": "mature-cosmetic",
   "metadata": {},
   "source": [
    "max_featuresint, default=None\n",
    "If not None, build a vocabulary that only consider the top max_features ordered by term frequency across the corpus.\n",
    "\n",
    "This parameter is ignored if vocabulary is not None."
   ]
  },
  {
   "cell_type": "code",
   "execution_count": 33,
   "id": "requested-museum",
   "metadata": {},
   "outputs": [],
   "source": [
    "num_feats = 10"
   ]
  },
  {
   "cell_type": "code",
   "execution_count": 34,
   "id": "federal-presentation",
   "metadata": {},
   "outputs": [],
   "source": [
    "Vectorizer_Agent_mono = TfidfVectorizer(preprocessor=None, stop_words=stopwords, max_features=num_feats)"
   ]
  },
  {
   "cell_type": "code",
   "execution_count": 35,
   "id": "objective-cardiff",
   "metadata": {},
   "outputs": [],
   "source": [
    "vectored_no_stops_mono = Vectorizer_Agent_mono.fit_transform(df.text.values) "
   ]
  },
  {
   "cell_type": "code",
   "execution_count": 36,
   "id": "administrative-starter",
   "metadata": {
    "scrolled": true
   },
   "outputs": [
    {
     "data": {
      "text/plain": [
       "(50000, 10)"
      ]
     },
     "execution_count": 36,
     "metadata": {},
     "output_type": "execute_result"
    }
   ],
   "source": [
    "vectored_no_stops_mono.shape"
   ]
  },
  {
   "cell_type": "code",
   "execution_count": 37,
   "id": "recognized-traveler",
   "metadata": {},
   "outputs": [],
   "source": [
    "pickle.dump(vectored_no_stops_mono, open(\"vectored_no_stops_mono_F\" + str(num_feats) + \"_S\" +str(sample_size), 'wb'))"
   ]
  },
  {
   "cell_type": "markdown",
   "id": "electronic-squad",
   "metadata": {},
   "source": [
    "### Bigram Vector"
   ]
  },
  {
   "cell_type": "code",
   "execution_count": 38,
   "id": "parliamentary-courage",
   "metadata": {},
   "outputs": [],
   "source": [
    "Vectorizer_Agent_bi = TfidfVectorizer(preprocessor=None, stop_words=stopwords, ngram_range=(1,2), max_features=num_feats)"
   ]
  },
  {
   "cell_type": "code",
   "execution_count": 39,
   "id": "peaceful-wallet",
   "metadata": {},
   "outputs": [],
   "source": [
    "vectored_no_stops_bi = Vectorizer_Agent_bi.fit_transform(df.text.values) "
   ]
  },
  {
   "cell_type": "code",
   "execution_count": 40,
   "id": "medieval-bryan",
   "metadata": {
    "scrolled": false
   },
   "outputs": [
    {
     "data": {
      "text/plain": [
       "(50000, 10)"
      ]
     },
     "execution_count": 40,
     "metadata": {},
     "output_type": "execute_result"
    }
   ],
   "source": [
    "vectored_no_stops_bi.shape"
   ]
  },
  {
   "cell_type": "code",
   "execution_count": 41,
   "id": "settled-picture",
   "metadata": {},
   "outputs": [],
   "source": [
    "pickle.dump(vectored_no_stops_bi, open(\"vectored_no_stops_bi_F\" + str(num_feats) + \"_S\" +str(sample_size), 'wb'))"
   ]
  },
  {
   "cell_type": "markdown",
   "id": "biblical-triple",
   "metadata": {},
   "source": [
    "### Trigram Vector"
   ]
  },
  {
   "cell_type": "code",
   "execution_count": 42,
   "id": "scientific-fantasy",
   "metadata": {},
   "outputs": [],
   "source": [
    "Vectorizer_Agent_tri = TfidfVectorizer(preprocessor=None, stop_words=stopwords, ngram_range=(1,3), max_features=num_feats)"
   ]
  },
  {
   "cell_type": "code",
   "execution_count": 43,
   "id": "recent-shelf",
   "metadata": {},
   "outputs": [],
   "source": [
    "vectored_no_stops_tri = Vectorizer_Agent_tri.fit_transform(df.text.values) "
   ]
  },
  {
   "cell_type": "code",
   "execution_count": 44,
   "id": "dynamic-record",
   "metadata": {},
   "outputs": [
    {
     "data": {
      "text/plain": [
       "(50000, 10)"
      ]
     },
     "execution_count": 44,
     "metadata": {},
     "output_type": "execute_result"
    }
   ],
   "source": [
    "vectored_no_stops_tri.shape"
   ]
  },
  {
   "cell_type": "code",
   "execution_count": 45,
   "id": "coral-duncan",
   "metadata": {
    "scrolled": false
   },
   "outputs": [],
   "source": [
    "pickle.dump(vectored_no_stops_tri, open(\"vectored_no_stops_tri_F\" + str(num_feats) + \"_S\" +str(sample_size), 'wb'))"
   ]
  },
  {
   "cell_type": "markdown",
   "id": "behavioral-trinidad",
   "metadata": {},
   "source": [
    "# Word Clouds/bar charts\n",
    "### divided by sentiment lables"
   ]
  },
  {
   "cell_type": "markdown",
   "id": "returning-mercury",
   "metadata": {},
   "source": [
    "Make giant strings for each set of words. Total, negative sentiment, and positive sentiment"
   ]
  },
  {
   "cell_type": "code",
   "execution_count": 46,
   "id": "several-messenger",
   "metadata": {},
   "outputs": [
    {
     "name": "stdout",
     "output_type": "stream",
     "text": [
      "0.07901763916015625\n"
     ]
    }
   ],
   "source": [
    "start = time.time()\n",
    "nostops_text_no_mods = \" \".join(\" \".join(listo) for listo in df.nostops)\n",
    "stop = time.time()\n",
    "print(str(stop-start))"
   ]
  },
  {
   "cell_type": "code",
   "execution_count": 47,
   "id": "outside-involvement",
   "metadata": {},
   "outputs": [],
   "source": [
    "nostops_text_pos = \" \".join(\" \".join(listo) for listo in df.nostops[df['Y'] == 1])"
   ]
  },
  {
   "cell_type": "code",
   "execution_count": 48,
   "id": "proved-kingdom",
   "metadata": {},
   "outputs": [],
   "source": [
    "nostops_text_neg = \" \".join(\" \".join(listo) for listo in df.nostops[df['Y'] == 0])"
   ]
  },
  {
   "cell_type": "code",
   "execution_count": 49,
   "id": "metallic-motor",
   "metadata": {},
   "outputs": [],
   "source": [
    "def word_cloud_preprocessing(text):\n",
    "    #I just love knowing how long my functions take to execute\n",
    "    start = time.time()\n",
    "    total_text_word_count = Counter(word_tokenize(text))\n",
    "#     for stop in stopwords:\n",
    "#         if stop in total_text_word_count.keys():\n",
    "#             del total_text_word_count[stop]\n",
    "    count_dict = dict(total_text_word_count, index=(len(total_text_word_count)))\n",
    "    series_for_heads = pd.Series(count_dict)\n",
    "    x = series_for_heads.sort_values(ascending=False).head(15).index\n",
    "    y = series_for_heads.sort_values(ascending=False).head(15)\n",
    "    stop = time.time()\n",
    "    print(str(stop-start))\n",
    "    #build the actual wordcloud boject\n",
    "    total_wordcloud = WordCloud(max_font_size=50, max_words=25, background_color=\"black\",\n",
    "                               width=400,\n",
    "                                height=400,\n",
    "                                relative_scaling=1,\n",
    "                                colormap='winter',\n",
    "                                collocations=False,\n",
    "                                stopwords=stopwords,\n",
    "                                scale=2\n",
    "                            \n",
    "                               ).generate(text)\n",
    "    stop = time.time()\n",
    "    print(str(stop-start))\n",
    "    return x, y, total_wordcloud"
   ]
  },
  {
   "cell_type": "code",
   "execution_count": 50,
   "id": "polyphonic-asian",
   "metadata": {},
   "outputs": [],
   "source": [
    "def word_cloud(x, y, wordcloud):\n",
    "    # Display the generated image:\n",
    "    fig, axes = plt.subplots(1, 2, figsize=(15,5))\n",
    "    #testing setting figsize on subfigure directly, rather than at this higher level\n",
    "    #sns.set(rc = {'figure.figsize':(40,5)})\n",
    "    \n",
    "    axes[0].set_title('Top Word counts')\n",
    "    sns.barplot(x, y, ax=axes[0], palette=\"winter\")\n",
    "    axes[0].tick_params(axis='x', rotation=45)\n",
    "    \n",
    "    axes[1].imshow(wordcloud, interpolation='bilinear')\n",
    "    axes[1].axis(\"off\")\n",
    "    axes[1].set_title('Word Cloud')\n",
    "    plt.show()"
   ]
  },
  {
   "cell_type": "code",
   "execution_count": 51,
   "id": "conservative-county",
   "metadata": {},
   "outputs": [],
   "source": [
    "def bar_and_cloud_generator(text):\n",
    "    bar_x, bar_y, cloud_object = word_cloud_preprocessing(text)\n",
    "    word_cloud(bar_x, bar_y, cloud_object)"
   ]
  },
  {
   "cell_type": "markdown",
   "id": "sacred-flour",
   "metadata": {},
   "source": [
    "## All words"
   ]
  },
  {
   "cell_type": "code",
   "execution_count": 52,
   "id": "agreed-hawaiian",
   "metadata": {
    "scrolled": false
   },
   "outputs": [
    {
     "name": "stdout",
     "output_type": "stream",
     "text": [
      "7.230435132980347\n",
      "9.61798644065857\n"
     ]
    },
    {
     "data": {
      "image/png": "[encoded data removed]",
      "text/plain": [
       "<Figure size 1080x360 with 2 Axes>"
      ]
     },
     "metadata": {
      "needs_background": "light"
     },
     "output_type": "display_data"
    }
   ],
   "source": [
    "bar_and_cloud_generator(nostops_text_no_mods)"
   ]
  },
  {
   "cell_type": "markdown",
   "id": "korean-fortune",
   "metadata": {},
   "source": [
    "# Words from sentances labeled positive"
   ]
  },
  {
   "cell_type": "markdown",
   "id": "north-sherman",
   "metadata": {},
   "source": [
    "All the way to product this is consistent to the total word count"
   ]
  },
  {
   "cell_type": "code",
   "execution_count": 53,
   "id": "loaded-oregon",
   "metadata": {},
   "outputs": [
    {
     "name": "stdout",
     "output_type": "stream",
     "text": [
      "6.04904842376709\n",
      "8.055942058563232\n"
     ]
    },
    {
     "data": {
      "image/png": "[encoded data removed]",
      "text/plain": [
       "<Figure size 1080x360 with 2 Axes>"
      ]
     },
     "metadata": {
      "needs_background": "light"
     },
     "output_type": "display_data"
    }
   ],
   "source": [
    "bar_and_cloud_generator(nostops_text_pos)"
   ]
  },
  {
   "cell_type": "markdown",
   "id": "valuable-parade",
   "metadata": {},
   "source": [
    "# Words from sentances labeled negative"
   ]
  },
  {
   "cell_type": "code",
   "execution_count": 54,
   "id": "sound-valve",
   "metadata": {
    "scrolled": false
   },
   "outputs": [
    {
     "name": "stdout",
     "output_type": "stream",
     "text": [
      "1.238447904586792\n",
      "1.692427158355713\n"
     ]
    },
    {
     "data": {
      "image/png": "[encoded data removed]",
      "text/plain": [
       "<Figure size 1080x360 with 2 Axes>"
      ]
     },
     "metadata": {
      "needs_background": "light"
     },
     "output_type": "display_data"
    }
   ],
   "source": [
    "bar_and_cloud_generator(nostops_text_neg)"
   ]
  },
  {
   "cell_type": "markdown",
   "id": "thrown-banks",
   "metadata": {},
   "source": [
    "We can see there's considerable overlap between all three ways of organizing our corpus."
   ]
  },
  {
   "cell_type": "markdown",
   "id": "auburn-council",
   "metadata": {},
   "source": [
    "# Clustering and Secondary EDA/Feature Engineering"
   ]
  },
  {
   "cell_type": "markdown",
   "id": "general-river",
   "metadata": {},
   "source": [
    "We played briefly with using DBSCAN, but it didn't converge at all, it gave us 360k categories"
   ]
  },
  {
   "cell_type": "markdown",
   "id": "fancy-victorian",
   "metadata": {},
   "source": [
    "Thinking that instead of conventional clustering we're going to play with latent dirichlet allocation because it'll do a similar thing as K-means, but also provide us with a lot more information about the composition of those clusters.\n",
    "Original Paper: https://ai.stanford.edu/~ang/papers/nips01-lda.pdf\n",
    "Tutorial we used to help us get going: https://towardsdatascience.com/end-to-end-topic-modeling-in-python-latent-dirichlet-allocation-lda-35ce4ed6b3e0\n",
    "Docs for the gensim module we're sdoing the lda with: https://radimrehurek.com/gensim/models/ldamodel.html"
   ]
  },
  {
   "cell_type": "code",
   "execution_count": 55,
   "id": "european-grove",
   "metadata": {},
   "outputs": [],
   "source": [
    "stemmed_texts = list(df.stemmed)"
   ]
  },
  {
   "cell_type": "code",
   "execution_count": 56,
   "id": "nuclear-department",
   "metadata": {},
   "outputs": [],
   "source": [
    "#makes a dictionary mapping to unique IDs\n",
    "id2word = Dictionary(stemmed_texts)\n"
   ]
  },
  {
   "cell_type": "code",
   "execution_count": 57,
   "id": "insured-victory",
   "metadata": {},
   "outputs": [],
   "source": [
    "#makes a bag of words version of the Gensim Dictionary\n",
    "corpus = [id2word.doc2bow(text) for text in stemmed_texts]\n"
   ]
  },
  {
   "cell_type": "code",
   "execution_count": 58,
   "id": "persistent-butter",
   "metadata": {
    "scrolled": true
   },
   "outputs": [],
   "source": [
    "# # Train the model on the corpus.\n",
    "num_topics = 10\n",
    "lda = LdaModel(corpus,  id2word=id2word, num_topics=num_topics)"
   ]
  },
  {
   "cell_type": "markdown",
   "id": "editorial-termination",
   "metadata": {},
   "source": [
    "# Feature Engineering with LDA"
   ]
  },
  {
   "cell_type": "markdown",
   "id": "lesbian-height",
   "metadata": {},
   "source": [
    "## Topic Vectors"
   ]
  },
  {
   "cell_type": "markdown",
   "id": "demanding-hungarian",
   "metadata": {},
   "source": [
    "Documentation we're going to need to use to get at document relationships to topics: https://radimrehurek.com/gensim/models/ldamodel.html"
   ]
  },
  {
   "cell_type": "markdown",
   "id": "constitutional-taste",
   "metadata": {},
   "source": [
    "Relevant stack overflow\n",
    "https://stackoverflow.com/questions/43357247/get-document-topics-and-get-term-topics-in-gensim"
   ]
  },
  {
   "cell_type": "code",
   "execution_count": 59,
   "id": "spare-rebound",
   "metadata": {},
   "outputs": [],
   "source": [
    "import gensim"
   ]
  },
  {
   "cell_type": "code",
   "execution_count": 60,
   "id": "industrial-sapphire",
   "metadata": {},
   "outputs": [],
   "source": [
    "#Stole the below code from\n",
    "#https://stackoverflow.com/questions/46574720/python-gensim-lda-add-the-topic-to-the-document-after-getting-the-topics\n",
    "all_topics = lda.get_document_topics(corpus, minimum_probability=0.0)\n",
    "all_topics_csr = gensim.matutils.corpus2csc(all_topics)\n",
    "all_topics_numpy = all_topics_csr.T.toarray()\n",
    "all_topics_df = pd.DataFrame(all_topics_numpy)"
   ]
  },
  {
   "cell_type": "code",
   "execution_count": 61,
   "id": "tamil-projector",
   "metadata": {},
   "outputs": [],
   "source": [
    "#This is a feature of designing our code with downsampled data. Just need the index's to be consistent.\n",
    "all_topics_df.index = df.index"
   ]
  },
  {
   "cell_type": "code",
   "execution_count": 62,
   "id": "industrial-township",
   "metadata": {},
   "outputs": [],
   "source": [
    "#Let's rename the topic columns so that we can identify them later on\n",
    "for each in all_topics_df.columns:\n",
    "    all_topics_df['topic_' + str(each)] = all_topics_df[each]\n",
    "    all_topics_df.drop(columns=[each], inplace=True)"
   ]
  },
  {
   "cell_type": "code",
   "execution_count": 63,
   "id": "expanded-justice",
   "metadata": {},
   "outputs": [
    {
     "data": {
      "text/html": [
       "<div>\n",
       "<style scoped>\n",
       "    .dataframe tbody tr th:only-of-type {\n",
       "        vertical-align: middle;\n",
       "    }\n",
       "\n",
       "    .dataframe tbody tr th {\n",
       "        vertical-align: top;\n",
       "    }\n",
       "\n",
       "    .dataframe thead th {\n",
       "        text-align: right;\n",
       "    }\n",
       "</style>\n",
       "<table border=\"1\" class=\"dataframe\">\n",
       "  <thead>\n",
       "    <tr style=\"text-align: right;\">\n",
       "      <th></th>\n",
       "      <th>topic_0</th>\n",
       "      <th>topic_1</th>\n",
       "      <th>topic_2</th>\n",
       "      <th>topic_3</th>\n",
       "      <th>topic_4</th>\n",
       "      <th>topic_5</th>\n",
       "      <th>topic_6</th>\n",
       "      <th>topic_7</th>\n",
       "      <th>topic_8</th>\n",
       "      <th>topic_9</th>\n",
       "    </tr>\n",
       "  </thead>\n",
       "  <tbody>\n",
       "    <tr>\n",
       "      <th>33425</th>\n",
       "      <td>0.053927</td>\n",
       "      <td>0.714812</td>\n",
       "      <td>0.003228</td>\n",
       "      <td>0.003228</td>\n",
       "      <td>0.003228</td>\n",
       "      <td>0.137178</td>\n",
       "      <td>0.003228</td>\n",
       "      <td>0.003227</td>\n",
       "      <td>0.003228</td>\n",
       "      <td>0.074716</td>\n",
       "    </tr>\n",
       "    <tr>\n",
       "      <th>174759</th>\n",
       "      <td>0.053561</td>\n",
       "      <td>0.003706</td>\n",
       "      <td>0.003706</td>\n",
       "      <td>0.003707</td>\n",
       "      <td>0.916789</td>\n",
       "      <td>0.003706</td>\n",
       "      <td>0.003706</td>\n",
       "      <td>0.003707</td>\n",
       "      <td>0.003706</td>\n",
       "      <td>0.003706</td>\n",
       "    </tr>\n",
       "    <tr>\n",
       "      <th>111229</th>\n",
       "      <td>0.004001</td>\n",
       "      <td>0.004001</td>\n",
       "      <td>0.004001</td>\n",
       "      <td>0.004001</td>\n",
       "      <td>0.122060</td>\n",
       "      <td>0.004001</td>\n",
       "      <td>0.004002</td>\n",
       "      <td>0.004002</td>\n",
       "      <td>0.004001</td>\n",
       "      <td>0.845930</td>\n",
       "    </tr>\n",
       "    <tr>\n",
       "      <th>209101</th>\n",
       "      <td>0.004764</td>\n",
       "      <td>0.672028</td>\n",
       "      <td>0.004763</td>\n",
       "      <td>0.004764</td>\n",
       "      <td>0.004763</td>\n",
       "      <td>0.004764</td>\n",
       "      <td>0.289864</td>\n",
       "      <td>0.004764</td>\n",
       "      <td>0.004763</td>\n",
       "      <td>0.004764</td>\n",
       "    </tr>\n",
       "    <tr>\n",
       "      <th>109643</th>\n",
       "      <td>0.106547</td>\n",
       "      <td>0.195405</td>\n",
       "      <td>0.009100</td>\n",
       "      <td>0.009101</td>\n",
       "      <td>0.009101</td>\n",
       "      <td>0.634342</td>\n",
       "      <td>0.009100</td>\n",
       "      <td>0.009102</td>\n",
       "      <td>0.009101</td>\n",
       "      <td>0.009101</td>\n",
       "    </tr>\n",
       "    <tr>\n",
       "      <th>...</th>\n",
       "      <td>...</td>\n",
       "      <td>...</td>\n",
       "      <td>...</td>\n",
       "      <td>...</td>\n",
       "      <td>...</td>\n",
       "      <td>...</td>\n",
       "      <td>...</td>\n",
       "      <td>...</td>\n",
       "      <td>...</td>\n",
       "      <td>...</td>\n",
       "    </tr>\n",
       "    <tr>\n",
       "      <th>59447</th>\n",
       "      <td>0.001112</td>\n",
       "      <td>0.091410</td>\n",
       "      <td>0.072106</td>\n",
       "      <td>0.233975</td>\n",
       "      <td>0.046169</td>\n",
       "      <td>0.081439</td>\n",
       "      <td>0.001112</td>\n",
       "      <td>0.378253</td>\n",
       "      <td>0.001112</td>\n",
       "      <td>0.093312</td>\n",
       "    </tr>\n",
       "    <tr>\n",
       "      <th>97003</th>\n",
       "      <td>0.250222</td>\n",
       "      <td>0.136514</td>\n",
       "      <td>0.004349</td>\n",
       "      <td>0.004350</td>\n",
       "      <td>0.004348</td>\n",
       "      <td>0.004349</td>\n",
       "      <td>0.004349</td>\n",
       "      <td>0.582820</td>\n",
       "      <td>0.004349</td>\n",
       "      <td>0.004349</td>\n",
       "    </tr>\n",
       "    <tr>\n",
       "      <th>64465</th>\n",
       "      <td>0.002129</td>\n",
       "      <td>0.112741</td>\n",
       "      <td>0.127986</td>\n",
       "      <td>0.636653</td>\n",
       "      <td>0.002129</td>\n",
       "      <td>0.002129</td>\n",
       "      <td>0.002129</td>\n",
       "      <td>0.002129</td>\n",
       "      <td>0.002129</td>\n",
       "      <td>0.109847</td>\n",
       "    </tr>\n",
       "    <tr>\n",
       "      <th>91943</th>\n",
       "      <td>0.000273</td>\n",
       "      <td>0.012793</td>\n",
       "      <td>0.437828</td>\n",
       "      <td>0.205546</td>\n",
       "      <td>0.036763</td>\n",
       "      <td>0.075443</td>\n",
       "      <td>0.102292</td>\n",
       "      <td>0.043050</td>\n",
       "      <td>0.000273</td>\n",
       "      <td>0.085741</td>\n",
       "    </tr>\n",
       "    <tr>\n",
       "      <th>141385</th>\n",
       "      <td>0.003704</td>\n",
       "      <td>0.003705</td>\n",
       "      <td>0.003704</td>\n",
       "      <td>0.003705</td>\n",
       "      <td>0.003704</td>\n",
       "      <td>0.003705</td>\n",
       "      <td>0.003705</td>\n",
       "      <td>0.695120</td>\n",
       "      <td>0.275243</td>\n",
       "      <td>0.003705</td>\n",
       "    </tr>\n",
       "  </tbody>\n",
       "</table>\n",
       "<p>50000 rows × 10 columns</p>\n",
       "</div>"
      ],
      "text/plain": [
       "         topic_0   topic_1   topic_2   topic_3   topic_4   topic_5   topic_6  \\\n",
       "33425   0.053927  0.714812  0.003228  0.003228  0.003228  0.137178  0.003228   \n",
       "174759  0.053561  0.003706  0.003706  0.003707  0.916789  0.003706  0.003706   \n",
       "111229  0.004001  0.004001  0.004001  0.004001  0.122060  0.004001  0.004002   \n",
       "209101  0.004764  0.672028  0.004763  0.004764  0.004763  0.004764  0.289864   \n",
       "109643  0.106547  0.195405  0.009100  0.009101  0.009101  0.634342  0.009100   \n",
       "...          ...       ...       ...       ...       ...       ...       ...   \n",
       "59447   0.001112  0.091410  0.072106  0.233975  0.046169  0.081439  0.001112   \n",
       "97003   0.250222  0.136514  0.004349  0.004350  0.004348  0.004349  0.004349   \n",
       "64465   0.002129  0.112741  0.127986  0.636653  0.002129  0.002129  0.002129   \n",
       "91943   0.000273  0.012793  0.437828  0.205546  0.036763  0.075443  0.102292   \n",
       "141385  0.003704  0.003705  0.003704  0.003705  0.003704  0.003705  0.003705   \n",
       "\n",
       "         topic_7   topic_8   topic_9  \n",
       "33425   0.003227  0.003228  0.074716  \n",
       "174759  0.003707  0.003706  0.003706  \n",
       "111229  0.004002  0.004001  0.845930  \n",
       "209101  0.004764  0.004763  0.004764  \n",
       "109643  0.009102  0.009101  0.009101  \n",
       "...          ...       ...       ...  \n",
       "59447   0.378253  0.001112  0.093312  \n",
       "97003   0.582820  0.004349  0.004349  \n",
       "64465   0.002129  0.002129  0.109847  \n",
       "91943   0.043050  0.000273  0.085741  \n",
       "141385  0.695120  0.275243  0.003705  \n",
       "\n",
       "[50000 rows x 10 columns]"
      ]
     },
     "execution_count": 63,
     "metadata": {},
     "output_type": "execute_result"
    }
   ],
   "source": [
    "all_topics_df"
   ]
  },
  {
   "cell_type": "code",
   "execution_count": 64,
   "id": "accepted-victory",
   "metadata": {},
   "outputs": [],
   "source": [
    "import scipy"
   ]
  },
  {
   "cell_type": "code",
   "execution_count": 65,
   "id": "minor-feelings",
   "metadata": {},
   "outputs": [],
   "source": [
    "all_topics_df = scipy.sparse.csr_matrix(all_topics_df.values)\n"
   ]
  },
  {
   "cell_type": "code",
   "execution_count": 66,
   "id": "arabic-queue",
   "metadata": {
    "scrolled": true
   },
   "outputs": [],
   "source": [
    "pickle.dump(all_topics_df, open('all_topics_df_S' +str(sample_size), 'wb'))"
   ]
  },
  {
   "cell_type": "markdown",
   "id": "governmental-ghost",
   "metadata": {},
   "source": [
    "## Visualizing the LDA"
   ]
  },
  {
   "cell_type": "code",
   "execution_count": 67,
   "id": "complex-space",
   "metadata": {},
   "outputs": [],
   "source": [
    "#Tools for lDA visualization\n",
    "\n",
    "#Normally I like to my imports at the top of a ntoebook, but these imports make the\n",
    "#notebook spam an annoying warning that I can only fix by downgrading some stuff, which I am disinclined to do.\n",
    "import pyLDAvis.gensim_models \n",
    "import pyLDAvis"
   ]
  },
  {
   "cell_type": "code",
   "execution_count": 68,
   "id": "premium-storage",
   "metadata": {},
   "outputs": [
    {
     "name": "stderr",
     "output_type": "stream",
     "text": [
      "c:\\users\\prathmun\\appdata\\local\\programs\\python\\python39\\lib\\site-packages\\ipykernel\\ipkernel.py:283: DeprecationWarning: `should_run_async` will not call `transform_cell` automatically in the future. Please pass the result to `transformed_cell` argument and any exception that happen during thetransform in `preprocessing_exc_tuple` in IPython 7.17 and above.\n",
      "  and should_run_async(code)\n"
     ]
    },
    {
     "data": {
      "text/html": [
       "\n",
       "<link rel=\"stylesheet\" type=\"text/css\" href=\"https://cdn.jsdelivr.net/gh/bmabey/pyLDAvis@3.3.1/pyLDAvis/js/ldavis.v1.0.0.css\">\n",
       "\n",
       "\n",
       "<div id=\"ldavis_el1210415064038190727928665733\"></div>\n",
       "<script type=\"text/javascript\">\n",
       "\n",
       "var ldavis_el1210415064038190727928665733_data = {\"mdsDat\": {\"x\": [-0.034156451376436275, 0.0012598971495505727, 0.0824620120187359, 0.06089516104337912, 0.07021586481338238, 0.1062415445624073, 0.054929210813309905, -0.21078322523359366, 0.15614604573068747, -0.28721005952142276], \"y\": [0.1025384478540782, 0.1538287679776439, 0.05067433336419484, 0.009962643300834791, -0.03819452792584928, -0.016196541273614567, -0.11216503167125079, 0.11882444834878317, -0.09744916195782771, -0.17182337801699227], \"topics\": [1, 2, 3, 4, 5, 6, 7, 8, 9, 10], \"cluster\": [1, 1, 1, 1, 1, 1, 1, 1, 1, 1], \"Freq\": [18.701455182272742, 12.499609073893854, 12.429817512982023, 12.205238467348439, 11.090820999086533, 8.957325424241471, 8.059191113757516, 6.103187702274905, 5.076460444629921, 4.876894079512568]}, \"tinfo\": {\"Term\": [\"tea\", \"coffe\", \"food\", \"dog\", \"amazon\", \"flavor\", \"chocol\", \"order\", \"product\", \"tast\", \"cup\", \"drink\", \"free\", \"store\", \"cat\", \"use\", \"mix\", \"eat\", \"treat\", \"snack\", \"price\", \"milk\", \"sauc\", \"bar\", \"green\", \"gluten\", \"sugar\", \"ingredi\", \"water\", \"bag\", \"ship\", \"arriv\", \"servic\", \"deliveri\", \"seller\", \"gummi\", \"sent\", \"shipment\", \"expir\", \"bear\", \"charg\", \"prompt\", \"vendor\", \"cola\", \"retail\", \"diamond\", \"scienc\", \"auto\", \"warehous\", \"canada\", \"cancel\", \"manner\", \"florida\", \"sam\", \"crema\", \"wed\", \"ham\", \"taffi\", \"couscous\", \"korean\", \"amazon\", \"gift\", \"order\", \"send\", \"groceri\", \"local\", \"mail\", \"prime\", \"refund\", \"store\", \"receiv\", \"christma\", \"com\", \"onlin\", \"sell\", \"price\", \"subscrib\", \"item\", \"deliv\", \"carri\", \"thank\", \"save\", \"box\", \"purchas\", \"find\", \"buy\", \"pack\", \"deal\", \"bought\", \"packag\", \"product\", \"cheaper\", \"time\", \"avail\", \"great\", \"get\", \"year\", \"love\", \"could\", \"found\", \"would\", \"good\", \"one\", \"bag\", \"toy\", \"puppi\", \"pill\", \"trap\", \"train\", \"litter\", \"chew\", \"kitti\", \"lab\", \"walk\", \"rawhid\", \"dog\", \"kitten\", \"cat\", \"greeni\", \"purina\", \"floor\", \"ear\", \"liver\", \"reward\", \"pup\", \"terrier\", \"breed\", \"dental\", \"up\", \"bulli\", \"finicki\", \"feast\", \"chow\", \"mole\", \"vet\", \"odor\", \"fli\", \"bone\", \"pocket\", \"teeth\", \"treat\", \"pet\", \"wet\", \"breath\", \"play\", \"gum\", \"clean\", \"smell\", \"kibbl\", \"piec\", \"week\", \"give\", \"get\", \"day\", \"one\", \"love\", \"last\", \"two\", \"work\", \"old\", \"would\", \"eat\", \"bag\", \"time\", \"like\", \"small\", \"seem\", \"keep\", \"littl\", \"take\", \"tri\", \"food\", \"even\", \"use\", \"look\", \"realli\", \"first\", \"go\", \"product\", \"snack\", \"cereal\", \"chip\", \"cracker\", \"crunchi\", \"granola\", \"crunch\", \"graham\", \"popcorn\", \"fig\", \"bran\", \"puff\", \"quaker\", \"kashi\", \"oreo\", \"soggi\", \"apricot\", \"newton\", \"theater\", \"hummus\", \"cheerio\", \"shortbread\", \"categori\", \"cluster\", \"kellogg\", \"conscious\", \"metabol\", \"popchip\", \"grandson\", \"larabar\", \"bar\", \"peanut\", \"raisin\", \"cashew\", \"cranberri\", \"cooki\", \"oatmeal\", \"wafer\", \"nut\", \"chewi\", \"crispi\", \"fiber\", \"gram\", \"oat\", \"crisp\", \"kernel\", \"calori\", \"carb\", \"butter\", \"fat\", \"eat\", \"kid\", \"sweet\", \"fruit\", \"textur\", \"breakfast\", \"tast\", \"like\", \"healthi\", \"good\", \"flavor\", \"love\", \"tasti\", \"great\", \"delici\", \"one\", \"realli\", \"tri\", \"would\", \"littl\", \"sugar\", \"chocol\", \"bag\", \"soda\", \"stevia\", \"splenda\", \"crystal\", \"carbon\", \"beer\", \"lipton\", \"pomegran\", \"alcohol\", \"tazo\", \"lemonad\", \"mio\", \"grapefruit\", \"sparkl\", \"coke\", \"hydrat\", \"aspartam\", \"sucralos\", \"squirt\", \"blackberri\", \"margarita\", \"sweetner\", \"cough\", \"quart\", \"unhealthi\", \"watermelon\", \"cocktail\", \"pulp\", \"izz\", \"kool\", \"juic\", \"beverag\", \"sweeten\", \"pineappl\", \"grape\", \"artifici\", \"energi\", \"drink\", \"bottl\", \"concentr\", \"water\", \"syrup\", \"boost\", \"sugar\", \"aftertast\", \"mango\", \"ginger\", \"cherri\", \"lemon\", \"lime\", \"tast\", \"glass\", \"refresh\", \"sweet\", \"flavor\", \"orang\", \"like\", \"packet\", \"tri\", \"feel\", \"would\", \"realli\", \"stuff\", \"one\", \"good\", \"much\", \"use\", \"natur\", \"product\", \"get\", \"think\", \"bad\", \"better\", \"littl\", \"give\", \"make\", \"great\", \"sauc\", \"soup\", \"noodl\", \"dish\", \"salad\", \"garlic\", \"chili\", \"dress\", \"onion\", \"vinegar\", \"oliv\", \"fri\", \"curri\", \"steak\", \"grill\", \"pork\", \"sardin\", \"salsa\", \"gravi\", \"mac\", \"taco\", \"spaghetti\", \"kit\", \"mushroom\", \"marinad\", \"pepper\", \"mexican\", \"ramen\", \"fishi\", \"balsam\", \"mustard\", \"kraft\", \"thai\", \"tomato\", \"cook\", \"spici\", \"tuna\", \"chees\", \"salt\", \"season\", \"heat\", \"pasta\", \"rice\", \"chicken\", \"spice\", \"hot\", \"add\", \"meat\", \"oil\", \"use\", \"make\", \"flavor\", \"like\", \"tast\", \"meal\", \"good\", \"tri\", \"great\", \"one\", \"love\", \"littl\", \"would\", \"realli\", \"coffe\", \"k\", \"starbuck\", \"pod\", \"espresso\", \"keurig\", \"shampoo\", \"creamer\", \"senseo\", \"condition\", \"scalp\", \"brewer\", \"cafe\", \"cappuccino\", \"donut\", \"grinder\", \"kona\", \"illi\", \"timothi\", \"lavazza\", \"overpr\", \"folger\", \"maxwel\", \"jug\", \"kcup\", \"cooker\", \"drawer\", \"vacuum\", \"jet\", \"zico\", \"bold\", \"grind\", \"bay\", \"french\", \"roast\", \"cup\", \"mountain\", \"machin\", \"bean\", \"mocha\", \"decaf\", \"hair\", \"maker\", \"brew\", \"blend\", \"smooth\", \"strong\", \"bitter\", \"hazelnut\", \"dark\", \"ground\", \"vanilla\", \"flavor\", \"rich\", \"like\", \"tast\", \"tri\", \"use\", \"good\", \"one\", \"morn\", \"make\", \"great\", \"brand\", \"would\", \"drink\", \"best\", \"love\", \"get\", \"cake\", \"pancak\", \"cocoa\", \"waffl\", \"muffin\", \"browni\", \"cholesterol\", \"pamela\", \"grass\", \"hershey\", \"cube\", \"hemp\", \"mart\", \"burger\", \"chia\", \"choke\", \"blender\", \"cacao\", \"cupcak\", \"wal\", \"batter\", \"nectar\", \"planter\", \"pud\", \"macaroni\", \"whip\", \"pistachio\", \"kiwi\", \"lactos\", \"notch\", \"milk\", \"jam\", \"chocol\", \"bread\", \"bake\", \"smoothi\", \"coconut\", \"mix\", \"cream\", \"powder\", \"melt\", \"oil\", \"use\", \"recip\", \"yogurt\", \"dark\", \"shake\", \"scoop\", \"make\", \"seed\", \"vanilla\", \"ice\", \"add\", \"egg\", \"white\", \"butter\", \"top\", \"made\", \"great\", \"easi\", \"tast\", \"hot\", \"also\", \"product\", \"best\", \"tri\", \"good\", \"like\", \"well\", \"love\", \"babi\", \"formula\", \"jerki\", \"lick\", \"cancer\", \"canin\", \"paw\", \"beg\", \"core\", \"popper\", \"rancid\", \"intestin\", \"ive\", \"constip\", \"similac\", \"younger\", \"pit\", \"pace\", \"r\", \"prune\", \"habanero\", \"mari\", \"difficulti\", \"anchovi\", \"insulin\", \"ride\", \"infect\", \"sneak\", \"spike\", \"jaw\", \"buffalo\", \"filler\", \"supplement\", \"food\", \"studi\", \"nurs\", \"leg\", \"stool\", \"digest\", \"recal\", \"royal\", \"research\", \"blood\", \"health\", \"feed\", \"gain\", \"weight\", \"allergi\", \"switch\", \"pouch\", \"diet\", \"earth\", \"blue\", \"grain\", \"healthi\", \"protein\", \"high\", \"brand\", \"level\", \"ingredi\", \"nutrit\", \"organ\", \"natur\", \"eat\", \"qualiti\", \"help\", \"month\", \"year\", \"old\", \"product\", \"also\", \"recommend\", \"sinc\", \"can\", \"well\", \"best\", \"love\", \"tea\", \"chai\", \"steep\", \"leaf\", \"matcha\", \"grey\", \"english\", \"earl\", \"herbal\", \"jasmin\", \"stash\", \"rooibo\", \"twine\", \"haribo\", \"teabag\", \"licoric\", \"bigelow\", \"celesti\", \"rabbit\", \"lavend\", \"oolong\", \"chamomil\", \"cardamom\", \"decaffein\", \"numi\", \"hibiscus\", \"yogi\", \"pearl\", \"pg\", \"bergamot\", \"peppermint\", \"green\", \"mint\", \"rose\", \"irish\", \"black\", \"loos\", \"relax\", \"honey\", \"ice\", \"cinnamon\", \"brew\", \"flavor\", \"bag\", \"tin\", \"drink\", \"strong\", \"leav\", \"tast\", \"cup\", \"hot\", \"spice\", \"love\", \"like\", \"enjoy\", \"good\", \"tri\", \"one\", \"make\", \"favorit\", \"great\", \"best\", \"nice\", \"wonder\", \"gluten\", \"plant\", \"broth\", \"crust\", \"pretzel\", \"celiac\", \"gf\", \"bob\", \"bewar\", \"potassium\", \"barley\", \"shrimp\", \"mill\", \"bpa\", \"lentil\", \"bonsai\", \"harvest\", \"basil\", \"dad\", \"soil\", \"safeti\", \"parmesan\", \"rye\", \"cornbread\", \"tree\", \"mixer\", \"thanksgiv\", \"contamin\", \"cramp\", \"pesticid\", \"gmo\", \"flour\", \"starch\", \"pie\", \"wheat\", \"label\", \"china\", \"free\", \"list\", \"quinoa\", \"ingredi\", \"organ\", \"corn\", \"manufactur\", \"inform\", \"grow\", \"product\", \"compani\", \"made\", \"contain\", \"descript\", \"pumpkin\", \"seed\", \"read\", \"grain\", \"red\", \"rice\", \"whole\", \"review\", \"natur\", \"pasta\", \"use\", \"look\", \"packag\"], \"Freq\": [99003.0, 93715.0, 79496.0, 51436.0, 60278.0, 134403.0, 43050.0, 58763.0, 121919.0, 168499.0, 43862.0, 49685.0, 33036.0, 47319.0, 28537.0, 120604.0, 42438.0, 62386.0, 34186.0, 25483.0, 55634.0, 25616.0, 22940.0, 24664.0, 18700.0, 15805.0, 41026.0, 26426.0, 40019.0, 50013.0, 25646.657016275756, 15219.744874748892, 5869.516554745671, 5527.49989703284, 4804.412092117663, 4462.582072223409, 4885.564379552287, 4122.7034844644695, 3914.634474956622, 2774.0640172088088, 2520.107650569933, 2301.71961339384, 2214.9719482017545, 1712.9805326399955, 1631.0199321408516, 1331.0314964391512, 1266.9628808282669, 1175.1116029844347, 1083.3213355708306, 1044.496161146655, 965.0817693415465, 937.2800225651534, 935.9201361406565, 1191.4275351824767, 820.1493133916583, 724.9462186851927, 674.2207043827073, 638.5281751155319, 610.6004252707991, 571.2241658706316, 60109.755185980604, 11178.266108820942, 57058.14690752212, 3680.419039840296, 14933.86622807732, 21752.20076434898, 2278.805688683462, 2325.7375864561473, 2051.110555457729, 45025.88504750872, 14903.531721950501, 4584.850280383666, 4688.635333624837, 6966.490101119922, 8165.6215555666095, 46535.510302599934, 5855.9133326128285, 14194.393365846108, 5385.851710683548, 8623.246066049172, 13088.635519695032, 11608.95165919005, 28662.041328554504, 24617.587177112986, 34606.65721475063, 41259.47255762242, 15906.47346868826, 8409.079018958466, 18586.663471855994, 20059.33383778071, 46403.66526015787, 7650.808933337291, 26453.562332740137, 8991.218303936026, 31916.742810201376, 27434.287867643252, 16785.01164220779, 28709.707605569856, 15643.9963793529, 15109.37550374699, 24137.637657870935, 24803.655164283937, 23622.714435452832, 16603.724708849957, 4082.596610787791, 4000.0042391950574, 3980.561405148796, 3751.7273437462586, 2734.0618093372445, 2478.3787991198583, 12714.366425095957, 2089.392954621006, 1961.4225872533948, 1878.1420128562133, 1820.0629992997779, 51410.13312940332, 1510.3743486925034, 28519.590249734392, 1411.0533859880377, 1367.0432585718545, 1343.4178749947098, 1306.4011616285686, 1276.92213712235, 1242.7244237726175, 1179.135569374619, 1165.336761655435, 1166.8711566121701, 1134.8376864075396, 1009.4050919908886, 996.3643920895638, 963.7406463622044, 951.5354921599749, 932.633518023514, 921.5681369422523, 5079.756674596099, 1544.4999473875957, 1234.6703819328839, 5039.570130449402, 2420.732473491263, 5937.954008554313, 28890.356798798162, 6029.647289737913, 2723.035699606908, 2006.464516685061, 2160.0839976804323, 5342.583454905304, 5688.662285152196, 10177.87828007189, 1920.2893122785126, 6262.134490720627, 7272.028917805396, 12618.619858393342, 22199.805817608616, 13578.560323595435, 25607.673614407322, 24540.59206531654, 8406.214458735807, 10262.922148169433, 10545.532850779995, 7503.209618192626, 18393.771920512438, 14385.280248482144, 12448.950748772822, 13653.29762149724, 21532.66933088074, 7495.228394075197, 7999.751356501704, 8289.77681156929, 10497.727463677345, 8052.937822625236, 11855.589763382919, 10139.15170614782, 8939.550339276371, 9808.316989860044, 7955.162403521886, 8371.271594100874, 7892.294494793812, 7955.468539270274, 7903.574914141904, 25482.69668976588, 16733.108472771364, 13606.562644045127, 10193.889520921834, 7278.933651044496, 5315.194547063113, 4032.228469356334, 2038.0607042573893, 8720.634945432617, 1557.969622010922, 1395.1485191034315, 1306.1671078200313, 1263.8631188674528, 1051.1971803486929, 986.5021673278412, 906.6231864902163, 901.6500889573418, 872.5915465728309, 831.7877667199582, 829.1145969553651, 746.4516822712875, 705.3157599889969, 668.6297272658909, 661.1838640534112, 658.1165279686564, 585.0293129836383, 550.1289390860766, 522.9139844427805, 521.603142970853, 499.70811027364846, 24545.04727542973, 14176.656684039614, 3355.5492196256996, 1579.4915125892558, 2391.085509000068, 22006.552651536316, 5797.647331275002, 985.5097850759405, 10452.089484829008, 4750.865432952253, 2376.5990852299205, 6218.543251656331, 4169.126482378701, 4094.6950169178044, 3067.682859229237, 1319.8274452772287, 13088.039721348894, 5205.519928327789, 11227.794420555669, 9696.947316616572, 28731.971917761, 9120.258169450437, 18905.35491826845, 9227.631212439705, 8806.13003476706, 6002.319379063551, 40462.19221363223, 40973.277063556365, 9854.616241739814, 31517.823810587113, 28463.20731767457, 26252.961101536668, 8736.331684030516, 23410.23180273688, 10976.6226324035, 18496.26810697888, 14145.8448930591, 15980.96422582232, 13889.668046592999, 11319.46113671272, 10501.415357257822, 10003.296996209567, 9686.845312743157, 6683.239071378376, 4164.410187907156, 3147.611375167737, 2892.005601123964, 2444.1375599416283, 2375.7968475858115, 1697.6248542814706, 1589.8668867485032, 1505.0133496226033, 1308.8548431673696, 1220.4361607625824, 1164.6441674282628, 1150.8166761441282, 1111.6131217692082, 1099.3498928969973, 1033.6873547069997, 1006.5121446603059, 988.0745415769676, 934.345118950182, 896.6775819981805, 860.634131913982, 849.2557165515124, 854.1580855286178, 847.9224157684339, 794.7491153991288, 783.594404272496, 770.4692619076711, 757.8203614407962, 718.8325673985554, 702.9336298113833, 11519.895296979963, 3554.389822448902, 9598.280422493706, 1392.5991760375418, 2058.930634575966, 5837.363632729796, 7624.511960392249, 35454.53500219149, 15361.263230427212, 2381.408969984553, 27915.809350072464, 8358.647084203876, 2087.580860715157, 25765.03503395619, 4504.322546633488, 2238.275330597029, 5486.696994439709, 4302.250441751034, 4887.92598043583, 2482.425996287353, 56724.39258928767, 4031.8423320109296, 3293.536364822858, 15108.282278903358, 34809.82429815357, 4105.163969719522, 41213.52192876378, 4899.6982564783175, 20304.297930452918, 7286.167590847224, 17758.09062993077, 13626.00722423166, 7699.411394569997, 15854.23400769855, 15780.632273848989, 10806.664603364346, 14577.813140395414, 7218.866843294921, 13514.51483763153, 11022.374722729692, 7963.3051114292475, 6522.478401248238, 8226.06745956223, 8011.093279077078, 7374.01264498572, 7677.987570409501, 7679.366867372592, 22939.325387927765, 12775.716835698477, 9174.40521724174, 7415.990716330761, 7019.345622599991, 4294.52707105532, 4176.262957483837, 3992.179714747958, 3715.4320927441695, 3312.4727971346683, 6720.2350388923505, 4036.16488777436, 2821.539947217583, 2670.489073927404, 2459.5429356867257, 2426.7896844068378, 2224.79849820114, 2019.734695098602, 1878.8880326072506, 1630.046345384339, 1601.7662924489018, 1550.6163735544578, 2522.8988381260037, 1539.073251094336, 1373.750812890481, 7873.6332887651515, 1202.1797637944967, 1183.5850755654974, 1141.2561640689917, 1049.7709075507232, 2389.936996464306, 1498.04270248344, 1818.3537902465082, 4942.81947081364, 17949.980162775144, 7696.365092126352, 3877.124212428688, 10394.012577471018, 15854.45365676657, 7811.3639152778505, 7010.518644283435, 9009.374017277309, 11978.054866390792, 10912.781671745715, 8289.83804246803, 12895.270667691302, 13316.95939823054, 6414.261641738691, 10126.566755491145, 26240.495503474394, 18165.145690759942, 22936.245463339485, 23684.557344684003, 21967.95282005895, 6670.005889119611, 16770.07958958748, 14444.776450382937, 14043.686141418848, 11123.90765049042, 10317.52635763767, 8626.917965017832, 8453.863276322725, 8145.6954328999145, 93714.27242448223, 11361.610550138781, 6416.173295151417, 6312.336561813052, 5594.245394165759, 5068.358849980427, 3462.1165493737676, 2516.34519901251, 2109.4399125289906, 2024.7312257789224, 1859.1423405920189, 1781.2619115926723, 1449.6963405151562, 1423.0480695901213, 1354.4002914944483, 1340.0657725355186, 1317.9203946367365, 1189.3489867559492, 1008.9640796197332, 999.822333001283, 951.2820357879071, 941.8562762561614, 902.6213245846825, 858.9816536359963, 840.5307468065147, 778.652710876538, 775.08685893447, 754.0955264112026, 744.4583766294952, 734.5280011486581, 5206.025508701157, 2868.8661151686283, 1299.4442965959897, 5174.729099423202, 10531.227614953768, 34208.00199062693, 2763.784216244858, 5955.047453188611, 13136.8660132671, 1819.3999659507645, 4500.688291443111, 6517.633705543668, 3786.239341095464, 7868.13713258002, 8767.545138230573, 5886.7847407508525, 8937.891275702621, 6660.214233908725, 2410.417451189335, 6635.810715832108, 4419.918358536728, 6345.6425100010965, 25451.912375782093, 4983.006419820193, 20788.994411186883, 19283.314274353637, 13959.476812002718, 14531.272971196422, 14624.19658391504, 12475.80947532211, 5341.517374165897, 9138.673002776239, 9632.095992878243, 6650.172873148541, 8013.983017724193, 6539.960316213782, 6572.147486722084, 6458.371309066826, 6264.01607591169, 8234.095693654379, 4511.805203232535, 6199.419459162789, 2922.9291787702077, 2839.488106025665, 2728.283421964725, 1847.0849662251405, 1435.0136247850014, 1730.5966686672873, 1286.4283627944444, 1983.1748935094408, 1262.1398007178, 1166.6147367273802, 1159.9164177462949, 1154.439048009857, 1128.8378392169184, 1105.105808264094, 982.6641689241808, 956.6415791651383, 956.2835963803492, 939.0003066856405, 920.4993056513562, 899.2640880578527, 1029.5381550094612, 830.3690448180315, 1576.141473329332, 776.1977920713991, 749.3901398485365, 709.0044622213549, 708.9546632413435, 21617.1743455123, 1251.7036441212977, 33046.74922981335, 10218.18289929698, 10326.157967322644, 2645.314047231109, 11503.981424796768, 26481.340812263632, 7940.626483719467, 8258.03909505032, 3689.4915481694743, 12294.590808554289, 34728.00631244093, 6502.824634118641, 2752.9570357125626, 6974.789966488226, 3042.8026413230073, 1932.7844129994835, 23261.812534999466, 4485.196876445921, 5643.031839295564, 5784.570772267869, 8427.57321430979, 3238.426763525124, 4098.451133318969, 5055.214781505331, 4603.417194185027, 6337.807003886365, 9367.446913509622, 5099.77923466067, 9872.802559113974, 5366.9266076497615, 6422.575876742941, 7869.4184753703275, 6307.625584094411, 7367.9990862042205, 7642.903443616823, 7266.596706442837, 5680.166206923486, 5266.790378287835, 9871.484713548272, 6372.762739234421, 4432.544745430782, 1477.9531455827437, 1413.927266478541, 952.0776975054885, 917.9294634646888, 908.2741719113501, 771.5031678514915, 741.628808535562, 739.4132829593023, 726.0494614105603, 719.652307243723, 697.3410520376456, 687.5991540658268, 666.7709479544585, 654.4845082899684, 654.3538140061353, 646.000561190422, 643.638255880011, 618.5916894637721, 604.4002028387625, 567.5332824891971, 561.7644417049005, 552.8543282539429, 605.504312071866, 549.2448120518075, 533.5961699838202, 735.1551503977005, 505.85563392637715, 1959.6925700379475, 1959.3498714805642, 3110.0541423823697, 62700.5015551502, 975.2288780396001, 679.4412315812609, 960.2364536871745, 1490.3345286369151, 3422.7013514551913, 1212.7613497363018, 1017.2463301563631, 3158.7895258931944, 3088.7146347313223, 8775.152991837613, 6769.699081121404, 1154.3489985470148, 5198.011308599393, 3578.434011856446, 4299.952378460071, 3158.5035187399803, 8576.49140316225, 1645.1199129456668, 3135.349493827459, 4288.230008458863, 6834.7643353293815, 4802.051863573182, 9114.96401472477, 8896.772335395099, 2292.6217664854266, 7000.533139744856, 3163.495697095359, 6510.347873052597, 6287.033173960693, 11005.457958315117, 6197.906047717372, 5158.507796586891, 5220.467381899339, 6945.849670568906, 4897.939194558657, 9680.885466434702, 6196.184512205296, 5305.342456665934, 4823.813123885005, 4103.903302313173, 5087.485433168487, 5047.075251017333, 4324.4379647964715, 99002.35854429314, 4279.366542929588, 3040.912314314275, 2866.256299673184, 2540.206524773224, 2513.181551387645, 2528.064368749082, 2135.687880968494, 2002.8805918006133, 1562.0152669922168, 1442.6841605850218, 1250.936091545702, 1238.5204730936682, 1087.9759801004197, 983.863400449285, 3947.0085315217684, 836.2131058724767, 831.7169658587534, 820.3470638150499, 755.2311890474222, 752.620161301392, 744.8006206537043, 743.5135850742207, 713.1552580665501, 710.5846949279885, 707.3578056461114, 706.6530198720775, 696.1392379710653, 685.2585824011297, 652.526019024803, 2453.7037996485487, 16287.244683116665, 4034.6633558131184, 1191.5634172550324, 801.4770141443024, 6822.745949786818, 2687.3069575469312, 1234.6556135892022, 5324.5634379124995, 5515.030345266968, 3548.7330218927204, 4365.82407169834, 17679.62268894007, 9010.555018958381, 1750.8609794281067, 7689.95796350939, 4489.614443114066, 3387.978231554474, 11588.239928434472, 6146.721374493637, 4787.597770477351, 3265.5473404187005, 8141.939144418633, 8943.911115767596, 4700.316917477605, 7214.577797003978, 6667.432996498132, 5776.705171941699, 5195.455886544415, 4051.0720804690955, 5062.965950850431, 4384.30693381456, 3942.929111699475, 3319.1743667763158, 15804.450543130433, 4940.132877204513, 2957.216546618869, 2332.0095356647626, 2045.0833109193295, 1920.294463408687, 2710.2343086447554, 2129.431589467238, 1544.7410141995538, 1392.1697411243697, 1295.7050452052663, 1273.8041717197175, 2711.695526822901, 1008.4606974934586, 915.8728852044849, 895.3119058389516, 865.4825678544025, 831.8247034386036, 1415.5116121117092, 739.1875150794608, 736.0924192270077, 706.4565884126924, 680.2067020165404, 648.0527699983187, 3238.4447728667947, 629.8524370351529, 623.6116544520019, 616.4638804846744, 616.3327987745828, 585.5308697697754, 1067.3298265881397, 7594.241485262836, 995.8813206833933, 3243.941348347898, 8355.251185614434, 6049.176156494458, 2941.403664210448, 19939.5142769508, 7067.871259338525, 1602.598168979913, 13140.995593612113, 10703.118120525483, 5558.114679973312, 2599.7391280756187, 2019.0318693004283, 2283.6371320903027, 23653.110145785413, 5564.9727809956485, 8943.955643513289, 6683.203144325616, 2284.023362683625, 2163.380851071749, 3523.0951526510075, 4090.2960968671023, 3235.632374609738, 3224.819798989864, 3785.199321550034, 3704.513493413235, 4138.420993093, 3431.434983483495, 2956.80335512374, 3475.4580606484938, 3116.293077751466, 2954.7979029277312], \"Total\": [99003.0, 93715.0, 79496.0, 51436.0, 60278.0, 134403.0, 43050.0, 58763.0, 121919.0, 168499.0, 43862.0, 49685.0, 33036.0, 47319.0, 28537.0, 120604.0, 42438.0, 62386.0, 34186.0, 25483.0, 55634.0, 25616.0, 22940.0, 24664.0, 18700.0, 15805.0, 41026.0, 26426.0, 40019.0, 50013.0, 25647.61960676853, 15220.729859513975, 5870.444560412867, 5528.427720454358, 4805.339773444236, 4463.509815113905, 4886.642962006849, 4123.634903464266, 3915.562432559773, 2775.0044388242454, 2521.0705507593702, 2302.647830807594, 2215.90139163674, 1713.9085331667436, 1632.0509196649734, 1331.9597751802996, 1267.8915490864347, 1176.0392578510932, 1084.2492223322827, 1045.4240389383885, 966.0098999002809, 938.2085026686259, 936.8488759368855, 1192.6487104798982, 821.0773301118517, 725.8738747718171, 675.1485190147149, 639.4559322007341, 611.5283594089143, 572.1523252213966, 60278.55025612402, 11263.946557359563, 58763.45745699899, 3687.9511627332417, 15202.963199376789, 22248.653118762806, 2282.7204102762544, 2333.388606459283, 2061.7630021021955, 47319.5184271765, 15806.570525394849, 4737.561603816516, 4865.489874289994, 7328.448250897691, 8762.725613694782, 55634.75074243601, 6277.855691261991, 17133.95597489453, 5972.943584822236, 10158.881554135578, 16256.049120734346, 14554.626120636714, 41731.35069332185, 35624.24604139809, 54701.911004109636, 69398.92038581919, 25518.863013819868, 10863.518180003233, 32231.0088896738, 36570.060921263226, 121919.87466907724, 9625.102762919985, 65803.17766947328, 12754.231508485673, 110541.02429023602, 87286.37546520794, 39348.81266860596, 118176.78902157952, 36919.18165065748, 35564.06005845827, 96583.37133102362, 130049.61125177155, 120129.6335134899, 50013.49969735647, 4083.5236544838485, 4000.931568857525, 3981.488685829642, 3752.654382325831, 2734.98907539077, 2479.305841053984, 12719.634556456214, 2090.3200105536034, 1962.3502935160325, 1879.0733650999655, 1820.9900303166764, 51436.951187501465, 1511.3014050631218, 28537.87108163174, 1411.9804240924989, 1367.9703602496133, 1344.3449866458614, 1307.3282607124358, 1277.8493783436159, 1243.651629166508, 1180.0626153838487, 1166.2638319079113, 1167.8023697349922, 1135.7647950776193, 1010.3324508110053, 997.2914213754298, 964.6677766139652, 952.4626164539425, 933.5606437942587, 922.4952107880091, 5116.235757518701, 1549.9591239891674, 1237.0006177363102, 5161.487662426964, 2502.210016623277, 6459.611768927499, 34186.87491923508, 6765.757481550666, 2896.5266094644203, 2181.318002907073, 2393.648333578947, 7718.600446202945, 8610.795005005777, 20617.031736717567, 2201.489458899934, 11923.487465319296, 15141.581035323341, 36241.60423191019, 87286.37546520794, 42104.71910784157, 120129.6335134899, 118176.78902157952, 21171.956298054265, 29343.434831167426, 33289.97842889927, 19555.198822670936, 96583.37133102362, 62386.94309177784, 50013.49969735647, 65803.17766947328, 176439.36030835626, 19874.781035197862, 23499.13545938366, 26689.31896063199, 52768.99721562625, 25535.49724214239, 105392.88966800067, 79496.48050473483, 50447.8857385184, 120604.91070860834, 40026.72911673412, 62932.84459103086, 38413.00717273694, 44953.38267672069, 121919.87466907724, 25483.65613040488, 16734.039631588672, 13607.516279217974, 10194.826868590859, 7279.861047431923, 5316.12414679884, 4033.1868817372115, 2038.9878053411467, 8725.221478182153, 1558.9023785768868, 1396.075716540731, 1307.0944300652461, 1264.79023539063, 1052.124301795448, 987.4292823632297, 907.5504287948811, 902.577302142374, 873.5186404348424, 832.7149034463488, 830.0418465346283, 747.3788372114709, 706.2440311935525, 669.5577316985996, 662.1110614909502, 659.0437142649158, 585.9569110554875, 551.0574128598547, 523.8410807353295, 522.5304454382256, 500.63522732806354, 24664.81581409562, 14427.160670096124, 3373.6918584358395, 1584.8199784054243, 2424.826792402845, 23046.268895137127, 5942.32680561934, 993.3868416657375, 11461.657711412929, 5199.2000878708495, 2551.0263312720767, 7321.121218176857, 4749.938925821763, 4709.025162313612, 3437.250072323411, 1370.3557932014705, 18953.50838286497, 6738.3045859512595, 17268.691462667535, 14712.016435056268, 62386.94309177784, 14897.517947937442, 39101.12364165741, 15985.034289845295, 15951.921366714827, 9698.593287739586, 168499.38490075312, 176439.36030835626, 20531.540202647084, 130049.61125177155, 134403.92697090484, 118176.78902157952, 17476.22743920816, 110541.02429023602, 29983.32099596692, 120129.6335134899, 62932.84459103086, 105392.88966800067, 96583.37133102362, 52768.99721562625, 41026.61166761769, 43050.880159632245, 50013.49969735647, 6684.16594194808, 4165.337055398938, 3148.5383987666823, 2892.9928912201995, 2445.064526306874, 2376.7301580727344, 1698.5519031303534, 1590.7937919734268, 1505.9419707275626, 1309.7819525816242, 1221.3630132330902, 1165.5709872557643, 1151.7435433972676, 1112.5399937131733, 1100.2767533348497, 1034.6143329735278, 1007.4389991866957, 989.0013822171479, 935.2721056600379, 897.6044929186662, 861.560972802084, 850.1826507899656, 855.090773745339, 848.8499701244391, 795.6762963331859, 784.5212954780204, 771.3970293414505, 758.7472559351487, 719.7594218167729, 703.8604517996462, 11545.672260966008, 3567.897845999249, 10570.90530557953, 1421.939848531732, 2177.8109730735137, 6669.286328579354, 9015.147575717032, 49685.17666827208, 20200.02589167149, 2623.9026390186104, 40019.7187283037, 10695.527505755492, 2294.5595658948037, 41026.61166761769, 5564.043975557988, 2588.7866665164183, 7751.834975676017, 5764.867747762724, 6950.453399467188, 3004.575221370242, 168499.38490075312, 5644.657986132387, 4492.315413792289, 39101.12364165741, 134403.92697090484, 6219.335295043938, 176439.36030835626, 9235.358694673578, 105392.88966800067, 19283.9627585046, 96583.37133102362, 62932.84459103086, 25073.26383082055, 120129.6335134899, 130049.61125177155, 57860.74775776617, 120604.91070860834, 22783.524441289886, 121919.87466907724, 87286.37546520794, 33972.2219457002, 19522.237453559603, 45043.46595909419, 52768.99721562625, 36241.60423191019, 85685.6432272099, 110541.02429023602, 22940.251208560654, 12776.667955720646, 9175.33101804893, 7416.917253278853, 7020.273092489417, 4295.45739370568, 4177.188769167985, 3993.105573698208, 3716.3579313268087, 3313.3986949663567, 6722.15399078683, 4037.4885237759877, 2822.465747287578, 2671.4602561804268, 2460.4694246783574, 2427.7193328602502, 2225.724357118572, 2020.6608531156046, 1879.8139460274185, 1630.9721847437308, 1602.692079067552, 1551.5422206375563, 2524.4090517600503, 1540.0000445714286, 1374.6766526229503, 7879.201776628609, 1203.1072526732623, 1184.5108649866188, 1142.1821386336412, 1050.6967278478216, 2395.454889132383, 1499.4667740472053, 1829.7481899072575, 5157.864505846209, 20942.818153014916, 8581.478924552726, 4136.146411423812, 12095.466554868806, 19360.684899748794, 9423.373788407793, 8624.83383525681, 11966.99586775432, 17442.956192923546, 16272.906961487235, 11569.317126724409, 26407.622685769813, 29160.476458774385, 9981.532934134086, 23834.579425839278, 120604.91070860834, 85685.6432272099, 134403.92697090484, 176439.36030835626, 168499.38490075312, 12825.70477906431, 130049.61125177155, 105392.88966800067, 110541.02429023602, 120129.6335134899, 118176.78902157952, 52768.99721562625, 96583.37133102362, 62932.84459103086, 93715.20384310618, 11362.538238844012, 6417.100926638012, 6313.264080606219, 5595.172907674485, 5069.286366427803, 3463.0440924867676, 2517.274248719167, 2110.3674096191066, 2025.6587634197717, 1860.069876791186, 1782.189626472441, 1450.6239086582136, 1423.975610610952, 1355.327857459408, 1340.9933907300945, 1318.8479134216664, 1190.276505957406, 1009.8915807593983, 1000.749828655189, 952.2097984579249, 942.7837813096435, 903.548854821207, 859.9095603538184, 841.4582524859755, 779.5805175565577, 776.0146176969564, 755.0232673575406, 745.3859360143672, 735.4557242294535, 5247.057221499131, 2890.112994205713, 1306.5972326495869, 5703.825488450143, 12422.647046789067, 43862.98473769815, 2996.838852972251, 6941.0273236377225, 17290.615080089345, 1944.576215525118, 5612.882600533197, 8743.997938658227, 4797.910779561775, 12234.7893910491, 14458.334473124954, 10235.648436188716, 18427.085976025865, 12285.668466491688, 3018.71761171311, 13636.366060811073, 7568.483536706446, 13478.920765265957, 134403.92697090484, 9813.125085874359, 176439.36030835626, 168499.38490075312, 105392.88966800067, 120604.91070860834, 130049.61125177155, 120129.6335134899, 13134.878286720792, 85685.6432272099, 110541.02429023602, 37267.0604054508, 96583.37133102362, 49685.17666827208, 52355.053046315865, 118176.78902157952, 87286.37546520794, 8235.033428063554, 4512.730347595257, 6201.198071008935, 2923.8540187093236, 2840.412989665216, 2729.217722943719, 1848.0100158882674, 1435.9385249952772, 1731.7291108692853, 1287.3532450649045, 1984.6014611535904, 1263.064700559345, 1167.5397422433532, 1160.8415687848978, 1155.3639747196762, 1129.7713899287576, 1106.055435588583, 983.5890339354701, 957.5664215005269, 957.2085424561391, 939.9251586687961, 921.42475455331, 900.1894118753613, 1030.6436666322898, 831.2941392946794, 1577.9596071898168, 777.1226983742898, 750.3154174875342, 709.9295009074565, 709.8798386635923, 25616.09723896041, 1298.177649543867, 43050.880159632245, 12657.370826201695, 12840.448842229465, 2965.3972339245465, 16002.536482860702, 42438.812288653186, 11274.032349823301, 12163.532473466003, 4885.055283213035, 23834.579425839278, 120604.91070860834, 12194.896041232494, 3800.1060256784936, 13636.366060811073, 4360.091049012436, 2367.5910656800966, 85685.6432272099, 9202.270440330736, 13478.920765265957, 14044.013811310051, 29160.476458774385, 6229.8239499162755, 10765.307393325527, 17268.691462667535, 14564.862522627313, 34296.94025078689, 110541.02429023602, 21338.72288379555, 168499.38490075312, 26407.622685769813, 54419.39655689951, 121919.87466907724, 52355.053046315865, 105392.88966800067, 130049.61125177155, 176439.36030835626, 50217.42467490036, 118176.78902157952, 9872.411679545283, 6373.690802789252, 4433.471644595684, 1478.8801928056334, 1414.86904684703, 953.0045637157262, 918.8564182579619, 909.283496904659, 772.430155847816, 742.555942638505, 740.3403407802106, 726.9763965466503, 720.5793842599246, 698.2679068580672, 688.5259869764068, 667.6979423826062, 655.4116182467886, 655.2810779052771, 646.9276532588027, 644.5651862326336, 619.5187124321187, 605.3314230540532, 568.4603535433278, 562.6914117397926, 553.7812295269837, 606.5227339070188, 550.1716721242985, 534.5233354473573, 736.46415411525, 506.78278133762086, 1980.602596298615, 1992.5427320686151, 3312.6727500240595, 79496.48050473483, 1000.7724050625719, 688.1963000048446, 995.6412134706688, 1608.3606966014834, 4058.695883900402, 1301.640520009491, 1071.097046009402, 3792.2095028197095, 3713.473153509041, 12132.373910877835, 9205.466619714247, 1246.6810976856852, 7171.941086610456, 4724.008386464521, 6315.700198553913, 4335.405528457143, 15068.524712651417, 2088.2989400656706, 5539.411911695524, 9299.44480404372, 20531.540202647084, 12056.194463313372, 34869.39297477166, 37267.0604054508, 4036.2819495208587, 26426.446966771036, 6951.291105989541, 24160.81406822901, 22783.524441289886, 62386.94309177784, 23883.86693230957, 17225.760506425184, 20325.575849530233, 39348.81266860596, 19555.198822670936, 121919.87466907724, 54419.39655689951, 37639.321186827416, 29805.556691690002, 13449.028681414167, 50217.42467490036, 52355.053046315865, 118176.78902157952, 99003.31700580085, 4280.291261876003, 3041.844636461904, 2867.1810671030007, 2541.131244789415, 2514.1062914604768, 2529.0678391738506, 2136.612575385697, 2003.8085905097955, 1562.9399848208518, 1443.6090010015034, 1251.8607967712076, 1239.445171950727, 1088.9007911871006, 984.7881149694404, 3950.7288450489423, 837.1378047789885, 832.6416944787, 821.2721605188291, 756.1559540043884, 753.5448562955208, 745.7253175075771, 744.4383543238117, 714.0824167857236, 711.5093895821732, 708.2829195388285, 707.5777636825998, 697.0642014007921, 686.1832811591952, 653.4507203267664, 2463.0283559988843, 18700.569190747483, 4826.297690511036, 1285.4086687887884, 818.1819616894434, 12050.440666419425, 3901.474054513629, 1451.709148160708, 11613.758440854492, 14044.013811310051, 7863.137627749813, 12234.7893910491, 134403.92697090484, 50013.49969735647, 3110.457126783999, 49685.17666827208, 18427.085976025865, 11301.85215689063, 168499.38490075312, 43862.98473769815, 26407.622685769813, 11569.317126724409, 118176.78902157952, 176439.36030835626, 31592.44103696435, 130049.61125177155, 105392.88966800067, 120129.6335134899, 85685.6432272099, 27625.155772103113, 110541.02429023602, 52355.053046315865, 30640.17981247816, 21945.834762353723, 15805.372671776928, 4941.054659152068, 2958.138248703082, 2332.9311545205, 2046.0050845982582, 1921.2160479810223, 2711.554134272684, 2130.6837272925527, 1545.6626586024656, 1393.0914639914151, 1296.6267031725713, 1274.7276098493653, 2714.082817544397, 1009.3823007420012, 916.7945324522581, 896.2334546570464, 866.4131784479076, 832.7463607894416, 1417.1830152601335, 740.1091371593075, 737.028404011713, 707.3782810993825, 681.1283455300072, 648.9744707185646, 3243.06515983115, 630.7743543434527, 624.5344283009078, 617.3856551468954, 617.2545615011223, 586.4525225352345, 1069.3434106081015, 7849.556779823397, 1008.2176092135464, 3430.6662919225355, 9373.083599324427, 7535.2047207699625, 3464.6643887863397, 33036.704273178475, 10152.913290142758, 1884.6103606752856, 26426.446966771036, 24160.81406822901, 11004.44036427519, 3883.4653892651804, 2771.3070373089777, 3416.5893007438367, 121919.87466907724, 14394.023988665336, 34296.94025078689, 21738.212454859084, 3635.8082757469833, 3290.934833130951, 9202.270440330736, 12813.272850777208, 9299.44480404372, 9763.585291108033, 17442.956192923546, 20265.732134627393, 30735.073887948187, 22783.524441289886, 11966.99586775432, 120604.91070860834, 40026.72911673412, 36570.060921263226], \"Category\": [\"Default\", \"Default\", \"Default\", \"Default\", \"Default\", \"Default\", \"Default\", \"Default\", \"Default\", \"Default\", \"Default\", \"Default\", \"Default\", \"Default\", \"Default\", \"Default\", \"Default\", \"Default\", \"Default\", \"Default\", \"Default\", \"Default\", \"Default\", \"Default\", \"Default\", \"Default\", \"Default\", \"Default\", \"Default\", \"Default\", \"Topic1\", \"Topic1\", \"Topic1\", \"Topic1\", \"Topic1\", \"Topic1\", \"Topic1\", \"Topic1\", \"Topic1\", \"Topic1\", \"Topic1\", \"Topic1\", \"Topic1\", \"Topic1\", \"Topic1\", \"Topic1\", \"Topic1\", \"Topic1\", \"Topic1\", \"Topic1\", \"Topic1\", \"Topic1\", \"Topic1\", \"Topic1\", \"Topic1\", \"Topic1\", \"Topic1\", \"Topic1\", \"Topic1\", \"Topic1\", \"Topic1\", \"Topic1\", \"Topic1\", \"Topic1\", \"Topic1\", \"Topic1\", \"Topic1\", \"Topic1\", \"Topic1\", \"Topic1\", \"Topic1\", \"Topic1\", \"Topic1\", \"Topic1\", \"Topic1\", \"Topic1\", \"Topic1\", \"Topic1\", \"Topic1\", \"Topic1\", \"Topic1\", \"Topic1\", \"Topic1\", \"Topic1\", \"Topic1\", \"Topic1\", \"Topic1\", \"Topic1\", \"Topic1\", \"Topic1\", \"Topic1\", \"Topic1\", \"Topic1\", \"Topic1\", \"Topic1\", \"Topic1\", \"Topic1\", \"Topic1\", \"Topic1\", \"Topic1\", \"Topic1\", \"Topic1\", \"Topic1\", \"Topic1\", \"Topic2\", \"Topic2\", \"Topic2\", \"Topic2\", \"Topic2\", \"Topic2\", \"Topic2\", \"Topic2\", \"Topic2\", \"Topic2\", \"Topic2\", \"Topic2\", \"Topic2\", \"Topic2\", \"Topic2\", \"Topic2\", \"Topic2\", \"Topic2\", \"Topic2\", \"Topic2\", \"Topic2\", \"Topic2\", \"Topic2\", \"Topic2\", \"Topic2\", \"Topic2\", \"Topic2\", \"Topic2\", \"Topic2\", \"Topic2\", \"Topic2\", \"Topic2\", \"Topic2\", \"Topic2\", \"Topic2\", \"Topic2\", \"Topic2\", \"Topic2\", \"Topic2\", \"Topic2\", \"Topic2\", \"Topic2\", \"Topic2\", \"Topic2\", \"Topic2\", \"Topic2\", \"Topic2\", \"Topic2\", \"Topic2\", \"Topic2\", \"Topic2\", \"Topic2\", \"Topic2\", \"Topic2\", \"Topic2\", \"Topic2\", \"Topic2\", \"Topic2\", \"Topic2\", \"Topic2\", \"Topic2\", \"Topic2\", \"Topic2\", \"Topic2\", \"Topic2\", \"Topic2\", \"Topic2\", \"Topic2\", \"Topic2\", \"Topic2\", \"Topic2\", \"Topic2\", \"Topic2\", \"Topic2\", \"Topic2\", \"Topic3\", \"Topic3\", \"Topic3\", \"Topic3\", \"Topic3\", \"Topic3\", \"Topic3\", \"Topic3\", \"Topic3\", \"Topic3\", \"Topic3\", \"Topic3\", \"Topic3\", \"Topic3\", \"Topic3\", \"Topic3\", \"Topic3\", \"Topic3\", \"Topic3\", \"Topic3\", \"Topic3\", \"Topic3\", \"Topic3\", \"Topic3\", \"Topic3\", \"Topic3\", \"Topic3\", \"Topic3\", \"Topic3\", \"Topic3\", \"Topic3\", \"Topic3\", \"Topic3\", \"Topic3\", \"Topic3\", \"Topic3\", \"Topic3\", \"Topic3\", \"Topic3\", \"Topic3\", \"Topic3\", \"Topic3\", \"Topic3\", \"Topic3\", \"Topic3\", \"Topic3\", \"Topic3\", \"Topic3\", \"Topic3\", \"Topic3\", \"Topic3\", \"Topic3\", \"Topic3\", \"Topic3\", \"Topic3\", \"Topic3\", \"Topic3\", \"Topic3\", \"Topic3\", \"Topic3\", \"Topic3\", \"Topic3\", \"Topic3\", \"Topic3\", \"Topic3\", \"Topic3\", \"Topic3\", \"Topic3\", \"Topic3\", \"Topic3\", \"Topic3\", \"Topic3\", \"Topic3\", \"Topic4\", \"Topic4\", \"Topic4\", \"Topic4\", \"Topic4\", \"Topic4\", \"Topic4\", \"Topic4\", \"Topic4\", \"Topic4\", \"Topic4\", \"Topic4\", \"Topic4\", \"Topic4\", \"Topic4\", \"Topic4\", \"Topic4\", \"Topic4\", \"Topic4\", \"Topic4\", \"Topic4\", \"Topic4\", \"Topic4\", \"Topic4\", \"Topic4\", \"Topic4\", \"Topic4\", \"Topic4\", \"Topic4\", \"Topic4\", \"Topic4\", \"Topic4\", \"Topic4\", \"Topic4\", \"Topic4\", \"Topic4\", \"Topic4\", \"Topic4\", \"Topic4\", \"Topic4\", \"Topic4\", \"Topic4\", \"Topic4\", \"Topic4\", \"Topic4\", \"Topic4\", \"Topic4\", \"Topic4\", \"Topic4\", \"Topic4\", \"Topic4\", \"Topic4\", \"Topic4\", \"Topic4\", \"Topic4\", \"Topic4\", \"Topic4\", \"Topic4\", \"Topic4\", \"Topic4\", \"Topic4\", \"Topic4\", \"Topic4\", \"Topic4\", \"Topic4\", \"Topic4\", \"Topic4\", \"Topic4\", \"Topic4\", \"Topic4\", \"Topic4\", \"Topic4\", \"Topic4\", \"Topic4\", \"Topic4\", \"Topic4\", \"Topic4\", \"Topic5\", \"Topic5\", \"Topic5\", \"Topic5\", \"Topic5\", \"Topic5\", \"Topic5\", \"Topic5\", \"Topic5\", \"Topic5\", \"Topic5\", \"Topic5\", \"Topic5\", \"Topic5\", \"Topic5\", \"Topic5\", \"Topic5\", \"Topic5\", \"Topic5\", \"Topic5\", \"Topic5\", \"Topic5\", \"Topic5\", \"Topic5\", \"Topic5\", \"Topic5\", \"Topic5\", \"Topic5\", \"Topic5\", \"Topic5\", \"Topic5\", \"Topic5\", \"Topic5\", \"Topic5\", \"Topic5\", \"Topic5\", \"Topic5\", \"Topic5\", \"Topic5\", \"Topic5\", \"Topic5\", \"Topic5\", \"Topic5\", \"Topic5\", \"Topic5\", \"Topic5\", \"Topic5\", \"Topic5\", \"Topic5\", \"Topic5\", \"Topic5\", \"Topic5\", \"Topic5\", \"Topic5\", \"Topic5\", \"Topic5\", \"Topic5\", \"Topic5\", \"Topic5\", \"Topic5\", \"Topic5\", \"Topic5\", \"Topic5\", \"Topic6\", \"Topic6\", \"Topic6\", \"Topic6\", \"Topic6\", \"Topic6\", \"Topic6\", \"Topic6\", \"Topic6\", \"Topic6\", \"Topic6\", \"Topic6\", \"Topic6\", \"Topic6\", \"Topic6\", \"Topic6\", \"Topic6\", \"Topic6\", \"Topic6\", \"Topic6\", \"Topic6\", \"Topic6\", \"Topic6\", \"Topic6\", \"Topic6\", \"Topic6\", \"Topic6\", \"Topic6\", \"Topic6\", \"Topic6\", \"Topic6\", \"Topic6\", \"Topic6\", \"Topic6\", \"Topic6\", \"Topic6\", \"Topic6\", \"Topic6\", \"Topic6\", \"Topic6\", \"Topic6\", \"Topic6\", \"Topic6\", \"Topic6\", \"Topic6\", \"Topic6\", \"Topic6\", \"Topic6\", \"Topic6\", \"Topic6\", \"Topic6\", \"Topic6\", \"Topic6\", \"Topic6\", \"Topic6\", \"Topic6\", \"Topic6\", \"Topic6\", \"Topic6\", \"Topic6\", \"Topic6\", \"Topic6\", \"Topic6\", \"Topic6\", \"Topic6\", \"Topic6\", \"Topic6\", \"Topic6\", \"Topic6\", \"Topic7\", \"Topic7\", \"Topic7\", \"Topic7\", \"Topic7\", \"Topic7\", \"Topic7\", \"Topic7\", \"Topic7\", \"Topic7\", \"Topic7\", \"Topic7\", \"Topic7\", \"Topic7\", \"Topic7\", \"Topic7\", \"Topic7\", \"Topic7\", \"Topic7\", \"Topic7\", \"Topic7\", \"Topic7\", \"Topic7\", \"Topic7\", \"Topic7\", \"Topic7\", \"Topic7\", \"Topic7\", \"Topic7\", \"Topic7\", \"Topic7\", \"Topic7\", \"Topic7\", \"Topic7\", \"Topic7\", \"Topic7\", \"Topic7\", \"Topic7\", \"Topic7\", \"Topic7\", \"Topic7\", \"Topic7\", \"Topic7\", \"Topic7\", \"Topic7\", \"Topic7\", \"Topic7\", \"Topic7\", \"Topic7\", \"Topic7\", \"Topic7\", \"Topic7\", \"Topic7\", \"Topic7\", \"Topic7\", \"Topic7\", \"Topic7\", \"Topic7\", \"Topic7\", \"Topic7\", \"Topic7\", \"Topic7\", \"Topic7\", \"Topic7\", \"Topic7\", \"Topic7\", \"Topic7\", \"Topic7\", \"Topic7\", \"Topic7\", \"Topic8\", \"Topic8\", \"Topic8\", \"Topic8\", \"Topic8\", \"Topic8\", \"Topic8\", \"Topic8\", \"Topic8\", \"Topic8\", \"Topic8\", \"Topic8\", \"Topic8\", \"Topic8\", \"Topic8\", \"Topic8\", \"Topic8\", \"Topic8\", \"Topic8\", \"Topic8\", \"Topic8\", \"Topic8\", \"Topic8\", \"Topic8\", \"Topic8\", \"Topic8\", \"Topic8\", \"Topic8\", \"Topic8\", \"Topic8\", \"Topic8\", \"Topic8\", \"Topic8\", \"Topic8\", \"Topic8\", \"Topic8\", \"Topic8\", \"Topic8\", \"Topic8\", \"Topic8\", \"Topic8\", \"Topic8\", \"Topic8\", \"Topic8\", \"Topic8\", \"Topic8\", \"Topic8\", \"Topic8\", \"Topic8\", \"Topic8\", \"Topic8\", \"Topic8\", \"Topic8\", \"Topic8\", \"Topic8\", \"Topic8\", \"Topic8\", \"Topic8\", \"Topic8\", \"Topic8\", \"Topic8\", \"Topic8\", \"Topic8\", \"Topic8\", \"Topic8\", \"Topic8\", \"Topic8\", \"Topic8\", \"Topic8\", \"Topic8\", \"Topic8\", \"Topic8\", \"Topic8\", \"Topic8\", \"Topic8\", \"Topic8\", \"Topic8\", \"Topic9\", \"Topic9\", \"Topic9\", \"Topic9\", \"Topic9\", \"Topic9\", \"Topic9\", \"Topic9\", \"Topic9\", \"Topic9\", \"Topic9\", \"Topic9\", \"Topic9\", \"Topic9\", \"Topic9\", \"Topic9\", \"Topic9\", \"Topic9\", \"Topic9\", \"Topic9\", \"Topic9\", \"Topic9\", \"Topic9\", \"Topic9\", \"Topic9\", \"Topic9\", \"Topic9\", \"Topic9\", \"Topic9\", \"Topic9\", \"Topic9\", \"Topic9\", \"Topic9\", \"Topic9\", \"Topic9\", \"Topic9\", \"Topic9\", \"Topic9\", \"Topic9\", \"Topic9\", \"Topic9\", \"Topic9\", \"Topic9\", \"Topic9\", \"Topic9\", \"Topic9\", \"Topic9\", \"Topic9\", \"Topic9\", \"Topic9\", \"Topic9\", \"Topic9\", \"Topic9\", \"Topic9\", \"Topic9\", \"Topic9\", \"Topic9\", \"Topic9\", \"Topic9\", \"Topic9\", \"Topic9\", \"Topic9\", \"Topic9\", \"Topic9\", \"Topic10\", \"Topic10\", \"Topic10\", \"Topic10\", \"Topic10\", \"Topic10\", \"Topic10\", \"Topic10\", \"Topic10\", \"Topic10\", \"Topic10\", \"Topic10\", \"Topic10\", \"Topic10\", \"Topic10\", \"Topic10\", \"Topic10\", \"Topic10\", \"Topic10\", \"Topic10\", \"Topic10\", \"Topic10\", \"Topic10\", \"Topic10\", \"Topic10\", \"Topic10\", \"Topic10\", \"Topic10\", \"Topic10\", \"Topic10\", \"Topic10\", \"Topic10\", \"Topic10\", \"Topic10\", \"Topic10\", \"Topic10\", \"Topic10\", \"Topic10\", \"Topic10\", \"Topic10\", \"Topic10\", \"Topic10\", \"Topic10\", \"Topic10\", \"Topic10\", \"Topic10\", \"Topic10\", \"Topic10\", \"Topic10\", \"Topic10\", \"Topic10\", \"Topic10\", \"Topic10\", \"Topic10\", \"Topic10\", \"Topic10\", \"Topic10\", \"Topic10\", \"Topic10\", \"Topic10\", \"Topic10\", \"Topic10\", \"Topic10\", \"Topic10\"], \"logprob\": [30.0, 29.0, 28.0, 27.0, 26.0, 25.0, 24.0, 23.0, 22.0, 21.0, 20.0, 19.0, 18.0, 17.0, 16.0, 15.0, 14.0, 13.0, 12.0, 11.0, 10.0, 9.0, 8.0, 7.0, 6.0, 5.0, 4.0, 3.0, 2.0, 1.0, -4.6118, -5.1336, -6.0864, -6.1464, -6.2867, -6.3605, -6.2699, -6.4397, -6.4915, -6.8359, -6.9319, -7.0225, -7.0609, -7.318, -7.367, -7.5702, -7.6196, -7.6948, -7.7762, -7.8127, -7.8917, -7.921, -7.9224, -7.681, -8.0545, -8.1778, -8.2504, -8.3048, -8.3495, -8.4162, -3.76, -5.4422, -3.8121, -6.5532, -5.1526, -4.7765, -7.0325, -7.0121, -7.1378, -4.0489, -5.1546, -6.3334, -6.311, -5.9151, -5.7563, -4.016, -6.0887, -5.2033, -6.1724, -5.7017, -5.2844, -5.4044, -4.5006, -4.6527, -4.3121, -4.1363, -5.0895, -5.7269, -4.9337, -4.8575, -4.0188, -5.8214, -4.5808, -5.6599, -4.3931, -4.5444, -5.0357, -4.4989, -5.1061, -5.1409, -4.6724, -4.6452, -4.694, -5.0466, -6.0465, -6.067, -6.0719, -6.1311, -6.4475, -6.5457, -4.9105, -6.7164, -6.7796, -6.823, -6.8544, -3.5134, -7.0409, -4.1027, -7.1089, -7.1406, -7.1581, -7.186, -7.2088, -7.236, -7.2885, -7.3003, -7.299, -7.3268, -7.4439, -7.4569, -7.4902, -7.503, -7.523, -7.535, -5.828, -7.0186, -7.2425, -5.836, -6.5692, -5.6719, -4.0898, -5.6566, -6.4515, -6.7569, -6.6831, -5.7776, -5.7148, -5.1331, -6.8008, -5.6188, -5.4692, -4.9181, -4.3532, -4.8448, -4.2104, -4.253, -5.3243, -5.1247, -5.0976, -5.438, -4.5413, -4.7871, -4.9316, -4.8393, -4.3837, -5.439, -5.3739, -5.3383, -5.1021, -5.3672, -4.9805, -5.1369, -5.2628, -5.1701, -5.3795, -5.3285, -5.3874, -5.3794, -5.386, -4.2097, -4.6303, -4.8371, -5.1259, -5.4627, -5.7771, -6.0534, -6.7357, -5.282, -7.0043, -7.1147, -7.1806, -7.2135, -7.3978, -7.4613, -7.5457, -7.5512, -7.584, -7.6319, -7.6351, -7.7401, -7.7968, -7.8502, -7.8614, -7.8661, -7.9838, -8.0453, -8.096, -8.0985, -8.1414, -4.2472, -4.7961, -6.2371, -6.9906, -6.5759, -4.3563, -5.6902, -7.4623, -5.1009, -5.8894, -6.582, -5.6201, -6.02, -6.038, -6.3268, -7.1702, -4.876, -5.798, -5.0293, -5.1759, -4.0897, -5.2372, -4.5082, -5.2255, -5.2722, -5.6555, -3.7473, -3.7348, -5.1597, -3.9971, -4.0991, -4.1799, -5.2802, -4.2945, -5.0519, -4.5301, -4.7983, -4.6763, -4.8165, -5.0212, -5.0962, -5.1448, -5.1769, -5.5298, -6.0029, -6.2828, -6.3675, -6.5358, -6.5641, -6.9002, -6.9658, -7.0206, -7.1603, -7.2302, -7.277, -7.289, -7.3236, -7.3347, -7.3963, -7.423, -7.4414, -7.4974, -7.5385, -7.5795, -7.5928, -7.5871, -7.5944, -7.6592, -7.6733, -7.6902, -7.7068, -7.7596, -7.7819, -4.9854, -6.1613, -5.1679, -7.0983, -6.7073, -5.6652, -5.3981, -3.8612, -4.6976, -6.5618, -4.1003, -5.3062, -6.6934, -4.1804, -5.9244, -6.6237, -5.7271, -5.9703, -5.8427, -6.5202, -3.3912, -6.0352, -6.2375, -4.7142, -3.8795, -6.0172, -3.7107, -5.8403, -4.4186, -5.4435, -4.5526, -4.8175, -5.3883, -4.666, -4.6707, -5.0493, -4.7499, -5.4528, -4.8257, -5.0295, -5.3546, -5.5542, -5.3221, -5.3486, -5.4315, -5.3911, -5.3909, -4.2008, -4.7862, -5.1173, -5.3301, -5.385, -5.8764, -5.9043, -5.9494, -6.0212, -6.136, -5.4286, -5.9384, -6.2964, -6.3514, -6.4337, -6.4471, -6.534, -6.6307, -6.703, -6.8451, -6.8626, -6.895, -6.4083, -6.9025, -7.0162, -5.2702, -7.1496, -7.1652, -7.2016, -7.2851, -6.4624, -6.9295, -6.7358, -5.7358, -4.4461, -5.293, -5.9786, -4.9925, -4.5703, -5.2781, -5.3863, -5.1354, -4.8506, -4.9438, -5.2187, -4.7768, -4.7447, -5.4752, -5.0185, -4.0664, -4.4342, -4.201, -4.1689, -4.2441, -5.4361, -4.5141, -4.6634, -4.6915, -4.9246, -4.9999, -5.1788, -5.1991, -5.2362, -2.5798, -4.6898, -5.2612, -5.2775, -5.3983, -5.497, -5.8782, -6.1972, -6.3736, -6.4146, -6.4999, -6.5427, -6.7487, -6.7673, -6.8167, -6.8273, -6.844, -6.9466, -7.1111, -7.1202, -7.17, -7.18, -7.2225, -7.2721, -7.2938, -7.3702, -7.3748, -7.4023, -7.4152, -7.4286, -5.4702, -6.0661, -6.8581, -5.4763, -4.7657, -3.5876, -6.1035, -5.3358, -4.5446, -6.5215, -5.6158, -5.2455, -5.7887, -5.0572, -4.949, -5.3473, -4.9298, -5.2239, -6.2403, -5.2276, -5.6339, -5.2723, -3.8833, -5.514, -4.0856, -4.1608, -4.4839, -4.4438, -4.4374, -4.5963, -5.4445, -4.9075, -4.855, -5.2254, -5.0389, -5.2421, -5.2372, -5.2547, -5.2852, -4.9061, -5.5077, -5.1899, -5.9418, -5.9708, -6.0107, -6.4008, -6.6532, -6.4659, -6.7625, -6.3297, -6.7816, -6.8603, -6.866, -6.8708, -6.8932, -6.9145, -7.0319, -7.0587, -7.0591, -7.0773, -7.0972, -7.1206, -6.9853, -7.2003, -6.5594, -7.2677, -7.3029, -7.3583, -7.3584, -3.9409, -6.7899, -3.5165, -4.6902, -4.6797, -6.0416, -4.5717, -3.738, -4.9424, -4.9032, -5.7089, -4.5052, -3.4669, -5.1422, -6.0017, -5.0721, -5.9016, -6.3554, -3.8676, -5.5136, -5.284, -5.2592, -4.8829, -5.8393, -5.6038, -5.394, -5.4876, -5.1679, -4.7772, -5.3852, -4.7246, -5.3341, -5.1546, -4.9514, -5.1726, -5.0173, -4.9806, -5.0311, -5.2774, -5.353, -4.4467, -4.8844, -5.2474, -6.3457, -6.39, -6.7855, -6.822, -6.8326, -6.9958, -7.0353, -7.0383, -7.0565, -7.0654, -7.0969, -7.1109, -7.1417, -7.1603, -7.1605, -7.1734, -7.177, -7.2167, -7.2399, -7.3029, -7.3131, -7.3291, -7.2381, -7.3356, -7.3645, -7.0441, -7.4179, -6.0636, -6.0638, -5.6018, -2.598, -6.7615, -7.1229, -6.777, -6.3374, -5.506, -6.5435, -6.7193, -5.5862, -5.6086, -4.5645, -4.8239, -6.5929, -5.0881, -5.4615, -5.2778, -5.5863, -4.5874, -6.2386, -5.5937, -5.2805, -4.8144, -5.1674, -4.5265, -4.5507, -5.9067, -4.7904, -5.5847, -4.863, -4.8979, -4.338, -4.9122, -5.0957, -5.0838, -4.7983, -5.1476, -4.4662, -4.9125, -5.0677, -5.1628, -5.3245, -5.1096, -5.1176, -5.2721, -1.9571, -5.0984, -5.44, -5.4992, -5.62, -5.6306, -5.6247, -5.7934, -5.8576, -6.1062, -6.1857, -6.3283, -6.3383, -6.4679, -6.5685, -5.1792, -6.7311, -6.7365, -6.7502, -6.8329, -6.8364, -6.8468, -6.8486, -6.8903, -6.8939, -6.8984, -6.8994, -6.9144, -6.9302, -6.9791, -5.6546, -3.7618, -5.1573, -6.3769, -6.7735, -4.6319, -5.5637, -6.3414, -4.8799, -4.8447, -5.2856, -5.0784, -3.6798, -4.3538, -5.9921, -4.5123, -5.0504, -5.332, -4.1022, -4.7363, -4.9862, -5.3688, -4.4552, -4.3612, -5.0046, -4.5761, -4.655, -4.7984, -4.9044, -5.1532, -4.9302, -5.0742, -5.1803, -5.3525, -3.7518, -4.9147, -5.4278, -5.6654, -5.7967, -5.8596, -5.5151, -5.7562, -6.0772, -6.1812, -6.253, -6.2701, -5.5145, -6.5037, -6.6, -6.6227, -6.6566, -6.6962, -6.1646, -6.8143, -6.8185, -6.8596, -6.8975, -6.9459, -5.337, -6.9744, -6.9843, -6.9958, -6.9961, -7.0473, -6.4469, -4.4847, -6.5162, -5.3353, -4.3892, -4.7122, -5.4332, -3.5194, -4.5565, -6.0405, -3.9364, -4.1416, -4.7968, -5.5567, -5.8095, -5.6863, -3.3486, -4.7956, -4.3211, -4.6125, -5.6862, -5.7404, -5.2528, -5.1035, -5.3379, -5.3412, -5.181, -5.2025, -5.0918, -5.2791, -5.428, -5.2664, -5.3754, -5.4287], \"loglift\": [30.0, 29.0, 28.0, 27.0, 26.0, 25.0, 24.0, 23.0, 22.0, 21.0, 20.0, 19.0, 18.0, 17.0, 16.0, 15.0, 14.0, 13.0, 12.0, 11.0, 10.0, 9.0, 8.0, 7.0, 6.0, 5.0, 4.0, 3.0, 2.0, 1.0, 1.6765, 1.6765, 1.6764, 1.6764, 1.6764, 1.6764, 1.6763, 1.6763, 1.6763, 1.6762, 1.6762, 1.6762, 1.6761, 1.676, 1.6759, 1.6759, 1.6758, 1.6758, 1.6757, 1.6757, 1.6756, 1.6756, 1.6756, 1.6755, 1.6754, 1.6753, 1.6752, 1.6751, 1.6751, 1.6749, 1.6738, 1.6689, 1.6471, 1.6745, 1.6587, 1.654, 1.6749, 1.6733, 1.6714, 1.6269, 1.6177, 1.6438, 1.6395, 1.6259, 1.606, 1.498, 1.607, 1.4884, 1.5731, 1.5127, 1.4598, 1.4504, 1.3009, 1.307, 1.2187, 1.1566, 1.2039, 1.4205, 1.1261, 1.076, 0.7106, 1.447, 0.7653, 1.327, 0.4343, 0.5192, 0.8246, 0.2616, 0.8179, 0.8205, 0.2899, 0.0196, 0.0502, 0.5739, 2.0792, 2.0792, 2.0792, 2.0792, 2.0791, 2.0791, 2.0791, 2.079, 2.079, 2.079, 2.079, 2.079, 2.0789, 2.0788, 2.0788, 2.0788, 2.0788, 2.0788, 2.0787, 2.0787, 2.0787, 2.0787, 2.0787, 2.0787, 2.0786, 2.0785, 2.0785, 2.0785, 2.0785, 2.0785, 2.0723, 2.0759, 2.0776, 2.0556, 2.0464, 1.9953, 1.9111, 1.9643, 2.0177, 1.9959, 1.9768, 1.7115, 1.6649, 1.3736, 1.9428, 1.4355, 1.3461, 1.0244, 0.7104, 0.9478, 0.5338, 0.5076, 1.1558, 1.0289, 0.9299, 1.1216, 0.4211, 0.6123, 0.6888, 0.5068, -0.0239, 1.1043, 1.0019, 0.9102, 0.4647, 0.9254, -0.1054, 0.0202, 0.349, -0.4298, 0.4637, 0.0622, 0.497, 0.3477, -0.6566, 2.085, 2.085, 2.085, 2.085, 2.0849, 2.0849, 2.0848, 2.0846, 2.0845, 2.0845, 2.0844, 2.0844, 2.0843, 2.0842, 2.0841, 2.084, 2.084, 2.084, 2.084, 2.084, 2.0838, 2.0838, 2.0837, 2.0837, 2.0837, 2.0835, 2.0834, 2.0833, 2.0833, 2.0832, 2.0802, 2.0676, 2.0797, 2.0817, 2.0711, 2.0389, 2.0604, 2.0771, 1.9929, 1.9949, 2.0142, 1.9218, 1.9546, 1.9453, 1.9713, 2.0475, 1.7148, 1.827, 1.6546, 1.6682, 1.3097, 1.5944, 1.3584, 1.5356, 1.4909, 1.6052, 0.6585, 0.625, 1.351, 0.6677, 0.5328, 0.5807, 1.3917, 0.5329, 1.0802, 0.2141, 0.5924, 0.1988, 0.1458, 0.5457, 0.7224, 0.6256, 0.4435, 2.1032, 2.1031, 2.103, 2.103, 2.1029, 2.1029, 2.1028, 2.1027, 2.1027, 2.1026, 2.1025, 2.1025, 2.1025, 2.1025, 2.1025, 2.1024, 2.1024, 2.1024, 2.1023, 2.1023, 2.1022, 2.1022, 2.1022, 2.1022, 2.1021, 2.1021, 2.1021, 2.1021, 2.102, 2.102, 2.1011, 2.0995, 2.0068, 2.0825, 2.0472, 1.9701, 1.9358, 1.7658, 1.8295, 2.0063, 1.7431, 1.8568, 2.0088, 1.6381, 1.892, 1.9578, 1.7577, 1.8107, 1.7513, 1.9124, 1.0146, 1.7668, 1.7929, 1.1524, 0.7524, 1.6879, 0.6491, 1.4694, 0.4564, 1.13, 0.4097, 0.5732, 0.9226, 0.0782, -0.0058, 0.4254, -0.0097, 0.954, -0.0963, 0.034, 0.6526, 1.007, 0.403, 0.2182, 0.5111, -0.309, -0.5635, 2.199, 2.199, 2.199, 2.1989, 2.1989, 2.1988, 2.1988, 2.1988, 2.1988, 2.1988, 2.1988, 2.1987, 2.1987, 2.1987, 2.1987, 2.1987, 2.1986, 2.1986, 2.1986, 2.1985, 2.1985, 2.1985, 2.1985, 2.1985, 2.1984, 2.1983, 2.1983, 2.1983, 2.1982, 2.1982, 2.1967, 2.1981, 2.1928, 2.1565, 2.0448, 2.0902, 2.1344, 2.0475, 1.9993, 2.0114, 1.9918, 1.9152, 1.8232, 1.7995, 1.8657, 1.4823, 1.4153, 1.7568, 1.3431, 0.6738, 0.6479, 0.4309, 0.1909, 0.1617, 1.5452, 0.1507, 0.2117, 0.1358, -0.1804, -0.2393, 0.388, -0.2367, 0.1545, 2.4127, 2.4126, 2.4126, 2.4126, 2.4125, 2.4125, 2.4124, 2.4123, 2.4123, 2.4122, 2.4122, 2.4122, 2.4121, 2.412, 2.412, 2.412, 2.412, 2.4119, 2.4118, 2.4118, 2.4117, 2.4117, 2.4117, 2.4116, 2.4116, 2.4115, 2.4115, 2.4115, 2.4115, 2.4114, 2.4048, 2.4053, 2.4072, 2.3153, 2.2475, 2.1641, 2.3317, 2.2595, 2.138, 2.3462, 2.1919, 2.1188, 2.1759, 1.9712, 1.9125, 1.8595, 1.6892, 1.8004, 2.1877, 1.6924, 1.8748, 1.6593, 0.7486, 1.735, 0.2741, 0.245, 0.3912, 0.2965, 0.2275, 0.1479, 1.5129, 0.1745, -0.0276, 0.6892, -0.0765, 0.3849, 0.3375, -0.4941, -0.2217, 2.5182, 2.5182, 2.5181, 2.518, 2.518, 2.518, 2.5179, 2.5177, 2.5177, 2.5176, 2.5176, 2.5176, 2.5176, 2.5176, 2.5176, 2.5175, 2.5175, 2.5174, 2.5174, 2.5174, 2.5174, 2.5174, 2.5173, 2.5173, 2.5172, 2.5172, 2.5172, 2.5171, 2.5171, 2.5171, 2.3486, 2.4819, 2.2539, 2.3043, 2.3004, 2.4041, 2.1883, 2.0467, 2.1678, 2.1311, 2.2377, 1.8564, 1.2734, 1.8896, 2.196, 1.8479, 2.1586, 2.3154, 1.2145, 1.7997, 1.6477, 1.6314, 1.2771, 1.8641, 1.5526, 1.2899, 1.3665, 0.8298, 0.0502, 1.087, -0.3188, 0.925, 0.3815, -0.222, 0.4021, -0.1422, -0.3158, -0.6713, 0.339, -0.5924, 2.7963, 2.7962, 2.7961, 2.7957, 2.7957, 2.7954, 2.7953, 2.7952, 2.7952, 2.7951, 2.7951, 2.7951, 2.7951, 2.795, 2.795, 2.795, 2.7949, 2.7949, 2.7949, 2.7949, 2.7949, 2.7948, 2.7947, 2.7947, 2.7947, 2.7947, 2.7947, 2.7946, 2.7946, 2.7945, 2.7857, 2.7796, 2.7332, 2.559, 2.7705, 2.7836, 2.7602, 2.7201, 2.6259, 2.7256, 2.7448, 2.6136, 2.6121, 2.4724, 2.489, 2.7194, 2.4745, 2.5186, 2.4119, 2.4796, 2.2328, 2.5578, 2.2272, 2.0223, 1.6964, 1.8758, 1.4547, 1.3639, 2.2307, 1.468, 2.0091, 1.485, 1.5088, 1.0614, 1.4474, 1.5906, 1.4371, 1.062, 1.4119, 0.2631, 0.6236, 0.837, 0.9752, 1.6094, 0.5068, 0.4571, -0.5115, 2.9805, 2.9803, 2.9802, 2.9802, 2.9802, 2.9802, 2.9802, 2.9801, 2.9801, 2.98, 2.9799, 2.9798, 2.9798, 2.9797, 2.9796, 2.9796, 2.9795, 2.9794, 2.9794, 2.9793, 2.9793, 2.9793, 2.9793, 2.9793, 2.9793, 2.9792, 2.9792, 2.9792, 2.9792, 2.9791, 2.9768, 2.8424, 2.8014, 2.9047, 2.9599, 2.4117, 2.6077, 2.8186, 2.2007, 2.0458, 2.185, 1.9501, 0.9521, 1.2667, 2.4059, 1.1148, 1.5685, 1.7758, 0.3036, 1.0154, 1.2729, 1.7156, 0.3054, -0.0014, 1.0753, 0.0887, 0.2201, -0.0542, 0.1777, 1.0608, -0.1029, 0.5005, 0.9302, 1.0917, 3.0206, 3.0205, 3.0203, 3.0203, 3.0202, 3.0202, 3.0202, 3.0201, 3.0201, 3.02, 3.02, 3.0199, 3.0198, 3.0197, 3.0197, 3.0196, 3.0196, 3.0196, 3.0195, 3.0194, 3.0194, 3.0194, 3.0193, 3.0192, 3.0192, 3.0192, 3.0192, 3.0192, 3.0192, 3.0191, 3.0188, 2.9876, 3.0084, 2.9647, 2.9057, 2.801, 2.8569, 2.5157, 2.6585, 2.8586, 2.322, 2.2065, 2.3376, 2.6193, 2.704, 2.6178, 1.3808, 2.0703, 1.6766, 1.8412, 2.5558, 2.6012, 2.0606, 1.8788, 1.9649, 1.9129, 1.4928, 1.3213, 1.0156, 1.1276, 1.6226, -0.5261, 0.4678, 0.5049]}, \"token.table\": {\"Topic\": [3, 4, 5, 6, 7, 8, 9, 10, 3, 4, 6, 9, 4, 2, 8, 10, 1, 2, 3, 4, 5, 6, 7, 8, 9, 10, 1, 2, 5, 6, 8, 9, 10, 8, 3, 1, 3, 4, 8, 10, 4, 1, 1, 2, 3, 4, 5, 6, 7, 8, 9, 10, 8, 1, 2, 3, 4, 5, 6, 7, 8, 9, 10, 1, 2, 3, 5, 6, 7, 8, 9, 10, 3, 5, 7, 10, 5, 3, 7, 10, 10, 7, 4, 6, 7, 1, 5, 6, 1, 4, 8, 9, 1, 2, 3, 4, 5, 6, 7, 8, 9, 10, 1, 2, 3, 4, 5, 6, 7, 8, 9, 10, 4, 9, 10, 9, 4, 6, 7, 9, 2, 4, 5, 6, 9, 4, 3, 4, 5, 6, 7, 9, 10, 7, 3, 4, 8, 1, 2, 3, 4, 5, 6, 7, 8, 10, 10, 6, 9, 2, 8, 10, 3, 4, 8, 1, 4, 5, 6, 1, 2, 3, 4, 5, 6, 7, 8, 9, 10, 1, 2, 3, 5, 6, 7, 9, 10, 10, 3, 1, 2, 3, 4, 5, 6, 7, 8, 9, 10, 5, 7, 10, 3, 6, 7, 9, 2, 4, 2, 6, 9, 6, 10, 7, 2, 8, 2, 7, 3, 5, 7, 1, 2, 3, 4, 5, 6, 7, 8, 9, 10, 7, 6, 7, 3, 4, 5, 7, 8, 1, 2, 4, 5, 6, 8, 10, 1, 1, 8, 8, 6, 3, 4, 5, 7, 8, 10, 4, 9, 1, 2, 3, 4, 5, 7, 8, 9, 10, 3, 5, 2, 8, 3, 9, 10, 3, 9, 9, 1, 1, 2, 3, 4, 5, 6, 7, 8, 9, 3, 3, 5, 7, 10, 1, 3, 4, 10, 2, 3, 2, 3, 5, 7, 7, 2, 5, 8, 10, 5, 2, 8, 9, 10, 3, 3, 7, 7, 7, 2, 1, 6, 7, 3, 7, 9, 2, 4, 5, 6, 7, 8, 9, 10, 3, 4, 6, 7, 4, 5, 7, 6, 4, 1, 1, 8, 10, 1, 2, 3, 4, 5, 6, 7, 8, 9, 10, 4, 5, 10, 6, 3, 8, 1, 2, 3, 4, 5, 6, 7, 8, 9, 10, 10, 5, 7, 10, 6, 3, 7, 8, 3, 4, 5, 8, 10, 10, 4, 1, 2, 3, 4, 5, 6, 7, 8, 9, 10, 1, 3, 10, 3, 8, 3, 4, 5, 6, 7, 9, 6, 1, 1, 3, 4, 5, 9, 3, 5, 7, 3, 3, 10, 4, 2, 7, 3, 4, 5, 6, 7, 9, 7, 5, 3, 10, 3, 6, 7, 9, 1, 2, 3, 4, 5, 6, 7, 8, 9, 10, 1, 2, 3, 4, 5, 6, 7, 8, 9, 10, 6, 9, 9, 1, 3, 4, 5, 6, 7, 9, 10, 1, 2, 3, 4, 6, 8, 9, 1, 2, 1, 2, 3, 4, 5, 6, 9, 10, 1, 2, 3, 4, 5, 7, 8, 10, 8, 2, 4, 8, 5, 2, 8, 6, 6, 5, 4, 6, 9, 2, 9, 8, 9, 1, 2, 3, 4, 5, 6, 7, 8, 9, 10, 1, 2, 3, 5, 7, 8, 10, 5, 7, 10, 2, 3, 4, 8, 9, 1, 2, 3, 4, 5, 6, 7, 8, 9, 10, 6, 1, 2, 3, 4, 5, 6, 7, 8, 9, 10, 1, 3, 5, 7, 8, 1, 2, 3, 4, 5, 6, 7, 8, 9, 10, 2, 2, 8, 1, 2, 3, 4, 5, 6, 7, 8, 9, 10, 3, 7, 8, 10, 3, 2, 8, 10, 1, 2, 3, 4, 5, 6, 7, 8, 9, 10, 2, 1, 2, 3, 4, 5, 6, 7, 8, 9, 10, 5, 1, 2, 3, 4, 5, 6, 7, 8, 9, 10, 2, 10, 2, 1, 7, 10, 6, 1, 2, 3, 5, 7, 8, 10, 8, 1, 2, 3, 4, 5, 6, 7, 8, 9, 10, 1, 2, 3, 4, 6, 7, 8, 9, 10, 5, 6, 5, 1, 3, 4, 7, 8, 9, 10, 2, 8, 5, 1, 2, 3, 4, 5, 6, 7, 8, 9, 10, 7, 10, 1, 9, 3, 4, 9, 1, 2, 3, 4, 5, 6, 7, 8, 9, 10, 1, 4, 5, 6, 7, 9, 10, 10, 3, 10, 1, 2, 3, 4, 5, 6, 7, 8, 9, 10, 1, 2, 3, 4, 5, 6, 7, 8, 9, 10, 3, 2, 3, 5, 7, 8, 10, 3, 4, 7, 3, 3, 3, 4, 4, 7, 5, 1, 2, 3, 4, 5, 6, 7, 8, 9, 10, 4, 5, 6, 8, 9, 2, 9, 5, 6, 7, 6, 1, 3, 5, 7, 8, 9, 10, 2, 5, 6, 7, 8, 10, 1, 2, 4, 5, 7, 10, 1, 2, 4, 10, 1, 8, 2, 6, 1, 9, 10, 3, 6, 7, 1, 2, 3, 4, 7, 8, 9, 10, 2, 3, 4, 5, 7, 8, 9, 10, 4, 5, 6, 7, 9, 1, 2, 3, 4, 5, 6, 7, 8, 9, 10, 7, 9, 7, 9, 1, 2, 3, 4, 5, 6, 7, 8, 9, 10, 3, 4, 7, 9, 1, 4, 5, 6, 7, 9, 3, 4, 4, 6, 7, 9, 6, 8, 1, 4, 8, 10, 2, 3, 4, 5, 7, 8, 9, 10, 8, 8, 3, 9, 1, 2, 3, 5, 6, 7, 8, 10, 8, 4, 1, 3, 7, 9, 8, 8, 6, 6, 4, 10, 6, 3, 6, 1, 2, 3, 4, 5, 6, 7, 8, 9, 10, 3, 3, 10, 6, 2, 8, 1, 2, 3, 4, 5, 7, 8, 10, 4, 5, 2, 2, 7, 6, 4, 1, 5, 7, 2, 1, 2, 3, 4, 5, 6, 7, 8, 9, 10, 7, 3, 1, 2, 3, 4, 5, 6, 7, 8, 9, 10, 6, 9, 9, 1, 2, 3, 4, 5, 6, 7, 9, 10, 8, 10, 4, 5, 9, 4, 10, 2, 3, 4, 5, 6, 7, 8, 10, 8, 1, 9, 1, 2, 3, 4, 5, 6, 7, 8, 9, 10, 4, 5, 4, 1, 2, 3, 4, 5, 6, 7, 8, 9, 10, 2, 1, 2, 3, 4, 5, 6, 7, 8, 9, 10, 2, 1, 2, 3, 5, 6, 7, 8, 9, 10, 1, 2, 3, 4, 5, 6, 7, 8, 9, 10, 2, 6, 8, 9, 1, 2, 3, 4, 5, 6, 7, 8, 9, 10, 5, 7, 6, 7, 1, 2, 3, 4, 5, 6, 7, 8, 9, 10, 1, 10, 1, 2, 3, 4, 5, 6, 7, 8, 9, 10, 6, 7, 9, 3, 4, 1, 1, 2, 4, 6, 7, 8, 10, 4, 8, 5, 7, 9, 6, 2, 3, 5, 7, 8, 10, 2, 5, 8, 1, 3, 5, 7, 3, 5, 3, 4, 6, 7, 8, 9, 7, 10, 4, 9, 4, 2, 3, 4, 5, 7, 8, 9, 10, 10, 6, 7, 2, 1, 2, 4, 6, 7, 8, 9, 1, 2, 3, 4, 6, 7, 9, 4, 6, 9, 1, 2, 3, 4, 5, 6, 7, 8, 9, 10, 7, 5, 1, 5, 2, 3, 4, 5, 6, 7, 8, 9, 10, 7, 3, 1, 2, 3, 4, 5, 6, 7, 8, 9, 10, 5, 7, 9, 4, 8, 1, 2, 3, 7, 10, 3, 4, 5, 7, 8, 10, 3, 10, 3, 7, 8, 2, 4, 5, 6, 7, 10, 1, 2, 3, 4, 5, 6, 7, 8, 9, 10, 5, 10, 1, 2, 3, 4, 5, 6, 7, 8, 9, 10, 5, 1, 2, 8, 10, 9, 4, 7, 9, 1, 2, 3, 4, 5, 6, 7, 8, 9, 10, 3, 3, 4, 5, 6, 7, 8, 9, 10, 6, 8, 1, 2, 3, 4, 5, 6, 7, 8, 9, 10, 1, 2, 3, 4, 5, 6, 7, 8, 9, 10, 1, 3, 4, 5, 6, 7, 9, 7, 7, 10, 5, 10, 8, 3, 5, 7, 9, 4, 5, 9, 4, 9, 10, 2, 8, 9, 3, 10, 1, 2, 3, 5, 7, 9, 10, 2, 3, 4, 7, 8, 10, 7, 2, 4, 6, 2, 4, 6, 4, 3, 3, 5, 8, 5, 10, 2, 3, 4, 5, 6, 8, 9, 4, 5, 7, 8, 10, 1, 2, 3, 4, 5, 6, 7, 8, 9, 10, 1, 2, 1, 2, 3, 4, 5, 6, 7, 8, 9, 10, 1, 3, 7, 8, 8, 7, 3, 4, 3, 6, 7, 10, 2, 2, 1, 2, 3, 4, 5, 6, 7, 8, 9, 10, 2, 3, 1, 2, 3, 5, 6, 7, 8, 9, 10, 4, 5, 10, 8, 9, 3, 7, 5, 8, 2, 1, 2, 3, 4, 5, 6, 7, 8, 9, 10, 1, 2, 3, 4, 5, 6, 7, 8, 9, 10, 1, 8, 1, 2, 3, 6, 10, 5, 7, 10, 1, 2, 3, 4, 5, 6, 7, 8, 9, 10, 1, 2, 4, 5, 7, 8, 9, 10, 4, 9, 1, 10, 4, 9, 2, 4, 6, 8, 10, 1, 1, 2, 3, 4, 5, 6, 7, 8, 9, 10, 2, 3, 5, 7, 8, 10, 3, 4, 5, 6, 7, 9, 8, 3, 5, 6, 9, 1, 9, 10, 8, 9, 10, 10, 5, 5, 3, 5, 7, 8, 10, 1, 5, 5, 1, 2, 3, 4, 5, 6, 7, 8, 9, 6, 1, 6, 7, 8, 1, 5, 9, 3, 5, 7, 10, 1, 2, 3, 4, 5, 6, 7, 8, 9, 10, 1, 2, 3, 4, 5, 6, 7, 8, 10, 1, 1, 2, 6, 1, 1, 2, 4, 5, 7, 6, 1, 1, 3, 10, 8, 1, 2, 3, 4, 5, 6, 7, 8, 9, 10, 1, 2, 3, 4, 5, 6, 7, 8, 9, 10, 1, 2, 4, 5, 6, 7, 8, 9, 3, 4, 5, 6, 7, 9, 4, 7, 3, 8, 4, 3, 10, 5, 5, 4, 3, 5, 6, 9, 10, 3, 4, 5, 9, 8, 4, 4, 6, 5, 10, 9, 5, 9, 4, 2, 8, 1, 2, 3, 4, 5, 6, 7, 8, 9, 10, 2, 3, 4, 5, 6, 9, 4, 8, 1, 2, 3, 4, 5, 6, 7, 8, 9, 10, 1, 3, 6, 8, 4, 3, 4, 6, 7, 9, 10, 2, 4, 8, 1, 3, 4, 5, 7, 8, 9, 3, 4, 7, 9, 4, 2, 4, 6, 8, 1, 3, 4, 7, 5, 1, 1, 2, 3, 4, 5, 6, 7, 8, 9, 10, 1, 3, 4, 5, 6, 7, 8, 9, 10, 1, 2, 3, 4, 5, 6, 7, 8, 9, 10, 4, 9, 9, 2, 3, 2, 3, 5, 7, 10, 5, 9, 1, 2, 3, 4, 5, 6, 7, 8, 9, 10, 10, 3, 1, 2, 3, 4, 5, 6, 7, 8, 9, 10, 1, 2, 3, 4, 5, 6, 7, 8, 9, 10, 6, 1, 5, 6, 7, 9, 5, 10, 1, 2, 3, 4, 5, 6, 7, 8, 9, 10, 2, 2, 2, 2, 3, 7, 1, 4, 10, 1, 2, 3, 4, 5, 6, 7, 8, 9, 10, 2, 5, 9, 1, 2, 3, 4, 5, 6, 7, 8, 9, 10, 4, 2, 1, 2, 3, 4, 5, 6, 7, 8, 9, 10, 6, 3, 4, 6, 7, 9, 1, 2, 8, 5, 1, 3, 7, 7, 2, 1, 4, 5, 6, 7, 9, 10, 4, 1, 1, 2, 3, 4, 5, 6, 7, 8, 10, 1, 2, 3, 4, 7, 8, 1, 2, 3, 4, 5, 6, 7, 8, 9, 10, 2, 6, 7, 8, 3, 7, 10, 5, 7, 1, 2, 3, 4, 5, 7, 9, 10, 1, 2, 3, 4, 5, 6, 7, 8, 9, 10, 1, 2, 3, 4, 5, 6, 7, 8, 9, 10, 1, 2, 3, 4, 5, 6, 7, 8, 9, 10, 1, 2, 3, 4, 5, 6, 7, 8, 9, 10, 1, 2, 3, 4, 5, 6, 7, 8, 9, 10, 9, 3, 7, 8, 6], \"Freq\": [0.04056861010733024, 0.1376520718265626, 0.4566797808954495, 0.026131260272008152, 0.28902134064630536, 0.0007887388271078576, 0.04900468625813602, 0.00017146496241475165, 0.01869144105561646, 0.809483178024005, 0.17073912502726574, 0.0008986269738277143, 0.9993744973273389, 0.004868746648693685, 0.7574076308272176, 0.23751016260149194, 0.08173556271152853, 0.1036027658650175, 0.14397440059461017, 0.12471656117876442, 0.13127672212481112, 0.07635145302751822, 0.1180277696259325, 0.11385646280589722, 0.058288040674678174, 0.04818135014155302, 0.997203810386815, 1.658964914967252e-05, 1.658964914967252e-05, 0.0006304066676875557, 0.00021566543894574274, 1.658964914967252e-05, 0.0019078096522123396, 0.9987712417048364, 0.9993603848213292, 0.9999520483235225, 0.10555852085450368, 0.8752060883916732, 0.004648173503536384, 0.014544284833646105, 0.9995642424136348, 0.9991163068374161, 0.7049425121394487, 0.00023521605343324948, 0.01183920802280689, 0.020150175244115037, 0.03724254179359783, 0.06789903409106468, 0.009330236786185562, 0.0765236227169505, 0.03324386888523259, 0.03865383811419733, 0.999857007629837, 0.17431403588319286, 0.20397252156534643, 0.14076255380752686, 0.33408055892747096, 0.04958448038052621, 0.06387587503565721, 0.0023562872908101298, 0.0168525764929681, 0.00010244727351348389, 0.014086500108104036, 0.33199036461104975, 0.24891279505197292, 0.1936877054918838, 0.000619832648936554, 0.0431083610034584, 0.0013796275089232974, 5.998380473579554e-05, 0.18017135482475122, 9.997300789299257e-05, 0.08932709550056883, 0.05077704120869301, 0.8041774961977975, 0.05568341175493175, 0.9993368896758166, 0.9951422376311788, 0.0048246863425589846, 0.9995166664614897, 0.9991037357536645, 0.9990157102826076, 0.0030613871666394002, 0.9941854823661452, 0.0015306935833197001, 0.00017350452751993705, 0.24001459640257958, 0.7597763260098043, 0.9996380406423165, 0.9996927888215436, 0.9985884524364202, 0.9993102458796878, 0.24217337701450767, 0.014210662709897761, 0.11891879842987024, 0.04719697252171689, 0.134791191859877, 0.1255275206040969, 0.12048502738445574, 0.09639948211942742, 0.08373594801101046, 0.01656000614177602, 0.17509753816818863, 0.06003090442586308, 0.16677224631918766, 0.18262360199968553, 0.1255676018611988, 0.09652898389188337, 0.08187647023764165, 0.06618052000499179, 0.03678668958345233, 0.008525098853377005, 0.9961047522661466, 0.0036436020763815154, 0.9995712786365268, 0.9986408393307612, 0.216512435383957, 0.5420950449838924, 0.01758146091839651, 0.22375664844755558, 0.036098264954924054, 0.09335758177997601, 0.13236030483472153, 0.1718609349922936, 0.5662033604309122, 0.9993265486932885, 0.011135445808040035, 0.02835734646767959, 0.08846108812722488, 0.6064322288502797, 0.07186166580468072, 0.191999984864094, 0.0017291064919316825, 0.9990457661030152, 0.0002692896807548081, 0.16776747111024543, 0.8318358238516022, 0.11517468102579115, 0.10867579620301923, 0.012817245067133498, 0.10524582921322295, 0.0023468195193343025, 0.07202930678572206, 0.0023468195193343025, 0.5659445533163876, 0.01534458916487813, 0.9992097713654141, 0.9921751908229809, 0.007623320713200007, 0.976462665345239, 0.02344285367197895, 0.9986237350875075, 0.0013074404537543995, 0.9099785558130621, 0.08890595085529916, 0.10465333120546179, 0.7604445698425254, 0.13445527320436815, 0.00039603909633098127, 0.576680676165707, 0.13601808168668744, 0.06624055757323852, 0.04266078063850256, 0.057056854977604515, 0.05057241632055213, 0.046508007401538425, 0.0005584684010858517, 0.017839962812464707, 0.00589494423368399, 0.6868217664612206, 0.048884111491901826, 0.16898566384357436, 0.01224499067272639, 0.009992487496138756, 0.02427431614769439, 0.044403067938477495, 0.004409155154171537, 0.9986305478697367, 0.9992294712041861, 0.2083877804020228, 0.026752847934691827, 0.05326419573757601, 0.05989203268829705, 0.09203838356669304, 0.17844176405787426, 0.04776335940195733, 0.23873629696585075, 0.07363070685335443, 0.02106417816322275, 0.056014792466403646, 0.8072766564481134, 0.1366792538319863, 0.6188526337718883, 0.1425979994179476, 0.08320794326123189, 0.1552802509930796, 0.9196274900434396, 0.07976828677345887, 0.9993129233543392, 0.6430842206206003, 0.35685125918016536, 0.99933249164131, 0.999615214500681, 0.9995538197874497, 0.010097936879097479, 0.9895978141515529, 0.9987050712081242, 0.999275035622838, 0.6501940245022818, 0.05703964322539611, 0.29272629086738816, 0.5945193350360932, 0.07462652115058356, 0.09540494237073059, 0.059799201153682514, 0.05593746960930013, 0.06400675940353198, 0.01919338215342292, 0.01051889562462367, 0.015302831716918272, 0.010677399531296082, 0.9994011381632497, 0.9995699032295761, 0.9998745083341092, 0.6905317862856611, 0.3039015196367213, 0.003957051036936475, 0.00021104272196994532, 0.0013717776928046446, 0.32463310945522605, 0.020001444444218006, 0.06282981619094503, 0.24953474927433317, 0.0023793539859292795, 0.30515214869543006, 0.03539289054069803, 0.9986378360499203, 0.9989545656826239, 0.9993857757727003, 0.9989458983157337, 0.99931486845443, 0.7725979040564637, 0.10670339858175132, 0.017066607561754384, 0.001038836982019832, 0.10047037668963232, 0.002077673964039664, 0.9995646224075395, 0.9994111610165359, 0.8488139126388046, 0.05620697484828452, 0.045379011217266486, 0.04390247072212766, 0.0018702846271758421, 9.843603300925485e-05, 0.001968720660185097, 0.0016734125611573326, 9.843603300925485e-05, 0.9963276722373982, 0.003154932464336283, 0.9993737766359438, 0.0005956996564800506, 0.99916701477379, 0.9992293269926847, 0.9993670425654105, 0.9999378732445028, 0.9996983238296179, 0.9990273663900787, 0.9995753586669569, 0.7949006040200346, 0.02867501852170037, 0.004571379764329045, 0.02420753375201517, 0.006960964641137409, 0.04716832756830423, 0.005714224705411306, 0.08779127047404643, 0.00010389499464384193, 0.9981551026831113, 0.1403004995550919, 0.8593302253244698, 8.2675603744898e-05, 0.000248026811234694, 0.00017346451709808746, 0.2473604013818727, 0.7462443525559722, 0.006071258098433061, 0.9995570189983678, 0.0003144744436049608, 0.07847360999854924, 0.9137944144684006, 0.007501153896920148, 0.00019233727940820892, 0.9988194415357229, 0.191545370927084, 0.6706238796686775, 0.13771356312081978, 0.0001229036707905576, 0.9997154140658523, 0.070136663391262, 0.0008658847332254567, 0.07995002370115051, 0.8488556668053561, 0.9999620592614126, 0.23235297310784295, 0.7676265822548121, 0.9993172159114365, 0.9994534575680956, 0.999399456480963, 0.9677974416852723, 0.0006332371483218793, 0.031450778366653345, 0.47970672504678386, 0.06892922719389101, 0.4513465448544634, 0.6606823175668184, 0.10103596700353876, 0.030310790101061625, 0.15503794936749912, 0.02020719340070775, 0.0009290663632509311, 0.03147212305512529, 0.00034839988621909913, 0.9983219409015033, 0.9981889619893362, 0.00016125916130224494, 0.9996455409126164, 0.28101795017411463, 6.249009343431502e-05, 0.7188860348683599, 0.9999871542390475, 0.9988396070979597, 0.9994699056868193, 0.9637261860881483, 0.00616587451112059, 0.030007255954120206, 0.49430235808990947, 0.007572587074040777, 6.947327590863099e-05, 0.0038210301749747044, 0.0009726258627208338, 0.02973456208889406, 0.004168396554517859, 0.052591269862833655, 0.02021672328941162, 0.3866187804315314, 0.9074269618824498, 0.0019055585087829688, 0.09032347331631273, 0.9996747905265843, 0.9983669258994424, 0.9981842114672399, 0.1043784075950006, 0.04301181626325498, 0.08846173548046987, 0.14909229573177477, 0.06615079335461034, 0.029579249045211718, 0.10042224053763169, 0.09573004239982205, 0.01564066045936545, 0.3074309819115862, 0.997755608450984, 0.8570957293737438, 0.1310234362897801, 0.011841768294411612, 0.9992553462490608, 0.9549051128464262, 0.04508321953230503, 0.9994431136011982, 0.24126624454426512, 0.05334210378436295, 0.03507674967762198, 0.16529691104558128, 0.5050688463943599, 0.9984984452200629, 0.9987243766640571, 0.4237363695660735, 0.15672070022432252, 0.09615597749677583, 0.14501946577964445, 0.07665392008897903, 0.036945564311437244, 0.032259653295397185, 0.010996993482729854, 0.007882081535651201, 0.01365144018545775, 0.9991360017883308, 0.9999188933170208, 0.997967513600756, 0.9860498108529537, 0.013609219472249048, 0.018981673403070734, 0.02545673021813692, 0.09845634335237624, 0.12338087711995976, 0.7043620023074051, 0.02927080478043618, 0.9994937982145506, 0.9986879066412601, 0.0002909302433512059, 0.8925739866014997, 0.07447814229790871, 0.02036511703458441, 0.012510000464101853, 0.9317818365342792, 0.05879986347502813, 0.009407978156004502, 0.999705721115333, 0.9998817219962973, 0.9996008649810794, 0.9996567944486788, 0.0005038795040585778, 0.9991930565481598, 0.00043316705677054403, 0.0005243601213538164, 0.00927889432134797, 0.7798830883161458, 0.06973989614005759, 0.1401409419983439, 0.9994084781088718, 0.9998349856723592, 0.0007056251657210577, 0.9991652346610177, 0.0005133332420663727, 0.4866399134789213, 0.5114999090589928, 0.0013199997653135299, 0.25581455542815895, 0.32250541715337205, 0.07032465867818945, 0.14998318796108287, 0.015366448552782363, 0.06091953715283889, 0.03215791551849663, 0.03690797689493631, 0.05567071933187304, 0.00038000491011517433, 0.7740586300558386, 0.038385354826172516, 0.041330993565830844, 0.038385354826172516, 0.03286228218931316, 0.04510509320101807, 0.0032217923715012905, 0.01666126912119239, 0.009481274693275227, 0.0005523072636859355, 0.8019052455457427, 0.19793750895385917, 0.9984841850740481, 0.15251812834926184, 0.36610354141479273, 0.038788231635729614, 0.15515292654291846, 0.04929407253448699, 0.14231245433332612, 0.09455256808881639, 0.0012673712830246994, 0.9017329434830575, 0.002176481296932742, 0.0005022649146767866, 0.021932234607553013, 0.047547745256069134, 0.018583801843041103, 0.007366552081926203, 0.9997417492772719, 0.9993266254765654, 0.2555140231670041, 0.00027504200556189895, 0.0022003360444951916, 0.034930334706361164, 0.0008251260166856968, 0.05830890517912258, 0.019527982394894824, 0.6281959407033771, 0.9992794263023673, 0.0004645444815259754, 0.20194412246907759, 0.18057507631888273, 0.0005972714762476827, 0.001260906449856219, 0.5691333533666807, 0.045989903671071565, 0.9991901747580842, 0.15620781111363455, 0.0002463845601161428, 0.8433743492775568, 0.9998763295790515, 0.9994760345067261, 0.0005054731938761891, 0.999020268452316, 0.998692527597009, 0.9997231293593913, 0.7135931152407641, 0.13162879632420244, 0.1547745326809047, 0.9989839883735765, 0.9997132959935021, 0.7877224703989314, 0.21165552092177972, 0.10511406948835328, 0.10726977488133779, 0.10642623798843082, 0.04681629755633746, 0.28052288005228837, 0.0866499841658338, 0.23900211965697804, 0.01701132734029079, 0.00932576898269385, 0.0018276632679651262, 0.0007533627658412112, 0.23057709333246434, 0.46054508485424855, 0.11645064880502978, 0.00815875846411014, 0.17639909017196873, 0.007084815797910966, 0.3971219764618307, 0.5197578657168179, 0.0829878988806655, 0.005657145329198191, 0.000887395345756579, 0.8457986889242393, 0.14764040065025083, 0.9995777736139337, 0.13496899448228641, 0.07311875639167018, 0.22726955449878436, 0.1107543413915385, 0.1093616031745543, 0.16095622348555966, 0.0283612146004054, 0.0040832552270672956, 0.14876976408694798, 0.002310679314541958, 0.999790371505253, 0.15762801321777536, 0.17721258025237824, 0.1233351984709505, 0.1405608955894423, 0.12478223631864889, 0.08378943811261777, 0.08440393363698284, 0.02134876386261872, 0.04965520285595162, 0.037305825059840696, 0.9998563597006919, 0.6591210690122447, 0.04927944467710399, 0.08904285865793962, 0.20248753888702453, 0.17075016839410542, 0.035402515304099026, 0.24430631471100647, 0.06009015890061798, 0.14740188376103397, 0.17089496395772136, 0.023022494614935562, 0.0008687733816956817, 0.14664170705205026, 0.0005791822544637877, 0.9995142943712954, 0.264516737781141, 0.7354325728042401, 0.007571057973320923, 0.18383151037960735, 0.2157232956781852, 0.3778269068055907, 0.02852110880360622, 0.06933222267349366, 0.028987817856756137, 0.07202876386947098, 0.010423168853681546, 0.0057560783221823454, 0.8494600505397296, 0.006010008397451054, 0.14410361043888323, 0.00040977329982620824, 0.9994211449098496, 0.016059881419345164, 0.9831658656405368, 0.0005018712943545364, 0.632647001992308, 0.03010863733583758, 0.06904694791588253, 0.044532265057741556, 0.05868167932485649, 0.03747583882117003, 0.015392515262158618, 0.03674460294173257, 0.04641519744729303, 0.028956940825723577, 0.9993077651911323, 0.2299481516841277, 0.2054512411514928, 0.07630227924670874, 0.16064870871082895, 0.08970919627572785, 0.08929267069812725, 0.054695014908677946, 0.03194230523224552, 0.04318849582746155, 0.018821749537826823, 0.998965017405144, 0.024575174806574056, 0.0028272983428695555, 0.21177208613972673, 0.2589954087244453, 0.17064977576856874, 0.18936946690188403, 0.009017593661994477, 0.001220202442712124, 0.1315437755314046, 3.720129398512573e-05, 0.9983826865503339, 0.0016168140672879901, 0.9989995226975056, 0.9990939030203386, 0.0323585148976672, 0.9674431580034832, 0.9991686521075334, 1.2579173236989274e-05, 0.12754023744983425, 0.0012076006307509702, 0.07957584989719414, 5.0316692947957096e-05, 0.7887267411324644, 0.002893209844507533, 0.9998916165200624, 0.42483900812125064, 0.044173809104406964, 0.059413913836799434, 0.07172971803013505, 0.0766785343270005, 0.07676288915024253, 0.052103162489157286, 0.09776724013750669, 0.04763235685732998, 0.048897679205960345, 0.17129432625016336, 0.0016648149750413475, 0.055665358892746146, 0.07067896303130085, 0.0005145791741036892, 0.02049235887459986, 0.07579448540915516, 0.0003329629950082695, 0.6035711018604449, 0.09256945204041812, 0.9072858225552345, 0.9996313243326335, 6.25585145372671e-05, 0.5772899721499009, 0.38035576838658397, 0.004066303444922361, 0.03459485853910871, 0.0003127925726863355, 0.0034407182995496908, 0.07299380745318963, 0.9256577340767125, 0.9998935168798669, 0.3142987648849631, 0.2543352256486907, 0.10095504542415597, 0.12627400257206617, 0.06635628950257733, 0.07176377718303598, 0.030772270995152395, 0.01144508515419108, 0.02256938714089733, 0.0012373065031557925, 0.00036879219461654906, 0.999426847410848, 0.992369765168727, 0.0075462005760728035, 0.15880111017103377, 0.7078324057745429, 0.13338777247510067, 0.09436668360802697, 0.34819098843558255, 0.11324002032963236, 0.2034678143057283, 0.07593482844716087, 0.06911945685324782, 0.024998893376863285, 0.04464482282976246, 0.021356670500763997, 0.004718334180401348, 0.02869970162904402, 0.71430368498954, 0.020550403635611766, 0.0017715865203113592, 0.18123330102785204, 0.05297043695730964, 0.0003543173040622718, 0.9999131515715932, 0.0009351532819857485, 0.9978085518787937, 0.26262762215030794, 0.17696109895016937, 0.17217836654611074, 0.146240385229216, 0.08393139237448008, 0.08386465657349322, 0.03832859503345592, 0.01815213786842718, 0.015104536290027027, 0.002624941505483342, 0.1907272137244633, 0.05249535107631475, 0.242353665625207, 0.12134599902377662, 0.1289507891533321, 0.11244939419071727, 0.05876987963619065, 0.03236457194671287, 0.055478827891549856, 0.0050749863351937504, 0.9995155413197867, 0.0005376665064806694, 0.1806559461775049, 0.008925264007579111, 0.0007527331090729371, 0.46110279595782205, 0.34797776299428923, 0.8776954956907665, 0.1185278397874554, 0.003789522408835164, 0.9989848525710675, 0.9997885401529765, 0.054182847574446864, 0.9454447725066618, 0.9993544193049484, 0.9995789694446383, 0.9995670071343291, 0.28873443325618975, 0.05832223865659853, 0.2117765793316227, 0.06946742215666513, 0.12704785476861638, 0.08713507100052072, 0.08473777097818495, 0.024416274567110194, 0.04580200004938085, 0.002551089080372388, 0.009785798396475722, 0.11069181792734832, 0.002406343867985833, 0.0061495454404082404, 0.8709360572863393, 0.9993056390331126, 0.9995599663131848, 0.9998092133665027, 0.992694751295869, 0.006920144658737324, 0.9992592128067435, 0.9823085015829142, 0.0007893198084233942, 0.01644416267548738, 6.577665070194952e-05, 6.577665070194952e-05, 6.577665070194952e-05, 0.0002631066028077981, 0.03699552210717324, 0.21008171482287658, 0.5840007418346632, 0.07438742480835189, 0.011891417820162826, 0.0825792904177974, 0.12614919794608195, 0.16185732358279192, 0.02809819722232916, 0.013756409056765319, 0.0014634477719963105, 0.6685029422479146, 0.0002591143321823157, 0.6922239384250564, 0.24887931606111421, 0.05855983907320335, 0.9998857815631595, 0.9991627170871363, 0.2545746254306164, 0.7454256103130088, 0.9982988646462693, 0.9991727518297433, 0.9983689324180881, 0.0013250659765190877, 0.7983522508527503, 0.19975369596025247, 8.242409996145966e-05, 0.00032969639984583866, 0.1044313346511694, 0.11325071334704558, 0.012940583693949168, 0.7232714771618085, 0.018545422491328425, 0.02719995298728169, 0.07111010599252392, 0.4799932154495364, 0.035262819683963914, 0.03199954769663576, 0.0022404553942849998, 0.3329024482595212, 9.741110409934783e-05, 0.04641639110333924, 0.019014859083962492, 0.8128852258393965, 0.0006956655762425302, 0.1673075710863285, 0.00011594426270708836, 0.054163065813668566, 0.25003250210018274, 0.04528101965129848, 0.25572165585124335, 0.010913886787748864, 0.011610517859307303, 0.03448323804214269, 0.29949330818083186, 0.014513147324134128, 0.023859614200876508, 0.9991570498654, 0.9995964731793121, 0.998948816053331, 0.9981886905593264, 0.10817509793557571, 0.04218599391920251, 0.20789005433059074, 0.08993560634304491, 0.0893046805332404, 0.06670606516387834, 0.05314116025308107, 0.2614040343803745, 0.061974121590344405, 0.01924323719903799, 0.2748464260089386, 0.25831431015877687, 0.008352162695133785, 0.45850790053182894, 0.00011360356196003209, 0.08739900700125136, 0.4883059771582046, 0.0396476431240512, 0.20323677234649742, 0.18131128488821122, 0.998744826494016, 0.9994062203142284, 0.19410405291717053, 0.001281684868858793, 0.41191927590822874, 0.39269400287534684, 0.9989275551092397, 0.9978703517762474, 0.0869625764144915, 0.0010825216981057032, 0.18294616697986385, 0.7285371028251383, 0.006962721860845086, 0.09180197410005532, 0.07795221213772216, 0.04718757695909686, 0.013774080202976147, 0.2649239986292198, 0.0001513635187140236, 0.49726699985524603, 0.9985892813166474, 0.9986569074989388, 0.019555552125546747, 0.978999828285184, 0.8284134744362429, 0.013073454859357363, 0.027139091560719527, 0.03653563724088263, 0.00017509091329496467, 0.0028014546127194347, 0.00029181818882494115, 0.09145582037773656, 0.9991959466610058, 0.9989448949277301, 0.031582734469666716, 0.003851552984105697, 0.9644288672200665, 0.9993985790689465, 0.9984553908174332, 0.9998936173199036, 0.9981406464122762, 0.9989422604471985, 0.9977764602713692, 0.002165313498852798, 0.9999526304041669, 0.998931398320969, 0.9994554067481997, 0.1681946252214786, 0.3106111479363015, 0.1614503542168303, 0.09145980845748033, 0.07201382706074445, 0.06422044723315087, 0.08812514112740424, 0.016261186755651972, 0.02720189305208141, 0.00041214989472850624, 0.9984163201282028, 0.9632534897496746, 0.0364868746117301, 0.9997462430932444, 0.8721368127555823, 0.12718661852685575, 0.1621746661721253, 0.0014767560661369027, 0.6121825146894797, 0.10082216415171036, 0.05370022058679646, 0.04369855450250562, 0.024970602572860354, 0.0008726285845354425, 0.00039613231433423485, 0.9994418290652746, 0.9991388845012902, 0.9993685126933011, 0.9982468473166406, 0.9993570802114199, 0.9987775250087625, 0.9979859817559061, 0.99902180290181, 0.0006669037402548799, 0.9993118998577909, 0.0019906559351538454, 0.00026542079135384605, 0.0003981311870307691, 0.10192158387987689, 0.04605050729989229, 0.0025214975178615377, 0.0009289727697384611, 0.04286545780364614, 0.00013271039567692302, 0.8027651834497074, 0.9986907137873995, 0.9987311573509243, 0.38017270991342994, 0.39703463778510273, 0.02007372365675335, 0.08884393929024248, 0.04798800761237978, 0.017995502854642416, 0.03481019843535817, 4.7232290957066706e-05, 0.012516557103622677, 0.0005195552005277337, 0.9992507331665531, 0.9984712756696992, 0.9995880737646632, 0.009998361191718916, 0.29543830105442, 0.041320660854271975, 0.14139275384395422, 0.04866458987119826, 0.09635588794497256, 0.02548254887800927, 0.2997738736065813, 0.041674585144244325, 0.9642027539755728, 0.03515322540535942, 0.703263473484292, 0.10704337648778912, 0.18948404144411057, 0.9988840228348801, 0.9991333582126272, 0.0004955055234031451, 0.0034685386638220158, 0.26311343292707007, 0.07630785060408435, 0.05078931614882237, 0.028491567595680844, 0.5680970825817059, 0.009166852182958185, 0.9994048248060151, 0.0007593535566885597, 0.999056162749915, 0.053043719857313223, 0.12204192965995574, 0.23222142683125277, 0.23358733520667885, 0.13423875465546145, 0.11782518347191843, 0.04118695503826212, 0.011970118211202642, 0.05069163697016877, 0.003196565658673433, 0.8260735102741342, 0.17340221549267687, 0.9996750743210518, 0.07978005690114691, 0.001969877948176467, 0.03427587629827052, 0.07652975828665574, 0.0009849389740882336, 0.012410231073511743, 0.00029548169222647005, 0.09731197063991748, 0.00029548169222647005, 0.6961548668855635, 0.9994733037641581, 0.07231518886756455, 0.19894257147056935, 0.21450094936896308, 0.1518126252667871, 0.16348614632088032, 0.06947261068880807, 0.07796244418269406, 0.010517539261398931, 0.04072467004098433, 0.000265307296683937, 0.9993353063686451, 0.9776771602257591, 0.00031462578712671544, 4.4946541018102205e-05, 0.01676505979975212, 0.0005843050332353287, 4.4946541018102205e-05, 0.004090135232647301, 0.00031462578712671544, 0.00017978616407240882, 0.26909518308596764, 0.19874219491680184, 0.10867737874143156, 0.11462340544038804, 0.06548124360489474, 0.07994657746496114, 0.03082939893492564, 0.020011627671698087, 0.0347517778918003, 0.07784797980650592, 0.1550695946061908, 0.054594749836559736, 0.10124378490817415, 0.6887140507550986, 0.2429411074517979, 0.20766345238504258, 0.22215022270749044, 0.03492225532753639, 0.0873098692681174, 0.05464694085418707, 0.04456881967776453, 0.03658924934244424, 0.06889677801715564, 0.0003215521450076043, 0.9994039231613974, 0.998443223362819, 0.8579421636506459, 0.14190982891618578, 0.11277973987522852, 0.10137930598401489, 0.0387789695020822, 0.08152330731415175, 0.12266400353027053, 0.053240900985565484, 0.18479782609338116, 0.02178036858500406, 0.02227603962375248, 0.26078128062152117, 0.998370185740003, 0.001314221394129008, 0.07812277235580449, 0.056368836342774974, 0.07590536471499139, 0.0896066098219102, 0.2119958410282624, 0.10665730752310983, 0.2714807186347063, 0.017961001890586064, 0.06062859312644223, 0.03127711830199523, 0.7890934562867801, 0.20008708875734518, 0.010629626590233962, 0.1351984713637972, 0.8644976540347947, 0.998711903947589, 0.19106646400173, 0.01905514600556337, 0.01416260851764845, 0.03682278214588597, 0.0007725059191444609, 0.06823802285776072, 0.6695051299251995, 0.9993488878677274, 0.997800505634854, 0.9995077732485969, 0.9995377097465512, 0.999554826303547, 0.9993925565637338, 0.01348853750964172, 0.1739475559769403, 0.5200493941578628, 0.0022610843224254904, 0.2897306669701077, 0.00046781054946734286, 0.01192201646633383, 0.6425866690341613, 0.34533773747439256, 0.07963062390240629, 0.16417419118182477, 0.0008188238961687021, 0.7551603382415856, 0.9980811203421309, 0.9990796725139824, 0.08518081344106239, 0.0007807590599547424, 0.0002732656709841598, 0.8438834299520832, 3.9037952997737114e-05, 0.0698388979129517, 0.0007368971893825727, 0.9992325888027686, 0.1638937443819891, 0.8360445746919417, 0.9995101222816908, 0.07043081176895154, 0.0021678269263109874, 0.1426053104134141, 0.1242259082120818, 0.623980704735231, 0.030867970363776018, 0.00014138001693332527, 0.005584510668866349, 0.9987723750369358, 0.935422322600399, 0.06376710720310581, 0.9994631833507449, 0.43649439827334835, 0.27556414841400184, 0.005313502593949687, 0.02199199684718065, 0.003689932356909505, 0.25681929204090154, 9.839819618425346e-05, 0.0037305256227260536, 0.11663602559216966, 0.16170686576877832, 0.08907581588958127, 0.4067034260531138, 0.09006554717724329, 0.1321671934908659, 0.059062234802666216, 0.9223051807602792, 0.018352671831336962, 0.21976902291749653, 0.12592301832155392, 0.1347545668203618, 0.18677601688183273, 0.11780006764750366, 0.07609649322945401, 0.050742517402152396, 0.0534386457109861, 0.03332138063738073, 0.0013653470281914301, 0.9995025407677133, 0.9993506204269579, 0.0020872862280495565, 0.997722817007688, 0.03634205068375817, 0.18386093033123546, 0.3168517679783215, 0.00035113092448075525, 8.778273112018881e-05, 0.009480534960980391, 0.2759450152763135, 0.02651038479829702, 0.1505912752366839, 0.9984537483432375, 0.9994062628880087, 0.1082239079631499, 0.05143572947826425, 0.2369764160797441, 0.1082239079631499, 0.14898737631235806, 0.17483578858823703, 0.0396211774026731, 0.00013054753674686357, 0.12868723434822077, 0.0029046826926177145, 0.999854935146611, 0.9987605808537278, 0.999284071876448, 0.01162459025127523, 0.9866370975769851, 0.007416030223565425, 0.0001744948287897747, 0.9119099752553627, 0.07695221949629065, 0.0034898965757954943, 0.4317183605523591, 0.00863149004769795, 0.000287716334923265, 0.0057543266984653, 0.4550233836811436, 0.09839898654375663, 0.8696067357576122, 0.13038792081933429, 0.9757120719979827, 0.020530678300061035, 0.003702253463945433, 0.9961553024870551, 0.0032258915235979764, 0.42488687629290534, 4.195584835517975e-05, 0.515847155526935, 0.05924165787751381, 0.19237850937309822, 0.3836831355200308, 0.11511005438565765, 0.014625266794446064, 0.011966127377274052, 0.01590369920654799, 0.01165930359836959, 0.25047047817900986, 0.0009204713367133886, 0.0032727869749809373, 0.9996795683660651, 0.00014876184053066443, 0.19664590084133793, 0.21316971717161162, 0.15396700596712468, 0.1319740977834556, 0.09259996617529709, 0.1038544748294684, 0.03619423345291188, 0.012694619598824888, 0.04808971634256484, 0.010813318595982642, 0.9996346069587748, 0.9505422923804786, 0.0028655452397344317, 0.04543936023007456, 0.001091636281803593, 0.99927694245277, 0.6600383811548465, 0.0017686777570531818, 0.33797824048416253, 0.9709775848664626, 0.0006636777631496379, 0.0009359558198264124, 3.4034757084596816e-05, 0.0022462939675833896, 0.023892399473386963, 0.00035736494938826656, 5.1052135626895225e-05, 0.00039139970647286335, 0.000459469220642057, 0.9995652525493245, 0.1207326868938492, 0.0001241680016049186, 4.1389333868306204e-05, 0.03513954445419197, 0.055585875385135236, 0.26944456348267337, 0.07590803831447358, 0.4429900403924813, 0.9987294832925642, 0.9980449948144813, 0.6233036319598575, 0.011011462377764365, 0.19287693175571602, 0.04267431505119357, 0.062463597972086816, 0.06030832953515785, 0.00023512019311952378, 0.0038794831864721424, 0.003134935908260317, 7.837339770650792e-05, 0.5485087936601422, 0.040798400724908125, 0.1625646731297445, 0.010117565863415555, 0.06817051810133777, 0.04796273114711049, 0.016652966515729926, 0.0005742402246803423, 0.023844641710536116, 0.0808038030443053, 0.04298696056374797, 0.04103792960619768, 0.5305695384442445, 0.2983100160028354, 0.039846855132139175, 0.046776742981206855, 0.00043311799056673016, 0.9993464030813712, 0.9998381583788524, 0.9980515642956405, 0.7528205156546606, 0.24709626648804878, 0.9990679520315203, 0.9826604363937913, 0.0003465685393220679, 0.016981858426781328, 0.9984733093470394, 0.00012691640959953748, 0.9993398091867581, 0.0005076656383981499, 0.0036540383215970073, 0.9963344490221174, 0.99922837311147, 0.891252755725138, 0.10863528614560139, 0.9982755610757578, 0.05421687339218474, 0.9455889101303618, 0.0771586335521311, 0.5251819166341792, 0.30007999005383157, 0.06608804699899924, 0.031115057660696343, 0.00016773615989593716, 8.386807994796858e-05, 0.9998772605253454, 0.019691409611252028, 0.9796476281597885, 0.998555313882044, 0.9978462111328379, 0.9997865518143754, 0.9986787093253148, 0.9023881953329378, 0.09650540422310584, 0.0008355446253082758, 0.9675446840657804, 0.03237138348175474, 0.9997997738428047, 0.9995010088815836, 0.9983943971439796, 0.9995161752406275, 0.0004584410848483557, 0.9992513121145733, 0.9997037001557331, 0.9992165166325203, 0.0025372482292134297, 0.0505143056543401, 0.001153294649642468, 0.10564178990725007, 0.0433638788265568, 0.7286515596441113, 0.06781372539897712, 0.17363377000942762, 0.1473256230383022, 0.6789146177736047, 8.221295928476686e-05, 0.9995087575266434, 0.8364556213335231, 0.0033612085522900298, 0.010227420675149876, 0.0007549238459688837, 0.0020131302559170234, 0.0786558749990437, 0.001024539505243485, 0.05074166707547997, 0.01669819649774031, 7.189750913989369e-05, 0.9968335293834769, 0.0029999289362357432, 0.38061062747934016, 0.06482946296863858, 0.029297930380057822, 0.11085149190550993, 0.056209047282904885, 0.020201792420515792, 0.06454238918271976, 0.07940460918514551, 5.741475718376393e-05, 0.1940044645239383, 0.9997186583206835, 0.43264066583133903, 0.1689587876339029, 0.39830147187923504, 0.999123151164994, 0.9993754712194632, 0.999162700077307, 0.9990151451233551, 0.06198846538869843, 0.2798596893283885, 0.00030386502641518835, 0.6572600521360524, 0.9990995262708979, 0.9997671620117735, 0.6910462040766283, 0.06868917301874683, 0.021474138683833806, 0.021895200226654078, 0.02051973252010786, 0.08592462550485658, 0.013052907827428392, 0.008870363168747036, 0.015270498619615151, 0.053250249782003566, 0.9992906569631843, 0.9993752043868477, 0.36593739300132844, 0.018422477450867794, 0.007871422183552603, 0.06213399212974501, 0.07729066675977715, 0.05861697370730661, 0.25950571645563314, 0.1103255183705378, 0.03990141138790229, 0.998998680385988, 0.14910243828825884, 0.8505736960002809, 0.9985660633702551, 0.9984509878941649, 0.9947559352844862, 0.00503899013701915, 0.999568712283087, 0.9981895613322948, 0.9994563230439519, 0.1639705970885152, 0.10403274912850582, 0.0062435258291676414, 0.18988122927956091, 0.01810622490458616, 0.05455280693235227, 0.02036950301765943, 0.11870503482704979, 0.004760688444740327, 0.31920025801619567, 0.10774977746622347, 0.1330148041837128, 0.2247792880161034, 0.21651651198271066, 0.12943956455387942, 0.09313101986868245, 0.03565705657487177, 0.006546661011072713, 0.051642350208704654, 0.0015254355753955837, 0.06760699182855674, 0.9319009214549924, 0.9428990289864093, 0.0010755021130413954, 0.0003795889810734337, 0.016512120676694365, 0.03909766505056367, 0.314229820987692, 0.5332558783619418, 0.15252282542722, 0.11573003610714594, 0.12197350683377112, 0.15813250112711952, 0.11822742439779602, 0.10249919175880833, 0.10252575971934715, 0.05661632390824793, 0.14094303065849614, 0.07675483799668151, 0.006615422174168811, 0.003072641770981591, 0.013212359615220841, 0.26445203508914894, 0.23362319598696699, 0.02970220378615538, 0.0018435850625889547, 0.12362262058582602, 0.33030899038052103, 0.7332521643263904, 0.26667762381998045, 0.9947797093597948, 0.004850217988102363, 0.14879013490661575, 0.8507213731929189, 0.051948606703696096, 0.035071901987774524, 0.002109588089490197, 0.8330235968374414, 0.077791060799951, 0.999356074217838, 0.2729780325431357, 0.1314459179349545, 0.05238315046417741, 0.20936992126520598, 0.06783780665702478, 0.08586281619562992, 0.0230681078752185, 0.009630691017016468, 0.012819230610488137, 0.13463445752842615, 0.9994760356105956, 0.050908801821118704, 0.6866955272672971, 5.7329731780539085e-05, 0.04534781783840641, 0.21699303478934043, 0.07785491301845837, 0.00010190433641159473, 0.07204636584299746, 0.5077893083389765, 0.22480096612397796, 0.11739379554615711, 0.9991381462263557, 0.036868148815222206, 0.11527333865370787, 0.8477259283255569, 0.999312386190679, 0.0031118508044364673, 0.9273315397220673, 0.0692386803987114, 0.9494937959067743, 0.04948197756446317, 0.9983434171585838, 0.9986046616302503, 0.9998186548482311, 0.9996729519876699, 0.17974570724226566, 0.8188759892582987, 0.00015495319589850487, 5.165106529950162e-05, 0.0011879745018885373, 0.998617605951014, 0.9996745521896029, 0.999945457939877, 0.797615816701731, 0.03428463196952052, 0.013603922104138405, 0.003160507155506902, 0.027345257562864066, 0.062385662982614505, 0.00446593402408584, 0.05441568841655362, 0.0026108537371578758, 0.9994248190325883, 0.9992968254366258, 0.08405167720247193, 0.8164416685044132, 0.09925700574161259, 0.0544391012729506, 0.8288963353665052, 0.11651877816315742, 0.12366513322761023, 0.006085454710673263, 0.48737972102445687, 0.3828403026018197, 0.1223449264748145, 0.3404380562777447, 0.09383323926155339, 0.16226128857338007, 0.047278335065571796, 0.08025827176747831, 0.019021976394518986, 0.09779083166578216, 0.025490299463796134, 0.011277010614200294, 0.9319018259841216, 0.0003423592307068779, 0.0002282394871379186, 0.0010270776921206337, 0.0014835566663964708, 0.009129579485516744, 0.0002282394871379186, 0.01951447615029204, 0.03606183896779114, 0.9997211906946435, 0.9978440162620404, 0.0018980728570201857, 0.9993520513949969, 0.9998684245990861, 0.9999242714230087, 0.04197160057963689, 0.22178435934704305, 0.03807259943289467, 0.6979212052668583, 0.9996985044201335, 0.9999758415487273, 0.9998460330559981, 0.9982385250159919, 0.999429203663792, 0.999236068084058, 0.2960186280452837, 0.15721900612265663, 0.06471947563179783, 0.09310344472692535, 0.06076048230647272, 0.06022366965219135, 0.04972227210281202, 0.16184901526583345, 0.025800558196398413, 0.030631872084930754, 0.15753632678795595, 0.37711107290824974, 0.17177547737275045, 0.07874300588411084, 0.10566154144193789, 0.043673437129334323, 0.04734643356993502, 0.001056615414419379, 0.010213949006053996, 0.006842842683858834, 0.0006305466357141926, 0.49366951217685023, 0.07702369673185676, 0.07328892050493424, 0.20109587320546482, 0.03948192011318098, 0.00019401434945052082, 0.11461397693789517, 0.0010746754412850753, 0.02510832621911494, 0.004591795067308959, 0.5751467566222944, 0.21942918555693447, 0.1746836080925195, 0.10757412071158519, 0.8919546999440214, 0.9999742528936381, 0.9990209305887098, 0.9998255665765622, 0.9993935005952099, 0.998501387020346, 0.999947720663716, 0.9996505279519022, 0.9995146298414217, 0.00034574210008992204, 0.7165505024363634, 0.00034574210008992204, 0.28229842472342137, 0.0005186131501348831, 0.0009322402432418684, 0.0003495900912157006, 0.8968151139986773, 0.10184724657417411, 0.9980119139443943, 0.9998290004127334, 0.9986398550193687, 0.9998284386281907, 0.011902192433794647, 0.9878819720049556, 0.9995781399249514, 0.9994533865225775, 0.9997223275469826, 0.9996790042723661, 0.0727448763497048, 0.9264091090688903, 0.9515312390444935, 0.002641616063620168, 0.0024936855640574386, 4.226585701792269e-05, 0.016082158595319584, 0.0008030512833405311, 0.00942528611499676, 0.01646255130848089, 0.0001479304995627294, 0.00035925978465234284, 0.04542226595615604, 0.02767664950733522, 0.15428375401834124, 0.04384849569005266, 0.48504684960110234, 0.24366305154497087, 0.024980704777163503, 0.9742474863093766, 0.12654914100571485, 0.15785739051390463, 0.08036448759108586, 0.3070601439026154, 0.21118112247880874, 0.021576768132395757, 0.08040437071147846, 0.014637105184083628, 0.00023929872235559067, 0.00011964936117779533, 0.9328025822815325, 0.006212312279538895, 0.03982251461242881, 0.021026287715362413, 0.9989874814786376, 0.25595581923935584, 0.6280070167319306, 2.4374423315813335e-05, 0.10573624834399824, 0.010042262406115094, 0.00021936980984232001, 0.0015093552479530873, 0.059166725719761025, 0.9388189642268203, 5.114942522698369e-05, 0.48348994195806333, 0.3863827581646348, 0.04659712638178214, 0.021891953997149022, 0.0008183908036317391, 0.06071436774442964, 0.034244938303338066, 0.9079638614238639, 0.0026487797582692425, 0.055056779261167824, 0.9986089450439071, 0.061275866148397966, 0.19997782673236855, 0.05779248357665441, 0.6808429572044218, 9.349702475748659e-05, 0.12659497152163685, 0.7815416299478304, 0.09181407831185183, 0.9995681771460713, 0.9992869998106594, 0.07930137333131898, 0.315364918240549, 0.10628342084997516, 0.22948446801063171, 0.10264143185253681, 0.0363415676303526, 0.07620764074209715, 0.0365765346624454, 0.0129623479371193, 0.004816824157902338, 0.04635031756703518, 0.24013144038378714, 0.3366421784471836, 0.13037436316422904, 0.11443958689438405, 0.05859368570286022, 0.002931761444060868, 0.06877176440035898, 0.0017566829705303987, 0.07392899894981797, 0.00011444117484491945, 0.49987905172260816, 0.07432954306177518, 0.2303128643754004, 0.03330238187987156, 0.0417710288183956, 0.002517705846588228, 0.038166131810780636, 0.0057220587422459725, 0.9994029902610255, 0.999986697356809, 0.9991997111282513, 0.9192502912579679, 0.08065500197800628, 0.9989163413343242, 0.552033814457896, 0.23727549258722877, 0.13923087689200397, 0.07140205708239196, 0.9935793406043195, 0.00601175618627476, 0.8051771929813609, 0.05259580563825071, 0.011380378997750153, 0.002522138048150034, 0.00073818674580001, 0.0014148579294500192, 0.018823762017900255, 0.05388763244340073, 0.00147637349160002, 0.0520421655789007, 0.9991442772780968, 0.9991414787421361, 0.11918561012793791, 0.17331807172963654, 0.20001635485782615, 0.2343973853911508, 0.09981684463913001, 0.09119215119198608, 0.0320261654283024, 0.009360588792463386, 0.024843826857984586, 0.015807032017461756, 0.40201705961492284, 0.20748238130046653, 0.05650183063613378, 0.06492087694393855, 0.10763917869707788, 0.050164750653544275, 0.0648144991025042, 0.010318650619132555, 0.034907128824959464, 0.001230943593740408, 0.9991171520028637, 0.34335789128983735, 0.0681571844133385, 0.0012859846115724244, 0.024112211466982957, 0.5629397637158288, 0.9583423516452071, 0.04149003909611052, 0.02224531810696107, 0.109784764361206, 0.10497867711587491, 0.01970495770585749, 0.2383132689792033, 0.12193729925297178, 0.316034565575129, 0.007964373149405814, 0.018469106699915208, 0.04050844963921923, 0.9998717640625704, 0.9996383622151659, 0.9998256214777164, 0.8450611548511321, 0.14964807435854593, 0.005235927543037475, 0.0009250507936621892, 0.00030835026455406305, 0.9984381566260563, 0.09062281174837043, 0.11249335735406553, 0.15163262009744613, 0.19265056745250897, 0.13705858189772913, 0.13244726512359992, 0.06990983948926745, 0.039642142967719785, 0.06325853689942264, 0.01028532383365444, 0.062376902153999665, 0.9373459288800647, 0.9996408296544281, 0.23569156234750338, 0.3497545552880896, 0.07354285592046159, 0.0866633376300898, 0.07899552364394344, 0.06369397484492248, 0.05980894909194165, 0.008417555798125122, 0.03551049854917561, 0.007940447372320459, 0.9991500358420848, 0.9986811758744009, 0.08586715034366198, 0.08132338842899156, 0.00016583072681278867, 0.12087401677384166, 0.21756991357837874, 0.12048431456583161, 0.2879484740377262, 0.03537169402916782, 0.021566286022003167, 0.028813088783722032, 0.9986447207632132, 0.02566971095279474, 0.0007418991604853971, 0.470809207244033, 0.41865369626190957, 0.0840571748829955, 0.9995932167197774, 0.9929174965275106, 0.007036423203738264, 0.9995778669894204, 0.007046600283392332, 0.9925639827749771, 0.9997079133555031, 0.9987374303482102, 0.9994287795676842, 0.9988478457659434, 0.6975561270063745, 0.16594319528046042, 0.048451115140613274, 0.08780671408154464, 0.00012493840933629004, 9.995072746903203e-05, 0.9993355241202181, 0.9987961065934604, 0.33206571944305746, 0.48026688778637905, 0.0007925196168092064, 0.04358857892450635, 0.01928464400902402, 0.014793699513771852, 0.03110639495976135, 0.07614792651508458, 0.0019152557406222487, 0.0005577290654921493, 0.07250477851397942, 0.17707897829375743, 0.018962788226733078, 0.005995587454040606, 0.7247689206070481, 0.1918855867735539, 0.14723972899581336, 0.09160167073042216, 0.09291595557133692, 0.11954018030320093, 0.08116704562982625, 0.11310814994539085, 0.1012994997838386, 0.042475296449563146, 0.018738515686375492, 0.9400914844360756, 0.004142893063985644, 0.03245266233455421, 0.02313115294058651, 0.10839549111385596, 0.00010668847550576374, 0.8913822128506561, 0.0006337297833503463, 0.9987581385601456, 0.00027867295288381595, 0.02833175020985462, 0.04876776675466779, 0.017556396031680403, 0.14453837156240587, 0.38066725363929255, 0.1888473710709326, 0.19089097272541392, 0.11487371808404705, 0.06523327118003015, 0.2898982361442338, 0.029557283991556778, 0.101155980271605, 0.07900035337309248, 0.06607212565057517, 0.05151553336758811, 0.019885785389978934, 0.18282093019819343, 0.20022022618786622, 0.03654452011895055, 0.11874690701993158, 0.0436984972494683, 0.13875070294539205, 0.09227263496368437, 0.17082968319943342, 0.021097397525030055, 0.15123598787381157, 0.02665653898950882, 0.07584865233219945, 0.31679203465163386, 0.0548513422410282, 0.1816762967545118, 0.07560833977035486, 0.13163120575037546, 0.14400730268537196, 0.0101832448081646, 0.005947735905653661, 0.0034544930765160148, 0.24991879727692437, 0.19044686208930925, 0.14381357586280882, 0.1838618776221569, 0.087530595417148, 0.08297494578578472, 0.019340803434969536, 0.009556510476700687, 0.014515956325389342, 0.01804658478969588, 0.4265694149747938, 0.16480802240759831, 0.015375305097393521, 0.011461591072602443, 0.05354672370282339, 0.036544940049672535, 0.053394241338221134, 0.17652375075453786, 0.04300002681783444, 0.018755330846076723, 0.9991834626351275, 0.2752554778555793, 0.7244534708761088, 0.9989547034095752, 0.9993803512374169], \"Term\": [\"add\", \"add\", \"add\", \"add\", \"add\", \"add\", \"add\", \"add\", \"aftertast\", \"aftertast\", \"aftertast\", \"aftertast\", \"alcohol\", \"allergi\", \"allergi\", \"allergi\", \"also\", \"also\", \"also\", \"also\", \"also\", \"also\", \"also\", \"also\", \"also\", \"also\", \"amazon\", \"amazon\", \"amazon\", \"amazon\", \"amazon\", \"amazon\", \"amazon\", \"anchovi\", \"apricot\", \"arriv\", \"artifici\", \"artifici\", \"artifici\", \"artifici\", \"aspartam\", \"auto\", \"avail\", \"avail\", \"avail\", \"avail\", \"avail\", \"avail\", \"avail\", \"avail\", \"avail\", \"avail\", \"babi\", \"bad\", \"bad\", \"bad\", \"bad\", \"bad\", \"bad\", \"bad\", \"bad\", \"bad\", \"bad\", \"bag\", \"bag\", \"bag\", \"bag\", \"bag\", \"bag\", \"bag\", \"bag\", \"bag\", \"bake\", \"bake\", \"bake\", \"bake\", \"balsam\", \"bar\", \"bar\", \"barley\", \"basil\", \"batter\", \"bay\", \"bay\", \"bay\", \"bean\", \"bean\", \"bean\", \"bear\", \"beer\", \"beg\", \"bergamot\", \"best\", \"best\", \"best\", \"best\", \"best\", \"best\", \"best\", \"best\", \"best\", \"best\", \"better\", \"better\", \"better\", \"better\", \"better\", \"better\", \"better\", \"better\", \"better\", \"better\", \"beverag\", \"beverag\", \"bewar\", \"bigelow\", \"bitter\", \"bitter\", \"bitter\", \"bitter\", \"black\", \"black\", \"black\", \"black\", \"black\", \"blackberri\", \"blend\", \"blend\", \"blend\", \"blend\", \"blend\", \"blend\", \"blend\", \"blender\", \"blood\", \"blood\", \"blood\", \"blue\", \"blue\", \"blue\", \"blue\", \"blue\", \"blue\", \"blue\", \"blue\", \"blue\", \"bob\", \"bold\", \"bold\", \"bone\", \"bone\", \"bonsai\", \"boost\", \"boost\", \"boost\", \"bottl\", \"bottl\", \"bottl\", \"bottl\", \"bought\", \"bought\", \"bought\", \"bought\", \"bought\", \"bought\", \"bought\", \"bought\", \"bought\", \"bought\", \"box\", \"box\", \"box\", \"box\", \"box\", \"box\", \"box\", \"box\", \"bpa\", \"bran\", \"brand\", \"brand\", \"brand\", \"brand\", \"brand\", \"brand\", \"brand\", \"brand\", \"brand\", \"brand\", \"bread\", \"bread\", \"bread\", \"breakfast\", \"breakfast\", \"breakfast\", \"breakfast\", \"breath\", \"breath\", \"breed\", \"brew\", \"brew\", \"brewer\", \"broth\", \"browni\", \"buffalo\", \"buffalo\", \"bulli\", \"burger\", \"butter\", \"butter\", \"butter\", \"buy\", \"buy\", \"buy\", \"buy\", \"buy\", \"buy\", \"buy\", \"buy\", \"buy\", \"buy\", \"cacao\", \"cafe\", \"cake\", \"calori\", \"calori\", \"calori\", \"calori\", \"calori\", \"can\", \"can\", \"can\", \"can\", \"can\", \"can\", \"can\", \"canada\", \"cancel\", \"cancer\", \"canin\", \"cappuccino\", \"carb\", \"carb\", \"carb\", \"carb\", \"carb\", \"carb\", \"carbon\", \"cardamom\", \"carri\", \"carri\", \"carri\", \"carri\", \"carri\", \"carri\", \"carri\", \"carri\", \"carri\", \"cashew\", \"cashew\", \"cat\", \"cat\", \"categori\", \"celesti\", \"celiac\", \"cereal\", \"chai\", \"chamomil\", \"charg\", \"cheaper\", \"cheaper\", \"cheaper\", \"cheaper\", \"cheaper\", \"cheaper\", \"cheaper\", \"cheaper\", \"cheaper\", \"cheerio\", \"chees\", \"chees\", \"chees\", \"chees\", \"cherri\", \"cherri\", \"cherri\", \"cherri\", \"chew\", \"chew\", \"chewi\", \"chewi\", \"chewi\", \"chewi\", \"chia\", \"chicken\", \"chicken\", \"chicken\", \"chicken\", \"chili\", \"china\", \"china\", \"china\", \"china\", \"chip\", \"chocol\", \"chocol\", \"choke\", \"cholesterol\", \"chow\", \"christma\", \"christma\", \"christma\", \"cinnamon\", \"cinnamon\", \"cinnamon\", \"clean\", \"clean\", \"clean\", \"clean\", \"clean\", \"clean\", \"clean\", \"clean\", \"cluster\", \"cocktail\", \"cocoa\", \"cocoa\", \"coconut\", \"coconut\", \"coconut\", \"coffe\", \"coke\", \"cola\", \"com\", \"com\", \"com\", \"compani\", \"compani\", \"compani\", \"compani\", \"compani\", \"compani\", \"compani\", \"compani\", \"compani\", \"compani\", \"concentr\", \"concentr\", \"concentr\", \"condition\", \"conscious\", \"constip\", \"contain\", \"contain\", \"contain\", \"contain\", \"contain\", \"contain\", \"contain\", \"contain\", \"contain\", \"contain\", \"contamin\", \"cook\", \"cook\", \"cook\", \"cooker\", \"cooki\", \"cooki\", \"core\", \"corn\", \"corn\", \"corn\", \"corn\", \"corn\", \"cornbread\", \"cough\", \"could\", \"could\", \"could\", \"could\", \"could\", \"could\", \"could\", \"could\", \"could\", \"could\", \"couscous\", \"cracker\", \"cramp\", \"cranberri\", \"cranberri\", \"cream\", \"cream\", \"cream\", \"cream\", \"cream\", \"cream\", \"creamer\", \"crema\", \"crisp\", \"crisp\", \"crisp\", \"crisp\", \"crisp\", \"crispi\", \"crispi\", \"crispi\", \"crunch\", \"crunchi\", \"crust\", \"crystal\", \"cube\", \"cube\", \"cup\", \"cup\", \"cup\", \"cup\", \"cup\", \"cup\", \"cupcak\", \"curri\", \"dad\", \"dad\", \"dark\", \"dark\", \"dark\", \"dark\", \"day\", \"day\", \"day\", \"day\", \"day\", \"day\", \"day\", \"day\", \"day\", \"day\", \"deal\", \"deal\", \"deal\", \"deal\", \"deal\", \"deal\", \"deal\", \"deal\", \"deal\", \"deal\", \"decaf\", \"decaf\", \"decaffein\", \"delici\", \"delici\", \"delici\", \"delici\", \"delici\", \"delici\", \"delici\", \"delici\", \"deliv\", \"deliv\", \"deliv\", \"deliv\", \"deliv\", \"deliv\", \"deliv\", \"deliveri\", \"dental\", \"descript\", \"descript\", \"descript\", \"descript\", \"descript\", \"descript\", \"descript\", \"descript\", \"diamond\", \"diet\", \"diet\", \"diet\", \"diet\", \"diet\", \"diet\", \"diet\", \"difficulti\", \"digest\", \"digest\", \"digest\", \"dish\", \"dog\", \"dog\", \"donut\", \"drawer\", \"dress\", \"drink\", \"drink\", \"drink\", \"ear\", \"earl\", \"earth\", \"earth\", \"easi\", \"easi\", \"easi\", \"easi\", \"easi\", \"easi\", \"easi\", \"easi\", \"easi\", \"easi\", \"eat\", \"eat\", \"eat\", \"eat\", \"eat\", \"eat\", \"eat\", \"egg\", \"egg\", \"egg\", \"energi\", \"energi\", \"energi\", \"energi\", \"english\", \"enjoy\", \"enjoy\", \"enjoy\", \"enjoy\", \"enjoy\", \"enjoy\", \"enjoy\", \"enjoy\", \"enjoy\", \"enjoy\", \"espresso\", \"even\", \"even\", \"even\", \"even\", \"even\", \"even\", \"even\", \"even\", \"even\", \"even\", \"expir\", \"fat\", \"fat\", \"fat\", \"fat\", \"favorit\", \"favorit\", \"favorit\", \"favorit\", \"favorit\", \"favorit\", \"favorit\", \"favorit\", \"favorit\", \"favorit\", \"feast\", \"feed\", \"feed\", \"feel\", \"feel\", \"feel\", \"feel\", \"feel\", \"feel\", \"feel\", \"feel\", \"feel\", \"feel\", \"fiber\", \"fiber\", \"fiber\", \"fiber\", \"fig\", \"filler\", \"filler\", \"filler\", \"find\", \"find\", \"find\", \"find\", \"find\", \"find\", \"find\", \"find\", \"find\", \"find\", \"finicki\", \"first\", \"first\", \"first\", \"first\", \"first\", \"first\", \"first\", \"first\", \"first\", \"first\", \"fishi\", \"flavor\", \"flavor\", \"flavor\", \"flavor\", \"flavor\", \"flavor\", \"flavor\", \"flavor\", \"flavor\", \"flavor\", \"fli\", \"fli\", \"floor\", \"florida\", \"flour\", \"flour\", \"folger\", \"food\", \"food\", \"food\", \"food\", \"food\", \"food\", \"food\", \"formula\", \"found\", \"found\", \"found\", \"found\", \"found\", \"found\", \"found\", \"found\", \"found\", \"found\", \"free\", \"free\", \"free\", \"free\", \"free\", \"free\", \"free\", \"free\", \"free\", \"french\", \"french\", \"fri\", \"fruit\", \"fruit\", \"fruit\", \"fruit\", \"fruit\", \"fruit\", \"fruit\", \"gain\", \"gain\", \"garlic\", \"get\", \"get\", \"get\", \"get\", \"get\", \"get\", \"get\", \"get\", \"get\", \"get\", \"gf\", \"gf\", \"gift\", \"gift\", \"ginger\", \"ginger\", \"ginger\", \"give\", \"give\", \"give\", \"give\", \"give\", \"give\", \"give\", \"give\", \"give\", \"give\", \"glass\", \"glass\", \"glass\", \"glass\", \"glass\", \"glass\", \"glass\", \"gluten\", \"gmo\", \"gmo\", \"go\", \"go\", \"go\", \"go\", \"go\", \"go\", \"go\", \"go\", \"go\", \"go\", \"good\", \"good\", \"good\", \"good\", \"good\", \"good\", \"good\", \"good\", \"good\", \"good\", \"graham\", \"grain\", \"grain\", \"grain\", \"grain\", \"grain\", \"grain\", \"gram\", \"gram\", \"gram\", \"grandson\", \"granola\", \"grape\", \"grape\", \"grapefruit\", \"grass\", \"gravi\", \"great\", \"great\", \"great\", \"great\", \"great\", \"great\", \"great\", \"great\", \"great\", \"great\", \"green\", \"green\", \"green\", \"green\", \"green\", \"greeni\", \"grey\", \"grill\", \"grind\", \"grind\", \"grinder\", \"groceri\", \"groceri\", \"groceri\", \"groceri\", \"groceri\", \"groceri\", \"groceri\", \"ground\", \"ground\", \"ground\", \"ground\", \"ground\", \"ground\", \"grow\", \"grow\", \"grow\", \"grow\", \"grow\", \"grow\", \"gum\", \"gum\", \"gum\", \"gum\", \"gummi\", \"habanero\", \"hair\", \"hair\", \"ham\", \"haribo\", \"harvest\", \"hazelnut\", \"hazelnut\", \"hazelnut\", \"health\", \"health\", \"health\", \"health\", \"health\", \"health\", \"health\", \"health\", \"healthi\", \"healthi\", \"healthi\", \"healthi\", \"healthi\", \"healthi\", \"healthi\", \"healthi\", \"heat\", \"heat\", \"heat\", \"heat\", \"heat\", \"help\", \"help\", \"help\", \"help\", \"help\", \"help\", \"help\", \"help\", \"help\", \"help\", \"hemp\", \"herbal\", \"hershey\", \"hibiscus\", \"high\", \"high\", \"high\", \"high\", \"high\", \"high\", \"high\", \"high\", \"high\", \"high\", \"honey\", \"honey\", \"honey\", \"honey\", \"hot\", \"hot\", \"hot\", \"hot\", \"hot\", \"hot\", \"hummus\", \"hydrat\", \"ice\", \"ice\", \"ice\", \"ice\", \"illi\", \"infect\", \"inform\", \"inform\", \"inform\", \"inform\", \"ingredi\", \"ingredi\", \"ingredi\", \"ingredi\", \"ingredi\", \"ingredi\", \"ingredi\", \"ingredi\", \"insulin\", \"intestin\", \"irish\", \"irish\", \"item\", \"item\", \"item\", \"item\", \"item\", \"item\", \"item\", \"item\", \"ive\", \"izz\", \"jam\", \"jam\", \"jam\", \"jasmin\", \"jaw\", \"jerki\", \"jet\", \"jug\", \"juic\", \"juic\", \"k\", \"kashi\", \"kcup\", \"keep\", \"keep\", \"keep\", \"keep\", \"keep\", \"keep\", \"keep\", \"keep\", \"keep\", \"keep\", \"kellogg\", \"kernel\", \"kernel\", \"keurig\", \"kibbl\", \"kibbl\", \"kid\", \"kid\", \"kid\", \"kid\", \"kid\", \"kid\", \"kid\", \"kid\", \"kit\", \"kit\", \"kitten\", \"kitti\", \"kiwi\", \"kona\", \"kool\", \"korean\", \"kraft\", \"kraft\", \"lab\", \"label\", \"label\", \"label\", \"label\", \"label\", \"label\", \"label\", \"label\", \"label\", \"label\", \"lactos\", \"larabar\", \"last\", \"last\", \"last\", \"last\", \"last\", \"last\", \"last\", \"last\", \"last\", \"last\", \"lavazza\", \"lavend\", \"leaf\", \"leav\", \"leav\", \"leav\", \"leav\", \"leav\", \"leav\", \"leav\", \"leav\", \"leav\", \"leg\", \"leg\", \"lemon\", \"lemon\", \"lemon\", \"lemonad\", \"lentil\", \"level\", \"level\", \"level\", \"level\", \"level\", \"level\", \"level\", \"level\", \"lick\", \"licoric\", \"licoric\", \"like\", \"like\", \"like\", \"like\", \"like\", \"like\", \"like\", \"like\", \"like\", \"like\", \"lime\", \"lime\", \"lipton\", \"list\", \"list\", \"list\", \"list\", \"list\", \"list\", \"list\", \"list\", \"list\", \"list\", \"litter\", \"littl\", \"littl\", \"littl\", \"littl\", \"littl\", \"littl\", \"littl\", \"littl\", \"littl\", \"littl\", \"liver\", \"local\", \"local\", \"local\", \"local\", \"local\", \"local\", \"local\", \"local\", \"local\", \"look\", \"look\", \"look\", \"look\", \"look\", \"look\", \"look\", \"look\", \"look\", \"look\", \"loos\", \"loos\", \"loos\", \"loos\", \"love\", \"love\", \"love\", \"love\", \"love\", \"love\", \"love\", \"love\", \"love\", \"love\", \"mac\", \"macaroni\", \"machin\", \"machin\", \"made\", \"made\", \"made\", \"made\", \"made\", \"made\", \"made\", \"made\", \"made\", \"made\", \"mail\", \"mail\", \"make\", \"make\", \"make\", \"make\", \"make\", \"make\", \"make\", \"make\", \"make\", \"make\", \"maker\", \"maker\", \"maker\", \"mango\", \"mango\", \"manner\", \"manufactur\", \"manufactur\", \"manufactur\", \"manufactur\", \"manufactur\", \"manufactur\", \"manufactur\", \"margarita\", \"mari\", \"marinad\", \"mart\", \"matcha\", \"maxwel\", \"meal\", \"meal\", \"meal\", \"meal\", \"meal\", \"meal\", \"meat\", \"meat\", \"meat\", \"melt\", \"melt\", \"melt\", \"melt\", \"metabol\", \"mexican\", \"milk\", \"milk\", \"milk\", \"milk\", \"milk\", \"milk\", \"mill\", \"mill\", \"mint\", \"mint\", \"mio\", \"mix\", \"mix\", \"mix\", \"mix\", \"mix\", \"mix\", \"mix\", \"mix\", \"mixer\", \"mocha\", \"mocha\", \"mole\", \"month\", \"month\", \"month\", \"month\", \"month\", \"month\", \"month\", \"morn\", \"morn\", \"morn\", \"morn\", \"morn\", \"morn\", \"morn\", \"mountain\", \"mountain\", \"mountain\", \"much\", \"much\", \"much\", \"much\", \"much\", \"much\", \"much\", \"much\", \"much\", \"much\", \"muffin\", \"mushroom\", \"mustard\", \"mustard\", \"natur\", \"natur\", \"natur\", \"natur\", \"natur\", \"natur\", \"natur\", \"natur\", \"natur\", \"nectar\", \"newton\", \"nice\", \"nice\", \"nice\", \"nice\", \"nice\", \"nice\", \"nice\", \"nice\", \"nice\", \"nice\", \"noodl\", \"notch\", \"numi\", \"nurs\", \"nurs\", \"nut\", \"nut\", \"nut\", \"nut\", \"nut\", \"nutrit\", \"nutrit\", \"nutrit\", \"nutrit\", \"nutrit\", \"nutrit\", \"oat\", \"oat\", \"oatmeal\", \"oatmeal\", \"oatmeal\", \"odor\", \"odor\", \"oil\", \"oil\", \"oil\", \"oil\", \"old\", \"old\", \"old\", \"old\", \"old\", \"old\", \"old\", \"old\", \"old\", \"old\", \"oliv\", \"oliv\", \"one\", \"one\", \"one\", \"one\", \"one\", \"one\", \"one\", \"one\", \"one\", \"one\", \"onion\", \"onlin\", \"onlin\", \"onlin\", \"onlin\", \"oolong\", \"orang\", \"orang\", \"orang\", \"order\", \"order\", \"order\", \"order\", \"order\", \"order\", \"order\", \"order\", \"order\", \"order\", \"oreo\", \"organ\", \"organ\", \"organ\", \"organ\", \"organ\", \"organ\", \"organ\", \"organ\", \"overpr\", \"pace\", \"pack\", \"pack\", \"pack\", \"pack\", \"pack\", \"pack\", \"pack\", \"pack\", \"pack\", \"pack\", \"packag\", \"packag\", \"packag\", \"packag\", \"packag\", \"packag\", \"packag\", \"packag\", \"packag\", \"packag\", \"packet\", \"packet\", \"packet\", \"packet\", \"packet\", \"packet\", \"packet\", \"pamela\", \"pancak\", \"parmesan\", \"pasta\", \"pasta\", \"paw\", \"peanut\", \"peanut\", \"peanut\", \"pearl\", \"pepper\", \"pepper\", \"pepper\", \"peppermint\", \"peppermint\", \"pesticid\", \"pet\", \"pet\", \"pg\", \"pie\", \"pie\", \"piec\", \"piec\", \"piec\", \"piec\", \"piec\", \"piec\", \"piec\", \"pill\", \"pineappl\", \"pineappl\", \"pistachio\", \"pit\", \"plant\", \"planter\", \"play\", \"play\", \"play\", \"pocket\", \"pocket\", \"pod\", \"pomegran\", \"popchip\", \"popcorn\", \"popcorn\", \"popper\", \"pork\", \"potassium\", \"pouch\", \"pouch\", \"pouch\", \"pouch\", \"pouch\", \"pouch\", \"pouch\", \"powder\", \"powder\", \"powder\", \"powder\", \"pretzel\", \"price\", \"price\", \"price\", \"price\", \"price\", \"price\", \"price\", \"price\", \"price\", \"price\", \"prime\", \"prime\", \"product\", \"product\", \"product\", \"product\", \"product\", \"product\", \"product\", \"product\", \"product\", \"product\", \"prompt\", \"protein\", \"protein\", \"protein\", \"prune\", \"pud\", \"puff\", \"pulp\", \"pumpkin\", \"pumpkin\", \"pumpkin\", \"pumpkin\", \"pup\", \"puppi\", \"purchas\", \"purchas\", \"purchas\", \"purchas\", \"purchas\", \"purchas\", \"purchas\", \"purchas\", \"purchas\", \"purchas\", \"purina\", \"quaker\", \"qualiti\", \"qualiti\", \"qualiti\", \"qualiti\", \"qualiti\", \"qualiti\", \"qualiti\", \"qualiti\", \"qualiti\", \"quart\", \"quinoa\", \"quinoa\", \"r\", \"rabbit\", \"raisin\", \"raisin\", \"ramen\", \"rancid\", \"rawhid\", \"read\", \"read\", \"read\", \"read\", \"read\", \"read\", \"read\", \"read\", \"read\", \"read\", \"realli\", \"realli\", \"realli\", \"realli\", \"realli\", \"realli\", \"realli\", \"realli\", \"realli\", \"realli\", \"recal\", \"recal\", \"receiv\", \"receiv\", \"receiv\", \"receiv\", \"receiv\", \"recip\", \"recip\", \"recip\", \"recommend\", \"recommend\", \"recommend\", \"recommend\", \"recommend\", \"recommend\", \"recommend\", \"recommend\", \"recommend\", \"recommend\", \"red\", \"red\", \"red\", \"red\", \"red\", \"red\", \"red\", \"red\", \"refresh\", \"refresh\", \"refund\", \"refund\", \"relax\", \"relax\", \"research\", \"research\", \"research\", \"research\", \"research\", \"retail\", \"review\", \"review\", \"review\", \"review\", \"review\", \"review\", \"review\", \"review\", \"review\", \"review\", \"reward\", \"rice\", \"rice\", \"rice\", \"rice\", \"rice\", \"rich\", \"rich\", \"rich\", \"rich\", \"rich\", \"rich\", \"ride\", \"roast\", \"roast\", \"roast\", \"rooibo\", \"rose\", \"rose\", \"rose\", \"royal\", \"royal\", \"rye\", \"safeti\", \"salad\", \"salsa\", \"salt\", \"salt\", \"salt\", \"salt\", \"salt\", \"sam\", \"sardin\", \"sauc\", \"save\", \"save\", \"save\", \"save\", \"save\", \"save\", \"save\", \"save\", \"save\", \"scalp\", \"scienc\", \"scoop\", \"scoop\", \"scoop\", \"season\", \"season\", \"season\", \"seed\", \"seed\", \"seed\", \"seed\", \"seem\", \"seem\", \"seem\", \"seem\", \"seem\", \"seem\", \"seem\", \"seem\", \"seem\", \"seem\", \"sell\", \"sell\", \"sell\", \"sell\", \"sell\", \"sell\", \"sell\", \"sell\", \"sell\", \"seller\", \"send\", \"send\", \"senseo\", \"sent\", \"servic\", \"shake\", \"shake\", \"shake\", \"shake\", \"shampoo\", \"ship\", \"shipment\", \"shortbread\", \"shrimp\", \"similac\", \"sinc\", \"sinc\", \"sinc\", \"sinc\", \"sinc\", \"sinc\", \"sinc\", \"sinc\", \"sinc\", \"sinc\", \"small\", \"small\", \"small\", \"small\", \"small\", \"small\", \"small\", \"small\", \"small\", \"small\", \"smell\", \"smell\", \"smell\", \"smell\", \"smell\", \"smell\", \"smell\", \"smell\", \"smooth\", \"smooth\", \"smooth\", \"smooth\", \"smooth\", \"smooth\", \"smoothi\", \"smoothi\", \"snack\", \"sneak\", \"soda\", \"soggi\", \"soil\", \"soup\", \"spaghetti\", \"sparkl\", \"spice\", \"spice\", \"spice\", \"spice\", \"spice\", \"spici\", \"spici\", \"spici\", \"spici\", \"spike\", \"splenda\", \"squirt\", \"starbuck\", \"starch\", \"starch\", \"stash\", \"steak\", \"steep\", \"stevia\", \"stool\", \"stool\", \"store\", \"store\", \"store\", \"store\", \"store\", \"store\", \"store\", \"store\", \"store\", \"store\", \"strong\", \"strong\", \"strong\", \"strong\", \"strong\", \"strong\", \"studi\", \"studi\", \"stuff\", \"stuff\", \"stuff\", \"stuff\", \"stuff\", \"stuff\", \"stuff\", \"stuff\", \"stuff\", \"stuff\", \"subscrib\", \"subscrib\", \"subscrib\", \"subscrib\", \"sucralos\", \"sugar\", \"sugar\", \"sugar\", \"sugar\", \"sugar\", \"sugar\", \"supplement\", \"supplement\", \"supplement\", \"sweet\", \"sweet\", \"sweet\", \"sweet\", \"sweet\", \"sweet\", \"sweet\", \"sweeten\", \"sweeten\", \"sweeten\", \"sweeten\", \"sweetner\", \"switch\", \"switch\", \"switch\", \"switch\", \"syrup\", \"syrup\", \"syrup\", \"syrup\", \"taco\", \"taffi\", \"take\", \"take\", \"take\", \"take\", \"take\", \"take\", \"take\", \"take\", \"take\", \"take\", \"tast\", \"tast\", \"tast\", \"tast\", \"tast\", \"tast\", \"tast\", \"tast\", \"tast\", \"tasti\", \"tasti\", \"tasti\", \"tasti\", \"tasti\", \"tasti\", \"tasti\", \"tasti\", \"tasti\", \"tasti\", \"tazo\", \"tea\", \"teabag\", \"teeth\", \"teeth\", \"terrier\", \"textur\", \"textur\", \"textur\", \"textur\", \"thai\", \"thai\", \"thank\", \"thank\", \"thank\", \"thank\", \"thank\", \"thank\", \"thank\", \"thank\", \"thank\", \"thank\", \"thanksgiv\", \"theater\", \"think\", \"think\", \"think\", \"think\", \"think\", \"think\", \"think\", \"think\", \"think\", \"think\", \"time\", \"time\", \"time\", \"time\", \"time\", \"time\", \"time\", \"time\", \"time\", \"time\", \"timothi\", \"tin\", \"tin\", \"tin\", \"tin\", \"tin\", \"tomato\", \"tomato\", \"top\", \"top\", \"top\", \"top\", \"top\", \"top\", \"top\", \"top\", \"top\", \"top\", \"toy\", \"train\", \"trap\", \"treat\", \"treat\", \"treat\", \"tree\", \"tree\", \"tree\", \"tri\", \"tri\", \"tri\", \"tri\", \"tri\", \"tri\", \"tri\", \"tri\", \"tri\", \"tri\", \"tuna\", \"tuna\", \"twine\", \"two\", \"two\", \"two\", \"two\", \"two\", \"two\", \"two\", \"two\", \"two\", \"two\", \"unhealthi\", \"up\", \"use\", \"use\", \"use\", \"use\", \"use\", \"use\", \"use\", \"use\", \"use\", \"use\", \"vacuum\", \"vanilla\", \"vanilla\", \"vanilla\", \"vanilla\", \"vanilla\", \"vendor\", \"vet\", \"vet\", \"vinegar\", \"wafer\", \"wafer\", \"waffl\", \"wal\", \"walk\", \"warehous\", \"water\", \"water\", \"water\", \"water\", \"water\", \"water\", \"watermelon\", \"wed\", \"week\", \"week\", \"week\", \"week\", \"week\", \"week\", \"week\", \"week\", \"week\", \"weight\", \"weight\", \"weight\", \"weight\", \"weight\", \"weight\", \"well\", \"well\", \"well\", \"well\", \"well\", \"well\", \"well\", \"well\", \"well\", \"well\", \"wet\", \"wet\", \"wet\", \"wet\", \"wheat\", \"wheat\", \"wheat\", \"whip\", \"whip\", \"white\", \"white\", \"white\", \"white\", \"white\", \"white\", \"white\", \"white\", \"whole\", \"whole\", \"whole\", \"whole\", \"whole\", \"whole\", \"whole\", \"whole\", \"whole\", \"whole\", \"wonder\", \"wonder\", \"wonder\", \"wonder\", \"wonder\", \"wonder\", \"wonder\", \"wonder\", \"wonder\", \"wonder\", \"work\", \"work\", \"work\", \"work\", \"work\", \"work\", \"work\", \"work\", \"work\", \"work\", \"would\", \"would\", \"would\", \"would\", \"would\", \"would\", \"would\", \"would\", \"would\", \"would\", \"year\", \"year\", \"year\", \"year\", \"year\", \"year\", \"year\", \"year\", \"year\", \"year\", \"yogi\", \"yogurt\", \"yogurt\", \"younger\", \"zico\"]}, \"R\": 30, \"lambda.step\": 0.01, \"plot.opts\": {\"xlab\": \"PC1\", \"ylab\": \"PC2\"}, \"topic.order\": [3, 1, 4, 7, 6, 2, 10, 9, 5, 8]};\n",
       "\n",
       "function LDAvis_load_lib(url, callback){\n",
       "  var s = document.createElement('script');\n",
       "  s.src = url;\n",
       "  s.async = true;\n",
       "  s.onreadystatechange = s.onload = callback;\n",
       "  s.onerror = function(){console.warn(\"failed to load library \" + url);};\n",
       "  document.getElementsByTagName(\"head\")[0].appendChild(s);\n",
       "}\n",
       "\n",
       "if(typeof(LDAvis) !== \"undefined\"){\n",
       "   // already loaded: just create the visualization\n",
       "   !function(LDAvis){\n",
       "       new LDAvis(\"#\" + \"ldavis_el1210415064038190727928665733\", ldavis_el1210415064038190727928665733_data);\n",
       "   }(LDAvis);\n",
       "}else if(typeof define === \"function\" && define.amd){\n",
       "   // require.js is available: use it to load d3/LDAvis\n",
       "   require.config({paths: {d3: \"https://d3js.org/d3.v5\"}});\n",
       "   require([\"d3\"], function(d3){\n",
       "      window.d3 = d3;\n",
       "      LDAvis_load_lib(\"https://cdn.jsdelivr.net/gh/bmabey/pyLDAvis@3.3.1/pyLDAvis/js/ldavis.v3.0.0.js\", function(){\n",
       "        new LDAvis(\"#\" + \"ldavis_el1210415064038190727928665733\", ldavis_el1210415064038190727928665733_data);\n",
       "      });\n",
       "    });\n",
       "}else{\n",
       "    // require.js not available: dynamically load d3 & LDAvis\n",
       "    LDAvis_load_lib(\"https://d3js.org/d3.v5.js\", function(){\n",
       "         LDAvis_load_lib(\"https://cdn.jsdelivr.net/gh/bmabey/pyLDAvis@3.3.1/pyLDAvis/js/ldavis.v3.0.0.js\", function(){\n",
       "                 new LDAvis(\"#\" + \"ldavis_el1210415064038190727928665733\", ldavis_el1210415064038190727928665733_data);\n",
       "            })\n",
       "         });\n",
       "}\n",
       "</script>"
      ],
      "text/plain": [
       "PreparedData(topic_coordinates=              x         y  topics  cluster       Freq\n",
       "topic                                                \n",
       "2     -0.034156  0.102538       1        1  18.701455\n",
       "0      0.001260  0.153829       2        1  12.499609\n",
       "3      0.082462  0.050674       3        1  12.429818\n",
       "6      0.060895  0.009963       4        1  12.205238\n",
       "5      0.070216 -0.038195       5        1  11.090821\n",
       "1      0.106242 -0.016197       6        1   8.957325\n",
       "9      0.054929 -0.112165       7        1   8.059191\n",
       "8     -0.210783  0.118824       8        1   6.103188\n",
       "4      0.156146 -0.097449       9        1   5.076460\n",
       "7     -0.287210 -0.171823      10        1   4.876894, topic_info=        Term          Freq          Total Category  logprob  loglift\n",
       "492      tea  99003.000000   99003.000000  Default  30.0000  30.0000\n",
       "149    coffe  93715.000000   93715.000000  Default  29.0000  29.0000\n",
       "289     food  79496.000000   79496.000000  Default  28.0000  28.0000\n",
       "203      dog  51436.000000   51436.000000  Default  27.0000  27.0000\n",
       "371   amazon  60278.000000   60278.000000  Default  26.0000  26.0000\n",
       "...      ...           ...            ...      ...      ...      ...\n",
       "21     natur   3431.434983   22783.524441  Topic10  -5.2791   1.1276\n",
       "1423   pasta   2956.803355   11966.995868  Topic10  -5.4280   1.6226\n",
       "36       use   3475.458061  120604.910709  Topic10  -5.2664  -0.5261\n",
       "735     look   3116.293078   40026.729117  Topic10  -5.3754   0.4678\n",
       "743   packag   2954.797903   36570.060921  Topic10  -5.4287   0.5049\n",
       "\n",
       "[736 rows x 6 columns], token_table=      Topic      Freq     Term\n",
       "term                          \n",
       "665       3  0.040569      add\n",
       "665       4  0.137652      add\n",
       "665       5  0.456680      add\n",
       "665       6  0.026131      add\n",
       "665       7  0.289021      add\n",
       "...     ...       ...      ...\n",
       "5308      9  0.999183     yogi\n",
       "698       3  0.275255   yogurt\n",
       "698       7  0.724453   yogurt\n",
       "3821      8  0.998955  younger\n",
       "6037      6  0.999380     zico\n",
       "\n",
       "[1960 rows x 3 columns], R=30, lambda_step=0.01, plot_opts={'xlab': 'PC1', 'ylab': 'PC2'}, topic_order=[3, 1, 4, 7, 6, 2, 10, 9, 5, 8])"
      ]
     },
     "execution_count": 68,
     "metadata": {},
     "output_type": "execute_result"
    }
   ],
   "source": [
    "# Visualize the topics\n",
    "pyLDAvis.enable_notebook()\n",
    "LDAvis_data_filepath = os.path.join('ldavis_prepared_'+str(num_topics))\n",
    "# # this is a bit time consuming - make the if statement True\n",
    "# # if you want to execute visualization prep yourself\n",
    "\n",
    "if 1 == 0:\n",
    "    LDAvis_prepared = pyLDAvis.gensim_models .prepare(lda, corpus, id2word)\n",
    "    with open(LDAvis_data_filepath, 'wb') as f:\n",
    "        pickle.dump(LDAvis_prepared, f)\n",
    "        \n",
    "# load the pre-prepared pyLDAvis data from disk\n",
    "with open(LDAvis_data_filepath, 'rb') as f:\n",
    "    LDAvis_prepared = pickle.load(f)\n",
    "pyLDAvis.save_html(LDAvis_prepared, 'ldavis_prepared_'+ str(num_topics) +'.html')\n",
    "LDAvis_prepared"
   ]
  },
  {
   "cell_type": "markdown",
   "id": "descending-rates",
   "metadata": {},
   "source": [
    "This is pretty neat, but honestly I don't care very much. These distributions don't really affect what I'm about to do. I was just curious to try this."
   ]
  },
  {
   "cell_type": "markdown",
   "id": "early-canberra",
   "metadata": {},
   "source": [
    "We might do something similar to the earlier word clouds and break this up by sentiment. SEe if the clusters are significantly different across sentiments, but again it's not deeply relevant to our long term goals, so we may not take the time"
   ]
  }
 ],
 "metadata": {
  "kernelspec": {
   "display_name": "Python 3",
   "language": "python",
   "name": "python3"
  },
  "language_info": {
   "codemirror_mode": {
    "name": "ipython",
    "version": 3
   },
   "file_extension": ".py",
   "mimetype": "text/x-python",
   "name": "python",
   "nbconvert_exporter": "python",
   "pygments_lexer": "ipython3",
   "version": "3.9.1"
  }
 },
 "nbformat": 4,
 "nbformat_minor": 5
}

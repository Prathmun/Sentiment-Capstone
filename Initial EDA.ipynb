{
 "cells": [
  {
   "cell_type": "code",
   "execution_count": 52,
   "id": "original-snowboard",
   "metadata": {},
   "outputs": [],
   "source": [
    "#In the begining, ther is time\n",
    "import time"
   ]
  },
  {
   "cell_type": "code",
   "execution_count": 53,
   "id": "quiet-burner",
   "metadata": {},
   "outputs": [],
   "source": [
    "#Quality of life\n",
    "#Some things we do generate a lot of warnings, and it just becomes clutter.\n",
    "import warnings\n",
    "warnings.filterwarnings(\"ignore\")\n",
    "#I like it when my notebook helps me out\n",
    "%config IPCompleter.greedy=True\n",
    "#Sometiems you just need to print pretty\n",
    "from pprint import pprint\n",
    "#Lots of these operations take many minutes to complete. So it behooves us to pickle the outputs and just unpickle them each time we re-open the notebook\n",
    "import pickle\n"
   ]
  },
  {
   "cell_type": "markdown",
   "id": "clear-patio",
   "metadata": {},
   "source": [
    "Data is from: https://www.kaggle.com/datasets/toygarr/datasets-for-natural-language-processing"
   ]
  },
  {
   "cell_type": "markdown",
   "id": "limited-yahoo",
   "metadata": {},
   "source": [
    "Dataset is from a collection of sentiment datasets, but we just want to play with the food one for now."
   ]
  },
  {
   "cell_type": "markdown",
   "id": "limiting-brake",
   "metadata": {},
   "source": [
    "\"ctweet, stweet, food\" datasets are positive or negative analysis (sentiment) -> 0 negative -> 1 positive (ctweet has neutral 0, 1, 2)\n",
    "\n",
    "we're assuming that any code we write to deal with this food data set will be extensible later by simply adding the rest of the data if we so choose. At the moment it's simply faster to work with a smaller subset of the data as we design the pipeline and it's displays."
   ]
  },
  {
   "cell_type": "code",
   "execution_count": 54,
   "id": "north-corpus",
   "metadata": {},
   "outputs": [],
   "source": [
    "import pandas as pd\n",
    "import nltk\n",
    "import numpy as np\n",
    "from nltk.tokenize import word_tokenize\n",
    "from nltk.stem import SnowballStemmer\n",
    "from nltk import ngrams\n",
    "import matplotlib.pyplot as plt\n",
    "from wordcloud import WordCloud\n",
    "from collections import Counter\n",
    "import seaborn as sns"
   ]
  },
  {
   "cell_type": "code",
   "execution_count": 55,
   "id": "final-estimate",
   "metadata": {},
   "outputs": [],
   "source": [
    "from sklearn.feature_extraction.text import CountVectorizer\n",
    "from sklearn.cluster import DBSCAN\n",
    "from gensim.models.ldamodel import LdaModel\n",
    "from gensim.corpora.dictionary import Dictionary\n",
    "import os"
   ]
  },
  {
   "cell_type": "code",
   "execution_count": null,
   "id": "developmental-focus",
   "metadata": {},
   "outputs": [],
   "source": [
    "#collocation tools\n",
    "import collections\n",
    "from nltk.collocations import *"
   ]
  },
  {
   "cell_type": "markdown",
   "id": "loved-differential",
   "metadata": {},
   "source": [
    "### Load in the dataset and do some basic confirmations"
   ]
  },
  {
   "cell_type": "code",
   "execution_count": 56,
   "id": "postal-appointment",
   "metadata": {},
   "outputs": [],
   "source": [
    "test = pd.read_csv('C:/Users/Prathmun/Documents/Springboard Jupyter/Capstone_3/data/food/test.csv')"
   ]
  },
  {
   "cell_type": "code",
   "execution_count": 57,
   "id": "wicked-hierarchy",
   "metadata": {
    "scrolled": true
   },
   "outputs": [
    {
     "data": {
      "text/plain": [
       "(145293, 2)"
      ]
     },
     "execution_count": 57,
     "metadata": {},
     "output_type": "execute_result"
    }
   ],
   "source": [
    "test.shape"
   ]
  },
  {
   "cell_type": "code",
   "execution_count": 58,
   "id": "unique-hepatitis",
   "metadata": {
    "scrolled": true
   },
   "outputs": [
    {
     "data": {
      "text/html": [
       "<div>\n",
       "<style scoped>\n",
       "    .dataframe tbody tr th:only-of-type {\n",
       "        vertical-align: middle;\n",
       "    }\n",
       "\n",
       "    .dataframe tbody tr th {\n",
       "        vertical-align: top;\n",
       "    }\n",
       "\n",
       "    .dataframe thead th {\n",
       "        text-align: right;\n",
       "    }\n",
       "</style>\n",
       "<table border=\"1\" class=\"dataframe\">\n",
       "  <thead>\n",
       "    <tr style=\"text-align: right;\">\n",
       "      <th></th>\n",
       "      <th>text</th>\n",
       "      <th>Y</th>\n",
       "    </tr>\n",
       "  </thead>\n",
       "  <tbody>\n",
       "    <tr>\n",
       "      <th>0</th>\n",
       "      <td>this is the perfect blend of spice and sweet i...</td>\n",
       "      <td>1</td>\n",
       "    </tr>\n",
       "    <tr>\n",
       "      <th>1</th>\n",
       "      <td>the only coffee shop in town that carried big ...</td>\n",
       "      <td>1</td>\n",
       "    </tr>\n",
       "    <tr>\n",
       "      <th>2</th>\n",
       "      <td>this was a great price but amazon is not going...</td>\n",
       "      <td>1</td>\n",
       "    </tr>\n",
       "    <tr>\n",
       "      <th>3</th>\n",
       "      <td>while i love this product i feel disappointed ...</td>\n",
       "      <td>1</td>\n",
       "    </tr>\n",
       "    <tr>\n",
       "      <th>4</th>\n",
       "      <td>i have color treated hair and wanted to try th...</td>\n",
       "      <td>0</td>\n",
       "    </tr>\n",
       "  </tbody>\n",
       "</table>\n",
       "</div>"
      ],
      "text/plain": [
       "                                                text  Y\n",
       "0  this is the perfect blend of spice and sweet i...  1\n",
       "1  the only coffee shop in town that carried big ...  1\n",
       "2  this was a great price but amazon is not going...  1\n",
       "3  while i love this product i feel disappointed ...  1\n",
       "4  i have color treated hair and wanted to try th...  0"
      ]
     },
     "execution_count": 58,
     "metadata": {},
     "output_type": "execute_result"
    }
   ],
   "source": [
    "test.head()"
   ]
  },
  {
   "cell_type": "code",
   "execution_count": 59,
   "id": "revised-option",
   "metadata": {},
   "outputs": [],
   "source": [
    "train = pd.read_csv('C:/Users/Prathmun/Documents/Springboard Jupyter/Capstone_3/data/food/train.csv')"
   ]
  },
  {
   "cell_type": "code",
   "execution_count": 60,
   "id": "supposed-guest",
   "metadata": {},
   "outputs": [
    {
     "data": {
      "text/plain": [
       "(217926, 2)"
      ]
     },
     "execution_count": 60,
     "metadata": {},
     "output_type": "execute_result"
    }
   ],
   "source": [
    "train.shape"
   ]
  },
  {
   "cell_type": "code",
   "execution_count": 61,
   "id": "vanilla-insurance",
   "metadata": {},
   "outputs": [
    {
     "data": {
      "text/html": [
       "<div>\n",
       "<style scoped>\n",
       "    .dataframe tbody tr th:only-of-type {\n",
       "        vertical-align: middle;\n",
       "    }\n",
       "\n",
       "    .dataframe tbody tr th {\n",
       "        vertical-align: top;\n",
       "    }\n",
       "\n",
       "    .dataframe thead th {\n",
       "        text-align: right;\n",
       "    }\n",
       "</style>\n",
       "<table border=\"1\" class=\"dataframe\">\n",
       "  <thead>\n",
       "    <tr style=\"text-align: right;\">\n",
       "      <th></th>\n",
       "      <th>text</th>\n",
       "      <th>Y</th>\n",
       "    </tr>\n",
       "  </thead>\n",
       "  <tbody>\n",
       "    <tr>\n",
       "      <th>0</th>\n",
       "      <td>i was put off at first by the green powder but...</td>\n",
       "      <td>1</td>\n",
       "    </tr>\n",
       "    <tr>\n",
       "      <th>1</th>\n",
       "      <td>these ginger chews are too good to be true i t...</td>\n",
       "      <td>1</td>\n",
       "    </tr>\n",
       "    <tr>\n",
       "      <th>2</th>\n",
       "      <td>i love salt and use a variety of salts to keep...</td>\n",
       "      <td>1</td>\n",
       "    </tr>\n",
       "    <tr>\n",
       "      <th>3</th>\n",
       "      <td>if asked to sum up this coffee pod drawer in o...</td>\n",
       "      <td>1</td>\n",
       "    </tr>\n",
       "    <tr>\n",
       "      <th>4</th>\n",
       "      <td>so far my dog has tried the chicken and peanut...</td>\n",
       "      <td>1</td>\n",
       "    </tr>\n",
       "  </tbody>\n",
       "</table>\n",
       "</div>"
      ],
      "text/plain": [
       "                                                text  Y\n",
       "0  i was put off at first by the green powder but...  1\n",
       "1  these ginger chews are too good to be true i t...  1\n",
       "2  i love salt and use a variety of salts to keep...  1\n",
       "3  if asked to sum up this coffee pod drawer in o...  1\n",
       "4  so far my dog has tried the chicken and peanut...  1"
      ]
     },
     "execution_count": 61,
     "metadata": {},
     "output_type": "execute_result"
    }
   ],
   "source": [
    "train.head()"
   ]
  },
  {
   "cell_type": "code",
   "execution_count": 62,
   "id": "scientific-framing",
   "metadata": {},
   "outputs": [],
   "source": [
    "frames = [train, test]"
   ]
  },
  {
   "cell_type": "markdown",
   "id": "certified-guatemala",
   "metadata": {},
   "source": [
    "### Combine the test/train sets as we're going to do our own splits later"
   ]
  },
  {
   "cell_type": "code",
   "execution_count": 63,
   "id": "formal-seattle",
   "metadata": {},
   "outputs": [],
   "source": [
    "df = pd.concat(frames)"
   ]
  },
  {
   "cell_type": "code",
   "execution_count": 64,
   "id": "opposite-temple",
   "metadata": {},
   "outputs": [
    {
     "data": {
      "text/plain": [
       "(363219, 2)"
      ]
     },
     "execution_count": 64,
     "metadata": {},
     "output_type": "execute_result"
    }
   ],
   "source": [
    "df.shape"
   ]
  },
  {
   "cell_type": "code",
   "execution_count": 65,
   "id": "flush-wellington",
   "metadata": {
    "scrolled": true
   },
   "outputs": [
    {
     "data": {
      "text/plain": [
       "text                                                                                                                                                                                                                                                                                                                                                                                                                                                                                                                                                                                                                                                                                                                                                                                                                                                                                                                                                                                                                                                                                                                                                                                                                                                                                                                                                                                                                                                                                                                                                                                                                                                                                                                                                                                                                                                                                                                                                                                                                                                                                                                                                                                                                                                                                                                                                                                                                                                                                                                                                                                                                                                                                                                                                                                                                                                                                                  Y\n",
       "length mins                                                                                                                                                                                                                                                                                                                                                                                                                                                                                                                                                                                                                                                                                                                                                                                                                                                                                                                                                                                                                                                                                                                                                                                                                                                                                                                                                                                                                                                                                                                                                                                                                                                                                                                                                                                                                                                                                                                                                                                                                                                                                                                                                                                                                                                                                                                                                                                                                                                                                                                                                                                                                                                                                                                                                                                                                                                                                           1    13\n",
       "several years ago i went on a tour of the celestial seasonings tea factory in boulder colorado the guide showed us the bales of tea as they arrived machines that ground and mixed the tea and a machine that put the tea in tea bags the tour included a visit to the room where the peppermint tea was stored our guide told us that peppermint was stored separately so that it would not contaminate the other teas he did not tell us what was to come the doorway into the peppermint room was surrounded by bright red stripes this should have served as a warning to us we all innocently strolled into the peppermint room the smell of peppermint was overpowering it entered my nose my head my lungs and then my whole being was infused with peppermint what a rush the crowd stampeded out of the room in a hurry for the rest of the day and into the next all i could smell and taste was the mint i am now addicted to                                                                                                                                                                                                                                                                                                                                                                                                                                                                                                                                                                                                                                                                                                                                                                                                                                                                                                                                                                                                                                                                                                                                                                                                                                                                                                                                                                                                                                                                                                                                                                                                                                                                                                                                                                                                                                                                                                                                                              1     9\n",
       "diamond almondsalmonds are a good source of magnesium one ounce contain approximately of the rda for an adult recommended dietary allowance rda recommended dietary allowance rda the amounts of selected nutrients considered adequate to meet the known nutrient needs of healthy people the rda is based on scientific knowledge and has been presented by a committee of the food and nutrition board fnb of the national academy of sciences nas the canadian equivalent is the recommended nutrient intakes rda is generally accepted throughout the world as a valid source of information at least different nations have as well as organizations have published standards similar to the rda magnesium is the fourth most abundant mineral in the body and is essential to good health approximately of total body magnesium is found in bone the other half is found predominantly inside cells of body tissues and organs only of magnesium is found in blood but the body works very hard to keep blood levels of magnesium constant magnesium is needed for more than biochemical reactions in the body it helps maintain normal muscle and nerve function keeps heart rhythm steady supports a healthy immune system and keeps bones strong magnesium also helps regulate blood sugar levels promotes normal blood pressure and is known to be involved in energy metabolism and protein synthesis there is an increased interest in the role of magnesium in preventing and managing disorders such as hypertension cardiovascular disease and diabetes dietary magnesium is absorbed in the small intestines are you taking enough magnesium in the diet the recommended daily allowance is for men for women magnesium is extremely safe by mouth too much simply causes diarrhea try increasing the amount of magnesium you take by mouth until it causes diarrhea then reduce the dose slightly so it does not this is called taking magnesium to bowel tolerance just like using vitamin c to bowel tolerance almonds are a good source of fiber one ounce contains approximately of the rda for an adult so in summary almonds are a very healthy snack so what is left to say two be cautious about bowel tolerance or happy bowels if you taste i realize that taste is a personal thing that is why they make chocolate strawberry and vanilla here is my current favorites blue diamond dark mint dark chocolate reminds me of the chocolate mint girl scout cookies with less blue diamond dark chocolate oven blue diamond blue butter blue diamond almonds bold habanero bbq reminds me of bbq potato chips again with less bold blazin buffalo blue diamond almonds cinnamon brown blue diamond almonds lime n blue diamond almonds bold wasabi soy saucebut that is just me you might have a completely different take on these flavors and are very close gunnermay   1     9\n",
       "the                                                                                                                                                                                                                                                                                                                                                                                                                                                                                                                                                                                                                                                                                                                                                                                                                                                                                                                                                                                                                                                                                                                                                                                                                                                                                                                                                                                                                                                                                                                                                                                                                                                                                                                                                                                                                                                                                                                                                                                                                                                                                                                                                                                                                                                                                                                                                                                                                                                                                                                                                                                                                                                                                                                                                                                                                                                                                                   1     8\n",
       "gunpowder tea is green tea most of which comes from a city named pingshui in the eastern chinese province of zhejiang south of the yangtse river delta where it has been cultivated for centuries and is known as the green pearl of tea pingshui tea market records date as far back as the tang dynasty ad the area is gunpowder tea was an important tribute traditionally given to the chinese emperors and with the growing trade volume between china and the west it also acquired an increasing number of lovers in europe particularly during the second half of the century when gunpowder tea export reached its peak its price on the london market was second only to then popular wu yi oolong also from china even today zhejiang province still proudly calls itself home of silk and tea for its two primary natural products the name gunpowder derives from the tea is elaborate method of processing which traditionally lasts several hours and during which the tea leaves are withered steamed or stir fried and individually rolled into small pellets early foreign traders mistook these pellets for gunpowder or gunshot gunpowder tea has a delicate aroma with a slightly smokey note it should always be enjoyed without milk or cream                                                                                                                                                                                                                                                                                                                                                                                                                                                                                                                                                                                                                                                                                                                                                                                                                                                                                                                                                                                                                                                                                                                                                                                                                                                                                                                                                                                                                                                                                                                                                                                                                                  1     6\n",
       "                                                                                                                                                                                                                                                                                                                                                                                                                                                                                                                                                                                                                                                                                                                                                                                                                                                                                                                                                                                                                                                                                                                                                                                                                                                                                                                                                                                                                                                                                                                                                                                                                                                                                                                                                                                                                                                                                                                                                                                                                                                                                                                                                                                                                                                                                                                                                                                                                                                                                                                                                                                                                                                                                                                                                                                                                                                                                                           ..\n",
       "i like to watch food network on my tv so one day one of the culinary artists ina garten or giada de laurenti used chestnut blossom honey in one of their desserts i did not know that chestnut blossom honey ever existed so i went to my amazon com ordered it it came promptly when i opened the jar of honey i was welcomed to a wonderful fragrance of the chestnut blossom the flavor is rich simply put totally rocks i made chestnut honey pound cake chestnut honey chocolate coffee cake tea cake to die for i guess is not too late to learn those italians know a thing or two or more about cooking as well love this product i will continue to buy this product again and again                                                                                                                                                                                                                                                                                                                                                                                                                                                                                                                                                                                                                                                                                                                                                                                                                                                                                                                                                                                                                                                                                                                                                                                                                                                                                                                                                                                                                                                                                                                                                                                                                                                                                                                                                                                                                                                                                                                                                                                                                                                                                                                                                                                                         1     1\n",
       "i like to wash out my vagina with this stuff it is not that hot and just hits the spot keep the scrubbing going                                                                                                                                                                                                                                                                                                                                                                                                                                                                                                                                                                                                                                                                                                                                                                                                                                                                                                                                                                                                                                                                                                                                                                                                                                                                                                                                                                                                                                                                                                                                                                                                                                                                                                                                                                                                                                                                                                                                                                                                                                                                                                                                                                                                                                                                                                                                                                                                                                                                                                                                                                                                                                                                                                                                                                                       1     1\n",
       "i like to use walnut oil in salad dressings and in baking it is delicious when added to pancakes and muffin mixes in lieu of regular vegetable oil it adds just a hint of flavor without being overwhelming and with the price that amazon offers it for vs what my local grocery store charges for a smaller amount it is a definite bargain would highly recommend                                                                                                                                                                                                                                                                                                                                                                                                                                                                                                                                                                                                                                                                                                                                                                                                                                                                                                                                                                                                                                                                                                                                                                                                                                                                                                                                                                                                                                                                                                                                                                                                                                                                                                                                                                                                                                                                                                                                                                                                                                                                                                                                                                                                                                                                                                                                                                                                                                                                                                                                  1     1\n",
       "i like to use this stuff on a low fat brownie i have it is pretty good gives me the peanut butter flavor i am not sure about spreading this on some toast or anything                                                                                                                                                                                                                                                                                                                                                                                                                                                                                                                                                                                                                                                                                                                                                                                                                                                                                                                                                                                                                                                                                                                                                                                                                                                                                                                                                                                                                                                                                                                                                                                                                                                                                                                                                                                                                                                                                                                                                                                                                                                                                                                                                                                                                                                                                                                                                                                                                                                                                                                                                                                                                                                                                                                                 1     1\n",
       "zzzzzzz i had high hopes for this coffee and have been really disappointed i say you are better off buying folgers and adding extra scoops to your filter then buying this i had to use a lot to get a strong cup of coffee and still went to sleep several times after drinking i think its over priced hype                                                                                                                                                                                                                                                                                                                                                                                                                                                                                                                                                                                                                                                                                                                                                                                                                                                                                                                                                                                                                                                                                                                                                                                                                                                                                                                                                                                                                                                                                                                                                                                                                                                                                                                                                                                                                                                                                                                                                                                                                                                                                                                                                                                                                                                                                                                                                                                                                                                                                                                                                                                         0     1\n",
       "Length: 362322, dtype: int64"
      ]
     },
     "execution_count": 65,
     "metadata": {},
     "output_type": "execute_result"
    }
   ],
   "source": [
    "df.value_counts()"
   ]
  },
  {
   "cell_type": "code",
   "execution_count": 66,
   "id": "abandoned-respect",
   "metadata": {},
   "outputs": [],
   "source": [
    "stopwords = nltk.corpus.stopwords.words(\"english\")"
   ]
  },
  {
   "cell_type": "markdown",
   "id": "virtual-limitation",
   "metadata": {},
   "source": [
    "### Tokenize text"
   ]
  },
  {
   "cell_type": "code",
   "execution_count": 67,
   "id": "noted-significance",
   "metadata": {},
   "outputs": [],
   "source": [
    "df['tokenized'] = df.text.apply(word_tokenize)\n",
    "\n"
   ]
  },
  {
   "cell_type": "code",
   "execution_count": 68,
   "id": "crucial-creation",
   "metadata": {},
   "outputs": [
    {
     "data": {
      "text/html": [
       "<div>\n",
       "<style scoped>\n",
       "    .dataframe tbody tr th:only-of-type {\n",
       "        vertical-align: middle;\n",
       "    }\n",
       "\n",
       "    .dataframe tbody tr th {\n",
       "        vertical-align: top;\n",
       "    }\n",
       "\n",
       "    .dataframe thead th {\n",
       "        text-align: right;\n",
       "    }\n",
       "</style>\n",
       "<table border=\"1\" class=\"dataframe\">\n",
       "  <thead>\n",
       "    <tr style=\"text-align: right;\">\n",
       "      <th></th>\n",
       "      <th>text</th>\n",
       "      <th>Y</th>\n",
       "      <th>tokenized</th>\n",
       "    </tr>\n",
       "  </thead>\n",
       "  <tbody>\n",
       "    <tr>\n",
       "      <th>0</th>\n",
       "      <td>i was put off at first by the green powder but...</td>\n",
       "      <td>1</td>\n",
       "      <td>[i, was, put, off, at, first, by, the, green, ...</td>\n",
       "    </tr>\n",
       "    <tr>\n",
       "      <th>1</th>\n",
       "      <td>these ginger chews are too good to be true i t...</td>\n",
       "      <td>1</td>\n",
       "      <td>[these, ginger, chews, are, too, good, to, be,...</td>\n",
       "    </tr>\n",
       "  </tbody>\n",
       "</table>\n",
       "</div>"
      ],
      "text/plain": [
       "                                                text  Y  \\\n",
       "0  i was put off at first by the green powder but...  1   \n",
       "1  these ginger chews are too good to be true i t...  1   \n",
       "\n",
       "                                           tokenized  \n",
       "0  [i, was, put, off, at, first, by, the, green, ...  \n",
       "1  [these, ginger, chews, are, too, good, to, be,...  "
      ]
     },
     "execution_count": 68,
     "metadata": {},
     "output_type": "execute_result"
    }
   ],
   "source": [
    "df.head(2)"
   ]
  },
  {
   "cell_type": "markdown",
   "id": "vietnamese-cancellation",
   "metadata": {},
   "source": [
    "### Remove Stop Words\n"
   ]
  },
  {
   "cell_type": "code",
   "execution_count": 69,
   "id": "intensive-berkeley",
   "metadata": {},
   "outputs": [],
   "source": [
    "df['nostops'] = df.tokenized.apply(lambda  x: [item for item in x if item not in stopwords])"
   ]
  },
  {
   "cell_type": "code",
   "execution_count": 70,
   "id": "elementary-august",
   "metadata": {},
   "outputs": [
    {
     "data": {
      "text/html": [
       "<div>\n",
       "<style scoped>\n",
       "    .dataframe tbody tr th:only-of-type {\n",
       "        vertical-align: middle;\n",
       "    }\n",
       "\n",
       "    .dataframe tbody tr th {\n",
       "        vertical-align: top;\n",
       "    }\n",
       "\n",
       "    .dataframe thead th {\n",
       "        text-align: right;\n",
       "    }\n",
       "</style>\n",
       "<table border=\"1\" class=\"dataframe\">\n",
       "  <thead>\n",
       "    <tr style=\"text-align: right;\">\n",
       "      <th></th>\n",
       "      <th>text</th>\n",
       "      <th>Y</th>\n",
       "      <th>tokenized</th>\n",
       "      <th>nostops</th>\n",
       "    </tr>\n",
       "  </thead>\n",
       "  <tbody>\n",
       "    <tr>\n",
       "      <th>0</th>\n",
       "      <td>i was put off at first by the green powder but...</td>\n",
       "      <td>1</td>\n",
       "      <td>[i, was, put, off, at, first, by, the, green, ...</td>\n",
       "      <td>[put, first, green, powder, bad, little, grain...</td>\n",
       "    </tr>\n",
       "    <tr>\n",
       "      <th>1</th>\n",
       "      <td>these ginger chews are too good to be true i t...</td>\n",
       "      <td>1</td>\n",
       "      <td>[these, ginger, chews, are, too, good, to, be,...</td>\n",
       "      <td>[ginger, chews, good, true, try, limit, one, d...</td>\n",
       "    </tr>\n",
       "  </tbody>\n",
       "</table>\n",
       "</div>"
      ],
      "text/plain": [
       "                                                text  Y  \\\n",
       "0  i was put off at first by the green powder but...  1   \n",
       "1  these ginger chews are too good to be true i t...  1   \n",
       "\n",
       "                                           tokenized  \\\n",
       "0  [i, was, put, off, at, first, by, the, green, ...   \n",
       "1  [these, ginger, chews, are, too, good, to, be,...   \n",
       "\n",
       "                                             nostops  \n",
       "0  [put, first, green, powder, bad, little, grain...  \n",
       "1  [ginger, chews, good, true, try, limit, one, d...  "
      ]
     },
     "execution_count": 70,
     "metadata": {},
     "output_type": "execute_result"
    }
   ],
   "source": [
    "df.head(2)"
   ]
  },
  {
   "cell_type": "markdown",
   "id": "lesser-prospect",
   "metadata": {},
   "source": [
    "### Stemming \n",
    "Might do lemmatization later, but stemming is simpler and more reliable and we're looking to get something working before we refine it. Lemmatization is a step we can experiment with in our refinement stages\n",
    "\n",
    "We chose snowball because it's an older, and stable stemmer that incorporates improvements from the older stemmer algorithm Porter's real world experience\n",
    "Snowball docs: https://www.nltk.org/api/nltk.stem.snowball.html\n",
    "Article that informed our decision to choose Snowball: https://towardsdatascience.com/stemming-lemmatization-what-ba782b7c0bd8\n"
   ]
  },
  {
   "cell_type": "code",
   "execution_count": 71,
   "id": "terminal-copying",
   "metadata": {},
   "outputs": [],
   "source": [
    "stemmer = SnowballStemmer(\"english\")\n",
    "df['stemmed'] = df.nostops.apply(lambda x: [stemmer.stem(item) for item in x])"
   ]
  },
  {
   "cell_type": "code",
   "execution_count": 72,
   "id": "alive-twelve",
   "metadata": {},
   "outputs": [
    {
     "data": {
      "text/html": [
       "<div>\n",
       "<style scoped>\n",
       "    .dataframe tbody tr th:only-of-type {\n",
       "        vertical-align: middle;\n",
       "    }\n",
       "\n",
       "    .dataframe tbody tr th {\n",
       "        vertical-align: top;\n",
       "    }\n",
       "\n",
       "    .dataframe thead th {\n",
       "        text-align: right;\n",
       "    }\n",
       "</style>\n",
       "<table border=\"1\" class=\"dataframe\">\n",
       "  <thead>\n",
       "    <tr style=\"text-align: right;\">\n",
       "      <th></th>\n",
       "      <th>text</th>\n",
       "      <th>Y</th>\n",
       "      <th>tokenized</th>\n",
       "      <th>nostops</th>\n",
       "      <th>stemmed</th>\n",
       "    </tr>\n",
       "  </thead>\n",
       "  <tbody>\n",
       "    <tr>\n",
       "      <th>0</th>\n",
       "      <td>i was put off at first by the green powder but...</td>\n",
       "      <td>1</td>\n",
       "      <td>[i, was, put, off, at, first, by, the, green, ...</td>\n",
       "      <td>[put, first, green, powder, bad, little, grain...</td>\n",
       "      <td>[put, first, green, powder, bad, littl, graini...</td>\n",
       "    </tr>\n",
       "  </tbody>\n",
       "</table>\n",
       "</div>"
      ],
      "text/plain": [
       "                                                text  Y  \\\n",
       "0  i was put off at first by the green powder but...  1   \n",
       "\n",
       "                                           tokenized  \\\n",
       "0  [i, was, put, off, at, first, by, the, green, ...   \n",
       "\n",
       "                                             nostops  \\\n",
       "0  [put, first, green, powder, bad, little, grain...   \n",
       "\n",
       "                                             stemmed  \n",
       "0  [put, first, green, powder, bad, littl, graini...  "
      ]
     },
     "execution_count": 72,
     "metadata": {},
     "output_type": "execute_result"
    }
   ],
   "source": [
    "df.head(1)"
   ]
  },
  {
   "cell_type": "code",
   "execution_count": 73,
   "id": "physical-milton",
   "metadata": {},
   "outputs": [
    {
     "data": {
      "text/plain": [
       "0    [put, first, green, powder, bad, littl, graini...\n",
       "1    [ginger, chew, good, true, tri, limit, one, da...\n",
       "Name: stemmed, dtype: object"
      ]
     },
     "execution_count": 73,
     "metadata": {},
     "output_type": "execute_result"
    }
   ],
   "source": [
    "df.stemmed.head(2)"
   ]
  },
  {
   "cell_type": "markdown",
   "id": "portable-victory",
   "metadata": {},
   "source": [
    "### Bi-gram and n-gram manufacture\n",
    "\n",
    "It looks as if stemming can increase recall, even in short texts but can also cause problems. We're going to move forward with stemmed words for now, but again can return to this if we seek optimization tasks down the line\n",
    "Source: https://stackoverflow.com/questions/47219389/compute-word-n-grams-on-original-text-or-after-lemma-stemming-process#:~:text=Computing%20word%20n%2Dgrams%20after,you%20want%20to%20do%20it."
   ]
  },
  {
   "cell_type": "code",
   "execution_count": 74,
   "id": "negative-label",
   "metadata": {},
   "outputs": [],
   "source": [
    "df['bi_grams'] = df.stemmed.apply(lambda y: [x for x in ngrams(y, 2)])"
   ]
  },
  {
   "cell_type": "code",
   "execution_count": 75,
   "id": "modular-charlotte",
   "metadata": {},
   "outputs": [
    {
     "data": {
      "text/plain": [
       "0    [(put, first), (first, green), (green, powder)...\n",
       "1    [(ginger, chew), (chew, good), (good, true), (...\n",
       "Name: bi_grams, dtype: object"
      ]
     },
     "execution_count": 75,
     "metadata": {},
     "output_type": "execute_result"
    }
   ],
   "source": [
    "df.bi_grams.head(2)"
   ]
  },
  {
   "cell_type": "code",
   "execution_count": 76,
   "id": "involved-rebecca",
   "metadata": {
    "scrolled": true
   },
   "outputs": [],
   "source": [
    "df['tri_grams'] = df.stemmed.apply(lambda y: [x for x in ngrams(y, 3)])"
   ]
  },
  {
   "cell_type": "code",
   "execution_count": 77,
   "id": "motivated-building",
   "metadata": {},
   "outputs": [
    {
     "data": {
      "text/plain": [
       "0    [(put, first, green), (first, green, powder), ...\n",
       "1    [(ginger, chew, good), (chew, good, true), (go...\n",
       "Name: tri_grams, dtype: object"
      ]
     },
     "execution_count": 77,
     "metadata": {},
     "output_type": "execute_result"
    }
   ],
   "source": [
    "df.tri_grams.head(2)"
   ]
  },
  {
   "cell_type": "markdown",
   "id": "stuck-language",
   "metadata": {},
   "source": [
    "#Save DF as CSV"
   ]
  },
  {
   "cell_type": "markdown",
   "id": "frank-practice",
   "metadata": {},
   "source": [
    "## Part of speach tagging\n",
    "https://www.nltk.org/book/ch05.html"
   ]
  },
  {
   "cell_type": "code",
   "execution_count": null,
   "id": "electoral-relation",
   "metadata": {},
   "outputs": [],
   "source": [
    "df['pos_tagged'] = df.tokenized.apply(nltk.pos_tag)"
   ]
  },
  {
   "cell_type": "code",
   "execution_count": null,
   "id": "national-commission",
   "metadata": {
    "scrolled": true
   },
   "outputs": [],
   "source": [
    "df['pos_tagged'].head()"
   ]
  },
  {
   "cell_type": "markdown",
   "id": "potential-inside",
   "metadata": {},
   "source": [
    "I did this kind of just to see what it would be like. It's not clear that this is going to be useful going forward."
   ]
  },
  {
   "cell_type": "markdown",
   "id": "legal-shoulder",
   "metadata": {},
   "source": [
    "## Vectorizing the corpus\n",
    "#Creating a df for each degree of n-gram vector, for easy organization\n",
    "https://scikit-learn.org/stable/modules/generated/sklearn.feature_extraction.text.CountVectorizer.html"
   ]
  },
  {
   "cell_type": "code",
   "execution_count": null,
   "id": "federal-presentation",
   "metadata": {},
   "outputs": [],
   "source": [
    "#Vectorizer_Agent_mono = CountVectorizer(preprocessor=None, stop_words=stopwords)"
   ]
  },
  {
   "cell_type": "code",
   "execution_count": null,
   "id": "objective-cardiff",
   "metadata": {},
   "outputs": [],
   "source": [
    "#vectored_no_stops_mono = Vectorizer_Agent_mono.fit_transform(df.text.values) "
   ]
  },
  {
   "cell_type": "code",
   "execution_count": null,
   "id": "entitled-frost",
   "metadata": {},
   "outputs": [],
   "source": [
    "vectored_no_stops_mono = pickle.load(open(\"vectored_no_stops_mono\", 'rb'))"
   ]
  },
  {
   "cell_type": "code",
   "execution_count": null,
   "id": "administrative-starter",
   "metadata": {
    "scrolled": true
   },
   "outputs": [],
   "source": [
    "type(vectored_no_stops_mono)"
   ]
  },
  {
   "cell_type": "code",
   "execution_count": null,
   "id": "recognized-traveler",
   "metadata": {},
   "outputs": [],
   "source": [
    "#pickle.dump(vectored_no_stops_mono, open(\"vectored_no_stops_mono\", 'wb'))"
   ]
  },
  {
   "cell_type": "markdown",
   "id": "electronic-squad",
   "metadata": {},
   "source": [
    "### Bigram Vector"
   ]
  },
  {
   "cell_type": "code",
   "execution_count": null,
   "id": "parliamentary-courage",
   "metadata": {},
   "outputs": [],
   "source": [
    "#Vectorizer_Agent_bi = CountVectorizer(preprocessor=None, stop_words=stopwords, ngram_range=(1,2))"
   ]
  },
  {
   "cell_type": "code",
   "execution_count": null,
   "id": "peaceful-wallet",
   "metadata": {},
   "outputs": [],
   "source": [
    "#vectored_no_stops_bi = Vectorizer_Agent_bi.fit_transform(df.text.values) "
   ]
  },
  {
   "cell_type": "code",
   "execution_count": null,
   "id": "revolutionary-range",
   "metadata": {},
   "outputs": [],
   "source": [
    "vectored_no_stops_bi = pickle.load(open(\"vectored_no_stops_bi\", 'rb'))"
   ]
  },
  {
   "cell_type": "code",
   "execution_count": null,
   "id": "medieval-bryan",
   "metadata": {
    "scrolled": true
   },
   "outputs": [],
   "source": [
    "type(vectored_no_stops_bi)"
   ]
  },
  {
   "cell_type": "code",
   "execution_count": null,
   "id": "settled-picture",
   "metadata": {},
   "outputs": [],
   "source": [
    "#pickle.dump(vectored_no_stops_bi, open(\"vectored_no_stops_bi\", 'wb'))"
   ]
  },
  {
   "cell_type": "markdown",
   "id": "biblical-triple",
   "metadata": {},
   "source": [
    "### Trigram Vector"
   ]
  },
  {
   "cell_type": "code",
   "execution_count": null,
   "id": "scientific-fantasy",
   "metadata": {},
   "outputs": [],
   "source": [
    "#Vectorizer_Agent_tri = CountVectorizer(preprocessor=None, stop_words=stopwords, ngram_range=(1,3))"
   ]
  },
  {
   "cell_type": "code",
   "execution_count": null,
   "id": "recent-shelf",
   "metadata": {},
   "outputs": [],
   "source": [
    "#vectored_no_stops_tri = Vectorizer_Agent_tri.fit_transform(df.text.values) "
   ]
  },
  {
   "cell_type": "code",
   "execution_count": null,
   "id": "motivated-division",
   "metadata": {},
   "outputs": [],
   "source": [
    "vectored_no_stops_tri = pickle.load(open(\"vectored_no_stops_tri\", 'rb'))"
   ]
  },
  {
   "cell_type": "code",
   "execution_count": null,
   "id": "dynamic-record",
   "metadata": {},
   "outputs": [],
   "source": [
    "type(vectored_no_stops_tri)"
   ]
  },
  {
   "cell_type": "code",
   "execution_count": null,
   "id": "coral-duncan",
   "metadata": {
    "scrolled": false
   },
   "outputs": [],
   "source": [
    "#pickle.dump(vectored_no_stops_tri, open(\"vectored_no_stops_tri\", 'wb'))"
   ]
  },
  {
   "cell_type": "markdown",
   "id": "behavioral-trinidad",
   "metadata": {},
   "source": [
    "## Word Clouds/bar charts\n",
    "### divided by sentiment lables"
   ]
  },
  {
   "cell_type": "markdown",
   "id": "returning-mercury",
   "metadata": {},
   "source": [
    "Make giant strings for each set of words. Total, negative sentiment, and positive sentiment"
   ]
  },
  {
   "cell_type": "code",
   "execution_count": 142,
   "id": "several-messenger",
   "metadata": {},
   "outputs": [
    {
     "name": "stdout",
     "output_type": "stream",
     "text": [
      "37.602930307388306\n"
     ]
    }
   ],
   "source": [
    "start = time.time()\n",
    "nostops_text_no_mods = \" \".join(\" \".join(listo) for listo in df.nostops)\n",
    "stop = time.time()\n",
    "print(str(stop-start))"
   ]
  },
  {
   "cell_type": "code",
   "execution_count": 143,
   "id": "outside-involvement",
   "metadata": {},
   "outputs": [],
   "source": [
    "nostops_text_pos = \" \".join(\" \".join(listo) for listo in df.nostops[df['Y'] == 1])"
   ]
  },
  {
   "cell_type": "code",
   "execution_count": 144,
   "id": "proved-kingdom",
   "metadata": {},
   "outputs": [],
   "source": [
    "nostops_text_neg = \" \".join(\" \".join(listo) for listo in df.nostops[df['Y'] == 0])"
   ]
  },
  {
   "cell_type": "code",
   "execution_count": 145,
   "id": "metallic-motor",
   "metadata": {},
   "outputs": [],
   "source": [
    "def word_cloud_preprocessing(text):\n",
    "    #I just love knowing how long my functions take to execute\n",
    "    start = time.time()\n",
    "    total_text_word_count = Counter(word_tokenize(text))\n",
    "#     for stop in stopwords:\n",
    "#         if stop in total_text_word_count.keys():\n",
    "#             del total_text_word_count[stop]\n",
    "    count_dict = dict(total_text_word_count, index=(len(total_text_word_count)))\n",
    "    series_for_heads = pd.Series(count_dict)\n",
    "    x = series_for_heads.sort_values(ascending=False).head(15).index\n",
    "    y = series_for_heads.sort_values(ascending=False).head(15)\n",
    "    stop = time.time()\n",
    "    print(str(stop-start))\n",
    "    #build the actual wordcloud boject\n",
    "    total_wordcloud = WordCloud(max_font_size=50, max_words=25, background_color=\"black\",\n",
    "                               width=400,\n",
    "                                height=400,\n",
    "                                relative_scaling=1,\n",
    "                                colormap='winter',\n",
    "                                collocations=False,\n",
    "                                stopwords=stopwords,\n",
    "                                scale=2\n",
    "                            \n",
    "                               ).generate(text)\n",
    "    stop = time.time()\n",
    "    print(str(stop-start))\n",
    "    return x, y, total_wordcloud"
   ]
  },
  {
   "cell_type": "code",
   "execution_count": 146,
   "id": "polyphonic-asian",
   "metadata": {},
   "outputs": [],
   "source": [
    "def word_cloud(x, y, wordcloud):\n",
    "    # Display the generated image:\n",
    "    fig, axes = plt.subplots(1, 2, figsize=(15,5))\n",
    "    #testing setting figsize on subfigure directly, rather than at this higher level\n",
    "    #sns.set(rc = {'figure.figsize':(40,5)})\n",
    "    \n",
    "    axes[0].set_title('Top Word counts')\n",
    "    sns.barplot(x, y, ax=axes[0], palette=\"winter\")\n",
    "    axes[0].tick_params(axis='x', rotation=45)\n",
    "    \n",
    "    axes[1].imshow(wordcloud, interpolation='bilinear')\n",
    "    axes[1].axis(\"off\")\n",
    "    axes[1].set_title('Word Cloud')\n",
    "    plt.show()"
   ]
  },
  {
   "cell_type": "code",
   "execution_count": 147,
   "id": "conservative-county",
   "metadata": {},
   "outputs": [],
   "source": [
    "def bar_and_cloud_generator(text):\n",
    "    bar_x, bar_y, cloud_object = word_cloud_preprocessing(text)\n",
    "    word_cloud(bar_x, bar_y, cloud_object)"
   ]
  },
  {
   "cell_type": "markdown",
   "id": "sacred-flour",
   "metadata": {},
   "source": [
    "## All words"
   ]
  },
  {
   "cell_type": "code",
   "execution_count": 148,
   "id": "agreed-hawaiian",
   "metadata": {
    "scrolled": false
   },
   "outputs": [
    {
     "name": "stdout",
     "output_type": "stream",
     "text": [
      "559.2284717559814\n",
      "616.5231158733368\n"
     ]
    },
    {
     "data": {
      "image/png": "[encoded data removed]",
      "text/plain": [
       "<Figure size 1080x360 with 2 Axes>"
      ]
     },
     "metadata": {
      "needs_background": "light"
     },
     "output_type": "display_data"
    }
   ],
   "source": [
    "bar_and_cloud_generator(nostops_text_no_mods)"
   ]
  },
  {
   "cell_type": "markdown",
   "id": "korean-fortune",
   "metadata": {},
   "source": [
    "# Words from sentances labeled positive"
   ]
  },
  {
   "cell_type": "markdown",
   "id": "north-sherman",
   "metadata": {},
   "source": [
    "All the way to product this is consistent to the total word count"
   ]
  },
  {
   "cell_type": "code",
   "execution_count": 149,
   "id": "loaded-oregon",
   "metadata": {},
   "outputs": [
    {
     "name": "stdout",
     "output_type": "stream",
     "text": [
      "43.68587851524353\n",
      "60.06712985038757\n"
     ]
    },
    {
     "data": {
      "image/png": "[encoded data removed]",
      "text/plain": [
       "<Figure size 1080x360 with 2 Axes>"
      ]
     },
     "metadata": {
      "needs_background": "light"
     },
     "output_type": "display_data"
    }
   ],
   "source": [
    "bar_and_cloud_generator(nostops_text_pos)"
   ]
  },
  {
   "cell_type": "markdown",
   "id": "valuable-parade",
   "metadata": {},
   "source": [
    "# Words from sentances labeled negative"
   ]
  },
  {
   "cell_type": "code",
   "execution_count": 150,
   "id": "sound-valve",
   "metadata": {
    "scrolled": false
   },
   "outputs": [
    {
     "name": "stdout",
     "output_type": "stream",
     "text": [
      "9.208356380462646\n",
      "12.51514220237732\n"
     ]
    },
    {
     "data": {
      "image/png": "[encoded data removed]",
      "text/plain": [
       "<Figure size 1080x360 with 2 Axes>"
      ]
     },
     "metadata": {
      "needs_background": "light"
     },
     "output_type": "display_data"
    }
   ],
   "source": [
    "bar_and_cloud_generator(nostops_text_neg)"
   ]
  },
  {
   "cell_type": "markdown",
   "id": "thrown-banks",
   "metadata": {},
   "source": [
    "We can see there's considerable overlap between all three ways of organizing our corpus."
   ]
  },
  {
   "cell_type": "markdown",
   "id": "extended-macintosh",
   "metadata": {},
   "source": [
    "# n-gram/colocation analysis"
   ]
  },
  {
   "cell_type": "markdown",
   "id": "separate-injury",
   "metadata": {},
   "source": [
    "https://www.nltk.org/howto/collocations.html"
   ]
  },
  {
   "cell_type": "markdown",
   "id": "czech-bumper",
   "metadata": {},
   "source": [
    "https://towardsdatascience.com/generating-colocations-n-grams-6dd8bea31d13"
   ]
  },
  {
   "cell_type": "markdown",
   "id": "certified-royalty",
   "metadata": {},
   "source": [
    "Documentation for how the association scores work\n",
    "https://nlp.stanford.edu/fsnlp/promo/colloc.pdf"
   ]
  },
  {
   "cell_type": "markdown",
   "id": "tutorial-confirmation",
   "metadata": {},
   "source": [
    "### All n-grams"
   ]
  },
  {
   "cell_type": "code",
   "execution_count": 177,
   "id": "fourth-western",
   "metadata": {
    "scrolled": false
   },
   "outputs": [
    {
     "name": "stdout",
     "output_type": "stream",
     "text": [
      "0.054865121841430664\n"
     ]
    }
   ],
   "source": [
    "start = time.time()\n",
    "prototype_string = \" \".join(df.text.sample(5))\n",
    "stop = time.time()\n",
    "print(str(stop-start))"
   ]
  },
  {
   "cell_type": "code",
   "execution_count": 170,
   "id": "insured-organization",
   "metadata": {},
   "outputs": [
    {
     "name": "stdout",
     "output_type": "stream",
     "text": [
      "6.6907737255096436\n"
     ]
    }
   ],
   "source": [
    "start = time.time()\n",
    "big_string = \" \".join(df.text.values)\n",
    "stop = time.time()\n",
    "print(str(stop-start))"
   ]
  },
  {
   "cell_type": "code",
   "execution_count": 110,
   "id": "minimal-simon",
   "metadata": {},
   "outputs": [
    {
     "data": {
      "text/plain": [
       "145779807"
      ]
     },
     "execution_count": 110,
     "metadata": {},
     "output_type": "execute_result"
    }
   ],
   "source": [
    "len(prototype_string)"
   ]
  },
  {
   "cell_type": "code",
   "execution_count": 128,
   "id": "afraid-bachelor",
   "metadata": {},
   "outputs": [
    {
     "name": "stdout",
     "output_type": "stream",
     "text": [
      "226.80234742164612\n"
     ]
    }
   ],
   "source": [
    "start = time.time()\n",
    "tri_finder = TrigramCollocationFinder.from_words(word_tokenize(prototype_string))\n",
    "stop = time.time()\n",
    "print(str(stop-start))"
   ]
  },
  {
   "cell_type": "code",
   "execution_count": 129,
   "id": "incomplete-friendship",
   "metadata": {},
   "outputs": [
    {
     "data": {
      "text/plain": [
       "[('aalouisiana', 'blendmexican', 'coatepec'),\n",
       " ('abamectin', 'fipronil', 'gentrol'),\n",
       " ('abortions', 'sigma', 'aldrich'),\n",
       " ('acidascorbic', 'acidpotassium', 'sorbatetartrazinetriacentrinyellow'),\n",
       " ('acidphosphoric', 'acidtartaric', 'acidtannic'),\n",
       " ('acidpotassium', 'sorbatetartrazinetriacentrinyellow', 'colorcloud'),\n",
       " ('acidsunflower', 'oilpotassium', 'sorbatei'),\n",
       " ('affidabile', 'spedizione', 'veloce'),\n",
       " ('ajl', 'fj', 'lakj'),\n",
       " ('alabamafloridageorgiaindianakentuckymassachusettsmarylandmichiganmississippinew',\n",
       "  'yorknorth',\n",
       "  'carolinaohiopennsylvaniasouth')]"
      ]
     },
     "execution_count": 129,
     "metadata": {},
     "output_type": "execute_result"
    }
   ],
   "source": [
    "trigram_measures = nltk.collocations.TrigramAssocMeasures()\n",
    "tri_finder.nbest(trigram_measures.pmi, 10)\n",
    "\n"
   ]
  },
  {
   "cell_type": "code",
   "execution_count": 132,
   "id": "imperial-client",
   "metadata": {},
   "outputs": [
    {
     "data": {
      "text/plain": [
       "list"
      ]
     },
     "execution_count": 132,
     "metadata": {},
     "output_type": "execute_result"
    }
   ],
   "source": [
    "tri_finder.apply_freq_filter(3)\n",
    "type(tri_finder.nbest(trigram_measures.pmi, 10))"
   ]
  },
  {
   "cell_type": "code",
   "execution_count": 163,
   "id": "mighty-subcommittee",
   "metadata": {},
   "outputs": [],
   "source": [
    "def bi_sorter(text,bi_freq=4,tri_freq=3):\n",
    "    bi_start = time.time()\n",
    "    #Tokenizes the string and sets up a finder\n",
    "    bi_finder = BigramCollocationFinder.from_words(word_tokenize(text))\n",
    "    #Initiates the scorer\n",
    "    bigram_measures = nltk.collocations.BigramAssocMeasures()\n",
    "    #Culls infrequent bigrams\n",
    "    bi_finder.apply_freq_filter(bi_freq)\n",
    "    #finds likelihood ratios\n",
    "    bi_likilhood_ratios = bi_finder.score_ngrams(bigram_measures.likelihood_ratio)\n",
    "    #makes dict to land keys/scores in\n",
    "    bi_assoc_measures = collections.defaultdict(list)\n",
    "    #adds keys/scores to dict\n",
    "    for key, scores in bi_likilhood_ratios:\n",
    "       bi_assoc_measures[key[0]].append((key[1], scores))\n",
    "\n",
    "    # Sort keyed bigrams by strongest association.                                  \n",
    "    for key in prefix_keys:\n",
    "       bi_assoc_measures[key].sort(key = lambda x: -x[1])\n",
    "    \n",
    "    bi_end = time.time()\n",
    "  \n",
    "    print('bigram dictionary took ' + str(bi_end-bi_start) + \" seconds to build\")\n",
    "\n",
    "    \n",
    "    return bi_assoc_measures"
   ]
  },
  {
   "cell_type": "code",
   "execution_count": 178,
   "id": "suited-transport",
   "metadata": {},
   "outputs": [],
   "source": [
    "#This works, but builds an absolutely massive object, and takes an absurdely long time to build. May use it later, but for now\n",
    "#it's not vital and I'd prefer not to be slowed down quite so much\n",
    "def tri_sorter(text, tri_freq=3):\n",
    "    tri_start = time.time()\n",
    "    #Same thing but for trigrams!\n",
    "     #Tokenizes the string and sets up a finder\n",
    "    tri_finder = TrigramCollocationFinder.from_words(word_tokenize(text))\n",
    "    #Initiates the scorer\n",
    "    trigram_measures = nltk.collocations.TrigramAssocMeasures()\n",
    "    #Culls infrequent bigrams\n",
    "    tri_finder.apply_freq_filter(tri_freq)\n",
    "\n",
    "    #finds likelihood ratios\n",
    "    tri_likilhood_ratios = tri_finder.score_ngrams(trigram_measures.likelihood_ratio)\n",
    "    #makes dict to land keys/scores in\n",
    "    tri_assoc_measures = collections.defaultdict(list)\n",
    "    #adds keys/scores to dict\n",
    "    for key, scores in bi_likilhood_ratios:\n",
    "       tri_assoc_measures[key[0]].append((key[1], scores))\n",
    "\n",
    "    # Sort keyed trigrams by strongest association.                                  \n",
    "    for key in prefix_keys:\n",
    "       tri_assoc_measures[key].sort(key = lambda x: -x[1])\n",
    "    tri_end = time.time()\n",
    "    print('trigram dictionary took ' + str(tri_end-tri_start) + \" seconds to build\")\n",
    "    return tri_assoc_measures"
   ]
  },
  {
   "cell_type": "code",
   "execution_count": 166,
   "id": "analyzed-majority",
   "metadata": {
    "scrolled": false
   },
   "outputs": [
    {
     "name": "stdout",
     "output_type": "stream",
     "text": [
      "bigram dictionary took 0.03500771522521973 seconds to build\n"
     ]
    }
   ],
   "source": [
    "bigram_association_measures= bi_sorter(big_string)\n"
   ]
  },
  {
   "cell_type": "code",
   "execution_count": 180,
   "id": "heavy-universal",
   "metadata": {
    "scrolled": true
   },
   "outputs": [
    {
     "name": "stdout",
     "output_type": "stream",
     "text": [
      "trigram dictionary took 244.26743388175964 seconds to build\n"
     ]
    }
   ],
   "source": [
    "#trigram_association_measures = tri_sorter(prototype_string)"
   ]
  },
  {
   "cell_type": "code",
   "execution_count": 182,
   "id": "three-masters",
   "metadata": {
    "scrolled": true
   },
   "outputs": [],
   "source": [
    "pickle.dump(bigram_association_measures, open( \"bigram_association_measures\", \"wb\" ) )"
   ]
  },
  {
   "cell_type": "code",
   "execution_count": null,
   "id": "square-brighton",
   "metadata": {},
   "outputs": [],
   "source": [
    "#pickle.dump(trigram_association_measures, open( \"trigram_association_measures\", \"wb\" ) )"
   ]
  },
  {
   "cell_type": "code",
   "execution_count": 188,
   "id": "entertaining-programmer",
   "metadata": {
    "scrolled": true
   },
   "outputs": [
    {
     "name": "stdout",
     "output_type": "stream",
     "text": [
      "coffee []\n",
      "good []\n",
      "taste []\n"
     ]
    }
   ],
   "source": [
    "\n",
    "print( 'coffee', bigram_association_measures['coffee'][:5])\n",
    "print( 'good', bigram_association_measures['good'][:5])\n",
    "print( 'taste', bigram_association_measures['taste'][:5])"
   ]
  },
  {
   "cell_type": "markdown",
   "id": "latin-stationery",
   "metadata": {},
   "source": [
    "### Postiive Text Collocations"
   ]
  },
  {
   "cell_type": "code",
   "execution_count": 185,
   "id": "developed-gentleman",
   "metadata": {},
   "outputs": [],
   "source": [
    "text_pos = \" \".join(\" \".join(listo) for listo in df.text[df['Y'] == 1])"
   ]
  },
  {
   "cell_type": "code",
   "execution_count": 187,
   "id": "silent-wrapping",
   "metadata": {},
   "outputs": [
    {
     "data": {
      "text/plain": [
       "240752263"
      ]
     },
     "execution_count": 187,
     "metadata": {},
     "output_type": "execute_result"
    }
   ],
   "source": [
    "pos_bigram_association_measures= bi_sorter(text_pos)\n"
   ]
  },
  {
   "cell_type": "code",
   "execution_count": null,
   "id": "written-occasions",
   "metadata": {},
   "outputs": [],
   "source": [
    "pickle.dump(pos_bigram_association_measures, open( \"pos_bigram_association_measures\", \"wb\" ) )"
   ]
  },
  {
   "cell_type": "markdown",
   "id": "determined-newcastle",
   "metadata": {},
   "source": [
    "### Negative Text Collocations"
   ]
  },
  {
   "cell_type": "code",
   "execution_count": null,
   "id": "broke-publication",
   "metadata": {},
   "outputs": [],
   "source": [
    "text_neg = \" \".join(\" \".join(listo) for listo in df.text[df['Y'] == 0])"
   ]
  },
  {
   "cell_type": "code",
   "execution_count": null,
   "id": "infrared-bloom",
   "metadata": {},
   "outputs": [],
   "source": [
    "neg_bigram_association_measures= bi_sorter(text_neg)\n"
   ]
  },
  {
   "cell_type": "code",
   "execution_count": null,
   "id": "french-learning",
   "metadata": {},
   "outputs": [],
   "source": [
    "pickle.dump(neg_bigram_association_measures, open( \"neg_bigram_association_measures\", \"wb\" ) )"
   ]
  },
  {
   "cell_type": "markdown",
   "id": "black-kansas",
   "metadata": {},
   "source": [
    "#DF Pickle Test"
   ]
  },
  {
   "cell_type": "code",
   "execution_count": null,
   "id": "early-zimbabwe",
   "metadata": {},
   "outputs": [],
   "source": [
    "pickle.dump(df, open( \"built_out_df\", \"wb\" ) )"
   ]
  },
  {
   "cell_type": "markdown",
   "id": "auburn-council",
   "metadata": {},
   "source": [
    "## Clustering and Secondary EDA"
   ]
  },
  {
   "cell_type": "markdown",
   "id": "general-river",
   "metadata": {},
   "source": [
    "We played briefly with using DBSCAN, but it didn't converge at all, it gave us 360k categories"
   ]
  },
  {
   "cell_type": "markdown",
   "id": "fancy-victorian",
   "metadata": {},
   "source": [
    "Thinking that instead of conventional clustering we're going to play with latent dirichlet allocation because it'll do a similar thing as K-means, but also provide us with a lot more information about the composition of those clusters.\n",
    "Original Paper: https://ai.stanford.edu/~ang/papers/nips01-lda.pdf\n",
    "Tutorial we used to help us get going: https://towardsdatascience.com/end-to-end-topic-modeling-in-python-latent-dirichlet-allocation-lda-35ce4ed6b3e0\n",
    "Docs for the gensim module we're sdoing the lda with: https://radimrehurek.com/gensim/models/ldamodel.html"
   ]
  },
  {
   "cell_type": "code",
   "execution_count": null,
   "id": "complex-space",
   "metadata": {},
   "outputs": [],
   "source": [
    "#Tools for lDA visualization\n",
    "\n",
    "#Normally I like to my imports at the top of a ntoebook, but these imports make the\n",
    "#notebook spam an annoying warning that I can only fix by downgrading some stuff, which I am disinclined to do.\n",
    "import pyLDAvis.gensim_models \n",
    "import pickle \n",
    "import pyLDAvis"
   ]
  },
  {
   "cell_type": "code",
   "execution_count": null,
   "id": "european-grove",
   "metadata": {},
   "outputs": [],
   "source": [
    "stemmed_texts = list(df.stemmed)"
   ]
  },
  {
   "cell_type": "code",
   "execution_count": null,
   "id": "nuclear-department",
   "metadata": {},
   "outputs": [],
   "source": [
    "#makes a dictionary mapping to unique IDs\n",
    "id2word = Dictionary(stemmed_texts)\n"
   ]
  },
  {
   "cell_type": "code",
   "execution_count": null,
   "id": "insured-victory",
   "metadata": {},
   "outputs": [],
   "source": [
    "#makes a bag of words version of the Gensim Dictionary\n",
    "corpus = [id2word.doc2bow(text) for text in stemmed_texts]\n"
   ]
  },
  {
   "cell_type": "code",
   "execution_count": null,
   "id": "persistent-butter",
   "metadata": {},
   "outputs": [],
   "source": [
    "# Train the model on the corpus.\n",
    "num_topics = 10\n",
    "lda = LdaModel(corpus,  id2word=id2word, num_topics=num_topics)"
   ]
  },
  {
   "cell_type": "code",
   "execution_count": null,
   "id": "premium-storage",
   "metadata": {},
   "outputs": [],
   "source": [
    "# Visualize the topics\n",
    "pyLDAvis.enable_notebook()\n",
    "LDAvis_data_filepath = os.path.join('ldavis_prepared_'+str(num_topics))\n",
    "# # this is a bit time consuming - make the if statement True\n",
    "# # if you want to execute visualization prep yourself\n",
    "\n",
    "if 1 == 0:\n",
    "    LDAvis_prepared = pyLDAvis.gensim_models .prepare(lda, corpus, id2word)\n",
    "    with open(LDAvis_data_filepath, 'wb') as f:\n",
    "        pickle.dump(LDAvis_prepared, f)\n",
    "        \n",
    "# load the pre-prepared pyLDAvis data from disk\n",
    "with open(LDAvis_data_filepath, 'rb') as f:\n",
    "    LDAvis_prepared = pickle.load(f)\n",
    "pyLDAvis.save_html(LDAvis_prepared, 'ldavis_prepared_'+ str(num_topics) +'.html')\n",
    "LDAvis_prepared"
   ]
  },
  {
   "cell_type": "markdown",
   "id": "descending-rates",
   "metadata": {},
   "source": [
    "This is pretty neat, but honestly I don't care very much. These distributions don't really affect what I'm about to do. I was just curious to try this."
   ]
  },
  {
   "cell_type": "markdown",
   "id": "early-canberra",
   "metadata": {},
   "source": [
    "We might do something similar to the earlier word clouds and break this up by sentiment. SEe if the clusters are significantly different across sentiments, but again it's not deeply relevant to our long term goals, so we may not take the time"
   ]
  }
 ],
 "metadata": {
  "kernelspec": {
   "display_name": "Python 3",
   "language": "python",
   "name": "python3"
  },
  "language_info": {
   "codemirror_mode": {
    "name": "ipython",
    "version": 3
   },
   "file_extension": ".py",
   "mimetype": "text/x-python",
   "name": "python",
   "nbconvert_exporter": "python",
   "pygments_lexer": "ipython3",
   "version": "3.9.1"
  }
 },
 "nbformat": 4,
 "nbformat_minor": 5
}

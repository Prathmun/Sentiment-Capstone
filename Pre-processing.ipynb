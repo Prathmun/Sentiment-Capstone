{
 "cells": [
  {
   "cell_type": "markdown",
   "id": "occupational-beauty",
   "metadata": {},
   "source": [
    "# Module and Data Importation"
   ]
  },
  {
   "cell_type": "code",
   "execution_count": 32,
   "id": "natural-mortality",
   "metadata": {},
   "outputs": [],
   "source": [
    "import pandas as pd\n",
    "import pickle\n",
    "import numpy as np\n",
    "from scipy.sparse import hstack\n",
    "from sklearn.model_selection import train_test_split\n"
   ]
  },
  {
   "cell_type": "markdown",
   "id": "favorite-party",
   "metadata": {},
   "source": [
    "## Utilities"
   ]
  },
  {
   "cell_type": "code",
   "execution_count": 33,
   "id": "southeast-international",
   "metadata": {},
   "outputs": [],
   "source": [
    "import time\n",
    "import matplotlib.pyplot as plt"
   ]
  },
  {
   "cell_type": "markdown",
   "id": "spoken-rubber",
   "metadata": {},
   "source": [
    "## Modeling Tools"
   ]
  },
  {
   "cell_type": "code",
   "execution_count": 34,
   "id": "noble-harrison",
   "metadata": {},
   "outputs": [],
   "source": [
    "from sklearn.svm import SVC\n",
    "from sklearn.linear_model import SGDClassifier\n",
    "from sklearn.ensemble import BaggingClassifier, RandomForestClassifier, AdaBoostClassifier, GradientBoostingClassifier\n",
    "from sklearn.experimental import enable_hist_gradient_boosting\n",
    "from sklearn.ensemble import HistGradientBoostingClassifier\n",
    "from sklearn.metrics import confusion_matrix, roc_auc_score\n",
    "from sklearn.dummy import DummyClassifier\n",
    "from sklearn.utils import resample\n",
    "from bayes_opt import BayesianOptimization"
   ]
  },
  {
   "cell_type": "markdown",
   "id": "integrated-pontiac",
   "metadata": {},
   "source": [
    "Bringing in and concatonating our absurd X"
   ]
  },
  {
   "cell_type": "code",
   "execution_count": 2,
   "id": "suburban-honey",
   "metadata": {},
   "outputs": [],
   "source": [
    "vectored_no_stops_mono = pickle.load(open(\"vectored_no_stops_mono\", 'rb'))\n",
    "vectored_no_stops_bi = pickle.load(open(\"vectored_no_stops_bi\", 'rb'))\n",
    "vectored_no_stops_tri = pickle.load(open(\"vectored_no_stops_tri\", 'rb'))"
   ]
  },
  {
   "cell_type": "code",
   "execution_count": 4,
   "id": "assigned-ballet",
   "metadata": {},
   "outputs": [],
   "source": [
    "vector_stack = [vectored_no_stops_mono, vectored_no_stops_bi, vectored_no_stops_tri]"
   ]
  },
  {
   "cell_type": "code",
   "execution_count": 5,
   "id": "professional-maria",
   "metadata": {},
   "outputs": [],
   "source": [
    "X = hstack(vector_stack)"
   ]
  },
  {
   "cell_type": "markdown",
   "id": "ecological-eagle",
   "metadata": {},
   "source": [
    "Bringing in and extracting our Y column real quick"
   ]
  },
  {
   "cell_type": "code",
   "execution_count": 6,
   "id": "extended-negotiation",
   "metadata": {},
   "outputs": [],
   "source": [
    "test = pd.read_csv('C:/Users/Prathmun/Documents/Springboard Jupyter/Sentiment-Capstone/data/food/test.csv')\n",
    "train = pd.read_csv('C:/Users/Prathmun/Documents/Springboard Jupyter/Sentiment-Capstone/data/food/train.csv')\n",
    "frames = [train, test]\n",
    "df = pd.concat(frames)\n"
   ]
  },
  {
   "cell_type": "code",
   "execution_count": 7,
   "id": "tight-romance",
   "metadata": {},
   "outputs": [],
   "source": [
    "y = df.Y"
   ]
  },
  {
   "cell_type": "code",
   "execution_count": 10,
   "id": "standing-chapel",
   "metadata": {},
   "outputs": [
    {
     "ename": "AttributeError",
     "evalue": "'Series' object has no attribute 'toarray'",
     "output_type": "error",
     "traceback": [
      "\u001b[1;31m---------------------------------------------------------------------------\u001b[0m",
      "\u001b[1;31mAttributeError\u001b[0m                            Traceback (most recent call last)",
      "\u001b[1;32m<ipython-input-10-b88c1766d211>\u001b[0m in \u001b[0;36m<module>\u001b[1;34m\u001b[0m\n\u001b[1;32m----> 1\u001b[1;33m \u001b[0my\u001b[0m\u001b[1;33m=\u001b[0m\u001b[0my\u001b[0m\u001b[1;33m.\u001b[0m\u001b[0mtoarray\u001b[0m\u001b[1;33m(\u001b[0m\u001b[1;33m)\u001b[0m\u001b[1;33m\u001b[0m\u001b[1;33m\u001b[0m\u001b[0m\n\u001b[0m",
      "\u001b[1;32mc:\\users\\prathmun\\appdata\\local\\programs\\python\\python39\\lib\\site-packages\\pandas\\core\\generic.py\u001b[0m in \u001b[0;36m__getattr__\u001b[1;34m(self, name)\u001b[0m\n\u001b[0;32m   5458\u001b[0m             \u001b[1;32mif\u001b[0m \u001b[0mself\u001b[0m\u001b[1;33m.\u001b[0m\u001b[0m_info_axis\u001b[0m\u001b[1;33m.\u001b[0m\u001b[0m_can_hold_identifiers_and_holds_name\u001b[0m\u001b[1;33m(\u001b[0m\u001b[0mname\u001b[0m\u001b[1;33m)\u001b[0m\u001b[1;33m:\u001b[0m\u001b[1;33m\u001b[0m\u001b[1;33m\u001b[0m\u001b[0m\n\u001b[0;32m   5459\u001b[0m                 \u001b[1;32mreturn\u001b[0m \u001b[0mself\u001b[0m\u001b[1;33m[\u001b[0m\u001b[0mname\u001b[0m\u001b[1;33m]\u001b[0m\u001b[1;33m\u001b[0m\u001b[1;33m\u001b[0m\u001b[0m\n\u001b[1;32m-> 5460\u001b[1;33m             \u001b[1;32mreturn\u001b[0m \u001b[0mobject\u001b[0m\u001b[1;33m.\u001b[0m\u001b[0m__getattribute__\u001b[0m\u001b[1;33m(\u001b[0m\u001b[0mself\u001b[0m\u001b[1;33m,\u001b[0m \u001b[0mname\u001b[0m\u001b[1;33m)\u001b[0m\u001b[1;33m\u001b[0m\u001b[1;33m\u001b[0m\u001b[0m\n\u001b[0m\u001b[0;32m   5461\u001b[0m \u001b[1;33m\u001b[0m\u001b[0m\n\u001b[0;32m   5462\u001b[0m     \u001b[1;32mdef\u001b[0m \u001b[0m__setattr__\u001b[0m\u001b[1;33m(\u001b[0m\u001b[0mself\u001b[0m\u001b[1;33m,\u001b[0m \u001b[0mname\u001b[0m\u001b[1;33m:\u001b[0m \u001b[0mstr\u001b[0m\u001b[1;33m,\u001b[0m \u001b[0mvalue\u001b[0m\u001b[1;33m)\u001b[0m \u001b[1;33m->\u001b[0m \u001b[1;32mNone\u001b[0m\u001b[1;33m:\u001b[0m\u001b[1;33m\u001b[0m\u001b[1;33m\u001b[0m\u001b[0m\n",
      "\u001b[1;31mAttributeError\u001b[0m: 'Series' object has no attribute 'toarray'"
     ]
    }
   ],
   "source": [
    "y=y.toarray()"
   ]
  },
  {
   "cell_type": "code",
   "execution_count": 12,
   "id": "preceding-semiconductor",
   "metadata": {},
   "outputs": [],
   "source": [
    "X_train, X_test, y_train, y_test = train_test_split(X, y)"
   ]
  },
  {
   "cell_type": "code",
   "execution_count": 25,
   "id": "proof-subsection",
   "metadata": {},
   "outputs": [
    {
     "name": "stdout",
     "output_type": "stream",
     "text": [
      "(272414, 18514514)\n",
      "(272414,)\n"
     ]
    }
   ],
   "source": [
    "print(X_train.shape)\n",
    "print(y_train.shape)"
   ]
  },
  {
   "cell_type": "markdown",
   "id": "infinite-accommodation",
   "metadata": {},
   "source": [
    "### Helper Funcitons"
   ]
  },
  {
   "cell_type": "code",
   "execution_count": null,
   "id": "prospective-thumb",
   "metadata": {},
   "outputs": [],
   "source": []
  },
  {
   "cell_type": "code",
   "execution_count": 13,
   "id": "close-stuart",
   "metadata": {},
   "outputs": [],
   "source": [
    "def timing_buddy(model_to_fit, dictionary_string, dicto):\n",
    "    funky_time_start = time.time()\n",
    "    model_to_fit.fit(X_train, np.ravel(y_train))\n",
    "    funky_time_stop = time.time()\n",
    "    funky_train_time = funky_time_stop - funky_time_start\n",
    "    dicto[dictionary_string]['training_time'] = funky_train_time\n",
    "    "
   ]
  },
  {
   "cell_type": "code",
   "execution_count": 14,
   "id": "standing-entrepreneur",
   "metadata": {},
   "outputs": [],
   "source": [
    "def confused_buddy(model_to_confuse, dictionary_string,dicto):\n",
    "    confuse = confusion_matrix(y_test, model_to_confuse.predict(X_test))\n",
    "    dicto[dictionary_string]['confuse'] = confuse"
   ]
  },
  {
   "cell_type": "code",
   "execution_count": 15,
   "id": "preceding-queensland",
   "metadata": {},
   "outputs": [],
   "source": [
    "def recall_calculator(confuse):\n",
    "    recall = 0\n",
    "    tp = confuse[1][1]\n",
    "    fn = confuse[1][0]\n",
    "    if tp > 0 or tp ==1:\n",
    "        recall = tp / (tp+fn)\n",
    "    return recall"
   ]
  },
  {
   "cell_type": "code",
   "execution_count": 16,
   "id": "vocational-stupid",
   "metadata": {},
   "outputs": [],
   "source": [
    "def precision_calculator(confuse):\n",
    "    precision = 0\n",
    "    tp = confuse[1][1]\n",
    "    fp = confuse[0][1]\n",
    "    if tp > 0 or tp ==1:\n",
    "        precision = tp / (tp+fp)\n",
    "    return precision"
   ]
  },
  {
   "cell_type": "markdown",
   "id": "improving-cherry",
   "metadata": {},
   "source": [
    "## Dummy"
   ]
  },
  {
   "cell_type": "code",
   "execution_count": 29,
   "id": "harmful-samuel",
   "metadata": {},
   "outputs": [],
   "source": [
    "def classy_dummy(dicto, X_train, y_train, X_test, y_test):\n",
    "    print('dumbo')\n",
    "    dummy_clf = DummyClassifier(strategy=\"stratified\")\n",
    "    timing_buddy(dummy_clf, 'dummy', dicto)\n",
    "    confused_buddy(dummy_clf, 'dummy', dicto)\n",
    "    confused_buddy(dummy_clf, 'dummy', dicto)\n",
    "    dicto['dummy']['ROC_AUC_Score'] = roc_auc_score(y_test, dummy_clf.predict_proba(X_test)[:, 1])\n",
    "    "
   ]
  },
  {
   "cell_type": "code",
   "execution_count": 35,
   "id": "several-milan",
   "metadata": {
    "scrolled": true
   },
   "outputs": [
    {
     "name": "stdout",
     "output_type": "stream",
     "text": [
      "dumbo\n"
     ]
    }
   ],
   "source": [
    "model_set = ['dummy','SVC', 'SGDClassfier', 'BaggingClassifier', 'RandomForestClassifier', 'AdaBoostClassifier', 'GradientBoostingClassifier', 'HistGradientBoostingClassifier']\n",
    "model_stats = {}\n",
    "for each in model_set:\n",
    "    model_stats[each] ={'confuse' : [], 'training_time' : 0, 'ROC_AUC_Score': 0, 'Hyper_Params': {}}\n",
    "classy_dummy(model_stats, X_train, y_train, X_test, y_test)"
   ]
  },
  {
   "cell_type": "code",
   "execution_count": 37,
   "id": "humanitarian-nickname",
   "metadata": {},
   "outputs": [
    {
     "data": {
      "text/plain": [
       "{'confuse': array([[ 2102, 12139],\n",
       "        [11973, 64591]], dtype=int64),\n",
       " 'training_time': 0.017003774642944336,\n",
       " 'ROC_AUC_Score': 0.500910713432055,\n",
       " 'Hyper_Params': {}}"
      ]
     },
     "execution_count": 37,
     "metadata": {},
     "output_type": "execute_result"
    }
   ],
   "source": [
    "model_stats['dummy']"
   ]
  },
  {
   "cell_type": "markdown",
   "id": "interior-extension",
   "metadata": {},
   "source": [
    "## SVC"
   ]
  },
  {
   "cell_type": "code",
   "execution_count": 38,
   "id": "opposed-celtic",
   "metadata": {},
   "outputs": [],
   "source": [
    "def SVCmodeler(dicto, X_train, y_train, X_test, y_test):\n",
    "    print('Support Vector Classification')\n",
    "    SupportVectorClassifier = SVC()\n",
    "    timing_buddy(SupportVectorClassifier, 'SVC', dicto)\n",
    "    confused_buddy(SupportVectorClassifier, 'SVC', dicto)\n",
    "    dicto['SVC']['ROC_AUC_Score'] = roc_auc_score(y_test, SupportVectorClassifier.decision_function(X_test))\n"
   ]
  },
  {
   "cell_type": "markdown",
   "id": "reduced-freeze",
   "metadata": {},
   "source": [
    "## Stochastic Gradiant Descent "
   ]
  },
  {
   "cell_type": "code",
   "execution_count": 39,
   "id": "matched-accused",
   "metadata": {},
   "outputs": [],
   "source": [
    "def grid_sgd_model(dicto, X_train, y_train, X_test, y_test):\n",
    "    \n",
    "    def SGDHyperParameterer(loss_penalty_list):\n",
    "        SGD_clf = SGDClassifier(loss = loss_penalty_list[0], penalty=loss_penalty_list[1])\n",
    "        SGD_clf.fit(X_train, np.ravel(y_train))\n",
    "        confuse = confusion_matrix(y_test, SGD_clf.predict(X_test))\n",
    "        recall = recall_calculator(confuse)\n",
    "        return recall\n",
    "    \n",
    "    \n",
    "    losses= ['modified_huber', 'log']\n",
    "    penalties = ['l2', 'l1', 'elasticnet']\n",
    "    param_grid = {}\n",
    "    count = 0\n",
    "    for each_loss in losses:\n",
    "        for each_penalty in penalties:\n",
    "            param_grid[str(each_loss) + '-' + str(each_penalty)] = [each_loss, each_penalty]\n",
    "            count+=1\n",
    "\n",
    "    \n",
    "    ###\n",
    "    SGD_Hyper_param_recall_scores = {}\n",
    "    for key, value in param_grid.items():\n",
    "        SGD_Hyper_param_recall_scores[key] = SGDHyperParameterer(value)\n",
    "\n",
    "    ###\n",
    "    \n",
    "    print('Stochastic Gradiant Descent')\n",
    "    best_recall = 0\n",
    "    penalty = ''\n",
    "    loss = ''\n",
    "    for key, value in SGD_Hyper_param_recall_scores.items():\n",
    "        if value > best_recall:\n",
    "            best_recall = value\n",
    "            loss, penalty = key.split('-')\n",
    "            \n",
    "        \n",
    "                                                                 \n",
    "    \n",
    "    ###\n",
    "    SGD_clf = SGDClassifier(loss = loss, penalty= penalty)\n",
    "    timing_buddy(SGD_clf, 'SGDClassfier', dicto)\n",
    "    confused_buddy(SGD_clf, 'SGDClassfier', dicto)\n",
    "    dicto['SGDClassfier']['ROC_AUC_Score'] = roc_auc_score(y_test, SGD_clf.decision_function(X_test))\n",
    "    dicto['SGDClassfier']['Hyper_Params'] = {'Loss': loss, 'penalty':penalty}"
   ]
  },
  {
   "cell_type": "markdown",
   "id": "sticky-adelaide",
   "metadata": {},
   "source": [
    "## BaggingClassifier"
   ]
  },
  {
   "cell_type": "code",
   "execution_count": 40,
   "id": "ready-hawaiian",
   "metadata": {},
   "outputs": [],
   "source": [
    "def bayes_bagging_model(dicto, X_train, y_train, X_test, y_test):\n",
    "    \n",
    "    def bagginses_hyper(max_samples,max_features,n_estimators):\n",
    "        Classy_Baggins_DT = BaggingClassifier(max_samples= max_samples,max_features = max_features, n_estimators=int(n_estimators))\n",
    "        Classy_Baggins_DT.fit(X_train, np.ravel(y_train))\n",
    "        confuse = confusion_matrix(y_test, Classy_Baggins_DT.predict(X_test))\n",
    "        recall = recall_calculator(confuse)\n",
    "        return recall\n",
    "\n",
    "\n",
    "    \n",
    "    ###\n",
    "    pparams ={ 'max_samples': (.1,.9),\n",
    "       'max_features' : (.1,.9),\n",
    "       'n_estimators': (10,500)}\n",
    "\n",
    "    ###\n",
    "    \n",
    "    optimizer = BayesianOptimization(\n",
    "    bagginses_hyper,\n",
    "    pbounds=pparams,\n",
    "    verbose=1)\n",
    "    \n",
    "    ######\n",
    "    \n",
    "    print('Bagging Classifier')\n",
    "    optimizer.maximize(init_points=15, n_iter=10)\n",
    "    bagginses_params= optimizer.max\n",
    "    bagginses_params = bagginses_params['params']\n",
    "    \n",
    "    ###\n",
    "    Classy_Baggins_DT = BaggingClassifier(n_estimators=int(bagginses_params['n_estimators']), \n",
    "                                          max_features=bagginses_params['max_features'],\n",
    "                                          max_samples =bagginses_params['max_samples'] )\n",
    "    timing_buddy(Classy_Baggins_DT, 'BaggingClassifier', dicto)\n",
    "    confused_buddy(Classy_Baggins_DT, 'BaggingClassifier', dicto)\n",
    "    dicto['BaggingClassifier']['ROC_AUC_Score'] = roc_auc_score(y_test, Classy_Baggins_DT.predict_proba(X_test)[:, 1])\n",
    "    dicto['BaggingClassifier']['Hyper_Params'] = bagginses_params"
   ]
  },
  {
   "cell_type": "markdown",
   "id": "regional-vampire",
   "metadata": {},
   "source": [
    "## Random Forest Model"
   ]
  },
  {
   "cell_type": "code",
   "execution_count": 41,
   "id": "virgin-tokyo",
   "metadata": {},
   "outputs": [],
   "source": [
    "def bayes_rf_model(dicto, X_train, y_train, X_test, y_test):\n",
    "    \n",
    "    def bayes_RFModeler_sqrt(n_estimators, \n",
    "                             max_depth,\n",
    "                             min_samples_split,\n",
    "                             min_samples_leaf):\n",
    "        RandoForest = RandomForestClassifier(n_estimators=int(n_estimators), max_features='sqrt', max_depth=int(max_depth),\n",
    "                                             min_samples_split=int(min_samples_split), min_samples_leaf=int(min_samples_leaf))\n",
    "        RandoForest.fit(X_train, np.ravel(y_train))\n",
    "        confuse = confusion_matrix(y_test, RandoForest.predict(X_test))\n",
    "        recall = recall_calculator(confuse)\n",
    "        return recall\n",
    "\n",
    "    \n",
    "    ###\n",
    "    param_dicts = { 'n_estimators' : (100, 2000),\n",
    "              'max_depth' : (10,60),\n",
    "              'min_samples_split': (2,10),\n",
    "              'min_samples_leaf' : (1,5),\n",
    "              }\n",
    "    ###\n",
    "    \n",
    "    optimizer = BayesianOptimization(\n",
    "    bayes_RFModeler_sqrt,\n",
    "    pbounds=param_dicts,\n",
    "    verbose=1)\n",
    "    \n",
    "    ######\n",
    "    \n",
    "    print('Random Forest')\n",
    "    optimizer.maximize(init_points=15, n_iter=10)\n",
    "    rf_params= optimizer.max\n",
    "    rf_params = rf_params['params']\n",
    "    \n",
    "    ###\n",
    "    RandoForest = RandomForestClassifier(n_estimators=int(rf_params['n_estimators']), \n",
    "                                         max_features='sqrt',\n",
    "                                         max_depth=int(rf_params['max_depth']),\n",
    "                                         min_samples_split=int(rf_params['min_samples_split']),\n",
    "                                         min_samples_leaf=int(rf_params['min_samples_leaf']))\n",
    "    \n",
    "    timing_buddy(RandoForest, 'RandomForestClassifier', dicto)\n",
    "    confused_buddy(RandoForest, 'RandomForestClassifier', dicto)\n",
    "    dicto['RandomForestClassifier']['ROC_AUC_Score'] = roc_auc_score(y_test, RandoForest.predict_proba(X_test)[:, 1])\n",
    "    dicto['RandomForestClassifier']['Hyper_Params'] = rf_params"
   ]
  },
  {
   "cell_type": "markdown",
   "id": "abandoned-performer",
   "metadata": {},
   "source": [
    "## AdaBooast Classifier"
   ]
  },
  {
   "cell_type": "code",
   "execution_count": 42,
   "id": "based-hormone",
   "metadata": {},
   "outputs": [],
   "source": [
    "def bayes_hyper_ada_boost_model(dicto, X_train, y_train, X_test, y_test):\n",
    "    \n",
    "    def AdaBoost_hyper(n_estimators, learning_rate):\n",
    "        adaira_the_classifier = AdaBoostClassifier(learning_rate=learning_rate,  n_estimators=int(n_estimators))\n",
    "        adaira_the_classifier.fit(X_train, np.ravel(y_train))\n",
    "        confuse = confusion_matrix(y_test, adaira_the_classifier.predict(X_test))\n",
    "        recall = recall_calculator(confuse)\n",
    "        return recall\n",
    "\n",
    "    \n",
    "    ###\n",
    "    ada_params = {'learning_rate' : (.1,2),\n",
    "              'n_estimators':(10,500),}\n",
    "    ###\n",
    "    \n",
    "    optimizer = BayesianOptimization(\n",
    "    AdaBoost_hyper,\n",
    "    pbounds=ada_params,\n",
    "    verbose=1)\n",
    "    \n",
    "    ######\n",
    "    \n",
    "    print('AdaBoost')\n",
    "    optimizer.maximize(init_points=15, n_iter=10)\n",
    "    ada_boost_params= optimizer.max\n",
    "    ada_boost_params = ada_boost_params['params']\n",
    "    \n",
    "    ###\n",
    "    adaira_the_classifier = AdaBoostClassifier(learning_rate=ada_boost_params['learning_rate'],  n_estimators=int(ada_boost_params['n_estimators']))\n",
    "    timing_buddy(adaira_the_classifier, 'AdaBoostClassifier', dicto)\n",
    "    confused_buddy(adaira_the_classifier, 'AdaBoostClassifier', dicto)\n",
    "    dicto['AdaBoostClassifier']['ROC_AUC_Score'] = roc_auc_score(y_test, adaira_the_classifier.predict_proba(X_test)[:, 1])\n",
    "    dicto['AdaBoostClassifier']['Hyper_Params'] = ada_boost_params"
   ]
  },
  {
   "cell_type": "markdown",
   "id": "annual-short",
   "metadata": {},
   "source": [
    "## Gradiant Boosting Model"
   ]
  },
  {
   "cell_type": "code",
   "execution_count": 43,
   "id": "cheap-forwarding",
   "metadata": {},
   "outputs": [],
   "source": [
    "def bayes_hyper_grad_boosting_model(dicto, X_train, y_train, X_test, y_test):\n",
    "    \n",
    "    def GradBoost_hyper(n_estimators, learning_rate, max_leaf_nodes):\n",
    "        grady_the_boosted = GradientBoostingClassifier(learning_rate=learning_rate,  n_estimators=int(n_estimators),\n",
    "                                                      max_leaf_nodes=int(max_leaf_nodes))\n",
    "        grady_the_boosted.fit(X_train, np.ravel(y_train))\n",
    "        confuse = confusion_matrix(y_test, grady_the_boosted.predict(X_test))\n",
    "        recall = recall_calculator(confuse)\n",
    "        return recall\n",
    "    \n",
    "    ###\n",
    "    GradBoost_params = {'learning_rate' : (.1,2),\n",
    "                    'n_estimators':(10,500),\n",
    "                    'max_leaf_nodes':(3,50)}\n",
    "    ###\n",
    "    \n",
    "    optimizer = BayesianOptimization(\n",
    "    GradBoost_hyper,\n",
    "    pbounds=GradBoost_params,\n",
    "    verbose=1)\n",
    "    \n",
    "    ######\n",
    "    \n",
    "    print('Gradient Boosting')\n",
    "    optimizer.maximize(init_points=15, n_iter=10)\n",
    "    grad_boost_params= optimizer.max\n",
    "    grad_boost_params = grad_boost_params['params']\n",
    "    \n",
    "    ###\n",
    "    grady_the_boosted = GradientBoostingClassifier(learning_rate=grad_boost_params['learning_rate'],\n",
    "                                                   n_estimators=int(grad_boost_params['n_estimators']),\n",
    "                                                   max_leaf_nodes=int(grad_boost_params['max_leaf_nodes']))\n",
    "    timing_buddy(grady_the_boosted, 'GradientBoostingClassifier', dicto)\n",
    "    confused_buddy(grady_the_boosted, 'GradientBoostingClassifier', dicto)\n",
    "    dicto['GradientBoostingClassifier']['ROC_AUC_Score'] = roc_auc_score(y_test, grady_the_boosted.predict_proba(X_test)[:, 1])\n",
    "    dicto['GradientBoostingClassifier']['Hyper_Params'] = grad_boost_params\n",
    "    "
   ]
  },
  {
   "cell_type": "markdown",
   "id": "industrial-cooperation",
   "metadata": {},
   "source": [
    "## HistGradientBoostingClassifier\n"
   ]
  },
  {
   "cell_type": "code",
   "execution_count": 44,
   "id": "assisted-chicago",
   "metadata": {},
   "outputs": [],
   "source": [
    "def bayes_hyper_hist_grad_model(dicto, X_train, y_train, X_test, y_test):\n",
    "    \n",
    "    def histBoost_hyper(learning_rate, max_leaf_nodes):\n",
    "        histamine_reaction = HistGradientBoostingClassifier(learning_rate=learning_rate,\n",
    "                                                      max_leaf_nodes=int(max_leaf_nodes))\n",
    "        histamine_reaction.fit(X_train, np.ravel(y_train))\n",
    "        confuse = confusion_matrix(y_test, histamine_reaction.predict(X_test))\n",
    "        recall = recall_calculator(confuse)\n",
    "        return recall\n",
    "    ###\n",
    "    HistBoost_params = {'learning_rate' : (.1,2),\n",
    "                    'max_leaf_nodes':(3,50)}\n",
    "    ###\n",
    "    optimizer = BayesianOptimization(\n",
    "    histBoost_hyper,\n",
    "    pbounds=HistBoost_params,\n",
    "    verbose=1)\n",
    "    \n",
    "    ######\n",
    "    \n",
    "    print('HistGradient')\n",
    "    optimizer.maximize(init_points=15, n_iter=10)\n",
    "    hist_grad_params= optimizer.max\n",
    "    print(hist_grad_params)\n",
    "    hist_grad_params = hist_grad_params['params']\n",
    "    ###\n",
    "    histamine_reaction = HistGradientBoostingClassifier(learning_rate =hist_grad_params['learning_rate'],\n",
    "                                                        max_leaf_nodes= int(hist_grad_params['max_leaf_nodes']))\n",
    "    hist_time_start = time.time()\n",
    "    histamine_reaction.fit(X_train, np.ravel(y_train))\n",
    "    hist_time_stop = time.time()\n",
    "    hist_train_time = hist_time_stop - hist_time_start\n",
    "    ###\n",
    "    dicto['HistGradientBoostingClassifier']['training_time'] = hist_train_time\n",
    "    confuse = confusion_matrix(y_test, histamine_reaction.predict(X_test))\n",
    "    dicto['HistGradientBoostingClassifier']['confuse'] = confuse\n",
    "    dicto['HistGradientBoostingClassifier']['ROC_AUC_Score'] = roc_auc_score(y_test, histamine_reaction.predict_proba(X_test)[:, 1])    \n",
    "    dicto['HistGradientBoostingClassifier']['Hyper_Params'] = hist_grad_params"
   ]
  },
  {
   "cell_type": "markdown",
   "id": "reported-nashville",
   "metadata": {},
   "source": [
    "## Model Evaluation"
   ]
  },
  {
   "cell_type": "markdown",
   "id": "norwegian-procurement",
   "metadata": {},
   "source": [
    "#precision = tp/(tp+fp)\n",
    "maximize this for spam, don't wanna be hiding real emails\n",
    "\n",
    "#recall= tp/(tp+fn) \n",
    "Maximize this for medical or security scenarios, don't wanna miss actual sicknesses"
   ]
  },
  {
   "cell_type": "code",
   "execution_count": 45,
   "id": "compact-given",
   "metadata": {
    "scrolled": true
   },
   "outputs": [],
   "source": [
    "def medical_evaluator(dicto):\n",
    "    bestmodel = \"\"\n",
    "    training_time= 0\n",
    "    recall = 0\n",
    "    temp_recall = 0\n",
    "    for key, value in dicto.items():\n",
    "        \n",
    "        confuse = dicto[key]['confuse']\n",
    "        if type(confuse) != list:\n",
    "            temp_recall = recall_calculator(confuse)\n",
    "\n",
    "            if temp_recall > recall:\n",
    "\n",
    "                recall = temp_recall\n",
    "                bestmodel = key\n",
    "                training_time = dicto[key]['training_time']\n",
    "    return bestmodel, recall, training_time"
   ]
  },
  {
   "cell_type": "code",
   "execution_count": 46,
   "id": "expired-danger",
   "metadata": {
    "scrolled": true
   },
   "outputs": [],
   "source": [
    "def spam_evaluator(dicto):\n",
    "    bestmodel = \"\"\n",
    "    training_time= 0\n",
    "    precision = 0\n",
    "    temp_precision = 0.00000001\n",
    "    for key, value in dicto.items():\n",
    "        confuse = dicto[key]['confuse']\n",
    "        if type(confuse) != list:\n",
    "            temp_precision = precision_calculator(confuse)\n",
    "\n",
    "            if temp_precision > precision:\n",
    "\n",
    "                precision = temp_precision\n",
    "                bestmodel = key\n",
    "                training_time = dicto[key]['training_time']\n",
    "    return bestmodel, precision, training_time"
   ]
  },
  {
   "cell_type": "markdown",
   "id": "provincial-cambridge",
   "metadata": {},
   "source": [
    "# Model Execution"
   ]
  },
  {
   "cell_type": "markdown",
   "id": "unlike-banks",
   "metadata": {},
   "source": [
    "### Aggregate Function"
   ]
  },
  {
   "cell_type": "code",
   "execution_count": 47,
   "id": "inside-tuning",
   "metadata": {},
   "outputs": [],
   "source": [
    "def chonky_model_aggregator(X_train, y_train, X_test, y_test):\n",
    "    \n",
    "    #Models to explore\n",
    "    model_set = ['dummy','SVC', 'SGDClassfier', 'BaggingClassifier', 'RandomForestClassifier', 'AdaBoostClassifier', 'GradientBoostingClassifier', 'HistGradientBoostingClassifier']\n",
    "    model_stats = {}\n",
    "    for each in model_set:\n",
    "        model_stats[each] ={'confuse' : [], 'training_time' : 0, 'ROC_AUC_Score': 0, 'Hyper_Params': {}}\n",
    "    #model running\n",
    "    classy_dummy(model_stats, X_train, y_train, X_test, y_test)\n",
    "    SVCmodeler(model_stats, X_train, y_train, X_test, y_test)\n",
    "    grid_sgd_model(model_stats, X_train, y_train, X_test, y_test)\n",
    "    bayes_bagging_model(model_stats, X_train, y_train, X_test, y_test)\n",
    "    \n",
    "    bayes_rf_model(model_stats, X_train, y_train, X_test, y_test)\n",
    "    \n",
    "    bayes_hyper_ada_boost_model(model_stats, X_train, y_train, X_test, y_test)\n",
    "    bayes_hyper_grad_boosting_model(model_stats, X_train, y_train, X_test, y_test)\n",
    "    bayes_hyper_hist_grad_model(model_stats, X_train, y_train, X_test, y_test)\n",
    "\n",
    "\n",
    "    #best_med_model, med_precision, med_time = medical_evaluator(model_stats)\n",
    "    #best_spam_model, spam_recall, spam_time = spam_evaluator(model_stats)\n",
    "    #print(\"The best medical model (Optimizing for precision) is \" + best_med_model + \" It's precision score was\" + str(round(med_precision,3)) + \" and it took \" + str(round(med_time,2)) +\" seconds to run.\")\n",
    "    #print(\"\")\n",
    "    #print(\"The best spam model (Optimizing for recall) is \" + best_spam_model + \" It's recall score was\" +str(round(spam_recall, 3)) +\" and it took \" + str(round(spam_time, 2) +\" seconds to run.\")\n",
    "    return model_stats\n",
    "\n"
   ]
  },
  {
   "cell_type": "markdown",
   "id": "authorized-singing",
   "metadata": {},
   "source": [
    "### Stats Creation"
   ]
  },
  {
   "cell_type": "markdown",
   "id": "regional-smart",
   "metadata": {},
   "source": [
    "#### Wide Stats"
   ]
  },
  {
   "cell_type": "code",
   "execution_count": null,
   "id": "level-clerk",
   "metadata": {
    "scrolled": true
   },
   "outputs": [
    {
     "name": "stdout",
     "output_type": "stream",
     "text": [
      "dumbo\n",
      "Support Vector Classification\n"
     ]
    }
   ],
   "source": [
    "wide_data_model_stats = chonky_model_aggregator(X_train, y_train, X_test, y_test)"
   ]
  },
  {
   "cell_type": "markdown",
   "id": "martial-picture",
   "metadata": {},
   "source": [
    "### Stats Examination"
   ]
  },
  {
   "cell_type": "code",
   "execution_count": 20,
   "id": "reasonable-enough",
   "metadata": {
    "scrolled": true
   },
   "outputs": [
    {
     "name": "stdout",
     "output_type": "stream",
     "text": [
      "('HistGradientBoostingClassifier', 0.45937850992137774, 1.0134131908416748)\n"
     ]
    }
   ],
   "source": [
    "print(medical_evaluator(wide_data_model_stats))"
   ]
  },
  {
   "cell_type": "code",
   "execution_count": 21,
   "id": "figured-dining",
   "metadata": {
    "scrolled": true
   },
   "outputs": [
    {
     "data": {
      "text/plain": [
       "dummy                               0.019005\n",
       "HistGradientBoostingClassifier      1.013413\n",
       "SGDClassfier                        1.589674\n",
       "GradientBoostingClassifier          7.437245\n",
       "AdaBoostClassifier                 54.092033\n",
       "RandomForestClassifier             84.529950\n",
       "BaggingClassifier                 283.049536\n",
       "SVC                               425.270415\n",
       "dtype: float64"
      ]
     },
     "execution_count": 21,
     "metadata": {},
     "output_type": "execute_result"
    }
   ],
   "source": [
    "time_dict= {}\n",
    "for key, value in wide_data_model_stats.items():\n",
    "    time_dict[key] = value['training_time']\n",
    "    time_list = value['training_time']\n",
    "\n",
    "time_frame = pd.Series(time_dict)\n",
    "time_frame.sort_values()"
   ]
  },
  {
   "cell_type": "code",
   "execution_count": 22,
   "id": "rental-volunteer",
   "metadata": {
    "scrolled": true
   },
   "outputs": [
    {
     "data": {
      "text/plain": [
       "{'dummy': {'confuse': array([[10938,     0],\n",
       "         [ 2671,     0]], dtype=int64),\n",
       "  'training_time': 0.01900458335876465,\n",
       "  'ROC_AUC_Score': 0.5,\n",
       "  'Hyper_Params': {}},\n",
       " 'SVC': {'confuse': array([[10680,   258],\n",
       "         [ 2200,   471]], dtype=int64),\n",
       "  'training_time': 425.2704153060913,\n",
       "  'ROC_AUC_Score': 0.7385617337816176,\n",
       "  'Hyper_Params': {}},\n",
       " 'SGDClassfier': {'confuse': array([[10755,   183],\n",
       "         [ 2276,   395]], dtype=int64),\n",
       "  'training_time': 1.5896735191345215,\n",
       "  'ROC_AUC_Score': 0.7800591660603083,\n",
       "  'Hyper_Params': {'Loss': 'log', 'penalty': 'l1'}},\n",
       " 'BaggingClassifier': {'confuse': array([[10535,   403],\n",
       "         [ 2088,   583]], dtype=int64),\n",
       "  'training_time': 283.04953622817993,\n",
       "  'ROC_AUC_Score': 0.7609230242216791,\n",
       "  'Hyper_Params': {'max_features': 0.8118833880107019,\n",
       "   'max_samples': 0.8770790457698077,\n",
       "   'n_estimators': 196.67416480838722}},\n",
       " 'RandomForestClassifier': {'confuse': array([[10621,   317],\n",
       "         [ 2141,   530]], dtype=int64),\n",
       "  'training_time': 84.52994966506958,\n",
       "  'ROC_AUC_Score': 0.7749357034259812,\n",
       "  'Hyper_Params': {'max_depth': 43.64064298122785,\n",
       "   'min_samples_leaf': 1.2852577695110172,\n",
       "   'min_samples_split': 4.238221709991972,\n",
       "   'n_estimators': 599.4884607091273}},\n",
       " 'AdaBoostClassifier': {'confuse': array([[10489,   449],\n",
       "         [ 1960,   711]], dtype=int64),\n",
       "  'training_time': 54.09203267097473,\n",
       "  'ROC_AUC_Score': 0.7795471415450167,\n",
       "  'Hyper_Params': {'learning_rate': 1.601588186144318,\n",
       "   'n_estimators': 307.8625499861279}},\n",
       " 'GradientBoostingClassifier': {'confuse': array([[9383, 1555],\n",
       "         [1611, 1060]], dtype=int64),\n",
       "  'training_time': 7.4372453689575195,\n",
       "  'ROC_AUC_Score': 0.6976477951797884,\n",
       "  'Hyper_Params': {'learning_rate': 1.9609967700609992,\n",
       "   'max_leaf_nodes': 20.886862875453378,\n",
       "   'n_estimators': 37.88700975422951}},\n",
       " 'HistGradientBoostingClassifier': {'confuse': array([[3882, 7056],\n",
       "         [1444, 1227]], dtype=int64),\n",
       "  'training_time': 1.0134131908416748,\n",
       "  'ROC_AUC_Score': 0.4493130642957526,\n",
       "  'Hyper_Params': {'learning_rate': 1.9327605654310906,\n",
       "   'max_leaf_nodes': 19.573171780306645}}}"
      ]
     },
     "execution_count": 22,
     "metadata": {},
     "output_type": "execute_result"
    }
   ],
   "source": [
    "wide_data_model_stats"
   ]
  },
  {
   "cell_type": "code",
   "execution_count": 23,
   "id": "given-weekend",
   "metadata": {},
   "outputs": [],
   "source": [
    "confuse_dict= {}\n",
    "for key, value in wide_data_model_stats.items():\n",
    "    confuse_dict[key] = value['confuse']\n",
    "\n",
    "confuse_frame = pd.Series(confuse_dict)\n",
    "\n",
    "precision_dict= {}\n",
    "recall_dict = {}\n",
    "for i in confuse_frame.index:\n",
    "    precision_dict[i] = precision_calculator(confuse_frame[i])        \n",
    "    recall_dict[i] = recall_calculator(confuse_frame[i])        \n",
    "\n",
    "precision_frame = pd.Series(precision_dict)\n",
    "\n",
    "\n",
    "recall_frame = pd.Series(recall_dict)\n",
    "\n",
    "recall_frame = dict(recall_frame)"
   ]
  },
  {
   "cell_type": "code",
   "execution_count": 24,
   "id": "consecutive-thunder",
   "metadata": {},
   "outputs": [
    {
     "data": {
      "text/html": [
       "<div>\n",
       "<style scoped>\n",
       "    .dataframe tbody tr th:only-of-type {\n",
       "        vertical-align: middle;\n",
       "    }\n",
       "\n",
       "    .dataframe tbody tr th {\n",
       "        vertical-align: top;\n",
       "    }\n",
       "\n",
       "    .dataframe thead th {\n",
       "        text-align: right;\n",
       "    }\n",
       "</style>\n",
       "<table border=\"1\" class=\"dataframe\">\n",
       "  <thead>\n",
       "    <tr style=\"text-align: right;\">\n",
       "      <th></th>\n",
       "      <th>Recall</th>\n",
       "      <th>Precision</th>\n",
       "      <th>Time_To_Train</th>\n",
       "    </tr>\n",
       "  </thead>\n",
       "  <tbody>\n",
       "    <tr>\n",
       "      <th>dummy</th>\n",
       "      <td>0.000000</td>\n",
       "      <td>0.000000</td>\n",
       "      <td>0.019005</td>\n",
       "    </tr>\n",
       "    <tr>\n",
       "      <th>HistGradientBoostingClassifier</th>\n",
       "      <td>0.459379</td>\n",
       "      <td>0.148135</td>\n",
       "      <td>1.013413</td>\n",
       "    </tr>\n",
       "    <tr>\n",
       "      <th>SGDClassfier</th>\n",
       "      <td>0.147885</td>\n",
       "      <td>0.683391</td>\n",
       "      <td>1.589674</td>\n",
       "    </tr>\n",
       "    <tr>\n",
       "      <th>GradientBoostingClassifier</th>\n",
       "      <td>0.396855</td>\n",
       "      <td>0.405354</td>\n",
       "      <td>7.437245</td>\n",
       "    </tr>\n",
       "    <tr>\n",
       "      <th>AdaBoostClassifier</th>\n",
       "      <td>0.266192</td>\n",
       "      <td>0.612931</td>\n",
       "      <td>54.092033</td>\n",
       "    </tr>\n",
       "    <tr>\n",
       "      <th>RandomForestClassifier</th>\n",
       "      <td>0.198428</td>\n",
       "      <td>0.625738</td>\n",
       "      <td>84.529950</td>\n",
       "    </tr>\n",
       "    <tr>\n",
       "      <th>BaggingClassifier</th>\n",
       "      <td>0.218270</td>\n",
       "      <td>0.591278</td>\n",
       "      <td>283.049536</td>\n",
       "    </tr>\n",
       "    <tr>\n",
       "      <th>SVC</th>\n",
       "      <td>0.176338</td>\n",
       "      <td>0.646091</td>\n",
       "      <td>425.270415</td>\n",
       "    </tr>\n",
       "  </tbody>\n",
       "</table>\n",
       "</div>"
      ],
      "text/plain": [
       "                                  Recall  Precision  Time_To_Train\n",
       "dummy                           0.000000   0.000000       0.019005\n",
       "HistGradientBoostingClassifier  0.459379   0.148135       1.013413\n",
       "SGDClassfier                    0.147885   0.683391       1.589674\n",
       "GradientBoostingClassifier      0.396855   0.405354       7.437245\n",
       "AdaBoostClassifier              0.266192   0.612931      54.092033\n",
       "RandomForestClassifier          0.198428   0.625738      84.529950\n",
       "BaggingClassifier               0.218270   0.591278     283.049536\n",
       "SVC                             0.176338   0.646091     425.270415"
      ]
     },
     "execution_count": 24,
     "metadata": {},
     "output_type": "execute_result"
    }
   ],
   "source": [
    "working_list = (recall_frame, precision_frame, time_frame)\n",
    "list_of_three = pd.DataFrame(data=working_list, index=['Recall','Precision','Time_To_Train'])\n",
    "list_of_three= list_of_three.transpose()\n",
    "list_of_three.loc['GradientBoostingClassifier'] #recall\n",
    "list_of_three.loc['SVC'] #precision\n",
    "list_of_three.loc['SGDClassfier'] #time\n",
    "#list_of_three.sort_values('Precision', ascending=False)\n",
    "list_of_three.sort_values('Time_To_Train')\n",
    "\n"
   ]
  },
  {
   "cell_type": "code",
   "execution_count": 25,
   "id": "respective-dancing",
   "metadata": {
    "scrolled": true
   },
   "outputs": [
    {
     "name": "stdout",
     "output_type": "stream",
     "text": [
      "The best medical model (Optimizing for recall) is HistGradientBoostingClassifier It's recall score was0.459 and it took 1.01 seconds to run.\n",
      "\n",
      "The best spam model (Optimizing for precision) is SGDClassfier It's precision score was0.683 and it took 1.59 seconds to run.\n"
     ]
    }
   ],
   "source": [
    "best_med_model, med_recall, med_time = medical_evaluator(wide_data_model_stats)\n",
    "best_spam_model, spam_precision, spam_time = spam_evaluator(wide_data_model_stats)\n",
    "print(\"The best medical model (Optimizing for recall) is \" + best_med_model + \" It's recall score was\" + str(round(med_recall,3)) + \" and it took \" + str(round(med_time,2)) +\" seconds to run.\")\n",
    "print(\"\")\n",
    "print(\"The best spam model (Optimizing for precision) is \" + best_spam_model +\n",
    "      \" It's precision score was\" +str(round(spam_precision, 3)) +\" and it took \" + str(round(spam_time, 2) ) +\" seconds to run.\")"
   ]
  },
  {
   "cell_type": "code",
   "execution_count": 26,
   "id": "artificial-channels",
   "metadata": {
    "scrolled": true
   },
   "outputs": [
    {
     "name": "stdout",
     "output_type": "stream",
     "text": [
      "dummy\n",
      "\n",
      "confuse\n",
      "recall: 0\n",
      "precision: 0\n",
      "[[10938     0]\n",
      " [ 2671     0]]\n",
      "\n",
      "training_time\n",
      "0.01900458335876465\n",
      "\n",
      "ROC_AUC_Score\n",
      "0.5\n",
      "\n",
      "Hyper_Params\n",
      "{}\n",
      "\n",
      "\n",
      "\n",
      "SVC\n",
      "\n",
      "confuse\n",
      "recall: 0.18\n",
      "precision: 0.65\n",
      "[[10680   258]\n",
      " [ 2200   471]]\n",
      "\n",
      "training_time\n",
      "425.2704153060913\n",
      "\n",
      "ROC_AUC_Score\n",
      "0.7385617337816176\n",
      "\n",
      "Hyper_Params\n",
      "{}\n",
      "\n",
      "\n",
      "\n",
      "SGDClassfier\n",
      "\n",
      "confuse\n",
      "recall: 0.15\n",
      "precision: 0.68\n",
      "[[10755   183]\n",
      " [ 2276   395]]\n",
      "\n",
      "training_time\n",
      "1.5896735191345215\n",
      "\n",
      "ROC_AUC_Score\n",
      "0.7800591660603083\n",
      "\n",
      "Hyper_Params\n",
      "{'Loss': 'log', 'penalty': 'l1'}\n",
      "\n",
      "\n",
      "\n",
      "BaggingClassifier\n",
      "\n",
      "confuse\n",
      "recall: 0.22\n",
      "precision: 0.59\n",
      "[[10535   403]\n",
      " [ 2088   583]]\n",
      "\n",
      "training_time\n",
      "283.04953622817993\n",
      "\n",
      "ROC_AUC_Score\n",
      "0.7609230242216791\n",
      "\n",
      "Hyper_Params\n",
      "{'max_features': 0.8118833880107019, 'max_samples': 0.8770790457698077, 'n_estimators': 196.67416480838722}\n",
      "\n",
      "\n",
      "\n",
      "RandomForestClassifier\n",
      "\n",
      "confuse\n",
      "recall: 0.2\n",
      "precision: 0.63\n",
      "[[10621   317]\n",
      " [ 2141   530]]\n",
      "\n",
      "training_time\n",
      "84.52994966506958\n",
      "\n",
      "ROC_AUC_Score\n",
      "0.7749357034259812\n",
      "\n",
      "Hyper_Params\n",
      "{'max_depth': 43.64064298122785, 'min_samples_leaf': 1.2852577695110172, 'min_samples_split': 4.238221709991972, 'n_estimators': 599.4884607091273}\n",
      "\n",
      "\n",
      "\n",
      "AdaBoostClassifier\n",
      "\n",
      "confuse\n",
      "recall: 0.27\n",
      "precision: 0.61\n",
      "[[10489   449]\n",
      " [ 1960   711]]\n",
      "\n",
      "training_time\n",
      "54.09203267097473\n",
      "\n",
      "ROC_AUC_Score\n",
      "0.7795471415450167\n",
      "\n",
      "Hyper_Params\n",
      "{'learning_rate': 1.601588186144318, 'n_estimators': 307.8625499861279}\n",
      "\n",
      "\n",
      "\n",
      "GradientBoostingClassifier\n",
      "\n",
      "confuse\n",
      "recall: 0.4\n",
      "precision: 0.41\n",
      "[[9383 1555]\n",
      " [1611 1060]]\n",
      "\n",
      "training_time\n",
      "7.4372453689575195\n",
      "\n",
      "ROC_AUC_Score\n",
      "0.6976477951797884\n",
      "\n",
      "Hyper_Params\n",
      "{'learning_rate': 1.9609967700609992, 'max_leaf_nodes': 20.886862875453378, 'n_estimators': 37.88700975422951}\n",
      "\n",
      "\n",
      "\n",
      "HistGradientBoostingClassifier\n",
      "\n",
      "confuse\n",
      "recall: 0.46\n",
      "precision: 0.15\n",
      "[[3882 7056]\n",
      " [1444 1227]]\n",
      "\n",
      "training_time\n",
      "1.0134131908416748\n",
      "\n",
      "ROC_AUC_Score\n",
      "0.4493130642957526\n",
      "\n",
      "Hyper_Params\n",
      "{'learning_rate': 1.9327605654310906, 'max_leaf_nodes': 19.573171780306645}\n",
      "\n",
      "\n",
      "\n"
     ]
    }
   ],
   "source": [
    "for key, value in wide_data_model_stats.items():\n",
    "    if value['training_time'] !=0:\n",
    "        print(key)\n",
    "        print('')\n",
    "        for key2, value2 in value.items():\n",
    "            print(key2)\n",
    "            if key2 == 'confuse':\n",
    "                if type(value2) != list:\n",
    "                    print('recall: ' + str(round(recall_calculator(value2),2)))\n",
    "                    print('precision: ' +str(round(precision_calculator(value2),2)))\n",
    "            print(value2)\n",
    "            print('')\n",
    "        print('')\n",
    "        print('')\n"
   ]
  },
  {
   "cell_type": "code",
   "execution_count": 27,
   "id": "altered-samba",
   "metadata": {},
   "outputs": [],
   "source": [
    "grad_boost_params= {'learning_rate': 1.5933283538751961, 'max_leaf_nodes': 38.81617495990627, 'n_estimators': 174.24885414610273}"
   ]
  },
  {
   "cell_type": "code",
   "execution_count": 28,
   "id": "persistent-regression",
   "metadata": {},
   "outputs": [
    {
     "data": {
      "text/plain": [
       "GradientBoostingClassifier(learning_rate=1.5933283538751961, max_leaf_nodes=38,\n",
       "                           n_estimators=174)"
      ]
     },
     "execution_count": 28,
     "metadata": {},
     "output_type": "execute_result"
    }
   ],
   "source": [
    "grady_the_boosted = GradientBoostingClassifier(learning_rate=grad_boost_params['learning_rate'],\n",
    "                                               n_estimators=int(grad_boost_params['n_estimators']),\n",
    "                                               max_leaf_nodes=int(grad_boost_params['max_leaf_nodes']))\n",
    "grady_the_boosted.fit(X_train, np.ravel(y_train))"
   ]
  },
  {
   "cell_type": "code",
   "execution_count": 29,
   "id": "isolated-welding",
   "metadata": {},
   "outputs": [
    {
     "name": "stdout",
     "output_type": "stream",
     "text": [
      "drugs_sometimes                                0.810368\n",
      "age                                            0.156517\n",
      "drinks_very often                              0.017674\n",
      "drugs_often                                    0.006474\n",
      "religion_islam but not too serious about it    0.004097\n",
      "hebrew                                         0.001680\n",
      "drugs_never                                    0.000561\n",
      "education_graduated from college/university    0.000546\n",
      "drinks_often                                   0.000234\n",
      "education_graduated from masters program       0.000210\n",
      "dtype: float64\n"
     ]
    },
    {
     "data": {
      "image/png": "[encoded data removed]",
      "text/plain": [
       "<Figure size 720x360 with 1 Axes>"
      ]
     },
     "metadata": {
      "needs_background": "light"
     },
     "output_type": "display_data"
    }
   ],
   "source": [
    "plt.subplots(figsize=(10, 5))\n",
    "imps =grady_the_boosted.feature_importances_\n",
    "rf_feat_imps = pd.Series(imps, index=X_train.columns).sort_values(ascending=False)\n",
    "rf_feat_imps.head(10).plot(kind='bar')\n",
    "plt.xlabel('features')\n",
    "plt.ylabel('importance')\n",
    "plt.title('Best random forest regressor feature importances');\n",
    "print(rf_feat_imps.head(10))"
   ]
  },
  {
   "cell_type": "code",
   "execution_count": 30,
   "id": "known-commodity",
   "metadata": {},
   "outputs": [],
   "source": [
    "rf_params = {'max_depth': 49.67439573601397, 'min_samples_leaf': 1.4729797299636367, 'min_samples_split': 3.083254181658721, 'n_estimators': 1159.2621958539908}"
   ]
  },
  {
   "cell_type": "code",
   "execution_count": 31,
   "id": "level-aside",
   "metadata": {},
   "outputs": [
    {
     "data": {
      "text/plain": [
       "RandomForestClassifier(max_depth=49, max_features='sqrt', min_samples_split=3,\n",
       "                       n_estimators=1159)"
      ]
     },
     "execution_count": 31,
     "metadata": {},
     "output_type": "execute_result"
    }
   ],
   "source": [
    "RandoForest = RandomForestClassifier(n_estimators=int(rf_params['n_estimators']), \n",
    "                                     max_features='sqrt',\n",
    "                                     max_depth=int(rf_params['max_depth']),\n",
    "                                     min_samples_split=int(rf_params['min_samples_split']),\n",
    "                                     min_samples_leaf=int(rf_params['min_samples_leaf']))\n",
    "RandoForest.fit(X_train, np.ravel(y_train))"
   ]
  },
  {
   "cell_type": "code",
   "execution_count": 32,
   "id": "judicial-letter",
   "metadata": {
    "scrolled": true
   },
   "outputs": [
    {
     "name": "stdout",
     "output_type": "stream",
     "text": [
      "age                                            0.067247\n",
      "height                                         0.047394\n",
      "drugs_sometimes                                0.041240\n",
      "drugs_never                                    0.039051\n",
      "multifluent_score                              0.024842\n",
      "num_spoken                                     0.018552\n",
      "drinks_often                                   0.017214\n",
      "spanish                                        0.015430\n",
      "ethnicity_multiplicity                         0.015286\n",
      "white                                          0.011942\n",
      "diet_anything                                  0.011719\n",
      "religion_unspecified                           0.011604\n",
      "education_graduated from college/university    0.011414\n",
      "drugs_unspecified                              0.011324\n",
      "fluency_score                                  0.010912\n",
      "dtype: float64\n"
     ]
    },
    {
     "data": {
      "image/png": "[encoded data removed]",
      "text/plain": [
       "<Figure size 720x360 with 1 Axes>"
      ]
     },
     "metadata": {
      "needs_background": "light"
     },
     "output_type": "display_data"
    }
   ],
   "source": [
    "plt.subplots(figsize=(10, 5))\n",
    "imps =RandoForest.feature_importances_\n",
    "rf_feat_imps = pd.Series(imps, index=X_train.columns).sort_values(ascending=False)\n",
    "rf_feat_imps.head(15).plot(kind='bar')\n",
    "plt.xlabel('features')\n",
    "plt.ylabel('importance')\n",
    "plt.title('Best random forest regressor feature importances');\n",
    "print(rf_feat_imps.head(15))"
   ]
  },
  {
   "cell_type": "code",
   "execution_count": 33,
   "id": "registered-spiritual",
   "metadata": {},
   "outputs": [],
   "source": [
    "#Save this iteration.\n",
    "\n",
    "pickle.dump( wide_data_model_stats, open( \"model_stats_02122022.p\", \"wb\" ) )"
   ]
  },
  {
   "cell_type": "code",
   "execution_count": 2,
   "id": "sacred-greensboro",
   "metadata": {},
   "outputs": [],
   "source": [
    "pickles = ['model_stats_01012022.p','model_stats_01022022.p', 'model_stats_01032022.p', 'model_stats_01222022.p', \"model_stats_01242022.p\", \"model_stats_01252022.p\", \"model_stats_01262022.p\", \"model_stats_02122022.p\"]\n",
    "unpickles = []\n",
    "for each in pickles:\n",
    "    file = open(each, 'rb')\n",
    "    unpickles.append(pickle.load(file))\n",
    "    file.close()\n"
   ]
  },
  {
   "cell_type": "code",
   "execution_count": 9,
   "id": "executed-ownership",
   "metadata": {},
   "outputs": [
    {
     "name": "stdout",
     "output_type": "stream",
     "text": [
      "SVC 0.65 404.59\n",
      "SVC 0.65 433.94\n",
      "SVC 0.65 416.3\n",
      "SVC 0.65 403.76\n",
      "SVC 0.65 391.98\n",
      "SVC 0.65 382.59\n",
      "SVC 0.65 417.13\n",
      "SGDClassfier 0.68 1.59\n"
     ]
    }
   ],
   "source": [
    "for each in unpickles:\n",
    "    best_spam_model, spam_precision, spam_time = spam_evaluator(each)\n",
    "    print(best_spam_model, round(spam_precision,2), round(spam_time,2))"
   ]
  },
  {
   "cell_type": "code",
   "execution_count": 30,
   "id": "injured-dialogue",
   "metadata": {},
   "outputs": [
    {
     "name": "stdout",
     "output_type": "stream",
     "text": [
      "GradientBoostingClassifier 0.43 21.42\n",
      "GradientBoostingClassifier 0.64 97.03\n",
      "GradientBoostingClassifier 0.41 3.42\n",
      "HistGradientBoostingClassifier 0.51 1.34\n",
      "HistGradientBoostingClassifier 0.5 0.61\n",
      "GradientBoostingClassifier 0.43 76.2\n",
      "HistGradientBoostingClassifier 0.59 0.65\n",
      "HistGradientBoostingClassifier 0.46 1.01\n"
     ]
    }
   ],
   "source": [
    "for each in unpickles:\n",
    "    best_med_model, med_recall, med_time = medical_evaluator(each)\n",
    "    print(best_med_model, round(med_recall,2), round(med_time,2))"
   ]
  },
  {
   "cell_type": "code",
   "execution_count": 34,
   "id": "accompanied-transcript",
   "metadata": {
    "scrolled": true
   },
   "outputs": [
    {
     "name": "stdout",
     "output_type": "stream",
     "text": [
      "GradientBoostingClassifier 0.64 97.03\n"
     ]
    }
   ],
   "source": [
    "    best_med_model, med_recall, med_time = medical_evaluator(unpickles[1])\n",
    "    print(best_med_model, round(med_recall,2), round(med_time,2))"
   ]
  },
  {
   "cell_type": "code",
   "execution_count": 40,
   "id": "supreme-celebrity",
   "metadata": {
    "scrolled": true
   },
   "outputs": [
    {
     "name": "stdout",
     "output_type": "stream",
     "text": [
      "0.18757019842755523\n",
      " \n",
      "{'confuse': array([[8821, 2117],\n",
      "       [2170,  501]], dtype=int64), 'training_time': 0.01799464225769043, 'ROC_AUC_Score': 0.49406716964800546, 'Hyper_Params': {}}\n"
     ]
    }
   ],
   "source": [
    "print(recall_calculator(model_stats['dummy']['confuse']))\n",
    "print(' ')\n",
    "print(model_stats['dummy'])"
   ]
  },
  {
   "cell_type": "code",
   "execution_count": 48,
   "id": "stone-payroll",
   "metadata": {},
   "outputs": [
    {
     "name": "stdout",
     "output_type": "stream",
     "text": [
      "% increase in accuracy from stratified dummy classifier\n",
      "236.84210526315786\n"
     ]
    }
   ],
   "source": [
    "print('% increase in accuracy from stratified dummy classifier')\n",
    "print(((.64 -.19) / 0.19)*100)\n"
   ]
  },
  {
   "cell_type": "code",
   "execution_count": 52,
   "id": "coordinate-antarctica",
   "metadata": {},
   "outputs": [],
   "source": [
    "dummy_clf = DummyClassifier(strategy=\"stratified\")\n",
    "dummy_clf.fit(X_train, np.ravel(y_train))\n",
    "predictions = dummy_clf.predict(X_test)"
   ]
  },
  {
   "cell_type": "code",
   "execution_count": 60,
   "id": "frequent-passing",
   "metadata": {},
   "outputs": [],
   "source": [
    "type(predictions)\n",
    "dummy_predictions = pd.Series(predictions)"
   ]
  },
  {
   "cell_type": "code",
   "execution_count": 64,
   "id": "reliable-direction",
   "metadata": {},
   "outputs": [],
   "source": [
    "def yesnos(yesno):\n",
    "    if yesno == 'no':\n",
    "        return 0\n",
    "    else:\n",
    "        return 1\n",
    "dummy_1_and_0s = dummy_predictions.apply(yesnos)"
   ]
  },
  {
   "cell_type": "code",
   "execution_count": 69,
   "id": "average-first",
   "metadata": {},
   "outputs": [],
   "source": [
    "grad_boost_params = unpickles[1]['GradientBoostingClassifier']['Hyper_Params']"
   ]
  },
  {
   "cell_type": "code",
   "execution_count": 72,
   "id": "provincial-watershed",
   "metadata": {},
   "outputs": [
    {
     "data": {
      "text/plain": [
       "array(['no', 'no', 'no', ..., 'yes', 'yes', 'yes'], dtype=object)"
      ]
     },
     "execution_count": 72,
     "metadata": {},
     "output_type": "execute_result"
    }
   ],
   "source": [
    "grady_the_boosted = GradientBoostingClassifier(learning_rate=grad_boost_params['learning_rate'],\n",
    "                                                   n_estimators=int(grad_boost_params['n_estimators']),\n",
    "                                                   max_leaf_nodes=int(grad_boost_params['max_leaf_nodes']))\n",
    "grady_the_boosted.fit(X_train, np.ravel(y_train))\n",
    "gdb_predicts = grady_the_boosted.predict(X_test)\n"
   ]
  },
  {
   "cell_type": "code",
   "execution_count": 75,
   "id": "dirty-mining",
   "metadata": {
    "scrolled": true
   },
   "outputs": [],
   "source": [
    "gdb_predicts = pd.Series(gdb_predicts)\n",
    "gdb_1_and_0s = gdb_predicts.apply(yesnos)"
   ]
  },
  {
   "cell_type": "code",
   "execution_count": 80,
   "id": "mental-circumstances",
   "metadata": {
    "scrolled": true
   },
   "outputs": [],
   "source": [
    "t_test_block = y_test\n",
    "t_test_block['dummy_predicts'] = dummy_1_and_0s\n",
    "t_test_block['gdb_predicts'] = gdb_1_and_0s\n",
    "t_test_block['smokes']= t_test_block['smokes'].apply(yesnos)"
   ]
  },
  {
   "cell_type": "code",
   "execution_count": 85,
   "id": "female-fifteen",
   "metadata": {},
   "outputs": [
    {
     "data": {
      "text/html": [
       "<div>\n",
       "<style scoped>\n",
       "    .dataframe tbody tr th:only-of-type {\n",
       "        vertical-align: middle;\n",
       "    }\n",
       "\n",
       "    .dataframe tbody tr th {\n",
       "        vertical-align: top;\n",
       "    }\n",
       "\n",
       "    .dataframe thead th {\n",
       "        text-align: right;\n",
       "    }\n",
       "</style>\n",
       "<table border=\"1\" class=\"dataframe\">\n",
       "  <thead>\n",
       "    <tr style=\"text-align: right;\">\n",
       "      <th></th>\n",
       "      <th>smokes</th>\n",
       "      <th>dummy_predicts</th>\n",
       "      <th>gdb_predicts</th>\n",
       "    </tr>\n",
       "  </thead>\n",
       "  <tbody>\n",
       "    <tr>\n",
       "      <th>0</th>\n",
       "      <td>1</td>\n",
       "      <td>0</td>\n",
       "      <td>0</td>\n",
       "    </tr>\n",
       "    <tr>\n",
       "      <th>1</th>\n",
       "      <td>0</td>\n",
       "      <td>0</td>\n",
       "      <td>0</td>\n",
       "    </tr>\n",
       "    <tr>\n",
       "      <th>2</th>\n",
       "      <td>0</td>\n",
       "      <td>0</td>\n",
       "      <td>0</td>\n",
       "    </tr>\n",
       "    <tr>\n",
       "      <th>3</th>\n",
       "      <td>0</td>\n",
       "      <td>0</td>\n",
       "      <td>0</td>\n",
       "    </tr>\n",
       "    <tr>\n",
       "      <th>4</th>\n",
       "      <td>0</td>\n",
       "      <td>0</td>\n",
       "      <td>0</td>\n",
       "    </tr>\n",
       "    <tr>\n",
       "      <th>...</th>\n",
       "      <td>...</td>\n",
       "      <td>...</td>\n",
       "      <td>...</td>\n",
       "    </tr>\n",
       "    <tr>\n",
       "      <th>13604</th>\n",
       "      <td>0</td>\n",
       "      <td>0</td>\n",
       "      <td>0</td>\n",
       "    </tr>\n",
       "    <tr>\n",
       "      <th>13605</th>\n",
       "      <td>1</td>\n",
       "      <td>0</td>\n",
       "      <td>0</td>\n",
       "    </tr>\n",
       "    <tr>\n",
       "      <th>13606</th>\n",
       "      <td>0</td>\n",
       "      <td>0</td>\n",
       "      <td>1</td>\n",
       "    </tr>\n",
       "    <tr>\n",
       "      <th>13607</th>\n",
       "      <td>1</td>\n",
       "      <td>0</td>\n",
       "      <td>1</td>\n",
       "    </tr>\n",
       "    <tr>\n",
       "      <th>13608</th>\n",
       "      <td>0</td>\n",
       "      <td>1</td>\n",
       "      <td>1</td>\n",
       "    </tr>\n",
       "  </tbody>\n",
       "</table>\n",
       "<p>13609 rows × 3 columns</p>\n",
       "</div>"
      ],
      "text/plain": [
       "       smokes  dummy_predicts  gdb_predicts\n",
       "0           1               0             0\n",
       "1           0               0             0\n",
       "2           0               0             0\n",
       "3           0               0             0\n",
       "4           0               0             0\n",
       "...       ...             ...           ...\n",
       "13604       0               0             0\n",
       "13605       1               0             0\n",
       "13606       0               0             1\n",
       "13607       1               0             1\n",
       "13608       0               1             1\n",
       "\n",
       "[13609 rows x 3 columns]"
      ]
     },
     "execution_count": 85,
     "metadata": {},
     "output_type": "execute_result"
    }
   ],
   "source": [
    "t_test_block"
   ]
  },
  {
   "cell_type": "code",
   "execution_count": 93,
   "id": "conditional-father",
   "metadata": {},
   "outputs": [],
   "source": [
    "def correcter(predict):\n",
    "    print(type(predict))\n",
    "#     if t_test_block['smokes'] == predict:\n",
    "#         return 1\n",
    "#     else:\n",
    "#         return 0"
   ]
  },
  {
   "cell_type": "code",
   "execution_count": 98,
   "id": "wound-cleaning",
   "metadata": {},
   "outputs": [],
   "source": [
    "t_test_block['dummy_score'] = np.where(t_test_block['smokes'] == t_test_block['dummy_predicts'], 1,0)"
   ]
  },
  {
   "cell_type": "code",
   "execution_count": 105,
   "id": "welsh-assembly",
   "metadata": {
    "scrolled": true
   },
   "outputs": [
    {
     "data": {
      "text/html": [
       "<div>\n",
       "<style scoped>\n",
       "    .dataframe tbody tr th:only-of-type {\n",
       "        vertical-align: middle;\n",
       "    }\n",
       "\n",
       "    .dataframe tbody tr th {\n",
       "        vertical-align: top;\n",
       "    }\n",
       "\n",
       "    .dataframe thead th {\n",
       "        text-align: right;\n",
       "    }\n",
       "</style>\n",
       "<table border=\"1\" class=\"dataframe\">\n",
       "  <thead>\n",
       "    <tr style=\"text-align: right;\">\n",
       "      <th></th>\n",
       "      <th>smokes</th>\n",
       "      <th>dummy_predicts</th>\n",
       "      <th>gdb_predicts</th>\n",
       "      <th>dummy_score</th>\n",
       "      <th>gdb_score</th>\n",
       "    </tr>\n",
       "  </thead>\n",
       "  <tbody>\n",
       "    <tr>\n",
       "      <th>0</th>\n",
       "      <td>1</td>\n",
       "      <td>0</td>\n",
       "      <td>0</td>\n",
       "      <td>0</td>\n",
       "      <td>0</td>\n",
       "    </tr>\n",
       "    <tr>\n",
       "      <th>1</th>\n",
       "      <td>0</td>\n",
       "      <td>0</td>\n",
       "      <td>0</td>\n",
       "      <td>1</td>\n",
       "      <td>1</td>\n",
       "    </tr>\n",
       "    <tr>\n",
       "      <th>2</th>\n",
       "      <td>0</td>\n",
       "      <td>0</td>\n",
       "      <td>0</td>\n",
       "      <td>1</td>\n",
       "      <td>1</td>\n",
       "    </tr>\n",
       "    <tr>\n",
       "      <th>3</th>\n",
       "      <td>0</td>\n",
       "      <td>0</td>\n",
       "      <td>0</td>\n",
       "      <td>1</td>\n",
       "      <td>1</td>\n",
       "    </tr>\n",
       "    <tr>\n",
       "      <th>4</th>\n",
       "      <td>0</td>\n",
       "      <td>0</td>\n",
       "      <td>0</td>\n",
       "      <td>1</td>\n",
       "      <td>1</td>\n",
       "    </tr>\n",
       "    <tr>\n",
       "      <th>...</th>\n",
       "      <td>...</td>\n",
       "      <td>...</td>\n",
       "      <td>...</td>\n",
       "      <td>...</td>\n",
       "      <td>...</td>\n",
       "    </tr>\n",
       "    <tr>\n",
       "      <th>13604</th>\n",
       "      <td>0</td>\n",
       "      <td>0</td>\n",
       "      <td>0</td>\n",
       "      <td>1</td>\n",
       "      <td>1</td>\n",
       "    </tr>\n",
       "    <tr>\n",
       "      <th>13605</th>\n",
       "      <td>1</td>\n",
       "      <td>0</td>\n",
       "      <td>0</td>\n",
       "      <td>0</td>\n",
       "      <td>0</td>\n",
       "    </tr>\n",
       "    <tr>\n",
       "      <th>13606</th>\n",
       "      <td>0</td>\n",
       "      <td>0</td>\n",
       "      <td>1</td>\n",
       "      <td>1</td>\n",
       "      <td>0</td>\n",
       "    </tr>\n",
       "    <tr>\n",
       "      <th>13607</th>\n",
       "      <td>1</td>\n",
       "      <td>0</td>\n",
       "      <td>1</td>\n",
       "      <td>0</td>\n",
       "      <td>1</td>\n",
       "    </tr>\n",
       "    <tr>\n",
       "      <th>13608</th>\n",
       "      <td>0</td>\n",
       "      <td>1</td>\n",
       "      <td>1</td>\n",
       "      <td>0</td>\n",
       "      <td>0</td>\n",
       "    </tr>\n",
       "  </tbody>\n",
       "</table>\n",
       "<p>13609 rows × 5 columns</p>\n",
       "</div>"
      ],
      "text/plain": [
       "       smokes  dummy_predicts  gdb_predicts  dummy_score  gdb_score\n",
       "0           1               0             0            0          0\n",
       "1           0               0             0            1          1\n",
       "2           0               0             0            1          1\n",
       "3           0               0             0            1          1\n",
       "4           0               0             0            1          1\n",
       "...       ...             ...           ...          ...        ...\n",
       "13604       0               0             0            1          1\n",
       "13605       1               0             0            0          0\n",
       "13606       0               0             1            1          0\n",
       "13607       1               0             1            0          1\n",
       "13608       0               1             1            0          0\n",
       "\n",
       "[13609 rows x 5 columns]"
      ]
     },
     "execution_count": 105,
     "metadata": {},
     "output_type": "execute_result"
    }
   ],
   "source": [
    "t_test_block"
   ]
  },
  {
   "cell_type": "code",
   "execution_count": 100,
   "id": "veterinary-hampton",
   "metadata": {},
   "outputs": [],
   "source": [
    "t_test_block['gdb_score'] = np.where(t_test_block['smokes'] == t_test_block['gdb_predicts'], 1,0)"
   ]
  },
  {
   "cell_type": "code",
   "execution_count": 103,
   "id": "checked-cincinnati",
   "metadata": {},
   "outputs": [],
   "source": [
    "from scipy.stats import ttest_ind"
   ]
  },
  {
   "cell_type": "code",
   "execution_count": 104,
   "id": "stunning-hormone",
   "metadata": {},
   "outputs": [
    {
     "data": {
      "text/plain": [
       "Ttest_indResult(statistic=7.619843367171574, pvalue=2.622375421065683e-14)"
      ]
     },
     "execution_count": 104,
     "metadata": {},
     "output_type": "execute_result"
    }
   ],
   "source": [
    "ttest_ind(t_test_block['dummy_score'],t_test_block['gdb_score'])"
   ]
  }
 ],
 "metadata": {
  "kernelspec": {
   "display_name": "Python 3",
   "language": "python",
   "name": "python3"
  },
  "language_info": {
   "codemirror_mode": {
    "name": "ipython",
    "version": 3
   },
   "file_extension": ".py",
   "mimetype": "text/x-python",
   "name": "python",
   "nbconvert_exporter": "python",
   "pygments_lexer": "ipython3",
   "version": "3.9.1"
  }
 },
 "nbformat": 4,
 "nbformat_minor": 5
}
